{
 "cells": [
  {
   "cell_type": "markdown",
   "metadata": {},
   "source": [
    "# Reddit Knows You - Predict Reddit user personalities based on comments \n",
    "\n",
    "### Contents\n",
    "1. Introduction \n",
    "2. Import Packages and Data \n",
    "3. Data Cleaning & Initial EDA\n",
    "4. Text Processing \n",
    "5. Simple Models\n",
    "6. SpaCy Text Processing\n",
    "7. Models & Grid Search\n",
    "8. Dealing with Imbalanced Data \n",
    "9. Models\n",
    "10. LDA Topic Modelling\n",
    "11. Limitations\n",
    "12. Future Improvements\n",
    "13. Conclusion\n",
    "\n",
    "\n",
    "## Introduction\n",
    "\n",
    "Nicknamed “Front Page of the Internet”, Reddit has always been a conglomerate of information since its inception in 2005. In 2018 alone, there are 153 million posts and 1.2 billion comments added to this popular online forum (Reddit, 2018). As one of the most popular websites on the internet, the high volume of daily activity is valued by advertisers, but Reddit seems like a hard place to crack.\n",
    "\n",
    "Unlike other social networks such as Facebook and Instagram, users can post anonymously , thus granted more freedom. But do the posts still somehow reveal who we are deep down? This project aims to  predict what type of personality (MBTI) the user is based on their posts. \n",
    "\n",
    "## Import Packages and Data\n"
   ]
  },
  {
   "cell_type": "code",
   "execution_count": 2,
   "metadata": {
    "ExecuteTime": {
     "end_time": "2019-12-15T19:13:03.017928Z",
     "start_time": "2019-12-15T19:12:58.671995Z"
    }
   },
   "outputs": [
    {
     "name": "stderr",
     "output_type": "stream",
     "text": [
      "[nltk_data] Downloading package stopwords to\n",
      "[nltk_data]     /Users/Doylism/nltk_data...\n",
      "[nltk_data]   Package stopwords is already up-to-date!\n"
     ]
    }
   ],
   "source": [
    "# regular packages \n",
    "import pandas as pd\n",
    "import numpy as np\n",
    "import matplotlib.pyplot as plt\n",
    "import seaborn as sns\n",
    "import re \n",
    "import os\n",
    "import string\n",
    "\n",
    "\n",
    "# nltk \n",
    "import nltk \n",
    "from nltk.corpus import stopwords\n",
    "from nltk.stem import SnowballStemmer\n",
    "from nltk.tokenize import word_tokenize\n",
    "nltk.download('stopwords')\n",
    "\n",
    "# sklearn\n",
    "from sklearn.model_selection import train_test_split\n",
    "from sklearn.naive_bayes import MultinomialNB\n",
    "from sklearn.pipeline import Pipeline\n",
    "from sklearn.feature_extraction.text import CountVectorizer, TfidfVectorizer\n",
    "from sklearn.metrics import classification_report\n",
    "from sklearn.linear_model import SGDClassifier\n",
    "from sklearn.linear_model import LogisticRegression\n",
    "from sklearn.ensemble import RandomForestClassifier\n",
    "from sklearn.model_selection import GridSearchCV\n",
    "from xgboost import XGBClassifier"
   ]
  },
  {
   "cell_type": "code",
   "execution_count": 4,
   "metadata": {
    "ExecuteTime": {
     "end_time": "2019-12-15T19:13:20.086174Z",
     "start_time": "2019-12-15T19:13:13.315652Z"
    }
   },
   "outputs": [],
   "source": [
    "# import data \n",
    "df = pd.read_csv('../../../original_data/mbti_reddit_1.csv', index_col=0)"
   ]
  },
  {
   "cell_type": "code",
   "execution_count": 5,
   "metadata": {
    "ExecuteTime": {
     "end_time": "2019-12-15T19:13:32.460363Z",
     "start_time": "2019-12-15T19:13:32.438247Z"
    }
   },
   "outputs": [
    {
     "data": {
      "text/html": [
       "<div>\n",
       "<style scoped>\n",
       "    .dataframe tbody tr th:only-of-type {\n",
       "        vertical-align: middle;\n",
       "    }\n",
       "\n",
       "    .dataframe tbody tr th {\n",
       "        vertical-align: top;\n",
       "    }\n",
       "\n",
       "    .dataframe thead th {\n",
       "        text-align: right;\n",
       "    }\n",
       "</style>\n",
       "<table border=\"1\" class=\"dataframe\">\n",
       "  <thead>\n",
       "    <tr style=\"text-align: right;\">\n",
       "      <th></th>\n",
       "      <th>body</th>\n",
       "      <th>subreddit</th>\n",
       "      <th>author</th>\n",
       "    </tr>\n",
       "    <tr>\n",
       "      <th>flair_text</th>\n",
       "      <th></th>\n",
       "      <th></th>\n",
       "      <th></th>\n",
       "    </tr>\n",
       "  </thead>\n",
       "  <tbody>\n",
       "    <tr>\n",
       "      <td>INFP: The Dreamer Senpai</td>\n",
       "      <td>Lol that's why I left.</td>\n",
       "      <td>entp</td>\n",
       "      <td>LadyBanterbury</td>\n",
       "    </tr>\n",
       "    <tr>\n",
       "      <td>INTP: The Theorist</td>\n",
       "      <td>I was just about to post \"I try telling people...</td>\n",
       "      <td>INTP</td>\n",
       "      <td>Finarin</td>\n",
       "    </tr>\n",
       "    <tr>\n",
       "      <td>INFP: The Dreamer</td>\n",
       "      <td>My first thought was Pepsi or something. Proba...</td>\n",
       "      <td>WTF</td>\n",
       "      <td>xanplease</td>\n",
       "    </tr>\n",
       "    <tr>\n",
       "      <td>ENTP: Antisocial Extrovert, Rational Eccentric</td>\n",
       "      <td>Not if the formula is something like \"every ti...</td>\n",
       "      <td>youtubehaiku</td>\n",
       "      <td>HeirToGallifrey</td>\n",
       "    </tr>\n",
       "    <tr>\n",
       "      <td>INTP/18/m/blankly staring at you</td>\n",
       "      <td>Does this imply I'm a five now?</td>\n",
       "      <td>entp</td>\n",
       "      <td>lightfive</td>\n",
       "    </tr>\n",
       "    <tr>\n",
       "      <td>INTP: The Theorist</td>\n",
       "      <td>Well, I wouldn't know but I think there's a lo...</td>\n",
       "      <td>InternetIsBeautiful</td>\n",
       "      <td>ElementalVoltage</td>\n",
       "    </tr>\n",
       "    <tr>\n",
       "      <td>The INFJ Dude</td>\n",
       "      <td>sine na, support the directors, actors and oth...</td>\n",
       "      <td>Philippines</td>\n",
       "      <td>BabyFlo70</td>\n",
       "    </tr>\n",
       "    <tr>\n",
       "      <td>Honorary INFP; INTP/21/F</td>\n",
       "      <td>I use just enough vacation days so that I don'...</td>\n",
       "      <td>tumblr</td>\n",
       "      <td>RockinSocksReborn</td>\n",
       "    </tr>\n",
       "    <tr>\n",
       "      <td>intp or something of the sort</td>\n",
       "      <td>Can be ur angle... or you're devil ;)</td>\n",
       "      <td>woof_irl</td>\n",
       "      <td>crowbird_</td>\n",
       "    </tr>\n",
       "    <tr>\n",
       "      <td>INTP/23/F</td>\n",
       "      <td>I mean we don't how much influence Crow has on...</td>\n",
       "      <td>RWBY</td>\n",
       "      <td>RockinSocksReborn</td>\n",
       "    </tr>\n",
       "  </tbody>\n",
       "</table>\n",
       "</div>"
      ],
      "text/plain": [
       "                                                                                             body  \\\n",
       "flair_text                                                                                          \n",
       "INFP: The Dreamer Senpai                                                  Lol that's why I left.    \n",
       "INTP: The Theorist                              I was just about to post \"I try telling people...   \n",
       "INFP: The Dreamer                               My first thought was Pepsi or something. Proba...   \n",
       "ENTP: Antisocial Extrovert, Rational Eccentric  Not if the formula is something like \"every ti...   \n",
       "INTP/18/m/blankly staring at you                                  Does this imply I'm a five now?   \n",
       "INTP: The Theorist                              Well, I wouldn't know but I think there's a lo...   \n",
       "The INFJ Dude                                   sine na, support the directors, actors and oth...   \n",
       "Honorary INFP; INTP/21/F                        I use just enough vacation days so that I don'...   \n",
       "intp or something of the sort                              Can be ur angle... or you're devil ;)    \n",
       "INTP/23/F                                       I mean we don't how much influence Crow has on...   \n",
       "\n",
       "                                                          subreddit  \\\n",
       "flair_text                                                            \n",
       "INFP: The Dreamer Senpai                                       entp   \n",
       "INTP: The Theorist                                             INTP   \n",
       "INFP: The Dreamer                                               WTF   \n",
       "ENTP: Antisocial Extrovert, Rational Eccentric         youtubehaiku   \n",
       "INTP/18/m/blankly staring at you                               entp   \n",
       "INTP: The Theorist                              InternetIsBeautiful   \n",
       "The INFJ Dude                                           Philippines   \n",
       "Honorary INFP; INTP/21/F                                     tumblr   \n",
       "intp or something of the sort                              woof_irl   \n",
       "INTP/23/F                                                      RWBY   \n",
       "\n",
       "                                                           author  \n",
       "flair_text                                                         \n",
       "INFP: The Dreamer Senpai                           LadyBanterbury  \n",
       "INTP: The Theorist                                        Finarin  \n",
       "INFP: The Dreamer                                       xanplease  \n",
       "ENTP: Antisocial Extrovert, Rational Eccentric    HeirToGallifrey  \n",
       "INTP/18/m/blankly staring at you                        lightfive  \n",
       "INTP: The Theorist                               ElementalVoltage  \n",
       "The INFJ Dude                                           BabyFlo70  \n",
       "Honorary INFP; INTP/21/F                        RockinSocksReborn  \n",
       "intp or something of the sort                           crowbird_  \n",
       "INTP/23/F                                       RockinSocksReborn  "
      ]
     },
     "execution_count": 5,
     "metadata": {},
     "output_type": "execute_result"
    }
   ],
   "source": [
    "df.head(10)"
   ]
  },
  {
   "cell_type": "markdown",
   "metadata": {},
   "source": [
    "## Data Cleaning & Initial EDA\n",
    "\n",
    "The original dataset was separated into 17 csv files, each containing around 1.5 million user comments from Reddit. I decided to use only a portion of the data due to computation and time restrain. First I loaded in one file and examine the data.\n",
    "\n",
    "We can see that the personality type is contained in the users' flair_text, aka their signatures. Therefore, the first step is to do some feature engineering to extract the personality types from their flair text."
   ]
  },
  {
   "cell_type": "markdown",
   "metadata": {},
   "source": [
    "### Feature Engineering"
   ]
  },
  {
   "cell_type": "code",
   "execution_count": 141,
   "metadata": {
    "ExecuteTime": {
     "end_time": "2019-12-01T04:27:15.465222Z",
     "start_time": "2019-12-01T04:26:38.444017Z"
    }
   },
   "outputs": [],
   "source": [
    "# extract MBTI from flair text \n",
    "\n",
    "mbti = ['INFP','INFJ','INTP','INTJ','ENTP','ENFP','ISTP','ISFP','ENTJ','ISTJ','ENFJ','ISFJ','ESTP','ESFP','ESFJ','ESTJ']\n",
    "pat = '|'.join(r\"\\b{}\\b\".format(x) for x in mbti)\n",
    "\n",
    "df['personality'] = df['flair_text'].str.findall(pat, flags=re.I).str.join(' ')"
   ]
  },
  {
   "cell_type": "code",
   "execution_count": 142,
   "metadata": {
    "ExecuteTime": {
     "end_time": "2019-12-01T04:27:24.182447Z",
     "start_time": "2019-12-01T04:27:19.890917Z"
    }
   },
   "outputs": [],
   "source": [
    "# transform text in personality column to all upper case \n",
    "df['personality'] = df['personality'].str.upper()"
   ]
  },
  {
   "cell_type": "markdown",
   "metadata": {},
   "source": [
    "Some users have multiple MBTI personalities in their flair texts, after examing the flairs, I decide to only keep the first one. "
   ]
  },
  {
   "cell_type": "code",
   "execution_count": 144,
   "metadata": {
    "ExecuteTime": {
     "end_time": "2019-12-01T04:28:30.580629Z",
     "start_time": "2019-12-01T04:28:14.980544Z"
    }
   },
   "outputs": [],
   "source": [
    "# split the first MBTI indicator from the rest \n",
    "new = df['personality'].str.split(' ', n=1, expand=True)"
   ]
  },
  {
   "cell_type": "code",
   "execution_count": 145,
   "metadata": {
    "ExecuteTime": {
     "end_time": "2019-12-01T04:28:40.807663Z",
     "start_time": "2019-12-01T04:28:40.801925Z"
    }
   },
   "outputs": [],
   "source": [
    "# rename the sub df\n",
    "new.columns=['first','second']"
   ]
  },
  {
   "cell_type": "code",
   "execution_count": 147,
   "metadata": {
    "ExecuteTime": {
     "end_time": "2019-12-01T04:28:57.274301Z",
     "start_time": "2019-12-01T04:28:56.983245Z"
    }
   },
   "outputs": [],
   "source": [
    "# add the separated MBTI to the main dataframe\n",
    "df['MBTI'] = new['first']"
   ]
  },
  {
   "cell_type": "code",
   "execution_count": 148,
   "metadata": {
    "ExecuteTime": {
     "end_time": "2019-12-01T04:29:12.090009Z",
     "start_time": "2019-12-01T04:29:07.884100Z"
    }
   },
   "outputs": [],
   "source": [
    "# drop the personality column and rename all the columns \n",
    "df = df.drop('personality', axis=1)"
   ]
  },
  {
   "cell_type": "code",
   "execution_count": 149,
   "metadata": {
    "ExecuteTime": {
     "end_time": "2019-12-01T04:29:20.891564Z",
     "start_time": "2019-12-01T04:29:20.877144Z"
    }
   },
   "outputs": [
    {
     "data": {
      "text/html": [
       "<div>\n",
       "<style scoped>\n",
       "    .dataframe tbody tr th:only-of-type {\n",
       "        vertical-align: middle;\n",
       "    }\n",
       "\n",
       "    .dataframe tbody tr th {\n",
       "        vertical-align: top;\n",
       "    }\n",
       "\n",
       "    .dataframe thead th {\n",
       "        text-align: right;\n",
       "    }\n",
       "</style>\n",
       "<table border=\"1\" class=\"dataframe\">\n",
       "  <thead>\n",
       "    <tr style=\"text-align: right;\">\n",
       "      <th></th>\n",
       "      <th>flair</th>\n",
       "      <th>comments</th>\n",
       "      <th>subreddit</th>\n",
       "      <th>username</th>\n",
       "      <th>MBTI</th>\n",
       "    </tr>\n",
       "  </thead>\n",
       "  <tbody>\n",
       "    <tr>\n",
       "      <td>0</td>\n",
       "      <td>INFP: The Dreamer Senpai</td>\n",
       "      <td>Lol that's why I left.</td>\n",
       "      <td>entp</td>\n",
       "      <td>LadyBanterbury</td>\n",
       "      <td>INFP</td>\n",
       "    </tr>\n",
       "    <tr>\n",
       "      <td>1</td>\n",
       "      <td>INTP: The Theorist</td>\n",
       "      <td>I was just about to post \"I try telling people all the time that I'm always joking unless I say 'I am being serious right now' and they still don't catch on!\"  But here you've already figured out the secret.  It's like you know me.</td>\n",
       "      <td>INTP</td>\n",
       "      <td>Finarin</td>\n",
       "      <td>INTP</td>\n",
       "    </tr>\n",
       "    <tr>\n",
       "      <td>2</td>\n",
       "      <td>INFP: The Dreamer</td>\n",
       "      <td>My first thought was Pepsi or something. Probably not alcohol.</td>\n",
       "      <td>WTF</td>\n",
       "      <td>xanplease</td>\n",
       "      <td>INFP</td>\n",
       "    </tr>\n",
       "    <tr>\n",
       "      <td>3</td>\n",
       "      <td>ENTP: Antisocial Extrovert, Rational Eccentric</td>\n",
       "      <td>Not if the formula is something like \"every time it says 'Do', add 5 bpm\". Then it would be arithmetic.</td>\n",
       "      <td>youtubehaiku</td>\n",
       "      <td>HeirToGallifrey</td>\n",
       "      <td>ENTP</td>\n",
       "    </tr>\n",
       "    <tr>\n",
       "      <td>4</td>\n",
       "      <td>INTP/18/m/blankly staring at you</td>\n",
       "      <td>Does this imply I'm a five now?</td>\n",
       "      <td>entp</td>\n",
       "      <td>lightfive</td>\n",
       "      <td>INTP</td>\n",
       "    </tr>\n",
       "  </tbody>\n",
       "</table>\n",
       "</div>"
      ],
      "text/plain": [
       "                                            flair  \\\n",
       "0  INFP: The Dreamer Senpai                         \n",
       "1  INTP: The Theorist                               \n",
       "2  INFP: The Dreamer                                \n",
       "3  ENTP: Antisocial Extrovert, Rational Eccentric   \n",
       "4  INTP/18/m/blankly staring at you                 \n",
       "\n",
       "                                                                                                                                                                                                                                  comments  \\\n",
       "0  Lol that's why I left.                                                                                                                                                                                                                    \n",
       "1  I was just about to post \"I try telling people all the time that I'm always joking unless I say 'I am being serious right now' and they still don't catch on!\"  But here you've already figured out the secret.  It's like you know me.   \n",
       "2  My first thought was Pepsi or something. Probably not alcohol.                                                                                                                                                                            \n",
       "3  Not if the formula is something like \"every time it says 'Do', add 5 bpm\". Then it would be arithmetic.                                                                                                                                   \n",
       "4  Does this imply I'm a five now?                                                                                                                                                                                                           \n",
       "\n",
       "      subreddit         username  MBTI  \n",
       "0  entp          LadyBanterbury   INFP  \n",
       "1  INTP          Finarin          INTP  \n",
       "2  WTF           xanplease        INFP  \n",
       "3  youtubehaiku  HeirToGallifrey  ENTP  \n",
       "4  entp          lightfive        INTP  "
      ]
     },
     "execution_count": 149,
     "metadata": {},
     "output_type": "execute_result"
    }
   ],
   "source": [
    "# rename the columns \n",
    "df.columns = ['flair','comments','subreddit','username','MBTI']\n",
    "df.head()"
   ]
  },
  {
   "cell_type": "code",
   "execution_count": 152,
   "metadata": {
    "ExecuteTime": {
     "end_time": "2019-12-01T04:30:11.157994Z",
     "start_time": "2019-12-01T04:30:10.350813Z"
    }
   },
   "outputs": [
    {
     "data": {
      "text/plain": [
       "INFP    937352\n",
       "INTP    902498\n",
       "INFJ    816254\n",
       "ENTP    675685\n",
       "INTJ    529188\n",
       "ENTJ    193037\n",
       "ISTP    169520\n",
       "ENFP    154679\n",
       "ENFJ    91137 \n",
       "ESTP    40101 \n",
       "ISFJ    39508 \n",
       "ISTJ    38636 \n",
       "ISFP    26766 \n",
       "ESTJ    17941 \n",
       "ESFP    12475 \n",
       "ESFJ    11311 \n",
       "        9912  \n",
       "Name: MBTI, dtype: int64"
      ]
     },
     "execution_count": 152,
     "metadata": {},
     "output_type": "execute_result"
    }
   ],
   "source": [
    "#check unique values and counts in the MBTI columns \n",
    "df['MBTI'].value_counts()"
   ]
  },
  {
   "cell_type": "code",
   "execution_count": 159,
   "metadata": {
    "ExecuteTime": {
     "end_time": "2019-12-01T04:32:37.603480Z",
     "start_time": "2019-12-01T04:32:34.515573Z"
    }
   },
   "outputs": [],
   "source": [
    "# there is 9912 comments with no MBTI indicators, we will remove them from the df\n",
    "df = df[df['MBTI']!=''].copy()"
   ]
  },
  {
   "cell_type": "code",
   "execution_count": 160,
   "metadata": {
    "ExecuteTime": {
     "end_time": "2019-12-01T04:32:55.096081Z",
     "start_time": "2019-12-01T04:32:51.573825Z"
    },
    "scrolled": false
   },
   "outputs": [
    {
     "data": {
      "text/plain": [
       "Text(0.5, 1.0, 'Comments Counts by Personality Types')"
      ]
     },
     "execution_count": 160,
     "metadata": {},
     "output_type": "execute_result"
    },
    {
     "data": {
      "image/png": "[encoded data removed]",
      "text/plain": [
       "<Figure size 864x720 with 1 Axes>"
      ]
     },
     "metadata": {
      "needs_background": "light"
     },
     "output_type": "display_data"
    }
   ],
   "source": [
    "plt.figure(figsize=(12,10))\n",
    "sns.countplot(data=df, x='MBTI', order = df['MBTI'].value_counts().index)\n",
    "plt.xlabel('personality types')\n",
    "plt.ylabel('counts')\n",
    "plt.title('Comments Counts by Personality Types')"
   ]
  },
  {
   "cell_type": "markdown",
   "metadata": {},
   "source": [
    "From the above graph we can see that INFP, INTP, INFJ, ENTP and INTJ contribute the most comments in our set. This reflects the nature of Reddit and even the distribution of these types in the population, however, the imbalance of the data is not great for our model. Therefore, I decide to keep one block of the data from the first 5 personalities and use data from the rest of the files to upsample the rest of the personality types. \n",
    "\n",
    "I put the previous feature engineering and filter steps into a script and iterated over all files to get more data for the remaining personality types and generated one df/csv in the end. \n",
    "\n",
    "**Script below**"
   ]
  },
  {
   "cell_type": "code",
   "execution_count": null,
   "metadata": {},
   "outputs": [],
   "source": [
    "# script to upsample the data from other data blocks \n",
    "\n",
    "import pandas as pd\n",
    "import numpy as np\n",
    "import sys\n",
    "\n",
    "# read in a block of data\n",
    "df = pd.read_csv(sys.argv[1])\n",
    "\n",
    "# drop missing value\n",
    "df = df.dropna().copy()\n",
    "\n",
    "# extract MBTI from flair text\n",
    "import re\n",
    "\n",
    "mbti = ['INFP','INFJ','INTP','INTJ','ENTP','ENFP','ISTP','ISFP','ENTJ','ISTJ','ENFJ','ISFJ','ESTP','ESFP','ESFJ','ESTJ']\n",
    "pat = '|'.join(r\"\\b{}\\b\".format(x) for x in mbti)\n",
    "\n",
    "df['personality'] = df['flair_text'].str.findall(pat, flags=re.I).str.join(' ')\n",
    "\n",
    "# transform text in personality column to all upper case\n",
    "df['personality'] = df['personality'].str.upper()\n",
    "\n",
    "# split the first MBTI indicator from the rest\n",
    "new = df['personality'].str.split(' ', n=1, expand=True)\n",
    "\n",
    "# rename the sub df\n",
    "new.columns=['first','second']\n",
    "\n",
    "# add the separated MBTI to the main dataframe\n",
    "df['MBTI'] = new['first']\n",
    "\n",
    "# drop the personality column and rename all the columns\n",
    "df = df.drop('personality', axis=1)\n",
    "\n",
    "# rename the columns\n",
    "df.columns = ['flair','comments','subreddit','username','MBTI']\n",
    "\n",
    "# select personalities we want to keep\n",
    "mbti_selection = ['ENFP','ISTP','ISFP','ENTJ','ISTJ','ENFJ','ISFJ','ESTP','ESFP','ESFJ','ESTJ']\n",
    "# above selection is adjusted according to how many data points there are\n",
    "\n",
    "df_sub = df[df['MBTI'].isin(mbti_selection)].copy().reset_index()\n",
    "\n",
    "# save to new csv file\n",
    "df_sub.to_csv(sys.argv[2])"
   ]
  },
  {
   "cell_type": "markdown",
   "metadata": {},
   "source": [
    "Use the scripts below, I was able to generate multiple csv files, below I read in them into one dataframe, which is the master dataframe I use for the remainder of the project.\n",
    "\n",
    "### Read in multiple files "
   ]
  },
  {
   "cell_type": "code",
   "execution_count": 2,
   "metadata": {
    "ExecuteTime": {
     "end_time": "2019-12-02T00:41:25.603961Z",
     "start_time": "2019-12-02T00:41:25.589164Z"
    }
   },
   "outputs": [
    {
     "name": "stdout",
     "output_type": "stream",
     "text": [
      "['../original_data/mbti_reddit_clean1.csv', '../original_data/mbti_reddit_clean10.csv', '../original_data/mbti_reddit_clean11.csv', '../original_data/mbti_reddit_clean12.csv', '../original_data/mbti_reddit_clean13.csv', '../original_data/mbti_reddit_clean14.csv', '../original_data/mbti_reddit_clean15.csv', '../original_data/mbti_reddit_clean16.csv', '../original_data/mbti_reddit_clean17.csv', '../original_data/mbti_reddit_clean18.csv', '../original_data/mbti_reddit_clean2.csv', '../original_data/mbti_reddit_clean3.csv', '../original_data/mbti_reddit_clean4.csv', '../original_data/mbti_reddit_clean5.csv', '../original_data/mbti_reddit_clean6.csv', '../original_data/mbti_reddit_clean7.csv', '../original_data/mbti_reddit_clean9.csv']\n"
     ]
    }
   ],
   "source": [
    "# read in multiple files \n",
    "import glob\n",
    "\n",
    "datafiles = glob.glob('../original_data/mbti_reddit_clean*.csv') #the * is a wildcard\n",
    "\n",
    "datafiles.sort() # must have this line to sort the names \n",
    "\n",
    "print(datafiles)"
   ]
  },
  {
   "cell_type": "code",
   "execution_count": 3,
   "metadata": {
    "ExecuteTime": {
     "end_time": "2019-12-02T00:41:57.102899Z",
     "start_time": "2019-12-02T00:41:25.608928Z"
    }
   },
   "outputs": [
    {
     "name": "stderr",
     "output_type": "stream",
     "text": [
      "/anaconda3/lib/python3.7/site-packages/ipykernel_launcher.py:2: FutureWarning: Sorting because non-concatenation axis is not aligned. A future version\n",
      "of pandas will change to not sort by default.\n",
      "\n",
      "To accept the future behavior, pass 'sort=False'.\n",
      "\n",
      "To retain the current behavior and silence the warning, pass 'sort=True'.\n",
      "\n",
      "  \n"
     ]
    }
   ],
   "source": [
    "# concat multiple files into one \n",
    "df_new = pd.concat((pd.read_csv(f, lineterminator='\\n') for f in datafiles))"
   ]
  },
  {
   "cell_type": "code",
   "execution_count": 4,
   "metadata": {
    "ExecuteTime": {
     "end_time": "2019-12-02T00:41:57.152984Z",
     "start_time": "2019-12-02T00:41:57.112226Z"
    }
   },
   "outputs": [
    {
     "data": {
      "text/plain": [
       "(3004071, 7)"
      ]
     },
     "execution_count": 4,
     "metadata": {},
     "output_type": "execute_result"
    }
   ],
   "source": [
    "# check rows and shape \n",
    "df_new.shape"
   ]
  },
  {
   "cell_type": "code",
   "execution_count": 5,
   "metadata": {
    "ExecuteTime": {
     "end_time": "2019-12-02T00:41:57.313888Z",
     "start_time": "2019-12-02T00:41:57.167972Z"
    },
    "scrolled": true
   },
   "outputs": [
    {
     "data": {
      "text/html": [
       "<div>\n",
       "<style scoped>\n",
       "    .dataframe tbody tr th:only-of-type {\n",
       "        vertical-align: middle;\n",
       "    }\n",
       "\n",
       "    .dataframe tbody tr th {\n",
       "        vertical-align: top;\n",
       "    }\n",
       "\n",
       "    .dataframe thead th {\n",
       "        text-align: right;\n",
       "    }\n",
       "</style>\n",
       "<table border=\"1\" class=\"dataframe\">\n",
       "  <thead>\n",
       "    <tr style=\"text-align: right;\">\n",
       "      <th></th>\n",
       "      <th>MBTI</th>\n",
       "      <th>Unnamed: 0</th>\n",
       "      <th>comments</th>\n",
       "      <th>flair</th>\n",
       "      <th>index</th>\n",
       "      <th>subreddit</th>\n",
       "      <th>username</th>\n",
       "    </tr>\n",
       "  </thead>\n",
       "  <tbody>\n",
       "    <tr>\n",
       "      <td>0</td>\n",
       "      <td>INFP</td>\n",
       "      <td>0</td>\n",
       "      <td>Lol that's why I left.</td>\n",
       "      <td>INFP: The Dreamer Senpai</td>\n",
       "      <td>NaN</td>\n",
       "      <td>entp</td>\n",
       "      <td>LadyBanterbury</td>\n",
       "    </tr>\n",
       "    <tr>\n",
       "      <td>1</td>\n",
       "      <td>INTP</td>\n",
       "      <td>1</td>\n",
       "      <td>I was just about to post \"I try telling people...</td>\n",
       "      <td>INTP: The Theorist</td>\n",
       "      <td>NaN</td>\n",
       "      <td>INTP</td>\n",
       "      <td>Finarin</td>\n",
       "    </tr>\n",
       "    <tr>\n",
       "      <td>2</td>\n",
       "      <td>INFP</td>\n",
       "      <td>2</td>\n",
       "      <td>My first thought was Pepsi or something. Proba...</td>\n",
       "      <td>INFP: The Dreamer</td>\n",
       "      <td>NaN</td>\n",
       "      <td>WTF</td>\n",
       "      <td>xanplease</td>\n",
       "    </tr>\n",
       "    <tr>\n",
       "      <td>3</td>\n",
       "      <td>ENTP</td>\n",
       "      <td>3</td>\n",
       "      <td>Not if the formula is something like \"every ti...</td>\n",
       "      <td>ENTP: Antisocial Extrovert, Rational Eccentric</td>\n",
       "      <td>NaN</td>\n",
       "      <td>youtubehaiku</td>\n",
       "      <td>HeirToGallifrey</td>\n",
       "    </tr>\n",
       "    <tr>\n",
       "      <td>4</td>\n",
       "      <td>INTP</td>\n",
       "      <td>4</td>\n",
       "      <td>Does this imply I'm a five now?</td>\n",
       "      <td>INTP/18/m/blankly staring at you</td>\n",
       "      <td>NaN</td>\n",
       "      <td>entp</td>\n",
       "      <td>lightfive</td>\n",
       "    </tr>\n",
       "    <tr>\n",
       "      <td>5</td>\n",
       "      <td>INTP</td>\n",
       "      <td>5</td>\n",
       "      <td>Well, I wouldn't know but I think there's a lo...</td>\n",
       "      <td>INTP: The Theorist</td>\n",
       "      <td>NaN</td>\n",
       "      <td>InternetIsBeautiful</td>\n",
       "      <td>ElementalVoltage</td>\n",
       "    </tr>\n",
       "    <tr>\n",
       "      <td>6</td>\n",
       "      <td>INFJ</td>\n",
       "      <td>6</td>\n",
       "      <td>sine na, support the directors, actors and oth...</td>\n",
       "      <td>The INFJ Dude</td>\n",
       "      <td>NaN</td>\n",
       "      <td>Philippines</td>\n",
       "      <td>BabyFlo70</td>\n",
       "    </tr>\n",
       "    <tr>\n",
       "      <td>7</td>\n",
       "      <td>INFP</td>\n",
       "      <td>7</td>\n",
       "      <td>I use just enough vacation days so that I don'...</td>\n",
       "      <td>Honorary INFP; INTP/21/F</td>\n",
       "      <td>NaN</td>\n",
       "      <td>tumblr</td>\n",
       "      <td>RockinSocksReborn</td>\n",
       "    </tr>\n",
       "    <tr>\n",
       "      <td>8</td>\n",
       "      <td>INTP</td>\n",
       "      <td>8</td>\n",
       "      <td>Can be ur angle... or you're devil ;)</td>\n",
       "      <td>intp or something of the sort</td>\n",
       "      <td>NaN</td>\n",
       "      <td>woof_irl</td>\n",
       "      <td>crowbird_</td>\n",
       "    </tr>\n",
       "    <tr>\n",
       "      <td>9</td>\n",
       "      <td>INTP</td>\n",
       "      <td>9</td>\n",
       "      <td>I mean we don't how much influence Crow has on...</td>\n",
       "      <td>INTP/23/F</td>\n",
       "      <td>NaN</td>\n",
       "      <td>RWBY</td>\n",
       "      <td>RockinSocksReborn</td>\n",
       "    </tr>\n",
       "    <tr>\n",
       "      <td>10</td>\n",
       "      <td>INTP</td>\n",
       "      <td>10</td>\n",
       "      <td>Many fewer people by now, I'm guessing.</td>\n",
       "      <td>INTP-P-P-P-Poker face</td>\n",
       "      <td>NaN</td>\n",
       "      <td>funny</td>\n",
       "      <td>codepoet</td>\n",
       "    </tr>\n",
       "    <tr>\n",
       "      <td>11</td>\n",
       "      <td>INFP</td>\n",
       "      <td>11</td>\n",
       "      <td>Not going on a third date isn't exactly a brea...</td>\n",
       "      <td>INFP: The Dreamer</td>\n",
       "      <td>NaN</td>\n",
       "      <td>AskReddit</td>\n",
       "      <td>rabidhamster87</td>\n",
       "    </tr>\n",
       "    <tr>\n",
       "      <td>12</td>\n",
       "      <td>INFJ</td>\n",
       "      <td>12</td>\n",
       "      <td>I just want a NES Classic Controller since I a...</td>\n",
       "      <td>INFJ (Male)</td>\n",
       "      <td>NaN</td>\n",
       "      <td>nes</td>\n",
       "      <td>SapphireDrew</td>\n",
       "    </tr>\n",
       "    <tr>\n",
       "      <td>13</td>\n",
       "      <td>ENTP</td>\n",
       "      <td>13</td>\n",
       "      <td>maybe you were being tongue in cheek, but you ...</td>\n",
       "      <td>ENTP 26 M</td>\n",
       "      <td>NaN</td>\n",
       "      <td>Drugs</td>\n",
       "      <td>patternsofpatterns</td>\n",
       "    </tr>\n",
       "    <tr>\n",
       "      <td>14</td>\n",
       "      <td>INFP</td>\n",
       "      <td>14</td>\n",
       "      <td>I agree that the consistant position is to sup...</td>\n",
       "      <td>INFP: The Dreamer</td>\n",
       "      <td>NaN</td>\n",
       "      <td>politics</td>\n",
       "      <td>francis2559</td>\n",
       "    </tr>\n",
       "    <tr>\n",
       "      <td>15</td>\n",
       "      <td>INTP</td>\n",
       "      <td>15</td>\n",
       "      <td>Alors ?\\n\\nY'a pas de balise integrée. Faut le...</td>\n",
       "      <td>INTP: The Theorist</td>\n",
       "      <td>NaN</td>\n",
       "      <td>france</td>\n",
       "      <td>ScalSaver</td>\n",
       "    </tr>\n",
       "    <tr>\n",
       "      <td>16</td>\n",
       "      <td>INTJ</td>\n",
       "      <td>16</td>\n",
       "      <td>Its kind of strange how they will lump very va...</td>\n",
       "      <td>INTJ♂</td>\n",
       "      <td>NaN</td>\n",
       "      <td>Megaten</td>\n",
       "      <td>bunker_man</td>\n",
       "    </tr>\n",
       "    <tr>\n",
       "      <td>17</td>\n",
       "      <td>INFP</td>\n",
       "      <td>17</td>\n",
       "      <td>Wow, that's some fucked up woman. I'm kind of ...</td>\n",
       "      <td>INFP Bitches be bitchin'</td>\n",
       "      <td>NaN</td>\n",
       "      <td>childfree</td>\n",
       "      <td>I-ate-your-pony</td>\n",
       "    </tr>\n",
       "    <tr>\n",
       "      <td>18</td>\n",
       "      <td>ISTJ</td>\n",
       "      <td>18</td>\n",
       "      <td>It's about psychotic tire, that kills people. ...</td>\n",
       "      <td>ISTJ | literally your dad</td>\n",
       "      <td>NaN</td>\n",
       "      <td>entp</td>\n",
       "      <td>lightseven</td>\n",
       "    </tr>\n",
       "    <tr>\n",
       "      <td>19</td>\n",
       "      <td>ENTP</td>\n",
       "      <td>19</td>\n",
       "      <td>I like you</td>\n",
       "      <td>ENTP: The Explorer</td>\n",
       "      <td>NaN</td>\n",
       "      <td>reddevils</td>\n",
       "      <td>knoxisback</td>\n",
       "    </tr>\n",
       "    <tr>\n",
       "      <td>20</td>\n",
       "      <td>ENTP</td>\n",
       "      <td>20</td>\n",
       "      <td>Hella dank, my dude</td>\n",
       "      <td>Some Rando ENTP that took a wrong turn at Albu...</td>\n",
       "      <td>NaN</td>\n",
       "      <td>TooMeIrlForMeIrl</td>\n",
       "      <td>-BlitzN9ne</td>\n",
       "    </tr>\n",
       "    <tr>\n",
       "      <td>21</td>\n",
       "      <td>ENTP</td>\n",
       "      <td>21</td>\n",
       "      <td>Stats mean relatively little when attempting t...</td>\n",
       "      <td>ENTP, Sx 5. Twentysomething male</td>\n",
       "      <td>NaN</td>\n",
       "      <td>CFBOffTopic</td>\n",
       "      <td>hammersklavier</td>\n",
       "    </tr>\n",
       "    <tr>\n",
       "      <td>22</td>\n",
       "      <td>INFP</td>\n",
       "      <td>22</td>\n",
       "      <td>I've never been to this subreddit and I ain't ...</td>\n",
       "      <td>INFP: The Dreamer</td>\n",
       "      <td>NaN</td>\n",
       "      <td>britishproblems</td>\n",
       "      <td>TorbjornOskarsson</td>\n",
       "    </tr>\n",
       "    <tr>\n",
       "      <td>23</td>\n",
       "      <td>INTJ</td>\n",
       "      <td>23</td>\n",
       "      <td>No, I made it. But the original comic was just...</td>\n",
       "      <td>INTJ♂</td>\n",
       "      <td>NaN</td>\n",
       "      <td>Megaten</td>\n",
       "      <td>bunker_man</td>\n",
       "    </tr>\n",
       "    <tr>\n",
       "      <td>24</td>\n",
       "      <td>INFJ</td>\n",
       "      <td>24</td>\n",
       "      <td>hmmm</td>\n",
       "      <td>INFJ-35-M</td>\n",
       "      <td>NaN</td>\n",
       "      <td>westworld</td>\n",
       "      <td>Squeezycakes17</td>\n",
       "    </tr>\n",
       "    <tr>\n",
       "      <td>25</td>\n",
       "      <td>INTP</td>\n",
       "      <td>25</td>\n",
       "      <td>Blue cheese to me smells and tastes exactly li...</td>\n",
       "      <td>INTP: The Theorist</td>\n",
       "      <td>NaN</td>\n",
       "      <td>AskReddit</td>\n",
       "      <td>indil47</td>\n",
       "    </tr>\n",
       "    <tr>\n",
       "      <td>26</td>\n",
       "      <td>INFJ</td>\n",
       "      <td>26</td>\n",
       "      <td>For sure! Also check out Bjorn Nyland's YouTub...</td>\n",
       "      <td>25F INFJ | Partner to 24M INTJ</td>\n",
       "      <td>NaN</td>\n",
       "      <td>teslamotors</td>\n",
       "      <td>Killerzeit</td>\n",
       "    </tr>\n",
       "    <tr>\n",
       "      <td>27</td>\n",
       "      <td>INTP</td>\n",
       "      <td>27</td>\n",
       "      <td>I helped some friends of mine purchase two Hon...</td>\n",
       "      <td>INTP SPY</td>\n",
       "      <td>NaN</td>\n",
       "      <td>cars</td>\n",
       "      <td>Uncle_Skeeter</td>\n",
       "    </tr>\n",
       "    <tr>\n",
       "      <td>28</td>\n",
       "      <td>ENTP</td>\n",
       "      <td>28</td>\n",
       "      <td>When the white kinght becomes the princess [](...</td>\n",
       "      <td>ENTP-xD</td>\n",
       "      <td>NaN</td>\n",
       "      <td>forsen</td>\n",
       "      <td>Andrescarmona</td>\n",
       "    </tr>\n",
       "    <tr>\n",
       "      <td>29</td>\n",
       "      <td>INFP</td>\n",
       "      <td>29</td>\n",
       "      <td>That face is hers? Is she sure???</td>\n",
       "      <td>INFP: The Dreamer</td>\n",
       "      <td>NaN</td>\n",
       "      <td>oldpeoplefacebook</td>\n",
       "      <td>xthebirdhouse</td>\n",
       "    </tr>\n",
       "    <tr>\n",
       "      <td>30</td>\n",
       "      <td>INTP</td>\n",
       "      <td>30</td>\n",
       "      <td>[INTj-Ne and INTj-Ti](http://www.sociotype.com...</td>\n",
       "      <td>INTP (depressed ENTP?)</td>\n",
       "      <td>NaN</td>\n",
       "      <td>INTP</td>\n",
       "      <td>owlsymbolism</td>\n",
       "    </tr>\n",
       "    <tr>\n",
       "      <td>31</td>\n",
       "      <td>INTP</td>\n",
       "      <td>31</td>\n",
       "      <td>En même temps il vaudrait au moins 10 fois ce ...</td>\n",
       "      <td>INTP 5w4</td>\n",
       "      <td>NaN</td>\n",
       "      <td>france</td>\n",
       "      <td>Mr_Canard</td>\n",
       "    </tr>\n",
       "    <tr>\n",
       "      <td>32</td>\n",
       "      <td>INTJ</td>\n",
       "      <td>32</td>\n",
       "      <td>I do too, but can one come back from it all? H...</td>\n",
       "      <td>INTJ: The Mastermind</td>\n",
       "      <td>NaN</td>\n",
       "      <td>intj</td>\n",
       "      <td>DannyDJaxson</td>\n",
       "    </tr>\n",
       "    <tr>\n",
       "      <td>33</td>\n",
       "      <td>INFJ</td>\n",
       "      <td>33</td>\n",
       "      <td>As opposed to INTP? Definitely. And the way yo...</td>\n",
       "      <td>INFJ 20m</td>\n",
       "      <td>NaN</td>\n",
       "      <td>entp</td>\n",
       "      <td>RASK0LN1K0V</td>\n",
       "    </tr>\n",
       "    <tr>\n",
       "      <td>34</td>\n",
       "      <td>ENTP</td>\n",
       "      <td>34</td>\n",
       "      <td>It may have escaped your notice, but that's th...</td>\n",
       "      <td>41 F, ENTP 7w6</td>\n",
       "      <td>NaN</td>\n",
       "      <td>secretsanta</td>\n",
       "      <td>cyronius</td>\n",
       "    </tr>\n",
       "    <tr>\n",
       "      <td>35</td>\n",
       "      <td>INFJ</td>\n",
       "      <td>35</td>\n",
       "      <td>Well you are more my type ;D</td>\n",
       "      <td>INFJ - Ni</td>\n",
       "      <td>NaN</td>\n",
       "      <td>Overwatch</td>\n",
       "      <td>AndrogynousAve</td>\n",
       "    </tr>\n",
       "    <tr>\n",
       "      <td>36</td>\n",
       "      <td>INTP</td>\n",
       "      <td>36</td>\n",
       "      <td>The sea anemone simply is built that is can su...</td>\n",
       "      <td>INTP♂</td>\n",
       "      <td>NaN</td>\n",
       "      <td>whowouldwin</td>\n",
       "      <td>polaristar</td>\n",
       "    </tr>\n",
       "    <tr>\n",
       "      <td>37</td>\n",
       "      <td>INFJ</td>\n",
       "      <td>37</td>\n",
       "      <td>As a 5w4 I'm still figuring this all out, but ...</td>\n",
       "      <td>[INFJ]</td>\n",
       "      <td>NaN</td>\n",
       "      <td>Enneagram</td>\n",
       "      <td>LithiumEnergy</td>\n",
       "    </tr>\n",
       "    <tr>\n",
       "      <td>38</td>\n",
       "      <td>INTP</td>\n",
       "      <td>38</td>\n",
       "      <td>Last time that happened to me I wrongfully fla...</td>\n",
       "      <td>INTP: The Theorist</td>\n",
       "      <td>NaN</td>\n",
       "      <td>buildapc</td>\n",
       "      <td>OppaiGaKawaiiDesu</td>\n",
       "    </tr>\n",
       "    <tr>\n",
       "      <td>39</td>\n",
       "      <td>INTP</td>\n",
       "      <td>39</td>\n",
       "      <td>Double check all of your cables especially you...</td>\n",
       "      <td>INTP/INTJ</td>\n",
       "      <td>NaN</td>\n",
       "      <td>techsupport</td>\n",
       "      <td>2_4_16_256</td>\n",
       "    </tr>\n",
       "    <tr>\n",
       "      <td>40</td>\n",
       "      <td>INTP</td>\n",
       "      <td>40</td>\n",
       "      <td>Fuck you</td>\n",
       "      <td>INTP♀</td>\n",
       "      <td>NaN</td>\n",
       "      <td>theydidthefuckyou</td>\n",
       "      <td>pemGi</td>\n",
       "    </tr>\n",
       "    <tr>\n",
       "      <td>41</td>\n",
       "      <td>ISTP</td>\n",
       "      <td>41</td>\n",
       "      <td>He promised to fuck the climate in his campaig...</td>\n",
       "      <td>ISTP, fuck enneagram</td>\n",
       "      <td>NaN</td>\n",
       "      <td>startrek</td>\n",
       "      <td>gerusz</td>\n",
       "    </tr>\n",
       "    <tr>\n",
       "      <td>42</td>\n",
       "      <td>INTJ</td>\n",
       "      <td>42</td>\n",
       "      <td>Yea, that was my main thing about this tbh, wh...</td>\n",
       "      <td>[INTJ]</td>\n",
       "      <td>NaN</td>\n",
       "      <td>orangecounty</td>\n",
       "      <td>Spore2012</td>\n",
       "    </tr>\n",
       "    <tr>\n",
       "      <td>43</td>\n",
       "      <td>ENTP</td>\n",
       "      <td>43</td>\n",
       "      <td>The prospect of a wedding and the fact that ev...</td>\n",
       "      <td>ENTP♂</td>\n",
       "      <td>NaN</td>\n",
       "      <td>mbti</td>\n",
       "      <td>Aurarus</td>\n",
       "    </tr>\n",
       "    <tr>\n",
       "      <td>44</td>\n",
       "      <td>INFP</td>\n",
       "      <td>44</td>\n",
       "      <td>To be fair, voting a \"straight Republican tick...</td>\n",
       "      <td>INFP: The Dreamer</td>\n",
       "      <td>NaN</td>\n",
       "      <td>politics</td>\n",
       "      <td>DuplexFields</td>\n",
       "    </tr>\n",
       "    <tr>\n",
       "      <td>45</td>\n",
       "      <td>ENTP</td>\n",
       "      <td>45</td>\n",
       "      <td>I think he isn't cannon. He's from some extend...</td>\n",
       "      <td>24M ENTP 5w4 Sp sx so</td>\n",
       "      <td>NaN</td>\n",
       "      <td>outside</td>\n",
       "      <td>ScalSaver</td>\n",
       "    </tr>\n",
       "    <tr>\n",
       "      <td>46</td>\n",
       "      <td>INTP</td>\n",
       "      <td>46</td>\n",
       "      <td>It all depends on how you look at it.</td>\n",
       "      <td>[INTP]</td>\n",
       "      <td>NaN</td>\n",
       "      <td>science</td>\n",
       "      <td>Jimmy</td>\n",
       "    </tr>\n",
       "    <tr>\n",
       "      <td>47</td>\n",
       "      <td>INFJ</td>\n",
       "      <td>47</td>\n",
       "      <td>I can't believe I had to get this far down to ...</td>\n",
       "      <td>INFJ SX/SO</td>\n",
       "      <td>NaN</td>\n",
       "      <td>videos</td>\n",
       "      <td>Lamzn6</td>\n",
       "    </tr>\n",
       "    <tr>\n",
       "      <td>48</td>\n",
       "      <td>INTJ</td>\n",
       "      <td>48</td>\n",
       "      <td>Since some responses just list people, I'll fo...</td>\n",
       "      <td>INTJ♂</td>\n",
       "      <td>NaN</td>\n",
       "      <td>AsianMasculinity</td>\n",
       "      <td>DoktorLuciferWong</td>\n",
       "    </tr>\n",
       "    <tr>\n",
       "      <td>49</td>\n",
       "      <td>INFP</td>\n",
       "      <td>49</td>\n",
       "      <td>The call of midnight by future world music.</td>\n",
       "      <td>INFP: The Star-Gazer</td>\n",
       "      <td>NaN</td>\n",
       "      <td>AskReddit</td>\n",
       "      <td>MrRyyi</td>\n",
       "    </tr>\n",
       "  </tbody>\n",
       "</table>\n",
       "</div>"
      ],
      "text/plain": [
       "    MBTI  Unnamed: 0                                           comments  \\\n",
       "0   INFP           0                            Lol that's why I left.    \n",
       "1   INTP           1  I was just about to post \"I try telling people...   \n",
       "2   INFP           2  My first thought was Pepsi or something. Proba...   \n",
       "3   ENTP           3  Not if the formula is something like \"every ti...   \n",
       "4   INTP           4                    Does this imply I'm a five now?   \n",
       "5   INTP           5  Well, I wouldn't know but I think there's a lo...   \n",
       "6   INFJ           6  sine na, support the directors, actors and oth...   \n",
       "7   INFP           7  I use just enough vacation days so that I don'...   \n",
       "8   INTP           8             Can be ur angle... or you're devil ;)    \n",
       "9   INTP           9  I mean we don't how much influence Crow has on...   \n",
       "10  INTP          10            Many fewer people by now, I'm guessing.   \n",
       "11  INFP          11  Not going on a third date isn't exactly a brea...   \n",
       "12  INFJ          12  I just want a NES Classic Controller since I a...   \n",
       "13  ENTP          13  maybe you were being tongue in cheek, but you ...   \n",
       "14  INFP          14  I agree that the consistant position is to sup...   \n",
       "15  INTP          15  Alors ?\\n\\nY'a pas de balise integrée. Faut le...   \n",
       "16  INTJ          16  Its kind of strange how they will lump very va...   \n",
       "17  INFP          17  Wow, that's some fucked up woman. I'm kind of ...   \n",
       "18  ISTJ          18  It's about psychotic tire, that kills people. ...   \n",
       "19  ENTP          19                                        I like you    \n",
       "20  ENTP          20                                Hella dank, my dude   \n",
       "21  ENTP          21  Stats mean relatively little when attempting t...   \n",
       "22  INFP          22  I've never been to this subreddit and I ain't ...   \n",
       "23  INTJ          23  No, I made it. But the original comic was just...   \n",
       "24  INFJ          24                                               hmmm   \n",
       "25  INTP          25  Blue cheese to me smells and tastes exactly li...   \n",
       "26  INFJ          26  For sure! Also check out Bjorn Nyland's YouTub...   \n",
       "27  INTP          27  I helped some friends of mine purchase two Hon...   \n",
       "28  ENTP          28  When the white kinght becomes the princess [](...   \n",
       "29  INFP          29                  That face is hers? Is she sure???   \n",
       "30  INTP          30  [INTj-Ne and INTj-Ti](http://www.sociotype.com...   \n",
       "31  INTP          31  En même temps il vaudrait au moins 10 fois ce ...   \n",
       "32  INTJ          32  I do too, but can one come back from it all? H...   \n",
       "33  INFJ          33  As opposed to INTP? Definitely. And the way yo...   \n",
       "34  ENTP          34  It may have escaped your notice, but that's th...   \n",
       "35  INFJ          35                       Well you are more my type ;D   \n",
       "36  INTP          36  The sea anemone simply is built that is can su...   \n",
       "37  INFJ          37  As a 5w4 I'm still figuring this all out, but ...   \n",
       "38  INTP          38  Last time that happened to me I wrongfully fla...   \n",
       "39  INTP          39  Double check all of your cables especially you...   \n",
       "40  INTP          40                                           Fuck you   \n",
       "41  ISTP          41  He promised to fuck the climate in his campaig...   \n",
       "42  INTJ          42  Yea, that was my main thing about this tbh, wh...   \n",
       "43  ENTP          43  The prospect of a wedding and the fact that ev...   \n",
       "44  INFP          44  To be fair, voting a \"straight Republican tick...   \n",
       "45  ENTP          45  I think he isn't cannon. He's from some extend...   \n",
       "46  INTP          46              It all depends on how you look at it.   \n",
       "47  INFJ          47  I can't believe I had to get this far down to ...   \n",
       "48  INTJ          48  Since some responses just list people, I'll fo...   \n",
       "49  INFP          49        The call of midnight by future world music.   \n",
       "\n",
       "                                                flair  index  \\\n",
       "0                            INFP: The Dreamer Senpai    NaN   \n",
       "1                                  INTP: The Theorist    NaN   \n",
       "2                                   INFP: The Dreamer    NaN   \n",
       "3      ENTP: Antisocial Extrovert, Rational Eccentric    NaN   \n",
       "4                    INTP/18/m/blankly staring at you    NaN   \n",
       "5                                  INTP: The Theorist    NaN   \n",
       "6                                       The INFJ Dude    NaN   \n",
       "7                            Honorary INFP; INTP/21/F    NaN   \n",
       "8                       intp or something of the sort    NaN   \n",
       "9                                           INTP/23/F    NaN   \n",
       "10                              INTP-P-P-P-Poker face    NaN   \n",
       "11                                  INFP: The Dreamer    NaN   \n",
       "12                                        INFJ (Male)    NaN   \n",
       "13                                          ENTP 26 M    NaN   \n",
       "14                                  INFP: The Dreamer    NaN   \n",
       "15                                 INTP: The Theorist    NaN   \n",
       "16                                              INTJ♂    NaN   \n",
       "17                           INFP Bitches be bitchin'    NaN   \n",
       "18                          ISTJ | literally your dad    NaN   \n",
       "19                                 ENTP: The Explorer    NaN   \n",
       "20  Some Rando ENTP that took a wrong turn at Albu...    NaN   \n",
       "21                   ENTP, Sx 5. Twentysomething male    NaN   \n",
       "22                                  INFP: The Dreamer    NaN   \n",
       "23                                              INTJ♂    NaN   \n",
       "24                                          INFJ-35-M    NaN   \n",
       "25                                 INTP: The Theorist    NaN   \n",
       "26                     25F INFJ | Partner to 24M INTJ    NaN   \n",
       "27                                           INTP SPY    NaN   \n",
       "28                                            ENTP-xD    NaN   \n",
       "29                                  INFP: The Dreamer    NaN   \n",
       "30                             INTP (depressed ENTP?)    NaN   \n",
       "31                                           INTP 5w4    NaN   \n",
       "32                               INTJ: The Mastermind    NaN   \n",
       "33                                           INFJ 20m    NaN   \n",
       "34                                     41 F, ENTP 7w6    NaN   \n",
       "35                                          INFJ - Ni    NaN   \n",
       "36                                              INTP♂    NaN   \n",
       "37                                             [INFJ]    NaN   \n",
       "38                                 INTP: The Theorist    NaN   \n",
       "39                                          INTP/INTJ    NaN   \n",
       "40                                              INTP♀    NaN   \n",
       "41                               ISTP, fuck enneagram    NaN   \n",
       "42                                             [INTJ]    NaN   \n",
       "43                                              ENTP♂    NaN   \n",
       "44                                  INFP: The Dreamer    NaN   \n",
       "45                              24M ENTP 5w4 Sp sx so    NaN   \n",
       "46                                             [INTP]    NaN   \n",
       "47                                         INFJ SX/SO    NaN   \n",
       "48                                              INTJ♂    NaN   \n",
       "49                               INFP: The Star-Gazer    NaN   \n",
       "\n",
       "              subreddit            username  \n",
       "0                  entp      LadyBanterbury  \n",
       "1                  INTP             Finarin  \n",
       "2                   WTF           xanplease  \n",
       "3          youtubehaiku     HeirToGallifrey  \n",
       "4                  entp           lightfive  \n",
       "5   InternetIsBeautiful    ElementalVoltage  \n",
       "6           Philippines           BabyFlo70  \n",
       "7                tumblr   RockinSocksReborn  \n",
       "8              woof_irl           crowbird_  \n",
       "9                  RWBY   RockinSocksReborn  \n",
       "10                funny            codepoet  \n",
       "11            AskReddit      rabidhamster87  \n",
       "12                  nes        SapphireDrew  \n",
       "13                Drugs  patternsofpatterns  \n",
       "14             politics         francis2559  \n",
       "15               france           ScalSaver  \n",
       "16              Megaten          bunker_man  \n",
       "17            childfree     I-ate-your-pony  \n",
       "18                 entp          lightseven  \n",
       "19            reddevils          knoxisback  \n",
       "20     TooMeIrlForMeIrl          -BlitzN9ne  \n",
       "21          CFBOffTopic      hammersklavier  \n",
       "22      britishproblems   TorbjornOskarsson  \n",
       "23              Megaten          bunker_man  \n",
       "24            westworld      Squeezycakes17  \n",
       "25            AskReddit             indil47  \n",
       "26          teslamotors          Killerzeit  \n",
       "27                 cars       Uncle_Skeeter  \n",
       "28               forsen       Andrescarmona  \n",
       "29    oldpeoplefacebook       xthebirdhouse  \n",
       "30                 INTP        owlsymbolism  \n",
       "31               france           Mr_Canard  \n",
       "32                 intj        DannyDJaxson  \n",
       "33                 entp         RASK0LN1K0V  \n",
       "34          secretsanta            cyronius  \n",
       "35            Overwatch      AndrogynousAve  \n",
       "36          whowouldwin          polaristar  \n",
       "37            Enneagram       LithiumEnergy  \n",
       "38             buildapc   OppaiGaKawaiiDesu  \n",
       "39          techsupport          2_4_16_256  \n",
       "40    theydidthefuckyou               pemGi  \n",
       "41             startrek              gerusz  \n",
       "42         orangecounty           Spore2012  \n",
       "43                 mbti             Aurarus  \n",
       "44             politics        DuplexFields  \n",
       "45              outside           ScalSaver  \n",
       "46              science               Jimmy  \n",
       "47               videos              Lamzn6  \n",
       "48     AsianMasculinity   DoktorLuciferWong  \n",
       "49            AskReddit              MrRyyi  "
      ]
     },
     "execution_count": 5,
     "metadata": {},
     "output_type": "execute_result"
    }
   ],
   "source": [
    "df_new.head(n=50) # I forgot to set index_col here, have to clean the index mess"
   ]
  },
  {
   "cell_type": "markdown",
   "metadata": {},
   "source": [
    "### Missing Values"
   ]
  },
  {
   "cell_type": "code",
   "execution_count": 6,
   "metadata": {
    "ExecuteTime": {
     "end_time": "2019-12-02T00:42:03.653970Z",
     "start_time": "2019-12-02T00:41:57.318735Z"
    }
   },
   "outputs": [
    {
     "data": {
      "text/plain": [
       "MBTI             3289\n",
       "Unnamed: 0          0\n",
       "comments            0\n",
       "flair               0\n",
       "index         1555087\n",
       "subreddit           0\n",
       "username            0\n",
       "dtype: int64"
      ]
     },
     "execution_count": 6,
     "metadata": {},
     "output_type": "execute_result"
    }
   ],
   "source": [
    "# Check missing values\n",
    "df_new.isna().sum()"
   ]
  },
  {
   "cell_type": "code",
   "execution_count": 7,
   "metadata": {
    "ExecuteTime": {
     "end_time": "2019-12-02T00:42:06.316137Z",
     "start_time": "2019-12-02T00:42:03.667065Z"
    }
   },
   "outputs": [],
   "source": [
    "# drop 2 duplicated index column \n",
    "df_new = df_new.drop(['index','Unnamed: 0'], axis=1).copy()"
   ]
  },
  {
   "cell_type": "code",
   "execution_count": 8,
   "metadata": {
    "ExecuteTime": {
     "end_time": "2019-12-02T00:42:08.496993Z",
     "start_time": "2019-12-02T00:42:06.352413Z"
    }
   },
   "outputs": [
    {
     "data": {
      "text/plain": [
       "MBTI         3289\n",
       "comments        0\n",
       "flair           0\n",
       "subreddit       0\n",
       "username        0\n",
       "dtype: int64"
      ]
     },
     "execution_count": 8,
     "metadata": {},
     "output_type": "execute_result"
    }
   ],
   "source": [
    "# check for missing values again.\n",
    "df_new.isna().sum()"
   ]
  },
  {
   "cell_type": "code",
   "execution_count": 9,
   "metadata": {
    "ExecuteTime": {
     "end_time": "2019-12-02T00:42:12.019723Z",
     "start_time": "2019-12-02T00:42:08.501673Z"
    }
   },
   "outputs": [],
   "source": [
    "# drop the rows with null body text \n",
    "df_clean = df_new.dropna().copy()"
   ]
  },
  {
   "cell_type": "code",
   "execution_count": 10,
   "metadata": {
    "ExecuteTime": {
     "end_time": "2019-12-02T00:42:13.762429Z",
     "start_time": "2019-12-02T00:42:12.025600Z"
    }
   },
   "outputs": [
    {
     "data": {
      "text/plain": [
       "MBTI         0\n",
       "comments     0\n",
       "flair        0\n",
       "subreddit    0\n",
       "username     0\n",
       "dtype: int64"
      ]
     },
     "execution_count": 10,
     "metadata": {},
     "output_type": "execute_result"
    }
   ],
   "source": [
    "df_clean.isna().sum()"
   ]
  },
  {
   "cell_type": "code",
   "execution_count": 11,
   "metadata": {
    "ExecuteTime": {
     "end_time": "2019-12-02T00:43:40.023334Z",
     "start_time": "2019-12-02T00:42:13.806275Z"
    }
   },
   "outputs": [],
   "source": [
    "# save df to a csv for later use\n",
    "df_clean.to_csv('df_clean.csv')"
   ]
  },
  {
   "cell_type": "markdown",
   "metadata": {},
   "source": [
    "### Some simple EDA"
   ]
  },
  {
   "cell_type": "code",
   "execution_count": 12,
   "metadata": {
    "ExecuteTime": {
     "end_time": "2019-12-02T00:43:40.793060Z",
     "start_time": "2019-12-02T00:43:40.030930Z"
    }
   },
   "outputs": [
    {
     "data": {
      "text/plain": [
       "INFP    312220\n",
       "INTP    301236\n",
       "INFJ    271994\n",
       "ENTJ    257355\n",
       "ISTP    226154\n",
       "ENTP    224612\n",
       "ENFP    206537\n",
       "ENFJ    182589\n",
       "INTJ    176802\n",
       "ESTP    161173\n",
       "ISFJ    157556\n",
       "ISTJ    155944\n",
       "ISFP    142215\n",
       "ESTJ     96501\n",
       "ESFP     67022\n",
       "ESFJ     60872\n",
       "Name: MBTI, dtype: int64"
      ]
     },
     "execution_count": 12,
     "metadata": {},
     "output_type": "execute_result"
    }
   ],
   "source": [
    "df_clean['MBTI'].value_counts() # final dataframe value counts"
   ]
  },
  {
   "cell_type": "code",
   "execution_count": 13,
   "metadata": {
    "ExecuteTime": {
     "end_time": "2019-12-02T00:43:44.272266Z",
     "start_time": "2019-12-02T00:43:40.804136Z"
    }
   },
   "outputs": [
    {
     "data": {
      "text/plain": [
       "Text(0.5, 1.0, 'Comments Counts by Personality Types')"
      ]
     },
     "execution_count": 13,
     "metadata": {},
     "output_type": "execute_result"
    },
    {
     "data": {
      "image/png": "[encoded data removed]",
      "text/plain": [
       "<Figure size 864x720 with 1 Axes>"
      ]
     },
     "metadata": {
      "needs_background": "light"
     },
     "output_type": "display_data"
    }
   ],
   "source": [
    "plt.figure(figsize=(12,10))\n",
    "sns.countplot(data=df_clean, x='MBTI', order = df_clean['MBTI'].value_counts().index)\n",
    "plt.xlabel('personality types')\n",
    "plt.ylabel('counts')\n",
    "plt.title('Comments Counts by Personality Types')"
   ]
  },
  {
   "cell_type": "code",
   "execution_count": 14,
   "metadata": {
    "ExecuteTime": {
     "end_time": "2019-12-02T00:43:48.824279Z",
     "start_time": "2019-12-02T00:43:44.284615Z"
    }
   },
   "outputs": [],
   "source": [
    "# get the comments length of each comment\n",
    "df_clean['comments length'] = df_clean['comments'].str.len()"
   ]
  },
  {
   "cell_type": "code",
   "execution_count": 16,
   "metadata": {
    "ExecuteTime": {
     "end_time": "2019-12-01T23:32:42.843216Z",
     "start_time": "2019-12-01T23:32:42.422745Z"
    }
   },
   "outputs": [
    {
     "data": {
      "text/html": [
       "<div>\n",
       "<style scoped>\n",
       "    .dataframe tbody tr th:only-of-type {\n",
       "        vertical-align: middle;\n",
       "    }\n",
       "\n",
       "    .dataframe tbody tr th {\n",
       "        vertical-align: top;\n",
       "    }\n",
       "\n",
       "    .dataframe thead th {\n",
       "        text-align: right;\n",
       "    }\n",
       "</style>\n",
       "<table border=\"1\" class=\"dataframe\">\n",
       "  <thead>\n",
       "    <tr style=\"text-align: right;\">\n",
       "      <th></th>\n",
       "      <th>comments length</th>\n",
       "    </tr>\n",
       "    <tr>\n",
       "      <th>MBTI</th>\n",
       "      <th></th>\n",
       "    </tr>\n",
       "  </thead>\n",
       "  <tbody>\n",
       "    <tr>\n",
       "      <td>ESFJ</td>\n",
       "      <td>282.256160</td>\n",
       "    </tr>\n",
       "    <tr>\n",
       "      <td>ISTP</td>\n",
       "      <td>261.368930</td>\n",
       "    </tr>\n",
       "    <tr>\n",
       "      <td>ESTJ</td>\n",
       "      <td>248.995741</td>\n",
       "    </tr>\n",
       "    <tr>\n",
       "      <td>INTJ</td>\n",
       "      <td>245.320098</td>\n",
       "    </tr>\n",
       "    <tr>\n",
       "      <td>ISFP</td>\n",
       "      <td>245.061442</td>\n",
       "    </tr>\n",
       "    <tr>\n",
       "      <td>INFJ</td>\n",
       "      <td>234.872556</td>\n",
       "    </tr>\n",
       "    <tr>\n",
       "      <td>ENFJ</td>\n",
       "      <td>226.650664</td>\n",
       "    </tr>\n",
       "    <tr>\n",
       "      <td>ENTP</td>\n",
       "      <td>221.916367</td>\n",
       "    </tr>\n",
       "    <tr>\n",
       "      <td>ISFJ</td>\n",
       "      <td>221.864689</td>\n",
       "    </tr>\n",
       "    <tr>\n",
       "      <td>ISTJ</td>\n",
       "      <td>219.284897</td>\n",
       "    </tr>\n",
       "    <tr>\n",
       "      <td>ENTJ</td>\n",
       "      <td>216.265225</td>\n",
       "    </tr>\n",
       "    <tr>\n",
       "      <td>INTP</td>\n",
       "      <td>211.356448</td>\n",
       "    </tr>\n",
       "    <tr>\n",
       "      <td>ENFP</td>\n",
       "      <td>209.020263</td>\n",
       "    </tr>\n",
       "    <tr>\n",
       "      <td>INFP</td>\n",
       "      <td>199.533127</td>\n",
       "    </tr>\n",
       "    <tr>\n",
       "      <td>ESTP</td>\n",
       "      <td>187.690041</td>\n",
       "    </tr>\n",
       "    <tr>\n",
       "      <td>ESFP</td>\n",
       "      <td>184.487303</td>\n",
       "    </tr>\n",
       "  </tbody>\n",
       "</table>\n",
       "</div>"
      ],
      "text/plain": [
       "      comments length\n",
       "MBTI                 \n",
       "ESFJ       282.256160\n",
       "ISTP       261.368930\n",
       "ESTJ       248.995741\n",
       "INTJ       245.320098\n",
       "ISFP       245.061442\n",
       "INFJ       234.872556\n",
       "ENFJ       226.650664\n",
       "ENTP       221.916367\n",
       "ISFJ       221.864689\n",
       "ISTJ       219.284897\n",
       "ENTJ       216.265225\n",
       "INTP       211.356448\n",
       "ENFP       209.020263\n",
       "INFP       199.533127\n",
       "ESTP       187.690041\n",
       "ESFP       184.487303"
      ]
     },
     "execution_count": 16,
     "metadata": {},
     "output_type": "execute_result"
    }
   ],
   "source": [
    "# calculate the avg length of the comments and sort from longest to shortest\n",
    "df_avglength = pd.DataFrame(df_clean.groupby(['MBTI'])['comments length'].mean())\n",
    "df_avglength = df_avglength.sort_values(['comments length'], ascending=False)\n",
    "df_avglength"
   ]
  },
  {
   "cell_type": "code",
   "execution_count": 17,
   "metadata": {
    "ExecuteTime": {
     "end_time": "2019-12-01T23:32:45.583413Z",
     "start_time": "2019-12-01T23:32:45.112288Z"
    }
   },
   "outputs": [
    {
     "data": {
      "image/png": "[encoded data removed]",
      "text/plain": [
       "<Figure size 864x576 with 1 Axes>"
      ]
     },
     "metadata": {
      "needs_background": "light"
     },
     "output_type": "display_data"
    }
   ],
   "source": [
    "# visualise the comments length in bar graph\n",
    "plt.figure(figsize=(12,8))\n",
    "ax = plt.subplot()\n",
    "plt.barh(df_avglength.index,df_avglength['comments length'])\n",
    "plt.xlabel('Average Comment Length')\n",
    "plt.ylabel('MBTI')\n",
    "for i, v in enumerate(df_avglength['comments length']):\n",
    "    ax.text(v-21, i - 0.1, f'{v:.3f}', color='white', fontweight='bold')\n",
    "plt.show()"
   ]
  },
  {
   "cell_type": "markdown",
   "metadata": {},
   "source": [
    "### Dropping Redundant Columns "
   ]
  },
  {
   "cell_type": "code",
   "execution_count": 15,
   "metadata": {
    "ExecuteTime": {
     "end_time": "2019-12-02T00:44:01.858743Z",
     "start_time": "2019-12-02T00:44:01.689306Z"
    }
   },
   "outputs": [],
   "source": [
    "# drop the redundant columns \n",
    "df_clean_comments = df_clean.drop(['flair','subreddit','username','comments length'],axis=1)"
   ]
  },
  {
   "cell_type": "code",
   "execution_count": 16,
   "metadata": {
    "ExecuteTime": {
     "end_time": "2019-12-02T00:45:05.280888Z",
     "start_time": "2019-12-02T00:44:04.263225Z"
    }
   },
   "outputs": [],
   "source": [
    "# save it as new csv to be used later\n",
    "df_clean_comments.to_csv('comments_mbti.csv')"
   ]
  },
  {
   "cell_type": "code",
   "execution_count": 17,
   "metadata": {
    "ExecuteTime": {
     "end_time": "2019-12-02T00:46:07.338622Z",
     "start_time": "2019-12-02T00:46:07.330904Z"
    }
   },
   "outputs": [
    {
     "data": {
      "text/plain": [
       "(3000782, 2)"
      ]
     },
     "execution_count": 17,
     "metadata": {},
     "output_type": "execute_result"
    }
   ],
   "source": [
    "df_clean_comments.shape"
   ]
  },
  {
   "cell_type": "markdown",
   "metadata": {},
   "source": [
    "## Text Processing "
   ]
  },
  {
   "cell_type": "code",
   "execution_count": 19,
   "metadata": {
    "ExecuteTime": {
     "end_time": "2019-12-02T00:48:43.987030Z",
     "start_time": "2019-12-02T00:48:43.977396Z"
    }
   },
   "outputs": [
    {
     "data": {
      "text/plain": [
       "MBTI        object\n",
       "comments    object\n",
       "dtype: object"
      ]
     },
     "execution_count": 19,
     "metadata": {},
     "output_type": "execute_result"
    }
   ],
   "source": [
    "df_clean_comments.dtypes"
   ]
  },
  {
   "cell_type": "code",
   "execution_count": 49,
   "metadata": {
    "ExecuteTime": {
     "end_time": "2019-12-02T01:13:56.463580Z",
     "start_time": "2019-12-02T01:13:56.458047Z"
    }
   },
   "outputs": [],
   "source": [
    "# import nltk packages: stopwords, stemmer and tokenizer\n",
    "import nltk \n",
    "from nltk.corpus import stopwords\n",
    "from nltk.stem import SnowballStemmer\n",
    "from nltk.tokenize import word_tokenize"
   ]
  },
  {
   "cell_type": "code",
   "execution_count": 21,
   "metadata": {
    "ExecuteTime": {
     "end_time": "2019-12-02T00:49:46.864779Z",
     "start_time": "2019-12-02T00:49:46.654309Z"
    }
   },
   "outputs": [
    {
     "name": "stderr",
     "output_type": "stream",
     "text": [
      "[nltk_data] Downloading package stopwords to\n",
      "[nltk_data]     /Users/Doylism/nltk_data...\n",
      "[nltk_data]   Package stopwords is already up-to-date!\n"
     ]
    },
    {
     "data": {
      "text/plain": [
       "True"
      ]
     },
     "execution_count": 21,
     "metadata": {},
     "output_type": "execute_result"
    }
   ],
   "source": [
    "nltk.download('stopwords')"
   ]
  },
  {
   "cell_type": "code",
   "execution_count": 22,
   "metadata": {
    "ExecuteTime": {
     "end_time": "2019-12-02T00:49:58.410381Z",
     "start_time": "2019-12-02T00:49:58.405283Z"
    }
   },
   "outputs": [
    {
     "name": "stdout",
     "output_type": "stream",
     "text": [
      "!\"#$%&'()*+,-./:;<=>?@[\\]^_`{|}~\n"
     ]
    }
   ],
   "source": [
    "import string\n",
    "print(string.punctuation)"
   ]
  },
  {
   "cell_type": "code",
   "execution_count": 23,
   "metadata": {
    "ExecuteTime": {
     "end_time": "2019-12-02T00:50:13.049389Z",
     "start_time": "2019-12-02T00:50:13.039446Z"
    }
   },
   "outputs": [],
   "source": [
    "stop_words = stopwords.words('english')\n",
    "stemmer = SnowballStemmer('english')"
   ]
  },
  {
   "cell_type": "markdown",
   "metadata": {},
   "source": [
    "**Generate a random sample df to test functions** \n",
    "\n",
    "Due to the size of the data, I usually generate a random sample df to test functions before applying it onto the complete dataset."
   ]
  },
  {
   "cell_type": "code",
   "execution_count": 83,
   "metadata": {
    "ExecuteTime": {
     "end_time": "2019-12-02T01:55:05.758000Z",
     "start_time": "2019-12-02T01:55:05.343850Z"
    }
   },
   "outputs": [],
   "source": [
    "# subset a small amount of data to test the function \n",
    "df_test = df_clean_comments.sample(n=100, random_state=1)"
   ]
  },
  {
   "cell_type": "code",
   "execution_count": 58,
   "metadata": {
    "ExecuteTime": {
     "end_time": "2019-12-02T01:21:11.373751Z",
     "start_time": "2019-12-02T01:21:11.366683Z"
    }
   },
   "outputs": [],
   "source": [
    "# convert comments to lower strings\n",
    "df_test['comments'] = df_test['comments'].str.lower()"
   ]
  },
  {
   "cell_type": "markdown",
   "metadata": {},
   "source": [
    "### Remove numbers "
   ]
  },
  {
   "cell_type": "code",
   "execution_count": 59,
   "metadata": {
    "ExecuteTime": {
     "end_time": "2019-12-02T01:21:13.226632Z",
     "start_time": "2019-12-02T01:21:13.217420Z"
    }
   },
   "outputs": [],
   "source": [
    "# remove numbers \n",
    "import re \n",
    "df_test['comments'] = df_test['comments'].apply(lambda x: re.sub(r'\\d+', '', x))"
   ]
  },
  {
   "cell_type": "markdown",
   "metadata": {},
   "source": [
    "### Remove punctuations"
   ]
  },
  {
   "cell_type": "code",
   "execution_count": 60,
   "metadata": {
    "ExecuteTime": {
     "end_time": "2019-12-02T01:21:18.485109Z",
     "start_time": "2019-12-02T01:21:18.478891Z"
    }
   },
   "outputs": [],
   "source": [
    "# remove punctuations \n",
    "def remove_punc(text):\n",
    "    for punctuation in string.punctuation:\n",
    "        text = text.replace(punctuation, '')\n",
    "    return text"
   ]
  },
  {
   "cell_type": "code",
   "execution_count": 61,
   "metadata": {
    "ExecuteTime": {
     "end_time": "2019-12-02T01:21:20.457853Z",
     "start_time": "2019-12-02T01:21:20.448371Z"
    }
   },
   "outputs": [],
   "source": [
    "# remove punctuation \n",
    "df_test['comments'] = df_test['comments'].apply(lambda x: remove_punc(x))"
   ]
  },
  {
   "cell_type": "code",
   "execution_count": 62,
   "metadata": {
    "ExecuteTime": {
     "end_time": "2019-12-02T01:21:24.081717Z",
     "start_time": "2019-12-02T01:21:24.061162Z"
    }
   },
   "outputs": [
    {
     "data": {
      "text/html": [
       "<div>\n",
       "<style scoped>\n",
       "    .dataframe tbody tr th:only-of-type {\n",
       "        vertical-align: middle;\n",
       "    }\n",
       "\n",
       "    .dataframe tbody tr th {\n",
       "        vertical-align: top;\n",
       "    }\n",
       "\n",
       "    .dataframe thead th {\n",
       "        text-align: right;\n",
       "    }\n",
       "</style>\n",
       "<table border=\"1\" class=\"dataframe\">\n",
       "  <thead>\n",
       "    <tr style=\"text-align: right;\">\n",
       "      <th></th>\n",
       "      <th>MBTI</th>\n",
       "      <th>comments</th>\n",
       "    </tr>\n",
       "  </thead>\n",
       "  <tbody>\n",
       "    <tr>\n",
       "      <td>20945</td>\n",
       "      <td>ISFP</td>\n",
       "      <td>heh heh dont worry im sure everyone will be re...</td>\n",
       "    </tr>\n",
       "    <tr>\n",
       "      <td>593841</td>\n",
       "      <td>INFJ</td>\n",
       "      <td>like the others have been suggesting in this t...</td>\n",
       "    </tr>\n",
       "    <tr>\n",
       "      <td>176580</td>\n",
       "      <td>ISTP</td>\n",
       "      <td>i was reading a great collection of poe storie...</td>\n",
       "    </tr>\n",
       "    <tr>\n",
       "      <td>173917</td>\n",
       "      <td>ENFP</td>\n",
       "      <td>if you insist</td>\n",
       "    </tr>\n",
       "    <tr>\n",
       "      <td>1447863</td>\n",
       "      <td>ENTJ</td>\n",
       "      <td>ah so thats what happened to my schools audito...</td>\n",
       "    </tr>\n",
       "    <tr>\n",
       "      <td>...</td>\n",
       "      <td>...</td>\n",
       "      <td>...</td>\n",
       "    </tr>\n",
       "    <tr>\n",
       "      <td>59903</td>\n",
       "      <td>ISFP</td>\n",
       "      <td>i just apologize after that it is a bad habit ...</td>\n",
       "    </tr>\n",
       "    <tr>\n",
       "      <td>94820</td>\n",
       "      <td>ESTP</td>\n",
       "      <td>ive been really interested in glitchy reality ...</td>\n",
       "    </tr>\n",
       "    <tr>\n",
       "      <td>1335732</td>\n",
       "      <td>INTJ</td>\n",
       "      <td>and d sounds a lot more like te than ti so get...</td>\n",
       "    </tr>\n",
       "    <tr>\n",
       "      <td>1222128</td>\n",
       "      <td>INFP</td>\n",
       "      <td>oh yeah all my color normal friends are strugg...</td>\n",
       "    </tr>\n",
       "    <tr>\n",
       "      <td>65192</td>\n",
       "      <td>ISTP</td>\n",
       "      <td>ignorance is bliss</td>\n",
       "    </tr>\n",
       "  </tbody>\n",
       "</table>\n",
       "<p>100 rows × 2 columns</p>\n",
       "</div>"
      ],
      "text/plain": [
       "         MBTI                                           comments\n",
       "20945    ISFP  heh heh dont worry im sure everyone will be re...\n",
       "593841   INFJ  like the others have been suggesting in this t...\n",
       "176580   ISTP  i was reading a great collection of poe storie...\n",
       "173917   ENFP                                      if you insist\n",
       "1447863  ENTJ  ah so thats what happened to my schools audito...\n",
       "...       ...                                                ...\n",
       "59903    ISFP  i just apologize after that it is a bad habit ...\n",
       "94820    ESTP  ive been really interested in glitchy reality ...\n",
       "1335732  INTJ  and d sounds a lot more like te than ti so get...\n",
       "1222128  INFP  oh yeah all my color normal friends are strugg...\n",
       "65192    ISTP                                 ignorance is bliss\n",
       "\n",
       "[100 rows x 2 columns]"
      ]
     },
     "execution_count": 62,
     "metadata": {},
     "output_type": "execute_result"
    }
   ],
   "source": [
    "# Check the output in sample set \n",
    "df_test"
   ]
  },
  {
   "cell_type": "markdown",
   "metadata": {},
   "source": [
    "### Remove Stop Words"
   ]
  },
  {
   "cell_type": "code",
   "execution_count": 63,
   "metadata": {
    "ExecuteTime": {
     "end_time": "2019-12-02T01:21:27.058292Z",
     "start_time": "2019-12-02T01:21:27.051965Z"
    }
   },
   "outputs": [],
   "source": [
    "def remove_stop(text):\n",
    "    tokens = word_tokenize(text)\n",
    "    text = [i for i in tokens if not i in stop_words]\n",
    "    return text"
   ]
  },
  {
   "cell_type": "code",
   "execution_count": 64,
   "metadata": {
    "ExecuteTime": {
     "end_time": "2019-12-02T01:21:29.518457Z",
     "start_time": "2019-12-02T01:21:29.446963Z"
    }
   },
   "outputs": [],
   "source": [
    "# remove stop words\n",
    "df_test['comments'] = df_test['comments'].apply(lambda x: remove_stop(x))"
   ]
  },
  {
   "cell_type": "code",
   "execution_count": 65,
   "metadata": {
    "ExecuteTime": {
     "end_time": "2019-12-02T01:21:32.116482Z",
     "start_time": "2019-12-02T01:21:32.087131Z"
    }
   },
   "outputs": [
    {
     "data": {
      "text/html": [
       "<div>\n",
       "<style scoped>\n",
       "    .dataframe tbody tr th:only-of-type {\n",
       "        vertical-align: middle;\n",
       "    }\n",
       "\n",
       "    .dataframe tbody tr th {\n",
       "        vertical-align: top;\n",
       "    }\n",
       "\n",
       "    .dataframe thead th {\n",
       "        text-align: right;\n",
       "    }\n",
       "</style>\n",
       "<table border=\"1\" class=\"dataframe\">\n",
       "  <thead>\n",
       "    <tr style=\"text-align: right;\">\n",
       "      <th></th>\n",
       "      <th>MBTI</th>\n",
       "      <th>comments</th>\n",
       "    </tr>\n",
       "  </thead>\n",
       "  <tbody>\n",
       "    <tr>\n",
       "      <td>20945</td>\n",
       "      <td>ISFP</td>\n",
       "      <td>[heh, heh, dont, worry, im, sure, everyone, re...</td>\n",
       "    </tr>\n",
       "    <tr>\n",
       "      <td>593841</td>\n",
       "      <td>INFJ</td>\n",
       "      <td>[like, others, suggesting, thread, knowing, fi...</td>\n",
       "    </tr>\n",
       "    <tr>\n",
       "      <td>176580</td>\n",
       "      <td>ISTP</td>\n",
       "      <td>[reading, great, collection, poe, stories, rec...</td>\n",
       "    </tr>\n",
       "    <tr>\n",
       "      <td>173917</td>\n",
       "      <td>ENFP</td>\n",
       "      <td>[insist]</td>\n",
       "    </tr>\n",
       "    <tr>\n",
       "      <td>1447863</td>\n",
       "      <td>ENTJ</td>\n",
       "      <td>[ah, thats, happened, schools, auditorium, uth...</td>\n",
       "    </tr>\n",
       "    <tr>\n",
       "      <td>...</td>\n",
       "      <td>...</td>\n",
       "      <td>...</td>\n",
       "    </tr>\n",
       "    <tr>\n",
       "      <td>59903</td>\n",
       "      <td>ISFP</td>\n",
       "      <td>[apologize, bad, habit, mine, anal, random, fa...</td>\n",
       "    </tr>\n",
       "    <tr>\n",
       "      <td>94820</td>\n",
       "      <td>ESTP</td>\n",
       "      <td>[ive, really, interested, glitchy, reality, st...</td>\n",
       "    </tr>\n",
       "    <tr>\n",
       "      <td>1335732</td>\n",
       "      <td>INTJ</td>\n",
       "      <td>[sounds, lot, like, te, ti, get, way, peasants]</td>\n",
       "    </tr>\n",
       "    <tr>\n",
       "      <td>1222128</td>\n",
       "      <td>INFP</td>\n",
       "      <td>[oh, yeah, color, normal, friends, struggling,...</td>\n",
       "    </tr>\n",
       "    <tr>\n",
       "      <td>65192</td>\n",
       "      <td>ISTP</td>\n",
       "      <td>[ignorance, bliss]</td>\n",
       "    </tr>\n",
       "  </tbody>\n",
       "</table>\n",
       "<p>100 rows × 2 columns</p>\n",
       "</div>"
      ],
      "text/plain": [
       "         MBTI                                           comments\n",
       "20945    ISFP  [heh, heh, dont, worry, im, sure, everyone, re...\n",
       "593841   INFJ  [like, others, suggesting, thread, knowing, fi...\n",
       "176580   ISTP  [reading, great, collection, poe, stories, rec...\n",
       "173917   ENFP                                           [insist]\n",
       "1447863  ENTJ  [ah, thats, happened, schools, auditorium, uth...\n",
       "...       ...                                                ...\n",
       "59903    ISFP  [apologize, bad, habit, mine, anal, random, fa...\n",
       "94820    ESTP  [ive, really, interested, glitchy, reality, st...\n",
       "1335732  INTJ    [sounds, lot, like, te, ti, get, way, peasants]\n",
       "1222128  INFP  [oh, yeah, color, normal, friends, struggling,...\n",
       "65192    ISTP                                 [ignorance, bliss]\n",
       "\n",
       "[100 rows x 2 columns]"
      ]
     },
     "execution_count": 65,
     "metadata": {},
     "output_type": "execute_result"
    }
   ],
   "source": [
    "# check out sample set \n",
    "df_test"
   ]
  },
  {
   "cell_type": "markdown",
   "metadata": {},
   "source": [
    "### A combined function \n",
    "\n",
    "Based on the test on the sample set, I combined the steps to 2 functions, and then apply it to the complete dataset."
   ]
  },
  {
   "cell_type": "code",
   "execution_count": 82,
   "metadata": {
    "ExecuteTime": {
     "end_time": "2019-12-02T01:54:56.038741Z",
     "start_time": "2019-12-02T01:54:56.028389Z"
    }
   },
   "outputs": [],
   "source": [
    "# remove punctuations \n",
    "def remove_punc(text):\n",
    "    for punctuation in string.punctuation:\n",
    "        text = text.replace(punctuation, '')\n",
    "    return text\n",
    "\n",
    "# everything else \n",
    "def preprocess(text):\n",
    "    # convert to lower case\n",
    "    text = text.lower()\n",
    "    # remove numbers\n",
    "    text = re.sub(r'\\d+', '', text)\n",
    "    # remove stop words\n",
    "    text = ' '.join(word for word in text.split() if not word in stop_words)\n",
    "    return text "
   ]
  },
  {
   "cell_type": "markdown",
   "metadata": {},
   "source": [
    "#### Test on sample dataset"
   ]
  },
  {
   "cell_type": "code",
   "execution_count": 84,
   "metadata": {
    "ExecuteTime": {
     "end_time": "2019-12-02T01:55:12.641223Z",
     "start_time": "2019-12-02T01:55:12.632124Z"
    }
   },
   "outputs": [],
   "source": [
    "df_test['comments'] = df_test['comments'].apply(lambda x: remove_punc(x))"
   ]
  },
  {
   "cell_type": "code",
   "execution_count": 85,
   "metadata": {
    "ExecuteTime": {
     "end_time": "2019-12-02T01:55:14.589158Z",
     "start_time": "2019-12-02T01:55:14.566688Z"
    }
   },
   "outputs": [],
   "source": [
    "df_test['comments'] = df_test['comments'].apply(lambda x: preprocess(x))"
   ]
  },
  {
   "cell_type": "code",
   "execution_count": 86,
   "metadata": {
    "ExecuteTime": {
     "end_time": "2019-12-02T01:55:16.708555Z",
     "start_time": "2019-12-02T01:55:16.689121Z"
    }
   },
   "outputs": [
    {
     "data": {
      "text/html": [
       "<div>\n",
       "<style scoped>\n",
       "    .dataframe tbody tr th:only-of-type {\n",
       "        vertical-align: middle;\n",
       "    }\n",
       "\n",
       "    .dataframe tbody tr th {\n",
       "        vertical-align: top;\n",
       "    }\n",
       "\n",
       "    .dataframe thead th {\n",
       "        text-align: right;\n",
       "    }\n",
       "</style>\n",
       "<table border=\"1\" class=\"dataframe\">\n",
       "  <thead>\n",
       "    <tr style=\"text-align: right;\">\n",
       "      <th></th>\n",
       "      <th>MBTI</th>\n",
       "      <th>comments</th>\n",
       "    </tr>\n",
       "  </thead>\n",
       "  <tbody>\n",
       "    <tr>\n",
       "      <td>20945</td>\n",
       "      <td>ISFP</td>\n",
       "      <td>heh heh dont worry im sure everyone really imp...</td>\n",
       "    </tr>\n",
       "    <tr>\n",
       "      <td>593841</td>\n",
       "      <td>INFJ</td>\n",
       "      <td>like others suggesting thread knowing first si...</td>\n",
       "    </tr>\n",
       "    <tr>\n",
       "      <td>176580</td>\n",
       "      <td>ISTP</td>\n",
       "      <td>reading great collection poe stories recently ...</td>\n",
       "    </tr>\n",
       "    <tr>\n",
       "      <td>173917</td>\n",
       "      <td>ENFP</td>\n",
       "      <td>insist</td>\n",
       "    </tr>\n",
       "    <tr>\n",
       "      <td>1447863</td>\n",
       "      <td>ENTJ</td>\n",
       "      <td>ah thats happened schools auditorium utheeman</td>\n",
       "    </tr>\n",
       "    <tr>\n",
       "      <td>...</td>\n",
       "      <td>...</td>\n",
       "      <td>...</td>\n",
       "    </tr>\n",
       "    <tr>\n",
       "      <td>59903</td>\n",
       "      <td>ISFP</td>\n",
       "      <td>apologize bad habit mine anal random facts num...</td>\n",
       "    </tr>\n",
       "    <tr>\n",
       "      <td>94820</td>\n",
       "      <td>ESTP</td>\n",
       "      <td>ive really interested glitchy reality stuff la...</td>\n",
       "    </tr>\n",
       "    <tr>\n",
       "      <td>1335732</td>\n",
       "      <td>INTJ</td>\n",
       "      <td>sounds lot like te ti get way peasants</td>\n",
       "    </tr>\n",
       "    <tr>\n",
       "      <td>1222128</td>\n",
       "      <td>INFP</td>\n",
       "      <td>oh yeah color normal friends struggling dark s...</td>\n",
       "    </tr>\n",
       "    <tr>\n",
       "      <td>65192</td>\n",
       "      <td>ISTP</td>\n",
       "      <td>ignorance bliss</td>\n",
       "    </tr>\n",
       "  </tbody>\n",
       "</table>\n",
       "<p>100 rows × 2 columns</p>\n",
       "</div>"
      ],
      "text/plain": [
       "         MBTI                                           comments\n",
       "20945    ISFP  heh heh dont worry im sure everyone really imp...\n",
       "593841   INFJ  like others suggesting thread knowing first si...\n",
       "176580   ISTP  reading great collection poe stories recently ...\n",
       "173917   ENFP                                             insist\n",
       "1447863  ENTJ      ah thats happened schools auditorium utheeman\n",
       "...       ...                                                ...\n",
       "59903    ISFP  apologize bad habit mine anal random facts num...\n",
       "94820    ESTP  ive really interested glitchy reality stuff la...\n",
       "1335732  INTJ             sounds lot like te ti get way peasants\n",
       "1222128  INFP  oh yeah color normal friends struggling dark s...\n",
       "65192    ISTP                                    ignorance bliss\n",
       "\n",
       "[100 rows x 2 columns]"
      ]
     },
     "execution_count": 86,
     "metadata": {},
     "output_type": "execute_result"
    }
   ],
   "source": [
    "df_test"
   ]
  },
  {
   "cell_type": "markdown",
   "metadata": {},
   "source": [
    "#### Apply on complete dataset"
   ]
  },
  {
   "cell_type": "code",
   "execution_count": 87,
   "metadata": {
    "ExecuteTime": {
     "end_time": "2019-12-02T01:58:21.378457Z",
     "start_time": "2019-12-02T01:56:44.948254Z"
    }
   },
   "outputs": [],
   "source": [
    "df_clean_comments['comments'] = df_clean_comments['comments'].apply(lambda x: remove_punc(x))"
   ]
  },
  {
   "cell_type": "code",
   "execution_count": 88,
   "metadata": {
    "ExecuteTime": {
     "end_time": "2019-12-02T02:09:45.356865Z",
     "start_time": "2019-12-02T01:58:21.417501Z"
    }
   },
   "outputs": [
    {
     "data": {
      "text/html": [
       "<div>\n",
       "<style scoped>\n",
       "    .dataframe tbody tr th:only-of-type {\n",
       "        vertical-align: middle;\n",
       "    }\n",
       "\n",
       "    .dataframe tbody tr th {\n",
       "        vertical-align: top;\n",
       "    }\n",
       "\n",
       "    .dataframe thead th {\n",
       "        text-align: right;\n",
       "    }\n",
       "</style>\n",
       "<table border=\"1\" class=\"dataframe\">\n",
       "  <thead>\n",
       "    <tr style=\"text-align: right;\">\n",
       "      <th></th>\n",
       "      <th>MBTI</th>\n",
       "      <th>comments</th>\n",
       "    </tr>\n",
       "  </thead>\n",
       "  <tbody>\n",
       "    <tr>\n",
       "      <td>0</td>\n",
       "      <td>INFP</td>\n",
       "      <td>lol thats left</td>\n",
       "    </tr>\n",
       "    <tr>\n",
       "      <td>1</td>\n",
       "      <td>INTP</td>\n",
       "      <td>post try telling people time im always joking ...</td>\n",
       "    </tr>\n",
       "    <tr>\n",
       "      <td>2</td>\n",
       "      <td>INFP</td>\n",
       "      <td>first thought pepsi something probably alcohol</td>\n",
       "    </tr>\n",
       "    <tr>\n",
       "      <td>3</td>\n",
       "      <td>ENTP</td>\n",
       "      <td>formula something like every time says add bpm...</td>\n",
       "    </tr>\n",
       "    <tr>\n",
       "      <td>4</td>\n",
       "      <td>INTP</td>\n",
       "      <td>imply im five</td>\n",
       "    </tr>\n",
       "  </tbody>\n",
       "</table>\n",
       "</div>"
      ],
      "text/plain": [
       "   MBTI                                           comments\n",
       "0  INFP                                     lol thats left\n",
       "1  INTP  post try telling people time im always joking ...\n",
       "2  INFP     first thought pepsi something probably alcohol\n",
       "3  ENTP  formula something like every time says add bpm...\n",
       "4  INTP                                      imply im five"
      ]
     },
     "execution_count": 88,
     "metadata": {},
     "output_type": "execute_result"
    }
   ],
   "source": [
    "df_clean_comments['comments'] = df_clean_comments['comments'].apply(lambda x: preprocess(x))\n",
    "df_clean_comments.head()"
   ]
  },
  {
   "cell_type": "code",
   "execution_count": 90,
   "metadata": {
    "ExecuteTime": {
     "end_time": "2019-12-02T02:17:05.999142Z",
     "start_time": "2019-12-02T02:16:50.617938Z"
    }
   },
   "outputs": [
    {
     "data": {
      "text/plain": [
       "61310757"
      ]
     },
     "execution_count": 90,
     "metadata": {},
     "output_type": "execute_result"
    }
   ],
   "source": [
    "df_clean_comments['comments'].apply(lambda x: len(x.split(' '))).sum()\n",
    "# 61 millions words!!! "
   ]
  },
  {
   "cell_type": "code",
   "execution_count": 10,
   "metadata": {
    "ExecuteTime": {
     "end_time": "2019-12-03T05:09:21.268102Z",
     "start_time": "2019-12-03T05:09:20.797571Z"
    }
   },
   "outputs": [
    {
     "data": {
      "text/plain": [
       "MBTI            0\n",
       "comments    23971\n",
       "dtype: int64"
      ]
     },
     "execution_count": 10,
     "metadata": {},
     "output_type": "execute_result"
    }
   ],
   "source": [
    "df_clean_comments.isna().sum()"
   ]
  },
  {
   "cell_type": "code",
   "execution_count": 11,
   "metadata": {
    "ExecuteTime": {
     "end_time": "2019-12-03T05:16:33.121165Z",
     "start_time": "2019-12-03T05:16:32.407790Z"
    }
   },
   "outputs": [],
   "source": [
    "# drop the null values\n",
    "df_clean_comments = df_clean_comments.dropna()"
   ]
  },
  {
   "cell_type": "code",
   "execution_count": 12,
   "metadata": {
    "ExecuteTime": {
     "end_time": "2019-12-03T05:16:44.350871Z",
     "start_time": "2019-12-03T05:16:43.878347Z"
    }
   },
   "outputs": [
    {
     "data": {
      "text/plain": [
       "MBTI        0\n",
       "comments    0\n",
       "dtype: int64"
      ]
     },
     "execution_count": 12,
     "metadata": {},
     "output_type": "execute_result"
    }
   ],
   "source": [
    "df_clean_comments.isna().sum()"
   ]
  },
  {
   "cell_type": "code",
   "execution_count": 13,
   "metadata": {
    "ExecuteTime": {
     "end_time": "2019-12-03T05:16:51.212977Z",
     "start_time": "2019-12-03T05:16:51.206414Z"
    }
   },
   "outputs": [
    {
     "data": {
      "text/plain": [
       "(2976811, 2)"
      ]
     },
     "execution_count": 13,
     "metadata": {},
     "output_type": "execute_result"
    }
   ],
   "source": [
    "df_clean_comments.shape\n",
    "# now we are left with 2.97 million of comments "
   ]
  },
  {
   "cell_type": "markdown",
   "metadata": {},
   "source": [
    "--- \n",
    "\n",
    "## Simple Models\n",
    "### Split the data"
   ]
  },
  {
   "cell_type": "code",
   "execution_count": 93,
   "metadata": {
    "ExecuteTime": {
     "end_time": "2019-12-02T02:20:37.921417Z",
     "start_time": "2019-12-02T02:20:35.453378Z"
    }
   },
   "outputs": [],
   "source": [
    "from sklearn.model_selection import train_test_split\n",
    "\n",
    "X = df_clean_comments['comments']\n",
    "y = df_clean_comments['MBTI']\n",
    "\n",
    "X_train, X_test, y_train, y_test = train_test_split(X, y, test_size=0.3, random_state = 42)"
   ]
  },
  {
   "cell_type": "markdown",
   "metadata": {},
   "source": [
    "### Models"
   ]
  },
  {
   "cell_type": "markdown",
   "metadata": {},
   "source": [
    "#### Naive Bayes Classifier "
   ]
  },
  {
   "cell_type": "code",
   "execution_count": 98,
   "metadata": {
    "ExecuteTime": {
     "end_time": "2019-12-02T03:24:35.417839Z",
     "start_time": "2019-12-02T03:24:35.409902Z"
    }
   },
   "outputs": [],
   "source": [
    "mbti = ['INFP','INFJ','INTP','INTJ','ENTP','ENFP','ISTP','ISFP','ENTJ','ISTJ','ENFJ','ISFJ','ESTP','ESFP','ESFJ','ESTJ']"
   ]
  },
  {
   "cell_type": "code",
   "execution_count": 94,
   "metadata": {
    "ExecuteTime": {
     "end_time": "2019-12-02T02:28:51.453491Z",
     "start_time": "2019-12-02T02:25:26.383279Z"
    }
   },
   "outputs": [
    {
     "data": {
      "text/plain": [
       "Pipeline(memory=None,\n",
       "     steps=[('vect', CountVectorizer(analyzer='word', binary=False, decode_error='strict',\n",
       "        dtype=<class 'numpy.int64'>, encoding='utf-8', input='content',\n",
       "        lowercase=True, max_df=1.0, max_features=None, min_df=1,\n",
       "        ngram_range=(1, 1), preprocessor=None, stop_words=None,\n",
       "        strip...f=False, use_idf=True)), ('classifier', MultinomialNB(alpha=1.0, class_prior=None, fit_prior=True))])"
      ]
     },
     "execution_count": 94,
     "metadata": {},
     "output_type": "execute_result"
    }
   ],
   "source": [
    "from sklearn.naive_bayes import MultinomialNB\n",
    "from sklearn.pipeline import Pipeline\n",
    "from sklearn.feature_extraction.text import CountVectorizer, TfidfTransformer\n",
    "\n",
    "# build a pipeline for tfidf and clasify the data \n",
    "my_nb = Pipeline([\n",
    "    ('vect', CountVectorizer()),\n",
    "    ('tfidf', TfidfTransformer()),\n",
    "    ('classifier', MultinomialNB())\n",
    "])\n",
    "my_nb.fit(X_train, y_train)"
   ]
  },
  {
   "cell_type": "code",
   "execution_count": 99,
   "metadata": {
    "ExecuteTime": {
     "end_time": "2019-12-02T03:27:03.673156Z",
     "start_time": "2019-12-02T03:24:39.147930Z"
    }
   },
   "outputs": [
    {
     "name": "stdout",
     "output_type": "stream",
     "text": [
      "accuracy 0.169956733519581\n",
      "              precision    recall  f1-score   support\n",
      "\n",
      "        INFP       0.56      0.06      0.11     54722\n",
      "        INFJ       0.45      0.04      0.07     61954\n",
      "        INTP       0.24      0.14      0.18     77590\n",
      "        INTJ       0.35      0.06      0.10     67486\n",
      "        ENTP       0.95      0.01      0.02     18218\n",
      "        ENFP       0.78      0.01      0.01     19938\n",
      "        ISTP       0.76      0.03      0.05     28912\n",
      "        ISFP       0.63      0.09      0.15     48281\n",
      "        ENTJ       0.17      0.22      0.19     81229\n",
      "        ISTJ       0.13      0.58      0.21     93610\n",
      "        ENFJ       0.55      0.02      0.05     53255\n",
      "        ISFJ       0.14      0.40      0.21     90431\n",
      "        ESTP       0.62      0.05      0.09     47188\n",
      "        ESFP       0.72      0.07      0.14     42873\n",
      "        ESFJ       0.60      0.03      0.05     46841\n",
      "        ESTJ       0.45      0.17      0.25     67707\n",
      "\n",
      "   micro avg       0.17      0.17      0.17    900235\n",
      "   macro avg       0.51      0.12      0.12    900235\n",
      "weighted avg       0.41      0.17      0.14    900235\n",
      "\n"
     ]
    }
   ],
   "source": [
    "from sklearn.metrics import classification_report\n",
    "y_pred = my_nb.predict(X_test)\n",
    "\n",
    "print('accuracy %s' % my_nb.score(y_pred, y_test))\n",
    "print(classification_report(y_test, y_pred,target_names=mbti))"
   ]
  },
  {
   "cell_type": "markdown",
   "metadata": {},
   "source": [
    "We can see that because of the imbalance of the data, the precision/recall are highly imbalanced, resulting in low f1-scores. "
   ]
  },
  {
   "cell_type": "markdown",
   "metadata": {},
   "source": [
    "#### SGD Classifier"
   ]
  },
  {
   "cell_type": "code",
   "execution_count": 102,
   "metadata": {
    "ExecuteTime": {
     "end_time": "2019-12-02T03:38:47.083686Z",
     "start_time": "2019-12-02T03:32:40.755540Z"
    }
   },
   "outputs": [
    {
     "name": "stderr",
     "output_type": "stream",
     "text": [
      "/anaconda3/lib/python3.7/site-packages/sklearn/linear_model/stochastic_gradient.py:183: FutureWarning: max_iter and tol parameters have been added in SGDClassifier in 0.19. If max_iter is set but tol is left unset, the default value for tol in 0.19 and 0.20 will be None (which is equivalent to -infinity, so it has no effect) but will change in 0.21 to 1e-3. Specify tol to silence this warning.\n",
      "  FutureWarning)\n"
     ]
    },
    {
     "data": {
      "text/plain": [
       "Pipeline(memory=None,\n",
       "     steps=[('vect', CountVectorizer(analyzer='word', binary=False, decode_error='strict',\n",
       "        dtype=<class 'numpy.int64'>, encoding='utf-8', input='content',\n",
       "        lowercase=True, max_df=1.0, max_features=None, min_df=1,\n",
       "        ngram_range=(1, 1), preprocessor=None, stop_words=None,\n",
       "        strip...dom_state=42, shuffle=True, tol=None,\n",
       "       validation_fraction=0.1, verbose=0, warm_start=False))])"
      ]
     },
     "execution_count": 102,
     "metadata": {},
     "output_type": "execute_result"
    }
   ],
   "source": [
    "from sklearn.linear_model import SGDClassifier\n",
    "\n",
    "sgd = Pipeline([\n",
    "    ('vect', CountVectorizer()),\n",
    "    ('tfidf', TfidfTransformer()),\n",
    "    ('classifier', SGDClassifier(loss='hinge', penalty='l2', \\\n",
    "                                random_state=42, max_iter=5, tol=None))\n",
    "])\n",
    "\n",
    "sgd.fit(X_train, y_train)"
   ]
  },
  {
   "cell_type": "code",
   "execution_count": 103,
   "metadata": {
    "ExecuteTime": {
     "end_time": "2019-12-02T03:41:29.356483Z",
     "start_time": "2019-12-02T03:38:47.649520Z"
    }
   },
   "outputs": [
    {
     "name": "stdout",
     "output_type": "stream",
     "text": [
      "accuracy 0.18061172915960833\n",
      "              precision    recall  f1-score   support\n",
      "\n",
      "        INFP       0.18      0.23      0.20     54722\n",
      "        INFJ       0.17      0.14      0.15     61954\n",
      "        INTP       0.18      0.18      0.18     77590\n",
      "        INTJ       0.16      0.15      0.16     67486\n",
      "        ENTP       0.25      0.18      0.21     18218\n",
      "        ENFP       0.23      0.22      0.22     19938\n",
      "        ISTP       0.28      0.30      0.29     28912\n",
      "        ISFP       0.22      0.28      0.25     48281\n",
      "        ENTJ       0.16      0.18      0.17     81229\n",
      "        ISTJ       0.17      0.13      0.15     93610\n",
      "        ENFJ       0.15      0.12      0.13     53255\n",
      "        ISFJ       0.16      0.16      0.16     90431\n",
      "        ESTP       0.18      0.20      0.19     47188\n",
      "        ESFP       0.27      0.24      0.25     42873\n",
      "        ESFJ       0.17      0.18      0.17     46841\n",
      "        ESTJ       0.28      0.27      0.28     67707\n",
      "\n",
      "   micro avg       0.19      0.19      0.19    900235\n",
      "   macro avg       0.20      0.20      0.20    900235\n",
      "weighted avg       0.19      0.19      0.19    900235\n",
      "\n"
     ]
    }
   ],
   "source": [
    "y_pred = sgd.predict(X_test)\n",
    "\n",
    "print('accuracy %s' % sgd.score(y_pred, y_test))\n",
    "print(classification_report(y_test, y_pred,target_names=mbti))"
   ]
  },
  {
   "cell_type": "markdown",
   "metadata": {},
   "source": [
    "SGD Classifier performs a little better than Naive Bayes, but we still want to find out about other classifiers. "
   ]
  },
  {
   "cell_type": "markdown",
   "metadata": {},
   "source": [
    "#### Logistic Regression "
   ]
  },
  {
   "cell_type": "code",
   "execution_count": 104,
   "metadata": {
    "ExecuteTime": {
     "end_time": "2019-12-02T04:48:09.390314Z",
     "start_time": "2019-12-02T03:45:55.674542Z"
    }
   },
   "outputs": [
    {
     "name": "stderr",
     "output_type": "stream",
     "text": [
      "/anaconda3/lib/python3.7/site-packages/sklearn/linear_model/logistic.py:433: FutureWarning: Default solver will be changed to 'lbfgs' in 0.22. Specify a solver to silence this warning.\n",
      "  FutureWarning)\n",
      "/anaconda3/lib/python3.7/site-packages/sklearn/linear_model/logistic.py:460: FutureWarning: Default multi_class will be changed to 'auto' in 0.22. Specify the multi_class option to silence this warning.\n",
      "  \"this warning.\", FutureWarning)\n"
     ]
    },
    {
     "ename": "KeyboardInterrupt",
     "evalue": "",
     "output_type": "error",
     "traceback": [
      "\u001b[0;31m---------------------------------------------------------------------------\u001b[0m",
      "\u001b[0;31mKeyboardInterrupt\u001b[0m                         Traceback (most recent call last)",
      "\u001b[0;32m<ipython-input-104-3e29c60f98be>\u001b[0m in \u001b[0;36m<module>\u001b[0;34m\u001b[0m\n\u001b[1;32m      6\u001b[0m     \u001b[0;34m(\u001b[0m\u001b[0;34m'classifier'\u001b[0m\u001b[0;34m,\u001b[0m \u001b[0mLogisticRegression\u001b[0m\u001b[0;34m(\u001b[0m\u001b[0;34m)\u001b[0m\u001b[0;34m)\u001b[0m\u001b[0;34m\u001b[0m\u001b[0;34m\u001b[0m\u001b[0m\n\u001b[1;32m      7\u001b[0m ])\n\u001b[0;32m----> 8\u001b[0;31m \u001b[0mmy_logit\u001b[0m\u001b[0;34m.\u001b[0m\u001b[0mfit\u001b[0m\u001b[0;34m(\u001b[0m\u001b[0mX_train\u001b[0m\u001b[0;34m,\u001b[0m \u001b[0my_train\u001b[0m\u001b[0;34m)\u001b[0m\u001b[0;34m\u001b[0m\u001b[0;34m\u001b[0m\u001b[0m\n\u001b[0m",
      "\u001b[0;32m/anaconda3/lib/python3.7/site-packages/sklearn/pipeline.py\u001b[0m in \u001b[0;36mfit\u001b[0;34m(self, X, y, **fit_params)\u001b[0m\n\u001b[1;32m    265\u001b[0m         \u001b[0mXt\u001b[0m\u001b[0;34m,\u001b[0m \u001b[0mfit_params\u001b[0m \u001b[0;34m=\u001b[0m \u001b[0mself\u001b[0m\u001b[0;34m.\u001b[0m\u001b[0m_fit\u001b[0m\u001b[0;34m(\u001b[0m\u001b[0mX\u001b[0m\u001b[0;34m,\u001b[0m \u001b[0my\u001b[0m\u001b[0;34m,\u001b[0m \u001b[0;34m**\u001b[0m\u001b[0mfit_params\u001b[0m\u001b[0;34m)\u001b[0m\u001b[0;34m\u001b[0m\u001b[0;34m\u001b[0m\u001b[0m\n\u001b[1;32m    266\u001b[0m         \u001b[0;32mif\u001b[0m \u001b[0mself\u001b[0m\u001b[0;34m.\u001b[0m\u001b[0m_final_estimator\u001b[0m \u001b[0;32mis\u001b[0m \u001b[0;32mnot\u001b[0m \u001b[0;32mNone\u001b[0m\u001b[0;34m:\u001b[0m\u001b[0;34m\u001b[0m\u001b[0;34m\u001b[0m\u001b[0m\n\u001b[0;32m--> 267\u001b[0;31m             \u001b[0mself\u001b[0m\u001b[0;34m.\u001b[0m\u001b[0m_final_estimator\u001b[0m\u001b[0;34m.\u001b[0m\u001b[0mfit\u001b[0m\u001b[0;34m(\u001b[0m\u001b[0mXt\u001b[0m\u001b[0;34m,\u001b[0m \u001b[0my\u001b[0m\u001b[0;34m,\u001b[0m \u001b[0;34m**\u001b[0m\u001b[0mfit_params\u001b[0m\u001b[0;34m)\u001b[0m\u001b[0;34m\u001b[0m\u001b[0;34m\u001b[0m\u001b[0m\n\u001b[0m\u001b[1;32m    268\u001b[0m         \u001b[0;32mreturn\u001b[0m \u001b[0mself\u001b[0m\u001b[0;34m\u001b[0m\u001b[0;34m\u001b[0m\u001b[0m\n\u001b[1;32m    269\u001b[0m \u001b[0;34m\u001b[0m\u001b[0m\n",
      "\u001b[0;32m/anaconda3/lib/python3.7/site-packages/sklearn/linear_model/logistic.py\u001b[0m in \u001b[0;36mfit\u001b[0;34m(self, X, y, sample_weight)\u001b[0m\n\u001b[1;32m   1303\u001b[0m                 \u001b[0mself\u001b[0m\u001b[0;34m.\u001b[0m\u001b[0mclass_weight\u001b[0m\u001b[0;34m,\u001b[0m \u001b[0mself\u001b[0m\u001b[0;34m.\u001b[0m\u001b[0mpenalty\u001b[0m\u001b[0;34m,\u001b[0m \u001b[0mself\u001b[0m\u001b[0;34m.\u001b[0m\u001b[0mdual\u001b[0m\u001b[0;34m,\u001b[0m \u001b[0mself\u001b[0m\u001b[0;34m.\u001b[0m\u001b[0mverbose\u001b[0m\u001b[0;34m,\u001b[0m\u001b[0;34m\u001b[0m\u001b[0;34m\u001b[0m\u001b[0m\n\u001b[1;32m   1304\u001b[0m                 \u001b[0mself\u001b[0m\u001b[0;34m.\u001b[0m\u001b[0mmax_iter\u001b[0m\u001b[0;34m,\u001b[0m \u001b[0mself\u001b[0m\u001b[0;34m.\u001b[0m\u001b[0mtol\u001b[0m\u001b[0;34m,\u001b[0m \u001b[0mself\u001b[0m\u001b[0;34m.\u001b[0m\u001b[0mrandom_state\u001b[0m\u001b[0;34m,\u001b[0m\u001b[0;34m\u001b[0m\u001b[0;34m\u001b[0m\u001b[0m\n\u001b[0;32m-> 1305\u001b[0;31m                 sample_weight=sample_weight)\n\u001b[0m\u001b[1;32m   1306\u001b[0m             \u001b[0mself\u001b[0m\u001b[0;34m.\u001b[0m\u001b[0mn_iter_\u001b[0m \u001b[0;34m=\u001b[0m \u001b[0mnp\u001b[0m\u001b[0;34m.\u001b[0m\u001b[0marray\u001b[0m\u001b[0;34m(\u001b[0m\u001b[0;34m[\u001b[0m\u001b[0mn_iter_\u001b[0m\u001b[0;34m]\u001b[0m\u001b[0;34m)\u001b[0m\u001b[0;34m\u001b[0m\u001b[0;34m\u001b[0m\u001b[0m\n\u001b[1;32m   1307\u001b[0m             \u001b[0;32mreturn\u001b[0m \u001b[0mself\u001b[0m\u001b[0;34m\u001b[0m\u001b[0;34m\u001b[0m\u001b[0m\n",
      "\u001b[0;32m/anaconda3/lib/python3.7/site-packages/sklearn/svm/base.py\u001b[0m in \u001b[0;36m_fit_liblinear\u001b[0;34m(X, y, C, fit_intercept, intercept_scaling, class_weight, penalty, dual, verbose, max_iter, tol, random_state, multi_class, loss, epsilon, sample_weight)\u001b[0m\n\u001b[1;32m    921\u001b[0m         \u001b[0mX\u001b[0m\u001b[0;34m,\u001b[0m \u001b[0my_ind\u001b[0m\u001b[0;34m,\u001b[0m \u001b[0msp\u001b[0m\u001b[0;34m.\u001b[0m\u001b[0misspmatrix\u001b[0m\u001b[0;34m(\u001b[0m\u001b[0mX\u001b[0m\u001b[0;34m)\u001b[0m\u001b[0;34m,\u001b[0m \u001b[0msolver_type\u001b[0m\u001b[0;34m,\u001b[0m \u001b[0mtol\u001b[0m\u001b[0;34m,\u001b[0m \u001b[0mbias\u001b[0m\u001b[0;34m,\u001b[0m \u001b[0mC\u001b[0m\u001b[0;34m,\u001b[0m\u001b[0;34m\u001b[0m\u001b[0;34m\u001b[0m\u001b[0m\n\u001b[1;32m    922\u001b[0m         \u001b[0mclass_weight_\u001b[0m\u001b[0;34m,\u001b[0m \u001b[0mmax_iter\u001b[0m\u001b[0;34m,\u001b[0m \u001b[0mrnd\u001b[0m\u001b[0;34m.\u001b[0m\u001b[0mrandint\u001b[0m\u001b[0;34m(\u001b[0m\u001b[0mnp\u001b[0m\u001b[0;34m.\u001b[0m\u001b[0miinfo\u001b[0m\u001b[0;34m(\u001b[0m\u001b[0;34m'i'\u001b[0m\u001b[0;34m)\u001b[0m\u001b[0;34m.\u001b[0m\u001b[0mmax\u001b[0m\u001b[0;34m)\u001b[0m\u001b[0;34m,\u001b[0m\u001b[0;34m\u001b[0m\u001b[0;34m\u001b[0m\u001b[0m\n\u001b[0;32m--> 923\u001b[0;31m         epsilon, sample_weight)\n\u001b[0m\u001b[1;32m    924\u001b[0m     \u001b[0;31m# Regarding rnd.randint(..) in the above signature:\u001b[0m\u001b[0;34m\u001b[0m\u001b[0;34m\u001b[0m\u001b[0;34m\u001b[0m\u001b[0m\n\u001b[1;32m    925\u001b[0m     \u001b[0;31m# seed for srand in range [0..INT_MAX); due to limitations in Numpy\u001b[0m\u001b[0;34m\u001b[0m\u001b[0;34m\u001b[0m\u001b[0;34m\u001b[0m\u001b[0m\n",
      "\u001b[0;31mKeyboardInterrupt\u001b[0m: "
     ]
    }
   ],
   "source": [
    "from sklearn.linear_model import LogisticRegression\n",
    "\n",
    "my_logit = Pipeline([\n",
    "    ('vect', CountVectorizer()),\n",
    "    ('tfidf', TfidfTransformer()),\n",
    "    ('classifier', LogisticRegression(solver='saga'))\n",
    "])\n",
    "my_logit.fit(X_train, y_train)"
   ]
  },
  {
   "cell_type": "code",
   "execution_count": null,
   "metadata": {
    "ExecuteTime": {
     "end_time": "2019-12-02T04:48:09.485530Z",
     "start_time": "2019-12-02T03:46:23.266Z"
    }
   },
   "outputs": [],
   "source": [
    "y_pred = my_logit.predict(X_test)\n",
    "\n",
    "print('accuracy %s' % my_logit.score(y_pred, y_test))\n",
    "print(classification_report(y_test, y_pred,target_names=mbti))"
   ]
  },
  {
   "cell_type": "markdown",
   "metadata": {},
   "source": [
    "Logistic Regression result is keyboard interrupted because it's taking some time to process, and at this point, I was researching into SpaCy and decided to use SpaCy to reprocess the text and then fit in the model. "
   ]
  },
  {
   "cell_type": "markdown",
   "metadata": {},
   "source": [
    "---"
   ]
  },
  {
   "cell_type": "markdown",
   "metadata": {},
   "source": [
    "## SpaCy Text Processing\n",
    "\n",
    "To use SpaCy, I re-imported a version of the dataset before it's processed using NLTK. \n"
   ]
  },
  {
   "cell_type": "code",
   "execution_count": 8,
   "metadata": {
    "ExecuteTime": {
     "end_time": "2019-12-06T16:45:44.658600Z",
     "start_time": "2019-12-06T16:45:31.242928Z"
    }
   },
   "outputs": [
    {
     "name": "stderr",
     "output_type": "stream",
     "text": [
      "/anaconda3/lib/python3.7/site-packages/numpy/lib/arraysetops.py:568: FutureWarning: elementwise comparison failed; returning scalar instead, but in the future will perform elementwise comparison\n",
      "  mask |= (ar1 == a)\n"
     ]
    }
   ],
   "source": [
    "# import data \n",
    "df_punc = pd.read_csv('../../clean_data/with_punc.csv', index_col=0)"
   ]
  },
  {
   "cell_type": "code",
   "execution_count": 25,
   "metadata": {
    "ExecuteTime": {
     "end_time": "2019-12-06T18:43:36.440096Z",
     "start_time": "2019-12-06T18:43:36.235724Z"
    }
   },
   "outputs": [],
   "source": [
    "# as I did before, I created a sample set from the complete set to test the functions. \n",
    "df_sample = df_punc.sample(n=1000)"
   ]
  },
  {
   "cell_type": "code",
   "execution_count": 10,
   "metadata": {
    "ExecuteTime": {
     "end_time": "2019-12-06T16:45:52.898209Z",
     "start_time": "2019-12-06T16:45:52.874607Z"
    }
   },
   "outputs": [
    {
     "data": {
      "text/html": [
       "<div>\n",
       "<style scoped>\n",
       "    .dataframe tbody tr th:only-of-type {\n",
       "        vertical-align: middle;\n",
       "    }\n",
       "\n",
       "    .dataframe tbody tr th {\n",
       "        vertical-align: top;\n",
       "    }\n",
       "\n",
       "    .dataframe thead th {\n",
       "        text-align: right;\n",
       "    }\n",
       "</style>\n",
       "<table border=\"1\" class=\"dataframe\">\n",
       "  <thead>\n",
       "    <tr style=\"text-align: right;\">\n",
       "      <th></th>\n",
       "      <th>MBTI</th>\n",
       "      <th>comments</th>\n",
       "    </tr>\n",
       "  </thead>\n",
       "  <tbody>\n",
       "    <tr>\n",
       "      <td>1533251</td>\n",
       "      <td>INFP</td>\n",
       "      <td>Also, this is availble on jailbroken iPhones a...</td>\n",
       "    </tr>\n",
       "    <tr>\n",
       "      <td>489172</td>\n",
       "      <td>INFP</td>\n",
       "      <td>Damn spices eating all my jeans!</td>\n",
       "    </tr>\n",
       "    <tr>\n",
       "      <td>1434585</td>\n",
       "      <td>INFP</td>\n",
       "      <td>When my friend first showed me a picture of th...</td>\n",
       "    </tr>\n",
       "    <tr>\n",
       "      <td>979964</td>\n",
       "      <td>INFP</td>\n",
       "      <td>Lovely</td>\n",
       "    </tr>\n",
       "    <tr>\n",
       "      <td>50650</td>\n",
       "      <td>ENFJ</td>\n",
       "      <td>I have impressed the guy who taught me not to ...</td>\n",
       "    </tr>\n",
       "    <tr>\n",
       "      <td>...</td>\n",
       "      <td>...</td>\n",
       "      <td>...</td>\n",
       "    </tr>\n",
       "    <tr>\n",
       "      <td>1265</td>\n",
       "      <td>ESTP</td>\n",
       "      <td>Asian American History: Movement and Dislocati...</td>\n",
       "    </tr>\n",
       "    <tr>\n",
       "      <td>122703</td>\n",
       "      <td>ENTJ</td>\n",
       "      <td>I'm not saying that all media is bad all of th...</td>\n",
       "    </tr>\n",
       "    <tr>\n",
       "      <td>1101969</td>\n",
       "      <td>INTP</td>\n",
       "      <td>Carthage. Spam cities and pick up that +2 Scie...</td>\n",
       "    </tr>\n",
       "    <tr>\n",
       "      <td>61720</td>\n",
       "      <td>ESTJ</td>\n",
       "      <td>Redditors</td>\n",
       "    </tr>\n",
       "    <tr>\n",
       "      <td>1305117</td>\n",
       "      <td>ENTP</td>\n",
       "      <td>So other than just get the Trump administratio...</td>\n",
       "    </tr>\n",
       "  </tbody>\n",
       "</table>\n",
       "<p>1000 rows × 2 columns</p>\n",
       "</div>"
      ],
      "text/plain": [
       "         MBTI                                           comments\n",
       "1533251  INFP  Also, this is availble on jailbroken iPhones a...\n",
       "489172   INFP                   Damn spices eating all my jeans!\n",
       "1434585  INFP  When my friend first showed me a picture of th...\n",
       "979964   INFP                                             Lovely\n",
       "50650    ENFJ  I have impressed the guy who taught me not to ...\n",
       "...       ...                                                ...\n",
       "1265     ESTP  Asian American History: Movement and Dislocati...\n",
       "122703   ENTJ  I'm not saying that all media is bad all of th...\n",
       "1101969  INTP  Carthage. Spam cities and pick up that +2 Scie...\n",
       "61720    ESTJ                                          Redditors\n",
       "1305117  ENTP  So other than just get the Trump administratio...\n",
       "\n",
       "[1000 rows x 2 columns]"
      ]
     },
     "execution_count": 10,
     "metadata": {},
     "output_type": "execute_result"
    }
   ],
   "source": [
    "df_sample"
   ]
  },
  {
   "cell_type": "code",
   "execution_count": 3,
   "metadata": {
    "ExecuteTime": {
     "end_time": "2019-12-04T06:32:35.838231Z",
     "start_time": "2019-12-04T06:32:35.290292Z"
    }
   },
   "outputs": [
    {
     "data": {
      "text/plain": [
       "MBTI        0\n",
       "comments    0\n",
       "dtype: int64"
      ]
     },
     "execution_count": 3,
     "metadata": {},
     "output_type": "execute_result"
    }
   ],
   "source": [
    "# check missing values\n",
    "df_punc.isna().sum()\n",
    "\n",
    "# good there is no null value"
   ]
  },
  {
   "cell_type": "code",
   "execution_count": 4,
   "metadata": {
    "ExecuteTime": {
     "end_time": "2019-12-04T06:33:19.730814Z",
     "start_time": "2019-12-04T06:33:19.726761Z"
    }
   },
   "outputs": [],
   "source": [
    "X = df_punc.comments\n",
    "y = df_punc.MBTI"
   ]
  },
  {
   "cell_type": "code",
   "execution_count": 5,
   "metadata": {
    "ExecuteTime": {
     "end_time": "2019-12-04T06:33:23.286153Z",
     "start_time": "2019-12-04T06:33:22.026152Z"
    }
   },
   "outputs": [],
   "source": [
    "# split the data \n",
    "from sklearn.model_selection import train_test_split\n",
    "X_train, X_test, y_train, y_test = train_test_split(X, y, test_size=0.3, random_state=42)\n"
   ]
  },
  {
   "cell_type": "markdown",
   "metadata": {},
   "source": [
    "### Text Processing in SpaCy"
   ]
  },
  {
   "cell_type": "code",
   "execution_count": 11,
   "metadata": {
    "ExecuteTime": {
     "end_time": "2019-12-06T16:46:04.099722Z",
     "start_time": "2019-12-06T16:46:01.690779Z"
    }
   },
   "outputs": [],
   "source": [
    "import spacy\n",
    "\n",
    "# Load the English NLP model\n",
    "nlp = spacy.load('en_core_web_sm')\n",
    "\n",
    "# function to return tokens that are not punctuation, space, \n",
    "# stop-words, url, emails and are longer than 2 letters.\n",
    "def token_filter(token):\n",
    "    return not (token.is_punct | token.is_space | token.is_stop | len(token.text) <= 2 | token.like_email | token.like_url)"
   ]
  },
  {
   "cell_type": "code",
   "execution_count": 61,
   "metadata": {
    "ExecuteTime": {
     "end_time": "2019-12-06T19:47:17.013562Z",
     "start_time": "2019-12-06T19:47:17.002825Z"
    }
   },
   "outputs": [],
   "source": [
    "# function for text processing \n",
    "def clean_text(docs): \n",
    "    filtered_tokens = []\n",
    "    \n",
    "    for doc in nlp.pipe(docs):\n",
    "        # lemmatisation \n",
    "        tokens = [token.lemma_ for token in doc if token_filter(token) ]\n",
    "        # lower case\n",
    "        tokens = [word.lower() for word in tokens]\n",
    "        # delete all the lemmatised pronoun placeholder\n",
    "        tokens = [word for word in tokens if word != '-pron-']\n",
    "        # remove urls \n",
    "        tokens = [re.sub('http[s]?://(?:[a-zA-Z]|[0-9]|[$-_@.&+]|(?:%[0-9a-fA-F][0-9a-fA-F]))+', 'url', word) for word in tokens]\n",
    "        # keep only words\n",
    "        tokens = [re.sub(\"[^a-zA-Z]\", \" \", word) for word in tokens]\n",
    "        # remove extra white spaces\n",
    "        tokens = [re.sub(' +', ' ', word) for word in tokens]\n",
    "        filtered_tokens.append(tokens)\n",
    "    return filtered_tokens"
   ]
  },
  {
   "cell_type": "markdown",
   "metadata": {},
   "source": [
    "#### Try on the sample set "
   ]
  },
  {
   "cell_type": "code",
   "execution_count": 60,
   "metadata": {
    "ExecuteTime": {
     "end_time": "2019-12-06T19:44:39.789293Z",
     "start_time": "2019-12-06T19:44:28.022198Z"
    }
   },
   "outputs": [
    {
     "data": {
      "application/vnd.jupyter.widget-view+json": {
       "model_id": "118e64b1047b43c493c81b28497a74b4",
       "version_major": 2,
       "version_minor": 0
      },
      "text/plain": [
       "HBox(children=(FloatProgress(value=1.0, bar_style='info', max=1.0), HTML(value='')))"
      ]
     },
     "metadata": {},
     "output_type": "display_data"
    },
    {
     "name": "stdout",
     "output_type": "stream",
     "text": [
      "\n"
     ]
    }
   ],
   "source": [
    "df_sample['text_lemma'] = clean_text(df_sample['comments'])\n",
    "df_sample['text_lemma'] = df_sample['text_lemma'].apply(lambda x: ' '.join(x))"
   ]
  },
  {
   "cell_type": "code",
   "execution_count": 27,
   "metadata": {
    "ExecuteTime": {
     "end_time": "2019-12-06T18:45:08.018255Z",
     "start_time": "2019-12-06T18:45:07.986457Z"
    },
    "scrolled": true
   },
   "outputs": [
    {
     "data": {
      "text/html": [
       "<div>\n",
       "<style scoped>\n",
       "    .dataframe tbody tr th:only-of-type {\n",
       "        vertical-align: middle;\n",
       "    }\n",
       "\n",
       "    .dataframe tbody tr th {\n",
       "        vertical-align: top;\n",
       "    }\n",
       "\n",
       "    .dataframe thead th {\n",
       "        text-align: right;\n",
       "    }\n",
       "</style>\n",
       "<table border=\"1\" class=\"dataframe\">\n",
       "  <thead>\n",
       "    <tr style=\"text-align: right;\">\n",
       "      <th></th>\n",
       "      <th>MBTI</th>\n",
       "      <th>comments</th>\n",
       "      <th>text_lemma</th>\n",
       "    </tr>\n",
       "  </thead>\n",
       "  <tbody>\n",
       "    <tr>\n",
       "      <td>787840</td>\n",
       "      <td>ISTP</td>\n",
       "      <td>It's not quite that simple. The \"test taking\" environment is completely different to day-to-day stuff. Dead silence, no referencing/quick checks which I do constantly (to reaffirm my knowledge), the stress of trying to get a good grade, being tested on the spot, having a time limit, etc. It impairs (at least my) ability to remember things.  But just get me out of the blue when I'm completely relaxed and there's no stress or anything? Sure, I could easily tell you.  Also, the questions on exams are usually different than how you'd usually use the knowledge as well as different from how you learned it.  Also, some people are just shit at thoroughly making sure that the knowledge is down on paper. Sometimes you forget to mention something that the other person would simply just follow up on and ask about, which you'd then respond. On a test, that doesn't happen, you just get points knocked off.</td>\n",
       "      <td>be not quite that simple the test take environment be completely different to day to day stuff dead silence no referencing quick check which do constantly to reaffirm knowledge the stress of try to get good grade be test on the spot have time limit etc impair at least ability to remember thing but just get out of the blue when be completely relaxed and there be no stress or anything sure could easily tell also the question on exam be usually different than how would usually use the knowledge as well as different from how learn also some people be just shit at thoroughly make sure that the knowledge be down on paper sometimes forget to mention something that the other person would simply just follow up on and ask about which would then respond on test that do not happen just get point knock off</td>\n",
       "    </tr>\n",
       "    <tr>\n",
       "      <td>46144</td>\n",
       "      <td>ISTJ</td>\n",
       "      <td>For those who haven't been in touch with the game for long or very closely (including the creator of this video I assume), in the past we have had multiple news agencies blow up at Arma 3 for being an \"ISIS training simulator\" because of a mod that added ISIS units. Don't let this happen again. Please remove this for the sake of the game.</td>\n",
       "      <td>for those who have not be in touch with the game for long or very closely include the creator of this video assume in the past have have multiple news agency blow up at arma for be an isis training simulator because of mod that add isis unit do not let this happen again please remove this for the sake of the game</td>\n",
       "    </tr>\n",
       "    <tr>\n",
       "      <td>321942</td>\n",
       "      <td>ENTP</td>\n",
       "      <td>The fat toothless kid from *Stranger Things*.    He seems to be the only one of the kids who has a grasp of the bigger picture.  He starts off as more  of a sidekick until the other two kids start to lose it, then he steps from out of the shadows, smacks them around until they see sense, and gets everything back on track.</td>\n",
       "      <td>the fat toothless kid from stranger things    seem to be the only one of the kid who have grasp of the big picture start off as more of sidekick until the other two kid start to lose then step from out of the shadow smack around until see sense and get everything back on track</td>\n",
       "    </tr>\n",
       "    <tr>\n",
       "      <td>123281</td>\n",
       "      <td>ENFP</td>\n",
       "      <td>I wasn't allowed to wear nail polish, get natural-colored highlights, wear makeup (even to cover a zit), or have any piercing besides one normal-sized love at my school.</td>\n",
       "      <td>be not allow to wear nail polish get natural color highlight wear makeup even to cover zit or have any piercing besides one normal sized love at school</td>\n",
       "    </tr>\n",
       "    <tr>\n",
       "      <td>263516</td>\n",
       "      <td>ISFJ</td>\n",
       "      <td>She's been off the grid for what...like a month? Two months? No one in the fandom knows where she is or what she's doing right now. It doesn't surprise me that she didn't go and I'm not sure why everyone is so upset about it. I feel like if she did go, it would have been all over the news (because the media is obsessed with her), then people would be saying \"Ugh, why is Taylor Swift making the women's march all about her?\" Girl can't win.  Not to mention the fact that she has all kinds of psychos who stalk her and doesn't go anywhere without security...all that plus the paparazzi would have created a huge spectacle and detracted from the importance of the march.  Beyonce uses feminism to promote her brand way more than Taylor does, and no one's salty about her not going. I'll never understand why people have such a stick up their ass about Taylor.</td>\n",
       "      <td>be be off the grid for what   like month two month no one in the fandom know where be or what be do right now do not surprise that do not go and be not sure why everyone be so upset about feel like if did go would have be all over the news because the medium be obsess with then people would be say ugh why be taylor swift make the woman  s march all about girl can not win not to mention the fact that have all kind of psychos who stalk and do not go anywhere without security   all that plus the paparazzi would have create huge spectacle and detract from the importance of the march beyonce use feminism to promote brand way more than taylor do and no one  s salty about not go will never understand why people have such stick up ass about taylor</td>\n",
       "    </tr>\n",
       "    <tr>\n",
       "      <td>...</td>\n",
       "      <td>...</td>\n",
       "      <td>...</td>\n",
       "      <td>...</td>\n",
       "    </tr>\n",
       "    <tr>\n",
       "      <td>689063</td>\n",
       "      <td>ISTP</td>\n",
       "      <td>This isn't about respect this is about ending suffering, hatred has never in all of human history conquered hate and until we decide to tackle the problems at their roots instead of dehumanizing people hate will never end.</td>\n",
       "      <td>this be not about respect this be about end suffering hatred have never in all of human history conquer hate and until decide to tackle the problem at root instead of dehumanize people hate will never end</td>\n",
       "    </tr>\n",
       "    <tr>\n",
       "      <td>288663</td>\n",
       "      <td>ENTP</td>\n",
       "      <td>I can help you out personally :) I know a lot about python and have even made a bot in python (/u/dogetipchecker). PM me if you are interested, and I can recommend some books and also answer specific questions about python. I can give you my skype number, and we can chat with skype too if you are OK with that.</td>\n",
       "      <td>can help out personally   know lot about python and have even make bot in python dogetipchecker if be interested and can recommend some book and also answer specific question about python can give skype number and can chat with skype too if be with that</td>\n",
       "    </tr>\n",
       "    <tr>\n",
       "      <td>996000</td>\n",
       "      <td>INFP</td>\n",
       "      <td>TIL that the fires of Hell are blue! O_O</td>\n",
       "      <td>til that the fire of hell be blue o o</td>\n",
       "    </tr>\n",
       "    <tr>\n",
       "      <td>20057</td>\n",
       "      <td>ISTP</td>\n",
       "      <td>Doesn't spoofing require kernel? Hype?</td>\n",
       "      <td>do not spoof require kernel hype</td>\n",
       "    </tr>\n",
       "    <tr>\n",
       "      <td>1127354</td>\n",
       "      <td>INFP</td>\n",
       "      <td>&amp;gt;Trust me on the sunscreen.    Not the sunscreen song?</td>\n",
       "      <td>gt trust on the sunscreen   not the sunscreen song</td>\n",
       "    </tr>\n",
       "  </tbody>\n",
       "</table>\n",
       "<p>1000 rows × 3 columns</p>\n",
       "</div>"
      ],
      "text/plain": [
       "         MBTI  \\\n",
       "787840   ISTP   \n",
       "46144    ISTJ   \n",
       "321942   ENTP   \n",
       "123281   ENFP   \n",
       "263516   ISFJ   \n",
       "...       ...   \n",
       "689063   ISTP   \n",
       "288663   ENTP   \n",
       "996000   INFP   \n",
       "20057    ISTP   \n",
       "1127354  INFP   \n",
       "\n",
       "                                                                                                                                                                                                                                                                                                                                                                                                                                                                                                                                                                                                                                                                                                                                                                                                                                                                                                                                         comments  \\\n",
       "787840   It's not quite that simple. The \"test taking\" environment is completely different to day-to-day stuff. Dead silence, no referencing/quick checks which I do constantly (to reaffirm my knowledge), the stress of trying to get a good grade, being tested on the spot, having a time limit, etc. It impairs (at least my) ability to remember things.  But just get me out of the blue when I'm completely relaxed and there's no stress or anything? Sure, I could easily tell you.  Also, the questions on exams are usually different than how you'd usually use the knowledge as well as different from how you learned it.  Also, some people are just shit at thoroughly making sure that the knowledge is down on paper. Sometimes you forget to mention something that the other person would simply just follow up on and ask about, which you'd then respond. On a test, that doesn't happen, you just get points knocked off.   \n",
       "46144    For those who haven't been in touch with the game for long or very closely (including the creator of this video I assume), in the past we have had multiple news agencies blow up at Arma 3 for being an \"ISIS training simulator\" because of a mod that added ISIS units. Don't let this happen again. Please remove this for the sake of the game.                                                                                                                                                                                                                                                                                                                                                                                                                                                                                                                                                                                       \n",
       "321942   The fat toothless kid from *Stranger Things*.    He seems to be the only one of the kids who has a grasp of the bigger picture.  He starts off as more  of a sidekick until the other two kids start to lose it, then he steps from out of the shadows, smacks them around until they see sense, and gets everything back on track.                                                                                                                                                                                                                                                                                                                                                                                                                                                                                                                                                                                                        \n",
       "123281   I wasn't allowed to wear nail polish, get natural-colored highlights, wear makeup (even to cover a zit), or have any piercing besides one normal-sized love at my school.                                                                                                                                                                                                                                                                                                                                                                                                                                                                                                                                                                                                                                                                                                                                                                  \n",
       "263516   She's been off the grid for what...like a month? Two months? No one in the fandom knows where she is or what she's doing right now. It doesn't surprise me that she didn't go and I'm not sure why everyone is so upset about it. I feel like if she did go, it would have been all over the news (because the media is obsessed with her), then people would be saying \"Ugh, why is Taylor Swift making the women's march all about her?\" Girl can't win.  Not to mention the fact that she has all kinds of psychos who stalk her and doesn't go anywhere without security...all that plus the paparazzi would have created a huge spectacle and detracted from the importance of the march.  Beyonce uses feminism to promote her brand way more than Taylor does, and no one's salty about her not going. I'll never understand why people have such a stick up their ass about Taylor.                                                \n",
       "...                                                                                                                                                                                                                                                                                                                                                                                                                                                                                                                                                                                                                                                                                                                                                                                                                                                                                                  ...                                            \n",
       "689063   This isn't about respect this is about ending suffering, hatred has never in all of human history conquered hate and until we decide to tackle the problems at their roots instead of dehumanizing people hate will never end.                                                                                                                                                                                                                                                                                                                                                                                                                                                                                                                                                                                                                                                                                                             \n",
       "288663   I can help you out personally :) I know a lot about python and have even made a bot in python (/u/dogetipchecker). PM me if you are interested, and I can recommend some books and also answer specific questions about python. I can give you my skype number, and we can chat with skype too if you are OK with that.                                                                                                                                                                                                                                                                                                                                                                                                                                                                                                                                                                                                                    \n",
       "996000   TIL that the fires of Hell are blue! O_O                                                                                                                                                                                                                                                                                                                                                                                                                                                                                                                                                                                                                                                                                                                                                                                                                                                                                                   \n",
       "20057    Doesn't spoofing require kernel? Hype?                                                                                                                                                                                                                                                                                                                                                                                                                                                                                                                                                                                                                                                                                                                                                                                                                                                                                                     \n",
       "1127354  &gt;Trust me on the sunscreen.    Not the sunscreen song?                                                                                                                                                                                                                                                                                                                                                                                                                                                                                                                                                                                                                                                                                                                                                                                                                                                                                  \n",
       "\n",
       "                                                                                                                                                                                                                                                                                                                                                                                                                                                                                                                                                                                                                                                                                                                                                                                                                                   text_lemma  \n",
       "787840   be not quite that simple the test take environment be completely different to day to day stuff dead silence no referencing quick check which do constantly to reaffirm knowledge the stress of try to get good grade be test on the spot have time limit etc impair at least ability to remember thing but just get out of the blue when be completely relaxed and there be no stress or anything sure could easily tell also the question on exam be usually different than how would usually use the knowledge as well as different from how learn also some people be just shit at thoroughly make sure that the knowledge be down on paper sometimes forget to mention something that the other person would simply just follow up on and ask about which would then respond on test that do not happen just get point knock off  \n",
       "46144    for those who have not be in touch with the game for long or very closely include the creator of this video assume in the past have have multiple news agency blow up at arma for be an isis training simulator because of mod that add isis unit do not let this happen again please remove this for the sake of the game                                                                                                                                                                                                                                                                                                                                                                                                                                                                                                            \n",
       "321942   the fat toothless kid from stranger things    seem to be the only one of the kid who have grasp of the big picture start off as more of sidekick until the other two kid start to lose then step from out of the shadow smack around until see sense and get everything back on track                                                                                                                                                                                                                                                                                                                                                                                                                                                                                                                                                 \n",
       "123281   be not allow to wear nail polish get natural color highlight wear makeup even to cover zit or have any piercing besides one normal sized love at school                                                                                                                                                                                                                                                                                                                                                                                                                                                                                                                                                                                                                                                                               \n",
       "263516   be be off the grid for what   like month two month no one in the fandom know where be or what be do right now do not surprise that do not go and be not sure why everyone be so upset about feel like if did go would have be all over the news because the medium be obsess with then people would be say ugh why be taylor swift make the woman  s march all about girl can not win not to mention the fact that have all kind of psychos who stalk and do not go anywhere without security   all that plus the paparazzi would have create huge spectacle and detract from the importance of the march beyonce use feminism to promote brand way more than taylor do and no one  s salty about not go will never understand why people have such stick up ass about taylor                                                         \n",
       "...                                                                                                                                                                                                                                                                                                                                                                                                                                                                                                                                                                                                                                                                                                                                                                                  ...                                                       \n",
       "689063   this be not about respect this be about end suffering hatred have never in all of human history conquer hate and until decide to tackle the problem at root instead of dehumanize people hate will never end                                                                                                                                                                                                                                                                                                                                                                                                                                                                                                                                                                                                                          \n",
       "288663   can help out personally   know lot about python and have even make bot in python dogetipchecker if be interested and can recommend some book and also answer specific question about python can give skype number and can chat with skype too if be with that                                                                                                                                                                                                                                                                                                                                                                                                                                                                                                                                                                         \n",
       "996000   til that the fire of hell be blue o o                                                                                                                                                                                                                                                                                                                                                                                                                                                                                                                                                                                                                                                                                                                                                                                                 \n",
       "20057    do not spoof require kernel hype                                                                                                                                                                                                                                                                                                                                                                                                                                                                                                                                                                                                                                                                                                                                                                                                      \n",
       "1127354  gt trust on the sunscreen   not the sunscreen song                                                                                                                                                                                                                                                                                                                                                                                                                                                                                                                                                                                                                                                                                                                                                                                    \n",
       "\n",
       "[1000 rows x 3 columns]"
      ]
     },
     "execution_count": 27,
     "metadata": {},
     "output_type": "execute_result"
    }
   ],
   "source": [
    "df_sample\n",
    "#pd.set_option('display.max_colwidth', -1)"
   ]
  },
  {
   "cell_type": "markdown",
   "metadata": {},
   "source": [
    "#### Apply on the complete set"
   ]
  },
  {
   "cell_type": "code",
   "execution_count": null,
   "metadata": {},
   "outputs": [],
   "source": [
    "# apply the function to the complete set \n",
    "df_punc['comments_lemma'] = clean_text(df_punc['comments'])\n",
    "df_punc['comments_lemma'] = df_punc['comments_lemma'].apply(lambda x: ' '.join(x))"
   ]
  },
  {
   "cell_type": "code",
   "execution_count": null,
   "metadata": {},
   "outputs": [],
   "source": [
    "df_punc.to_csv('spacy_clean.csv') # cleaned data saved as checkpoint"
   ]
  },
  {
   "cell_type": "markdown",
   "metadata": {},
   "source": [
    "Above 2 commands were executed on AWS and a cleaned data file was generated in the end. "
   ]
  },
  {
   "cell_type": "markdown",
   "metadata": {},
   "source": [
    "### Explore Bag of Words "
   ]
  },
  {
   "cell_type": "code",
   "execution_count": 89,
   "metadata": {
    "ExecuteTime": {
     "end_time": "2019-12-05T20:03:03.217134Z",
     "start_time": "2019-12-05T20:02:41.483264Z"
    }
   },
   "outputs": [
    {
     "name": "stderr",
     "output_type": "stream",
     "text": [
      "/anaconda3/lib/python3.7/site-packages/numpy/lib/arraysetops.py:522: FutureWarning: elementwise comparison failed; returning scalar instead, but in the future will perform elementwise comparison\n",
      "  mask |= (ar1 == a)\n"
     ]
    }
   ],
   "source": [
    "# Load in the cleaned data into a dataframe\n",
    "df_clean = pd.read_csv('../../clean_data/spacy_clean.csv', index_col=0)"
   ]
  },
  {
   "cell_type": "code",
   "execution_count": 90,
   "metadata": {
    "ExecuteTime": {
     "end_time": "2019-12-05T20:03:03.243491Z",
     "start_time": "2019-12-05T20:03:03.222348Z"
    }
   },
   "outputs": [
    {
     "data": {
      "text/html": [
       "<div>\n",
       "<style scoped>\n",
       "    .dataframe tbody tr th:only-of-type {\n",
       "        vertical-align: middle;\n",
       "    }\n",
       "\n",
       "    .dataframe tbody tr th {\n",
       "        vertical-align: top;\n",
       "    }\n",
       "\n",
       "    .dataframe thead th {\n",
       "        text-align: right;\n",
       "    }\n",
       "</style>\n",
       "<table border=\"1\" class=\"dataframe\">\n",
       "  <thead>\n",
       "    <tr style=\"text-align: right;\">\n",
       "      <th></th>\n",
       "      <th>MBTI</th>\n",
       "      <th>comments</th>\n",
       "      <th>comments_lemma</th>\n",
       "    </tr>\n",
       "  </thead>\n",
       "  <tbody>\n",
       "    <tr>\n",
       "      <td>0</td>\n",
       "      <td>INFP</td>\n",
       "      <td>Lol that's why I left.</td>\n",
       "      <td>lol that be why leave</td>\n",
       "    </tr>\n",
       "    <tr>\n",
       "      <td>1</td>\n",
       "      <td>INTP</td>\n",
       "      <td>I was just about to post \"I try telling people...</td>\n",
       "      <td>be just about to post try tell people all the ...</td>\n",
       "    </tr>\n",
       "    <tr>\n",
       "      <td>2</td>\n",
       "      <td>INFP</td>\n",
       "      <td>My first thought was Pepsi or something. Proba...</td>\n",
       "      <td>first thought be pepsi or something probably n...</td>\n",
       "    </tr>\n",
       "    <tr>\n",
       "      <td>3</td>\n",
       "      <td>ENTP</td>\n",
       "      <td>Not if the formula is something like \"every ti...</td>\n",
       "      <td>not if the formula be something like every tim...</td>\n",
       "    </tr>\n",
       "    <tr>\n",
       "      <td>4</td>\n",
       "      <td>INTP</td>\n",
       "      <td>Does this imply I'm a five now?</td>\n",
       "      <td>do this imply be five now</td>\n",
       "    </tr>\n",
       "  </tbody>\n",
       "</table>\n",
       "</div>"
      ],
      "text/plain": [
       "   MBTI                                           comments  \\\n",
       "0  INFP                            Lol that's why I left.    \n",
       "1  INTP  I was just about to post \"I try telling people...   \n",
       "2  INFP  My first thought was Pepsi or something. Proba...   \n",
       "3  ENTP  Not if the formula is something like \"every ti...   \n",
       "4  INTP                    Does this imply I'm a five now?   \n",
       "\n",
       "                                      comments_lemma  \n",
       "0                              lol that be why leave  \n",
       "1  be just about to post try tell people all the ...  \n",
       "2  first thought be pepsi or something probably n...  \n",
       "3  not if the formula be something like every tim...  \n",
       "4                          do this imply be five now  "
      ]
     },
     "execution_count": 90,
     "metadata": {},
     "output_type": "execute_result"
    }
   ],
   "source": [
    "df_clean.head()"
   ]
  },
  {
   "cell_type": "code",
   "execution_count": 91,
   "metadata": {
    "ExecuteTime": {
     "end_time": "2019-12-05T20:03:04.143479Z",
     "start_time": "2019-12-05T20:03:03.247791Z"
    }
   },
   "outputs": [
    {
     "data": {
      "text/plain": [
       "MBTI                  0\n",
       "comments              0\n",
       "comments_lemma    23125\n",
       "dtype: int64"
      ]
     },
     "execution_count": 91,
     "metadata": {},
     "output_type": "execute_result"
    }
   ],
   "source": [
    "df_clean.isna().sum()"
   ]
  },
  {
   "cell_type": "code",
   "execution_count": 92,
   "metadata": {
    "ExecuteTime": {
     "end_time": "2019-12-05T20:03:05.426909Z",
     "start_time": "2019-12-05T20:03:04.150414Z"
    }
   },
   "outputs": [],
   "source": [
    "df_clean = df_clean.dropna()"
   ]
  },
  {
   "cell_type": "code",
   "execution_count": 93,
   "metadata": {
    "ExecuteTime": {
     "end_time": "2019-12-05T20:07:33.957772Z",
     "start_time": "2019-12-05T20:07:16.918016Z"
    }
   },
   "outputs": [],
   "source": [
    "# remove the digits and replace with white space \n",
    "pattern = '[0-9]'\n",
    "\n",
    "df_clean['comments_lemma'] = df_clean['comments_lemma'].apply(lambda x: re.sub(pattern,' ', x))\n",
    "\n",
    "# remove underscore \n",
    "df_clean['comments_lemma'] = df_clean['comments_lemma'].apply(lambda x: x.replace('_',' '))"
   ]
  },
  {
   "cell_type": "code",
   "execution_count": 94,
   "metadata": {
    "ExecuteTime": {
     "end_time": "2019-12-05T20:12:11.754652Z",
     "start_time": "2019-12-05T20:12:03.902002Z"
    }
   },
   "outputs": [],
   "source": [
    "# split the data \n",
    "X = df_clean['comments_lemma']\n",
    "y = df_clean['MBTI']\n",
    "\n",
    "X_train, X_test, y_train, y_test = train_test_split(X, y, test_size=0.3, random_state = 42, stratify=y)"
   ]
  },
  {
   "cell_type": "code",
   "execution_count": 95,
   "metadata": {
    "ExecuteTime": {
     "end_time": "2019-12-05T20:15:56.679543Z",
     "start_time": "2019-12-05T20:12:16.094603Z"
    }
   },
   "outputs": [],
   "source": [
    "\n",
    "bagofwords = CountVectorizer(min_df=50, stop_words='english')\n",
    "bagofwords.fit(X_train)\n",
    "X_train_dtm = bagofwords.transform(X_train)\n",
    "X_test_dtm = bagofwords.transform(X_test)"
   ]
  },
  {
   "cell_type": "code",
   "execution_count": 96,
   "metadata": {
    "ExecuteTime": {
     "end_time": "2019-12-05T20:15:56.695425Z",
     "start_time": "2019-12-05T20:15:56.682355Z"
    }
   },
   "outputs": [
    {
     "data": {
      "text/plain": [
       "(2084359, 23766)"
      ]
     },
     "execution_count": 96,
     "metadata": {},
     "output_type": "execute_result"
    }
   ],
   "source": [
    "X_train_dtm.shape"
   ]
  },
  {
   "cell_type": "code",
   "execution_count": 97,
   "metadata": {
    "ExecuteTime": {
     "end_time": "2019-12-05T20:15:56.732754Z",
     "start_time": "2019-12-05T20:15:56.698935Z"
    }
   },
   "outputs": [
    {
     "data": {
      "text/plain": [
       "['aa',\n",
       " 'aaa',\n",
       " 'aaaaaand',\n",
       " 'aaaaand',\n",
       " 'aaaand',\n",
       " 'aaah',\n",
       " 'aaand',\n",
       " 'aac',\n",
       " 'aah',\n",
       " 'aan',\n",
       " 'aang',\n",
       " 'aaron',\n",
       " 'aaryn',\n",
       " 'aas',\n",
       " 'ab',\n",
       " 'aback',\n",
       " 'abandon',\n",
       " 'abandonment',\n",
       " 'abbey',\n",
       " 'abbott',\n",
       " 'abbreviate',\n",
       " 'abbreviation',\n",
       " 'abby',\n",
       " 'abc',\n",
       " 'abdoman',\n",
       " 'abdominal',\n",
       " 'abduct',\n",
       " 'abduction',\n",
       " 'abe',\n",
       " 'abed',\n",
       " 'abel',\n",
       " 'aber',\n",
       " 'aberration',\n",
       " 'abh',\n",
       " 'abhor',\n",
       " 'abhorrent',\n",
       " 'abide',\n",
       " 'abilify',\n",
       " 'ability',\n",
       " 'abit',\n",
       " 'abject',\n",
       " 'able',\n",
       " 'ableist',\n",
       " 'ableton',\n",
       " 'abnormal',\n",
       " 'abnormality',\n",
       " 'abnormally',\n",
       " 'aboard',\n",
       " 'abolish',\n",
       " 'abolition']"
      ]
     },
     "execution_count": 97,
     "metadata": {},
     "output_type": "execute_result"
    }
   ],
   "source": [
    "bagofwords.get_feature_names()[0:50]"
   ]
  },
  {
   "cell_type": "markdown",
   "metadata": {},
   "source": [
    "## Models & Grid Search \n"
   ]
  },
  {
   "cell_type": "markdown",
   "metadata": {},
   "source": [
    "### Simple Models "
   ]
  },
  {
   "cell_type": "markdown",
   "metadata": {},
   "source": [
    "#### Logistic Regression"
   ]
  },
  {
   "cell_type": "code",
   "execution_count": 11,
   "metadata": {
    "ExecuteTime": {
     "end_time": "2019-12-03T05:32:28.993420Z",
     "start_time": "2019-12-03T05:17:16.482354Z"
    }
   },
   "outputs": [
    {
     "name": "stderr",
     "output_type": "stream",
     "text": [
      "/home/ec2-user/anaconda3/envs/python3/lib/python3.6/site-packages/sklearn/linear_model/logistic.py:460: FutureWarning: Default multi_class will be changed to 'auto' in 0.22. Specify the multi_class option to silence this warning.\n",
      "  \"this warning.\", FutureWarning)\n"
     ]
    },
    {
     "data": {
      "text/plain": [
       "Pipeline(memory=None,\n",
       "     steps=[('vect', CountVectorizer(analyzer='word', binary=False, decode_error='strict',\n",
       "        dtype=<class 'numpy.int64'>, encoding='utf-8', input='content',\n",
       "        lowercase=True, max_df=1.0, max_features=None, min_df=1,\n",
       "        ngram_range=(1, 1), preprocessor=None, stop_words=None,\n",
       "        strip...penalty='l2', random_state=None, solver='saga',\n",
       "          tol=0.0001, verbose=0, warm_start=False))])"
      ]
     },
     "execution_count": 11,
     "metadata": {},
     "output_type": "execute_result"
    }
   ],
   "source": [
    "my_logit = Pipeline([\n",
    "    ('vect', CountVectorizer()),\n",
    "    ('tfidf', TfidfTransformer()),\n",
    "    ('classifier', LogisticRegression(solver='saga'))\n",
    "])\n",
    "my_logit.fit(X_train, y_train)"
   ]
  },
  {
   "cell_type": "code",
   "execution_count": 12,
   "metadata": {
    "ExecuteTime": {
     "end_time": "2019-12-03T05:32:29.021918Z",
     "start_time": "2019-12-03T05:18:09.666Z"
    }
   },
   "outputs": [
    {
     "name": "stdout",
     "output_type": "stream",
     "text": [
      "accuracy 0.21202443081703978\n",
      "              precision    recall  f1-score   support\n",
      "\n",
      "        INFP       0.29      0.19      0.23     54111\n",
      "        INFJ       0.24      0.13      0.16     61347\n",
      "        INTP       0.19      0.22      0.21     76910\n",
      "        INTJ       0.22      0.15      0.17     67002\n",
      "        ENTP       0.32      0.16      0.21     18045\n",
      "        ENFP       0.39      0.14      0.20     20097\n",
      "        ISTP       0.40      0.24      0.30     28820\n",
      "        ISFP       0.31      0.23      0.26     47966\n",
      "        ENTJ       0.18      0.23      0.20     80672\n",
      "        ISTJ       0.15      0.30      0.20     93057\n",
      "        ENFJ       0.26      0.10      0.15     53023\n",
      "        ISFJ       0.16      0.29      0.20     89188\n",
      "        ESTP       0.30      0.15      0.20     47095\n",
      "        ESFP       0.38      0.21      0.27     42376\n",
      "        ESFJ       0.29      0.14      0.19     46437\n",
      "        ESTJ       0.26      0.32      0.29     67152\n",
      "\n",
      "   micro avg       0.21      0.21      0.21    893298\n",
      "   macro avg       0.27      0.20      0.22    893298\n",
      "weighted avg       0.24      0.21      0.21    893298\n",
      "\n"
     ]
    }
   ],
   "source": [
    "y_pred = my_logit.predict(X_test)\n",
    "\n",
    "print('accuracy %s' % my_logit.score(y_pred, y_test))\n",
    "print(classification_report(y_test, y_pred,target_names=mbti))"
   ]
  },
  {
   "cell_type": "markdown",
   "metadata": {},
   "source": [
    "Results are much better than before when we had the messier data. "
   ]
  },
  {
   "cell_type": "markdown",
   "metadata": {},
   "source": [
    "#### Logistic Regression - n-gram\n",
    "\n",
    "Trying to use n-gram but my computer could not handle this, I will be use n-grams later directly in TFIDFVecotrizer."
   ]
  },
  {
   "cell_type": "code",
   "execution_count": 34,
   "metadata": {
    "ExecuteTime": {
     "end_time": "2019-12-03T05:32:28.993420Z",
     "start_time": "2019-12-03T05:17:16.482354Z"
    }
   },
   "outputs": [
    {
     "ename": "MemoryError",
     "evalue": "",
     "output_type": "error",
     "traceback": [
      "\u001b[0;31m---------------------------------------------------------------------------\u001b[0m",
      "\u001b[0;31mMemoryError\u001b[0m                               Traceback (most recent call last)",
      "\u001b[0;32m<ipython-input-34-194f3c55c957>\u001b[0m in \u001b[0;36m<module>\u001b[0;34m()\u001b[0m\n\u001b[1;32m      4\u001b[0m     \u001b[0;34m(\u001b[0m\u001b[0;34m'classifier'\u001b[0m\u001b[0;34m,\u001b[0m \u001b[0mLogisticRegression\u001b[0m\u001b[0;34m(\u001b[0m\u001b[0msolver\u001b[0m\u001b[0;34m=\u001b[0m\u001b[0;34m'saga'\u001b[0m\u001b[0;34m)\u001b[0m\u001b[0;34m)\u001b[0m\u001b[0;34m\u001b[0m\u001b[0m\n\u001b[1;32m      5\u001b[0m ])\n\u001b[0;32m----> 6\u001b[0;31m \u001b[0mmy_logit\u001b[0m\u001b[0;34m.\u001b[0m\u001b[0mfit\u001b[0m\u001b[0;34m(\u001b[0m\u001b[0mX_train\u001b[0m\u001b[0;34m,\u001b[0m \u001b[0my_train\u001b[0m\u001b[0;34m)\u001b[0m\u001b[0;34m\u001b[0m\u001b[0m\n\u001b[0m",
      "\u001b[0;32m~/anaconda3/envs/python3/lib/python3.6/site-packages/sklearn/pipeline.py\u001b[0m in \u001b[0;36mfit\u001b[0;34m(self, X, y, **fit_params)\u001b[0m\n\u001b[1;32m    263\u001b[0m             \u001b[0mThis\u001b[0m \u001b[0mestimator\u001b[0m\u001b[0;34m\u001b[0m\u001b[0m\n\u001b[1;32m    264\u001b[0m         \"\"\"\n\u001b[0;32m--> 265\u001b[0;31m         \u001b[0mXt\u001b[0m\u001b[0;34m,\u001b[0m \u001b[0mfit_params\u001b[0m \u001b[0;34m=\u001b[0m \u001b[0mself\u001b[0m\u001b[0;34m.\u001b[0m\u001b[0m_fit\u001b[0m\u001b[0;34m(\u001b[0m\u001b[0mX\u001b[0m\u001b[0;34m,\u001b[0m \u001b[0my\u001b[0m\u001b[0;34m,\u001b[0m \u001b[0;34m**\u001b[0m\u001b[0mfit_params\u001b[0m\u001b[0;34m)\u001b[0m\u001b[0;34m\u001b[0m\u001b[0m\n\u001b[0m\u001b[1;32m    266\u001b[0m         \u001b[0;32mif\u001b[0m \u001b[0mself\u001b[0m\u001b[0;34m.\u001b[0m\u001b[0m_final_estimator\u001b[0m \u001b[0;32mis\u001b[0m \u001b[0;32mnot\u001b[0m \u001b[0;32mNone\u001b[0m\u001b[0;34m:\u001b[0m\u001b[0;34m\u001b[0m\u001b[0m\n\u001b[1;32m    267\u001b[0m             \u001b[0mself\u001b[0m\u001b[0;34m.\u001b[0m\u001b[0m_final_estimator\u001b[0m\u001b[0;34m.\u001b[0m\u001b[0mfit\u001b[0m\u001b[0;34m(\u001b[0m\u001b[0mXt\u001b[0m\u001b[0;34m,\u001b[0m \u001b[0my\u001b[0m\u001b[0;34m,\u001b[0m \u001b[0;34m**\u001b[0m\u001b[0mfit_params\u001b[0m\u001b[0;34m)\u001b[0m\u001b[0;34m\u001b[0m\u001b[0m\n",
      "\u001b[0;32m~/anaconda3/envs/python3/lib/python3.6/site-packages/sklearn/pipeline.py\u001b[0m in \u001b[0;36m_fit\u001b[0;34m(self, X, y, **fit_params)\u001b[0m\n\u001b[1;32m    228\u001b[0m                 Xt, fitted_transformer = fit_transform_one_cached(\n\u001b[1;32m    229\u001b[0m                     \u001b[0mcloned_transformer\u001b[0m\u001b[0;34m,\u001b[0m \u001b[0mXt\u001b[0m\u001b[0;34m,\u001b[0m \u001b[0my\u001b[0m\u001b[0;34m,\u001b[0m \u001b[0;32mNone\u001b[0m\u001b[0;34m,\u001b[0m\u001b[0;34m\u001b[0m\u001b[0m\n\u001b[0;32m--> 230\u001b[0;31m                     **fit_params_steps[name])\n\u001b[0m\u001b[1;32m    231\u001b[0m                 \u001b[0;31m# Replace the transformer of the step with the fitted\u001b[0m\u001b[0;34m\u001b[0m\u001b[0;34m\u001b[0m\u001b[0m\n\u001b[1;32m    232\u001b[0m                 \u001b[0;31m# transformer. This is necessary when loading the transformer\u001b[0m\u001b[0;34m\u001b[0m\u001b[0;34m\u001b[0m\u001b[0m\n",
      "\u001b[0;32m~/anaconda3/envs/python3/lib/python3.6/site-packages/sklearn/externals/joblib/memory.py\u001b[0m in \u001b[0;36m__call__\u001b[0;34m(self, *args, **kwargs)\u001b[0m\n\u001b[1;32m    340\u001b[0m \u001b[0;34m\u001b[0m\u001b[0m\n\u001b[1;32m    341\u001b[0m     \u001b[0;32mdef\u001b[0m \u001b[0m__call__\u001b[0m\u001b[0;34m(\u001b[0m\u001b[0mself\u001b[0m\u001b[0;34m,\u001b[0m \u001b[0;34m*\u001b[0m\u001b[0margs\u001b[0m\u001b[0;34m,\u001b[0m \u001b[0;34m**\u001b[0m\u001b[0mkwargs\u001b[0m\u001b[0;34m)\u001b[0m\u001b[0;34m:\u001b[0m\u001b[0;34m\u001b[0m\u001b[0m\n\u001b[0;32m--> 342\u001b[0;31m         \u001b[0;32mreturn\u001b[0m \u001b[0mself\u001b[0m\u001b[0;34m.\u001b[0m\u001b[0mfunc\u001b[0m\u001b[0;34m(\u001b[0m\u001b[0;34m*\u001b[0m\u001b[0margs\u001b[0m\u001b[0;34m,\u001b[0m \u001b[0;34m**\u001b[0m\u001b[0mkwargs\u001b[0m\u001b[0;34m)\u001b[0m\u001b[0;34m\u001b[0m\u001b[0m\n\u001b[0m\u001b[1;32m    343\u001b[0m \u001b[0;34m\u001b[0m\u001b[0m\n\u001b[1;32m    344\u001b[0m     \u001b[0;32mdef\u001b[0m \u001b[0mcall_and_shelve\u001b[0m\u001b[0;34m(\u001b[0m\u001b[0mself\u001b[0m\u001b[0;34m,\u001b[0m \u001b[0;34m*\u001b[0m\u001b[0margs\u001b[0m\u001b[0;34m,\u001b[0m \u001b[0;34m**\u001b[0m\u001b[0mkwargs\u001b[0m\u001b[0;34m)\u001b[0m\u001b[0;34m:\u001b[0m\u001b[0;34m\u001b[0m\u001b[0m\n",
      "\u001b[0;32m~/anaconda3/envs/python3/lib/python3.6/site-packages/sklearn/pipeline.py\u001b[0m in \u001b[0;36m_fit_transform_one\u001b[0;34m(transformer, X, y, weight, **fit_params)\u001b[0m\n\u001b[1;32m    612\u001b[0m \u001b[0;32mdef\u001b[0m \u001b[0m_fit_transform_one\u001b[0m\u001b[0;34m(\u001b[0m\u001b[0mtransformer\u001b[0m\u001b[0;34m,\u001b[0m \u001b[0mX\u001b[0m\u001b[0;34m,\u001b[0m \u001b[0my\u001b[0m\u001b[0;34m,\u001b[0m \u001b[0mweight\u001b[0m\u001b[0;34m,\u001b[0m \u001b[0;34m**\u001b[0m\u001b[0mfit_params\u001b[0m\u001b[0;34m)\u001b[0m\u001b[0;34m:\u001b[0m\u001b[0;34m\u001b[0m\u001b[0m\n\u001b[1;32m    613\u001b[0m     \u001b[0;32mif\u001b[0m \u001b[0mhasattr\u001b[0m\u001b[0;34m(\u001b[0m\u001b[0mtransformer\u001b[0m\u001b[0;34m,\u001b[0m \u001b[0;34m'fit_transform'\u001b[0m\u001b[0;34m)\u001b[0m\u001b[0;34m:\u001b[0m\u001b[0;34m\u001b[0m\u001b[0m\n\u001b[0;32m--> 614\u001b[0;31m         \u001b[0mres\u001b[0m \u001b[0;34m=\u001b[0m \u001b[0mtransformer\u001b[0m\u001b[0;34m.\u001b[0m\u001b[0mfit_transform\u001b[0m\u001b[0;34m(\u001b[0m\u001b[0mX\u001b[0m\u001b[0;34m,\u001b[0m \u001b[0my\u001b[0m\u001b[0;34m,\u001b[0m \u001b[0;34m**\u001b[0m\u001b[0mfit_params\u001b[0m\u001b[0;34m)\u001b[0m\u001b[0;34m\u001b[0m\u001b[0m\n\u001b[0m\u001b[1;32m    615\u001b[0m     \u001b[0;32melse\u001b[0m\u001b[0;34m:\u001b[0m\u001b[0;34m\u001b[0m\u001b[0m\n\u001b[1;32m    616\u001b[0m         \u001b[0mres\u001b[0m \u001b[0;34m=\u001b[0m \u001b[0mtransformer\u001b[0m\u001b[0;34m.\u001b[0m\u001b[0mfit\u001b[0m\u001b[0;34m(\u001b[0m\u001b[0mX\u001b[0m\u001b[0;34m,\u001b[0m \u001b[0my\u001b[0m\u001b[0;34m,\u001b[0m \u001b[0;34m**\u001b[0m\u001b[0mfit_params\u001b[0m\u001b[0;34m)\u001b[0m\u001b[0;34m.\u001b[0m\u001b[0mtransform\u001b[0m\u001b[0;34m(\u001b[0m\u001b[0mX\u001b[0m\u001b[0;34m)\u001b[0m\u001b[0;34m\u001b[0m\u001b[0m\n",
      "\u001b[0;32m~/anaconda3/envs/python3/lib/python3.6/site-packages/sklearn/feature_extraction/text.py\u001b[0m in \u001b[0;36mfit_transform\u001b[0;34m(self, raw_documents, y)\u001b[0m\n\u001b[1;32m   1029\u001b[0m \u001b[0;34m\u001b[0m\u001b[0m\n\u001b[1;32m   1030\u001b[0m         vocabulary, X = self._count_vocab(raw_documents,\n\u001b[0;32m-> 1031\u001b[0;31m                                           self.fixed_vocabulary_)\n\u001b[0m\u001b[1;32m   1032\u001b[0m \u001b[0;34m\u001b[0m\u001b[0m\n\u001b[1;32m   1033\u001b[0m         \u001b[0;32mif\u001b[0m \u001b[0mself\u001b[0m\u001b[0;34m.\u001b[0m\u001b[0mbinary\u001b[0m\u001b[0;34m:\u001b[0m\u001b[0;34m\u001b[0m\u001b[0m\n",
      "\u001b[0;32m~/anaconda3/envs/python3/lib/python3.6/site-packages/sklearn/feature_extraction/text.py\u001b[0m in \u001b[0;36m_count_vocab\u001b[0;34m(self, raw_documents, fixed_vocab)\u001b[0m\n\u001b[1;32m    958\u001b[0m         \u001b[0;32mif\u001b[0m \u001b[0;32mnot\u001b[0m \u001b[0mfixed_vocab\u001b[0m\u001b[0;34m:\u001b[0m\u001b[0;34m\u001b[0m\u001b[0m\n\u001b[1;32m    959\u001b[0m             \u001b[0;31m# disable defaultdict behaviour\u001b[0m\u001b[0;34m\u001b[0m\u001b[0;34m\u001b[0m\u001b[0m\n\u001b[0;32m--> 960\u001b[0;31m             \u001b[0mvocabulary\u001b[0m \u001b[0;34m=\u001b[0m \u001b[0mdict\u001b[0m\u001b[0;34m(\u001b[0m\u001b[0mvocabulary\u001b[0m\u001b[0;34m)\u001b[0m\u001b[0;34m\u001b[0m\u001b[0m\n\u001b[0m\u001b[1;32m    961\u001b[0m             \u001b[0;32mif\u001b[0m \u001b[0;32mnot\u001b[0m \u001b[0mvocabulary\u001b[0m\u001b[0;34m:\u001b[0m\u001b[0;34m\u001b[0m\u001b[0m\n\u001b[1;32m    962\u001b[0m                 raise ValueError(\"empty vocabulary; perhaps the documents only\"\n",
      "\u001b[0;31mMemoryError\u001b[0m: "
     ]
    }
   ],
   "source": [
    "my_logit = Pipeline([\n",
    "    ('vect', CountVectorizer(min_df=20, stop_words='english',ngram_range = (1,3))),\n",
    "    ('tfidf', TfidfTransformer()),\n",
    "    ('classifier', LogisticRegression(solver='saga'))\n",
    "])\n",
    "my_logit.fit(X_train, y_train)"
   ]
  },
  {
   "cell_type": "code",
   "execution_count": null,
   "metadata": {
    "ExecuteTime": {
     "end_time": "2019-12-03T05:32:29.021918Z",
     "start_time": "2019-12-03T05:18:09.666Z"
    }
   },
   "outputs": [],
   "source": [
    "y_pred = my_logit.predict(X_test)\n",
    "\n",
    "print('accuracy %s' % my_logit.score(y_pred, y_test))\n",
    "print(classification_report(y_test, y_pred,target_names=mbti))"
   ]
  },
  {
   "cell_type": "markdown",
   "metadata": {},
   "source": [
    "#### Naive Bayes "
   ]
  },
  {
   "cell_type": "code",
   "execution_count": 13,
   "metadata": {
    "ExecuteTime": {
     "end_time": "2019-12-03T05:36:28.717298Z",
     "start_time": "2019-12-03T05:34:38.108051Z"
    }
   },
   "outputs": [
    {
     "data": {
      "text/plain": [
       "Pipeline(memory=None,\n",
       "     steps=[('vect', CountVectorizer(analyzer='word', binary=False, decode_error='strict',\n",
       "        dtype=<class 'numpy.int64'>, encoding='utf-8', input='content',\n",
       "        lowercase=True, max_df=1.0, max_features=None, min_df=1,\n",
       "        ngram_range=(1, 1), preprocessor=None, stop_words=None,\n",
       "        strip...f=False, use_idf=True)), ('classifier', MultinomialNB(alpha=1.0, class_prior=None, fit_prior=True))])"
      ]
     },
     "execution_count": 13,
     "metadata": {},
     "output_type": "execute_result"
    }
   ],
   "source": [
    "# build a pipeline for vectorise, transform and clasify the data \n",
    "my_nb = Pipeline([\n",
    "    ('vect', CountVectorizer()),\n",
    "    ('tfidf', TfidfTransformer()),\n",
    "    ('classifier', MultinomialNB())\n",
    "])\n",
    "my_nb.fit(X_train, y_train)"
   ]
  },
  {
   "cell_type": "code",
   "execution_count": 14,
   "metadata": {
    "ExecuteTime": {
     "end_time": "2019-12-03T05:42:42.152448Z",
     "start_time": "2019-12-03T05:41:36.202828Z"
    }
   },
   "outputs": [
    {
     "name": "stdout",
     "output_type": "stream",
     "text": [
      "accuracy 0.1685495769608798\n",
      "              precision    recall  f1-score   support\n",
      "\n",
      "        INFP       0.57      0.06      0.11     54111\n",
      "        INFJ       0.43      0.04      0.08     61347\n",
      "        INTP       0.23      0.14      0.17     76910\n",
      "        INTJ       0.36      0.05      0.09     67002\n",
      "        ENTP       0.90      0.01      0.01     18045\n",
      "        ENFP       0.74      0.01      0.01     20097\n",
      "        ISTP       0.73      0.03      0.05     28820\n",
      "        ISFP       0.58      0.08      0.14     47966\n",
      "        ENTJ       0.17      0.22      0.19     80672\n",
      "        ISTJ       0.13      0.56      0.21     93057\n",
      "        ENFJ       0.53      0.03      0.05     53023\n",
      "        ISFJ       0.14      0.42      0.21     89188\n",
      "        ESTP       0.59      0.04      0.08     47095\n",
      "        ESFP       0.69      0.07      0.13     42376\n",
      "        ESFJ       0.59      0.03      0.06     46437\n",
      "        ESTJ       0.43      0.16      0.24     67152\n",
      "\n",
      "   micro avg       0.17      0.17      0.17    893298\n",
      "   macro avg       0.49      0.12      0.11    893298\n",
      "weighted avg       0.40      0.17      0.14    893298\n",
      "\n"
     ]
    }
   ],
   "source": [
    "y_pred = my_nb.predict(X_test)\n",
    "\n",
    "print('accuracy %s' % my_nb.score(y_pred, y_test))\n",
    "print(classification_report(y_test, y_pred,target_names=mbti))"
   ]
  },
  {
   "cell_type": "markdown",
   "metadata": {},
   "source": [
    "#### SGD Classifier "
   ]
  },
  {
   "cell_type": "code",
   "execution_count": 15,
   "metadata": {
    "ExecuteTime": {
     "end_time": "2019-12-03T05:48:25.661298Z",
     "start_time": "2019-12-03T05:45:20.142531Z"
    }
   },
   "outputs": [
    {
     "name": "stderr",
     "output_type": "stream",
     "text": [
      "/home/ec2-user/anaconda3/envs/python3/lib/python3.6/site-packages/sklearn/linear_model/stochastic_gradient.py:183: FutureWarning: max_iter and tol parameters have been added in SGDClassifier in 0.19. If max_iter is set but tol is left unset, the default value for tol in 0.19 and 0.20 will be None (which is equivalent to -infinity, so it has no effect) but will change in 0.21 to 1e-3. Specify tol to silence this warning.\n",
      "  FutureWarning)\n"
     ]
    },
    {
     "data": {
      "text/plain": [
       "Pipeline(memory=None,\n",
       "     steps=[('vect', CountVectorizer(analyzer='word', binary=False, decode_error='strict',\n",
       "        dtype=<class 'numpy.int64'>, encoding='utf-8', input='content',\n",
       "        lowercase=True, max_df=1.0, max_features=None, min_df=1,\n",
       "        ngram_range=(1, 1), preprocessor=None, stop_words=None,\n",
       "        strip...dom_state=42, shuffle=True, tol=None,\n",
       "       validation_fraction=0.1, verbose=0, warm_start=False))])"
      ]
     },
     "execution_count": 15,
     "metadata": {},
     "output_type": "execute_result"
    }
   ],
   "source": [
    "sgd = Pipeline([\n",
    "    ('vect', CountVectorizer()),\n",
    "    ('tfidf', TfidfTransformer()),\n",
    "    ('classifier', SGDClassifier(loss='hinge', penalty='l2', \\\n",
    "                                random_state=42, max_iter=5, tol=None))\n",
    "])\n",
    "\n",
    "sgd.fit(X_train, y_train)"
   ]
  },
  {
   "cell_type": "code",
   "execution_count": 16,
   "metadata": {
    "ExecuteTime": {
     "end_time": "2019-12-03T05:49:29.582925Z",
     "start_time": "2019-12-03T05:48:25.664326Z"
    }
   },
   "outputs": [
    {
     "name": "stdout",
     "output_type": "stream",
     "text": [
      "accuracy 0.1781633900445316\n",
      "              precision    recall  f1-score   support\n",
      "\n",
      "        INFP       0.18      0.22      0.20     54111\n",
      "        INFJ       0.18      0.12      0.14     61347\n",
      "        INTP       0.18      0.15      0.16     76910\n",
      "        INTJ       0.14      0.17      0.16     67002\n",
      "        ENTP       0.19      0.18      0.18     18045\n",
      "        ENFP       0.20      0.19      0.19     20097\n",
      "        ISTP       0.23      0.29      0.26     28820\n",
      "        ISFP       0.19      0.26      0.22     47966\n",
      "        ENTJ       0.15      0.16      0.16     80672\n",
      "        ISTJ       0.15      0.18      0.16     93057\n",
      "        ENFJ       0.16      0.11      0.13     53023\n",
      "        ISFJ       0.16      0.10      0.13     89188\n",
      "        ESTP       0.16      0.20      0.18     47095\n",
      "        ESFP       0.24      0.21      0.22     42376\n",
      "        ESFJ       0.20      0.14      0.16     46437\n",
      "        ESTJ       0.23      0.29      0.25     67152\n",
      "\n",
      "   micro avg       0.18      0.18      0.18    893298\n",
      "   macro avg       0.18      0.19      0.18    893298\n",
      "weighted avg       0.18      0.18      0.18    893298\n",
      "\n"
     ]
    }
   ],
   "source": [
    "y_pred = sgd.predict(X_test)\n",
    "\n",
    "print('accuracy %s' % sgd.score(y_pred, y_test))\n",
    "print(classification_report(y_test, y_pred,target_names=mbti))"
   ]
  },
  {
   "cell_type": "markdown",
   "metadata": {},
   "source": [
    "### Grid Search \n",
    "\n",
    "Following the results from the above models, I decided to use Grid Search to test more models and find best parameters.\n",
    "\n",
    "Because of the size of the data, the computation, even on a high power AWS instance, it still took a long time, therefore I decided to use a sample set to find the parameters for best models and then fit to the complete set. I understand this might not be the best practice here, I would love to improve this in the future. "
   ]
  },
  {
   "cell_type": "markdown",
   "metadata": {},
   "source": [
    "#### try on a sample set"
   ]
  },
  {
   "cell_type": "code",
   "execution_count": 28,
   "metadata": {},
   "outputs": [],
   "source": [
    "df_test = df_clean.sample(n=2000)\n",
    "X_trial = df_test['comments_lemma']\n",
    "y_trial = df_test['MBTI']"
   ]
  },
  {
   "cell_type": "code",
   "execution_count": 29,
   "metadata": {},
   "outputs": [],
   "source": [
    "X_trial_train, X_trial_test, y_trial_train, y_trial_test = train_test_split(X_trial, y_trial, test_size=0.3, stratify=y_trial, random_state=42)"
   ]
  },
  {
   "cell_type": "code",
   "execution_count": 32,
   "metadata": {
    "scrolled": true
   },
   "outputs": [
    {
     "name": "stdout",
     "output_type": "stream",
     "text": [
      "Fitting 5 folds for each of 2904 candidates, totalling 14520 fits\n"
     ]
    },
    {
     "name": "stderr",
     "output_type": "stream",
     "text": [
      "[Parallel(n_jobs=-1)]: Using backend LokyBackend with 96 concurrent workers.\n",
      "[Parallel(n_jobs=-1)]: Done   8 tasks      | elapsed:    5.5s\n",
      "[Parallel(n_jobs=-1)]: Done  29 tasks      | elapsed:    5.7s\n",
      "[Parallel(n_jobs=-1)]: Done  50 tasks      | elapsed:    5.8s\n",
      "[Parallel(n_jobs=-1)]: Done  73 tasks      | elapsed:    5.9s\n",
      "[Parallel(n_jobs=-1)]: Done  96 tasks      | elapsed:    6.5s\n",
      "[Parallel(n_jobs=-1)]: Done 121 tasks      | elapsed:    6.6s\n",
      "[Parallel(n_jobs=-1)]: Done 146 tasks      | elapsed:    6.7s\n",
      "[Parallel(n_jobs=-1)]: Done 173 tasks      | elapsed:    6.8s\n",
      "[Parallel(n_jobs=-1)]: Done 200 tasks      | elapsed:    7.0s\n",
      "[Parallel(n_jobs=-1)]: Done 229 tasks      | elapsed:    7.1s\n",
      "[Parallel(n_jobs=-1)]: Done 258 tasks      | elapsed:    7.2s\n",
      "[Parallel(n_jobs=-1)]: Done 289 tasks      | elapsed:    7.4s\n",
      "[Parallel(n_jobs=-1)]: Done 320 tasks      | elapsed:    7.6s\n",
      "[Parallel(n_jobs=-1)]: Done 353 tasks      | elapsed:    8.0s\n",
      "[Parallel(n_jobs=-1)]: Done 386 tasks      | elapsed:    8.4s\n",
      "[Parallel(n_jobs=-1)]: Done 421 tasks      | elapsed:    8.6s\n",
      "[Parallel(n_jobs=-1)]: Done 456 tasks      | elapsed:    8.7s\n",
      "[Parallel(n_jobs=-1)]: Done 493 tasks      | elapsed:    8.9s\n",
      "[Parallel(n_jobs=-1)]: Done 530 tasks      | elapsed:    9.0s\n",
      "[Parallel(n_jobs=-1)]: Done 569 tasks      | elapsed:    9.6s\n",
      "[Parallel(n_jobs=-1)]: Done 608 tasks      | elapsed:   10.0s\n",
      "[Parallel(n_jobs=-1)]: Done 649 tasks      | elapsed:   10.1s\n",
      "[Parallel(n_jobs=-1)]: Done 690 tasks      | elapsed:   10.5s\n",
      "[Parallel(n_jobs=-1)]: Done 733 tasks      | elapsed:   11.1s\n",
      "[Parallel(n_jobs=-1)]: Done 776 tasks      | elapsed:   11.4s\n",
      "[Parallel(n_jobs=-1)]: Done 821 tasks      | elapsed:   11.8s\n",
      "[Parallel(n_jobs=-1)]: Done 866 tasks      | elapsed:   12.3s\n",
      "[Parallel(n_jobs=-1)]: Done 913 tasks      | elapsed:   12.5s\n",
      "[Parallel(n_jobs=-1)]: Done 960 tasks      | elapsed:   13.0s\n",
      "[Parallel(n_jobs=-1)]: Done 1009 tasks      | elapsed:   13.8s\n",
      "[Parallel(n_jobs=-1)]: Done 1058 tasks      | elapsed:   14.2s\n",
      "[Parallel(n_jobs=-1)]: Done 1109 tasks      | elapsed:   14.8s\n",
      "[Parallel(n_jobs=-1)]: Done 1160 tasks      | elapsed:   15.0s\n",
      "[Parallel(n_jobs=-1)]: Done 1213 tasks      | elapsed:   16.0s\n",
      "[Parallel(n_jobs=-1)]: Done 1266 tasks      | elapsed:   16.6s\n",
      "[Parallel(n_jobs=-1)]: Done 1321 tasks      | elapsed:   17.1s\n",
      "[Parallel(n_jobs=-1)]: Done 1376 tasks      | elapsed:   17.4s\n",
      "[Parallel(n_jobs=-1)]: Done 1433 tasks      | elapsed:   17.8s\n",
      "[Parallel(n_jobs=-1)]: Done 1490 tasks      | elapsed:   18.9s\n",
      "[Parallel(n_jobs=-1)]: Done 1549 tasks      | elapsed:   19.4s\n",
      "[Parallel(n_jobs=-1)]: Done 1608 tasks      | elapsed:   19.9s\n",
      "[Parallel(n_jobs=-1)]: Done 1669 tasks      | elapsed:   20.2s\n",
      "[Parallel(n_jobs=-1)]: Done 1730 tasks      | elapsed:   20.7s\n",
      "[Parallel(n_jobs=-1)]: Done 1793 tasks      | elapsed:   21.0s\n",
      "[Parallel(n_jobs=-1)]: Done 1856 tasks      | elapsed:   21.2s\n",
      "[Parallel(n_jobs=-1)]: Done 1921 tasks      | elapsed:   21.6s\n",
      "[Parallel(n_jobs=-1)]: Done 1986 tasks      | elapsed:   22.1s\n",
      "[Parallel(n_jobs=-1)]: Done 2053 tasks      | elapsed:   22.5s\n",
      "[Parallel(n_jobs=-1)]: Done 2120 tasks      | elapsed:   22.9s\n",
      "[Parallel(n_jobs=-1)]: Done 2189 tasks      | elapsed:   23.2s\n",
      "[Parallel(n_jobs=-1)]: Done 2258 tasks      | elapsed:   23.4s\n",
      "[Parallel(n_jobs=-1)]: Done 2329 tasks      | elapsed:   23.9s\n",
      "[Parallel(n_jobs=-1)]: Done 2400 tasks      | elapsed:   24.2s\n",
      "[Parallel(n_jobs=-1)]: Done 2473 tasks      | elapsed:   24.8s\n",
      "[Parallel(n_jobs=-1)]: Done 2546 tasks      | elapsed:   25.3s\n",
      "[Parallel(n_jobs=-1)]: Done 2621 tasks      | elapsed:   25.7s\n",
      "[Parallel(n_jobs=-1)]: Done 2696 tasks      | elapsed:   26.0s\n",
      "[Parallel(n_jobs=-1)]: Done 2773 tasks      | elapsed:   26.7s\n",
      "[Parallel(n_jobs=-1)]: Done 2850 tasks      | elapsed:   27.1s\n",
      "[Parallel(n_jobs=-1)]: Done 2929 tasks      | elapsed:   27.8s\n",
      "[Parallel(n_jobs=-1)]: Done 3008 tasks      | elapsed:   28.4s\n",
      "[Parallel(n_jobs=-1)]: Done 3089 tasks      | elapsed:   29.0s\n",
      "[Parallel(n_jobs=-1)]: Done 3170 tasks      | elapsed:   29.4s\n",
      "[Parallel(n_jobs=-1)]: Done 3253 tasks      | elapsed:   30.0s\n",
      "[Parallel(n_jobs=-1)]: Done 3336 tasks      | elapsed:   30.7s\n",
      "[Parallel(n_jobs=-1)]: Done 3421 tasks      | elapsed:   31.5s\n",
      "[Parallel(n_jobs=-1)]: Done 3506 tasks      | elapsed:   32.5s\n",
      "[Parallel(n_jobs=-1)]: Done 3593 tasks      | elapsed:   33.1s\n",
      "[Parallel(n_jobs=-1)]: Done 3680 tasks      | elapsed:   33.5s\n",
      "[Parallel(n_jobs=-1)]: Done 3769 tasks      | elapsed:   34.3s\n",
      "[Parallel(n_jobs=-1)]: Done 3858 tasks      | elapsed:   35.2s\n",
      "[Parallel(n_jobs=-1)]: Done 3949 tasks      | elapsed:   35.8s\n",
      "[Parallel(n_jobs=-1)]: Done 4040 tasks      | elapsed:   37.2s\n",
      "[Parallel(n_jobs=-1)]: Done 4133 tasks      | elapsed:   38.1s\n",
      "[Parallel(n_jobs=-1)]: Done 4226 tasks      | elapsed:   39.6s\n",
      "[Parallel(n_jobs=-1)]: Done 4321 tasks      | elapsed:   41.8s\n",
      "[Parallel(n_jobs=-1)]: Done 4416 tasks      | elapsed:   43.3s\n",
      "[Parallel(n_jobs=-1)]: Done 4513 tasks      | elapsed:   46.6s\n",
      "[Parallel(n_jobs=-1)]: Done 4610 tasks      | elapsed:   48.4s\n",
      "[Parallel(n_jobs=-1)]: Done 4709 tasks      | elapsed:   51.4s\n",
      "[Parallel(n_jobs=-1)]: Done 4808 tasks      | elapsed:   56.3s\n",
      "[Parallel(n_jobs=-1)]: Done 4909 tasks      | elapsed:  1.0min\n",
      "[Parallel(n_jobs=-1)]: Done 5010 tasks      | elapsed:  1.1min\n",
      "[Parallel(n_jobs=-1)]: Done 5113 tasks      | elapsed:  1.2min\n",
      "[Parallel(n_jobs=-1)]: Done 5216 tasks      | elapsed:  1.2min\n",
      "[Parallel(n_jobs=-1)]: Done 5321 tasks      | elapsed:  1.4min\n",
      "[Parallel(n_jobs=-1)]: Done 5426 tasks      | elapsed:  1.6min\n",
      "[Parallel(n_jobs=-1)]: Done 5533 tasks      | elapsed:  1.7min\n",
      "[Parallel(n_jobs=-1)]: Done 5640 tasks      | elapsed:  1.7min\n",
      "[Parallel(n_jobs=-1)]: Done 5749 tasks      | elapsed:  1.9min\n",
      "[Parallel(n_jobs=-1)]: Done 5858 tasks      | elapsed:  2.1min\n",
      "[Parallel(n_jobs=-1)]: Done 5969 tasks      | elapsed:  2.3min\n",
      "[Parallel(n_jobs=-1)]: Done 6080 tasks      | elapsed:  2.4min\n",
      "[Parallel(n_jobs=-1)]: Done 6193 tasks      | elapsed:  2.5min\n",
      "[Parallel(n_jobs=-1)]: Done 6306 tasks      | elapsed:  2.7min\n",
      "[Parallel(n_jobs=-1)]: Done 6421 tasks      | elapsed:  2.9min\n",
      "[Parallel(n_jobs=-1)]: Done 6536 tasks      | elapsed:  2.9min\n",
      "[Parallel(n_jobs=-1)]: Done 6653 tasks      | elapsed:  3.0min\n",
      "[Parallel(n_jobs=-1)]: Done 6770 tasks      | elapsed:  3.0min\n",
      "[Parallel(n_jobs=-1)]: Done 6889 tasks      | elapsed:  3.1min\n",
      "[Parallel(n_jobs=-1)]: Done 7008 tasks      | elapsed:  3.1min\n",
      "[Parallel(n_jobs=-1)]: Done 7129 tasks      | elapsed:  3.2min\n",
      "[Parallel(n_jobs=-1)]: Done 7250 tasks      | elapsed:  3.3min\n",
      "[Parallel(n_jobs=-1)]: Done 7373 tasks      | elapsed:  3.4min\n",
      "[Parallel(n_jobs=-1)]: Done 7496 tasks      | elapsed:  3.4min\n",
      "[Parallel(n_jobs=-1)]: Done 7621 tasks      | elapsed:  3.5min\n",
      "[Parallel(n_jobs=-1)]: Done 7746 tasks      | elapsed:  3.6min\n",
      "[Parallel(n_jobs=-1)]: Done 7873 tasks      | elapsed:  3.8min\n",
      "[Parallel(n_jobs=-1)]: Done 8000 tasks      | elapsed:  3.8min\n",
      "[Parallel(n_jobs=-1)]: Done 8129 tasks      | elapsed:  3.9min\n",
      "[Parallel(n_jobs=-1)]: Done 8258 tasks      | elapsed:  4.1min\n",
      "[Parallel(n_jobs=-1)]: Done 8389 tasks      | elapsed:  4.2min\n",
      "[Parallel(n_jobs=-1)]: Done 8520 tasks      | elapsed:  4.3min\n",
      "[Parallel(n_jobs=-1)]: Done 8653 tasks      | elapsed:  4.5min\n",
      "[Parallel(n_jobs=-1)]: Done 8786 tasks      | elapsed:  4.6min\n",
      "[Parallel(n_jobs=-1)]: Done 8921 tasks      | elapsed:  4.7min\n",
      "[Parallel(n_jobs=-1)]: Done 9056 tasks      | elapsed:  4.7min\n",
      "[Parallel(n_jobs=-1)]: Done 9193 tasks      | elapsed:  4.7min\n",
      "[Parallel(n_jobs=-1)]: Done 9330 tasks      | elapsed:  4.8min\n",
      "[Parallel(n_jobs=-1)]: Done 9469 tasks      | elapsed:  4.8min\n",
      "[Parallel(n_jobs=-1)]: Done 9608 tasks      | elapsed:  4.9min\n",
      "[Parallel(n_jobs=-1)]: Done 9749 tasks      | elapsed:  5.0min\n",
      "[Parallel(n_jobs=-1)]: Done 9890 tasks      | elapsed:  5.1min\n",
      "[Parallel(n_jobs=-1)]: Done 10033 tasks      | elapsed:  5.2min\n",
      "[Parallel(n_jobs=-1)]: Done 10176 tasks      | elapsed:  5.3min\n",
      "[Parallel(n_jobs=-1)]: Done 10321 tasks      | elapsed:  5.4min\n",
      "[Parallel(n_jobs=-1)]: Done 10466 tasks      | elapsed:  5.5min\n",
      "[Parallel(n_jobs=-1)]: Done 10613 tasks      | elapsed:  5.6min\n",
      "[Parallel(n_jobs=-1)]: Done 10760 tasks      | elapsed:  5.8min\n",
      "[Parallel(n_jobs=-1)]: Done 10909 tasks      | elapsed:  5.8min\n",
      "[Parallel(n_jobs=-1)]: Done 11058 tasks      | elapsed:  6.0min\n",
      "[Parallel(n_jobs=-1)]: Done 11209 tasks      | elapsed:  6.1min\n",
      "[Parallel(n_jobs=-1)]: Done 11360 tasks      | elapsed:  6.1min\n",
      "[Parallel(n_jobs=-1)]: Done 11513 tasks      | elapsed:  6.2min\n",
      "[Parallel(n_jobs=-1)]: Done 11666 tasks      | elapsed:  6.3min\n",
      "[Parallel(n_jobs=-1)]: Done 11821 tasks      | elapsed:  6.3min\n",
      "[Parallel(n_jobs=-1)]: Done 11976 tasks      | elapsed:  6.4min\n",
      "[Parallel(n_jobs=-1)]: Done 12133 tasks      | elapsed:  6.5min\n",
      "[Parallel(n_jobs=-1)]: Done 12290 tasks      | elapsed:  6.5min\n",
      "[Parallel(n_jobs=-1)]: Done 12449 tasks      | elapsed:  6.6min\n",
      "[Parallel(n_jobs=-1)]: Done 12608 tasks      | elapsed:  6.8min\n",
      "[Parallel(n_jobs=-1)]: Done 12769 tasks      | elapsed:  6.8min\n",
      "[Parallel(n_jobs=-1)]: Done 12930 tasks      | elapsed:  6.9min\n",
      "[Parallel(n_jobs=-1)]: Done 13093 tasks      | elapsed:  7.1min\n",
      "[Parallel(n_jobs=-1)]: Done 13256 tasks      | elapsed:  7.2min\n",
      "[Parallel(n_jobs=-1)]: Done 13421 tasks      | elapsed:  7.2min\n",
      "[Parallel(n_jobs=-1)]: Done 13586 tasks      | elapsed:  7.4min\n",
      "[Parallel(n_jobs=-1)]: Done 13753 tasks      | elapsed:  7.5min\n",
      "[Parallel(n_jobs=-1)]: Done 13920 tasks      | elapsed:  7.5min\n",
      "[Parallel(n_jobs=-1)]: Done 14089 tasks      | elapsed:  7.6min\n",
      "[Parallel(n_jobs=-1)]: Done 14258 tasks      | elapsed:  7.6min\n",
      "[Parallel(n_jobs=-1)]: Done 14520 out of 14520 | elapsed:  7.7min finished\n",
      "/home/ec2-user/anaconda3/envs/python3/lib/python3.6/site-packages/sklearn/model_selection/_search.py:841: DeprecationWarning: The default of the `iid` parameter will change from True to False in version 0.22 and will be removed in 0.24. This will change numeric results when test-set sizes are unequal.\n",
      "  DeprecationWarning)\n",
      "/home/ec2-user/anaconda3/envs/python3/lib/python3.6/site-packages/sklearn/linear_model/logistic.py:460: FutureWarning: Default multi_class will be changed to 'auto' in 0.22. Specify the multi_class option to silence this warning.\n",
      "  \"this warning.\", FutureWarning)\n",
      "/home/ec2-user/anaconda3/envs/python3/lib/python3.6/site-packages/sklearn/linear_model/sag.py:334: ConvergenceWarning: The max_iter was reached which means the coef_ did not converge\n",
      "  \"the coef_ did not converge\", ConvergenceWarning)\n",
      "/home/ec2-user/anaconda3/envs/python3/lib/python3.6/site-packages/sklearn/linear_model/sag.py:334: ConvergenceWarning: The max_iter was reached which means the coef_ did not converge\n",
      "  \"the coef_ did not converge\", ConvergenceWarning)\n",
      "/home/ec2-user/anaconda3/envs/python3/lib/python3.6/site-packages/sklearn/linear_model/sag.py:334: ConvergenceWarning: The max_iter was reached which means the coef_ did not converge\n",
      "  \"the coef_ did not converge\", ConvergenceWarning)\n",
      "/home/ec2-user/anaconda3/envs/python3/lib/python3.6/site-packages/sklearn/linear_model/sag.py:334: ConvergenceWarning: The max_iter was reached which means the coef_ did not converge\n",
      "  \"the coef_ did not converge\", ConvergenceWarning)\n",
      "/home/ec2-user/anaconda3/envs/python3/lib/python3.6/site-packages/sklearn/linear_model/sag.py:334: ConvergenceWarning: The max_iter was reached which means the coef_ did not converge\n",
      "  \"the coef_ did not converge\", ConvergenceWarning)\n",
      "/home/ec2-user/anaconda3/envs/python3/lib/python3.6/site-packages/sklearn/linear_model/sag.py:334: ConvergenceWarning: The max_iter was reached which means the coef_ did not converge\n",
      "  \"the coef_ did not converge\", ConvergenceWarning)\n",
      "/home/ec2-user/anaconda3/envs/python3/lib/python3.6/site-packages/sklearn/linear_model/sag.py:334: ConvergenceWarning: The max_iter was reached which means the coef_ did not converge\n",
      "  \"the coef_ did not converge\", ConvergenceWarning)\n",
      "/home/ec2-user/anaconda3/envs/python3/lib/python3.6/site-packages/sklearn/linear_model/sag.py:334: ConvergenceWarning: The max_iter was reached which means the coef_ did not converge\n",
      "  \"the coef_ did not converge\", ConvergenceWarning)\n",
      "/home/ec2-user/anaconda3/envs/python3/lib/python3.6/site-packages/sklearn/linear_model/sag.py:334: ConvergenceWarning: The max_iter was reached which means the coef_ did not converge\n",
      "  \"the coef_ did not converge\", ConvergenceWarning)\n",
      "/home/ec2-user/anaconda3/envs/python3/lib/python3.6/site-packages/sklearn/linear_model/sag.py:334: ConvergenceWarning: The max_iter was reached which means the coef_ did not converge\n",
      "  \"the coef_ did not converge\", ConvergenceWarning)\n",
      "/home/ec2-user/anaconda3/envs/python3/lib/python3.6/site-packages/sklearn/linear_model/sag.py:334: ConvergenceWarning: The max_iter was reached which means the coef_ did not converge\n",
      "  \"the coef_ did not converge\", ConvergenceWarning)\n",
      "/home/ec2-user/anaconda3/envs/python3/lib/python3.6/site-packages/sklearn/linear_model/sag.py:334: ConvergenceWarning: The max_iter was reached which means the coef_ did not converge\n",
      "  \"the coef_ did not converge\", ConvergenceWarning)\n",
      "/home/ec2-user/anaconda3/envs/python3/lib/python3.6/site-packages/sklearn/linear_model/sag.py:334: ConvergenceWarning: The max_iter was reached which means the coef_ did not converge\n",
      "  \"the coef_ did not converge\", ConvergenceWarning)\n",
      "/home/ec2-user/anaconda3/envs/python3/lib/python3.6/site-packages/sklearn/linear_model/sag.py:334: ConvergenceWarning: The max_iter was reached which means the coef_ did not converge\n",
      "  \"the coef_ did not converge\", ConvergenceWarning)\n",
      "/home/ec2-user/anaconda3/envs/python3/lib/python3.6/site-packages/sklearn/linear_model/sag.py:334: ConvergenceWarning: The max_iter was reached which means the coef_ did not converge\n",
      "  \"the coef_ did not converge\", ConvergenceWarning)\n",
      "/home/ec2-user/anaconda3/envs/python3/lib/python3.6/site-packages/sklearn/linear_model/sag.py:334: ConvergenceWarning: The max_iter was reached which means the coef_ did not converge\n",
      "  \"the coef_ did not converge\", ConvergenceWarning)\n"
     ]
    },
    {
     "data": {
      "text/plain": [
       "['bestmodel.pkl']"
      ]
     },
     "execution_count": 32,
     "metadata": {},
     "output_type": "execute_result"
    }
   ],
   "source": [
    "pipeline = Pipeline([ ('vect', CountVectorizer()),('model', LogisticRegression())])\n",
    "\n",
    "param_grid = [\n",
    "    # Logistic Regression\n",
    "    {'vect':[TfidfVectorizer()], 'model':[LogisticRegression(solver='saga')],\n",
    "    'model__penalty':['l1','l2'], 'model__C':[0.001, 0.01, 0.1, 1, 10, 100, 1000],\n",
    "     'vect__min_df':[50, 100, 300, 500], 'vect__smooth_idf': (True, False),\n",
    "     'vect__norm': ('l1', 'l2', None)},\n",
    "    \n",
    "    # Random Forest\n",
    "    {'vect':[TfidfVectorizer()], 'model':[RandomForestClassifier()],\n",
    "     'vect__min_df':[50, 100, 300, 500], \n",
    "     'model__n_estimators': [50, 100, 150, 200], 'model__max_depth':[2, 5, 10, 15, 20],\n",
    "     'vect__smooth_idf': (True, False), 'vect__norm': ('l1', 'l2', None)},\n",
    "    \n",
    "    # XG Boost\n",
    "    {'vect':[TfidfVectorizer()], 'model':[XGBClassifier()],\n",
    "     'vect__min_df':[50, 100, 300, 500], 'model__learning_rate': [0.1, 0.5, 1, 2],\n",
    "     'model__n_estimators': [50, 100, 150, 200], 'model__max_depth':[2, 5, 10, 15, 20],\n",
    "     'vect__smooth_idf': (True, False), 'vect__norm': ('l1', 'l2', None)},\n",
    "    \n",
    "    # SGD Classifier\n",
    "    {'vect':[TfidfVectorizer()], \n",
    "     'model':[SGDClassifier(n_iter=1000, loss='hinge',penalty='l2',random_state=42, max_iter=5, tol=None)],\n",
    "     'vect__min_df':[50, 100, 300, 500],'model__alpha': [1e-3, 1e-2, 1e-1, 1e0, 1e1, 1e2, 1e3],\n",
    "     'vect__smooth_idf': (True, False), 'vect__norm': ('l1', 'l2', None)}\n",
    "]\n",
    "\n",
    "grid = GridSearchCV(pipeline, param_grid, cv=5, verbose=10, n_jobs=-1)\n",
    "fittedgrid = grid.fit(X_trial_train, y_trial_train)\n",
    "\n",
    "fittedgrid.score(X_trial_test, y_trial_test)\n",
    "\n",
    "# save the best model as a pkl\n",
    "joblib.dump(fittedgrid.best_estimator_, 'bestmodel.pkl', compress = 1)"
   ]
  },
  {
   "cell_type": "code",
   "execution_count": 36,
   "metadata": {},
   "outputs": [
    {
     "data": {
      "text/plain": [
       "Pipeline(memory=None,\n",
       "     steps=[('vect', TfidfVectorizer(analyzer='word', binary=False, decode_error='strict',\n",
       "        dtype=<class 'numpy.float64'>, encoding='utf-8', input='content',\n",
       "        lowercase=True, max_df=1.0, max_features=None, min_df=50,\n",
       "        ngram_range=(1, 1), norm='l1', preprocessor=None, smooth_idf=False...penalty='l2', random_state=None, solver='saga',\n",
       "          tol=0.0001, verbose=0, warm_start=False))])"
      ]
     },
     "metadata": {},
     "output_type": "display_data"
    }
   ],
   "source": [
    "# look at the parameters of the best model\n",
    "fittedgrid.best_estimator_"
   ]
  },
  {
   "cell_type": "code",
   "execution_count": 34,
   "metadata": {},
   "outputs": [],
   "source": [
    "# put the grid results into a dataframe\n",
    "grid_results = pd.concat([pd.DataFrame(fittedgrid.cv_results_[\"params\"]),pd.DataFrame(fittedgrid.cv_results_[\"mean_test_score\"], columns=[\"Accuracy\"])],axis=1).sort_values(by='Accuracy', ascending = False)"
   ]
  },
  {
   "cell_type": "code",
   "execution_count": 43,
   "metadata": {},
   "outputs": [
    {
     "data": {
      "text/html": [
       "<div>\n",
       "<style scoped>\n",
       "    .dataframe tbody tr th:only-of-type {\n",
       "        vertical-align: middle;\n",
       "    }\n",
       "\n",
       "    .dataframe tbody tr th {\n",
       "        vertical-align: top;\n",
       "    }\n",
       "\n",
       "    .dataframe thead th {\n",
       "        text-align: right;\n",
       "    }\n",
       "</style>\n",
       "<table border=\"1\" class=\"dataframe\">\n",
       "  <thead>\n",
       "    <tr style=\"text-align: right;\">\n",
       "      <th></th>\n",
       "      <th>model</th>\n",
       "      <th>model__C</th>\n",
       "      <th>model__alpha</th>\n",
       "      <th>model__learning_rate</th>\n",
       "      <th>model__max_depth</th>\n",
       "      <th>model__n_estimators</th>\n",
       "      <th>model__penalty</th>\n",
       "      <th>vect</th>\n",
       "      <th>vect__min_df</th>\n",
       "      <th>vect__norm</th>\n",
       "      <th>vect__smooth_idf</th>\n",
       "      <th>Accuracy</th>\n",
       "    </tr>\n",
       "  </thead>\n",
       "  <tbody>\n",
       "    <tr>\n",
       "      <th>434</th>\n",
       "      <td>RandomForestClassifier(bootstrap=True, class_w...</td>\n",
       "      <td>NaN</td>\n",
       "      <td>NaN</td>\n",
       "      <td>NaN</td>\n",
       "      <td>5.0</td>\n",
       "      <td>50.0</td>\n",
       "      <td>NaN</td>\n",
       "      <td>TfidfVectorizer(analyzer='word', binary=False,...</td>\n",
       "      <td>50</td>\n",
       "      <td>l2</td>\n",
       "      <td>True</td>\n",
       "      <td>0.120000</td>\n",
       "    </tr>\n",
       "    <tr>\n",
       "      <th>169</th>\n",
       "      <td>LogisticRegression(C=1, class_weight=None, dua...</td>\n",
       "      <td>1.0</td>\n",
       "      <td>NaN</td>\n",
       "      <td>NaN</td>\n",
       "      <td>NaN</td>\n",
       "      <td>NaN</td>\n",
       "      <td>l2</td>\n",
       "      <td>TfidfVectorizer(analyzer='word', binary=False,...</td>\n",
       "      <td>50</td>\n",
       "      <td>l1</td>\n",
       "      <td>False</td>\n",
       "      <td>0.120000</td>\n",
       "    </tr>\n",
       "    <tr>\n",
       "      <th>339</th>\n",
       "      <td>RandomForestClassifier(bootstrap=True, class_w...</td>\n",
       "      <td>NaN</td>\n",
       "      <td>NaN</td>\n",
       "      <td>NaN</td>\n",
       "      <td>2.0</td>\n",
       "      <td>50.0</td>\n",
       "      <td>NaN</td>\n",
       "      <td>TfidfVectorizer(analyzer='word', binary=False,...</td>\n",
       "      <td>50</td>\n",
       "      <td>l2</td>\n",
       "      <td>False</td>\n",
       "      <td>0.119286</td>\n",
       "    </tr>\n",
       "    <tr>\n",
       "      <th>168</th>\n",
       "      <td>LogisticRegression(C=1, class_weight=None, dua...</td>\n",
       "      <td>1.0</td>\n",
       "      <td>NaN</td>\n",
       "      <td>NaN</td>\n",
       "      <td>NaN</td>\n",
       "      <td>NaN</td>\n",
       "      <td>l2</td>\n",
       "      <td>TfidfVectorizer(analyzer='word', binary=False,...</td>\n",
       "      <td>50</td>\n",
       "      <td>l1</td>\n",
       "      <td>True</td>\n",
       "      <td>0.119286</td>\n",
       "    </tr>\n",
       "    <tr>\n",
       "      <th>410</th>\n",
       "      <td>RandomForestClassifier(bootstrap=True, class_w...</td>\n",
       "      <td>NaN</td>\n",
       "      <td>NaN</td>\n",
       "      <td>NaN</td>\n",
       "      <td>2.0</td>\n",
       "      <td>200.0</td>\n",
       "      <td>NaN</td>\n",
       "      <td>TfidfVectorizer(analyzer='word', binary=False,...</td>\n",
       "      <td>50</td>\n",
       "      <td>l2</td>\n",
       "      <td>True</td>\n",
       "      <td>0.117143</td>\n",
       "    </tr>\n",
       "    <tr>\n",
       "      <th>362</th>\n",
       "      <td>RandomForestClassifier(bootstrap=True, class_w...</td>\n",
       "      <td>NaN</td>\n",
       "      <td>NaN</td>\n",
       "      <td>NaN</td>\n",
       "      <td>2.0</td>\n",
       "      <td>100.0</td>\n",
       "      <td>NaN</td>\n",
       "      <td>TfidfVectorizer(analyzer='word', binary=False,...</td>\n",
       "      <td>50</td>\n",
       "      <td>l2</td>\n",
       "      <td>True</td>\n",
       "      <td>0.117143</td>\n",
       "    </tr>\n",
       "    <tr>\n",
       "      <th>150</th>\n",
       "      <td>LogisticRegression(C=1, class_weight=None, dua...</td>\n",
       "      <td>1.0</td>\n",
       "      <td>NaN</td>\n",
       "      <td>NaN</td>\n",
       "      <td>NaN</td>\n",
       "      <td>NaN</td>\n",
       "      <td>l1</td>\n",
       "      <td>TfidfVectorizer(analyzer='word', binary=False,...</td>\n",
       "      <td>100</td>\n",
       "      <td>l1</td>\n",
       "      <td>True</td>\n",
       "      <td>0.117143</td>\n",
       "    </tr>\n",
       "    <tr>\n",
       "      <th>151</th>\n",
       "      <td>LogisticRegression(C=1, class_weight=None, dua...</td>\n",
       "      <td>1.0</td>\n",
       "      <td>NaN</td>\n",
       "      <td>NaN</td>\n",
       "      <td>NaN</td>\n",
       "      <td>NaN</td>\n",
       "      <td>l1</td>\n",
       "      <td>TfidfVectorizer(analyzer='word', binary=False,...</td>\n",
       "      <td>100</td>\n",
       "      <td>l1</td>\n",
       "      <td>False</td>\n",
       "      <td>0.117143</td>\n",
       "    </tr>\n",
       "    <tr>\n",
       "      <th>504</th>\n",
       "      <td>RandomForestClassifier(bootstrap=True, class_w...</td>\n",
       "      <td>NaN</td>\n",
       "      <td>NaN</td>\n",
       "      <td>NaN</td>\n",
       "      <td>5.0</td>\n",
       "      <td>200.0</td>\n",
       "      <td>NaN</td>\n",
       "      <td>TfidfVectorizer(analyzer='word', binary=False,...</td>\n",
       "      <td>50</td>\n",
       "      <td>l1</td>\n",
       "      <td>True</td>\n",
       "      <td>0.117143</td>\n",
       "    </tr>\n",
       "    <tr>\n",
       "      <th>483</th>\n",
       "      <td>RandomForestClassifier(bootstrap=True, class_w...</td>\n",
       "      <td>NaN</td>\n",
       "      <td>NaN</td>\n",
       "      <td>NaN</td>\n",
       "      <td>5.0</td>\n",
       "      <td>150.0</td>\n",
       "      <td>NaN</td>\n",
       "      <td>TfidfVectorizer(analyzer='word', binary=False,...</td>\n",
       "      <td>50</td>\n",
       "      <td>l2</td>\n",
       "      <td>False</td>\n",
       "      <td>0.115714</td>\n",
       "    </tr>\n",
       "  </tbody>\n",
       "</table>\n",
       "</div>"
      ],
      "text/plain": [
       "                                                 model  model__C  \\\n",
       "434  RandomForestClassifier(bootstrap=True, class_w...       NaN   \n",
       "169  LogisticRegression(C=1, class_weight=None, dua...       1.0   \n",
       "339  RandomForestClassifier(bootstrap=True, class_w...       NaN   \n",
       "168  LogisticRegression(C=1, class_weight=None, dua...       1.0   \n",
       "410  RandomForestClassifier(bootstrap=True, class_w...       NaN   \n",
       "362  RandomForestClassifier(bootstrap=True, class_w...       NaN   \n",
       "150  LogisticRegression(C=1, class_weight=None, dua...       1.0   \n",
       "151  LogisticRegression(C=1, class_weight=None, dua...       1.0   \n",
       "504  RandomForestClassifier(bootstrap=True, class_w...       NaN   \n",
       "483  RandomForestClassifier(bootstrap=True, class_w...       NaN   \n",
       "\n",
       "     model__alpha  model__learning_rate  model__max_depth  \\\n",
       "434           NaN                   NaN               5.0   \n",
       "169           NaN                   NaN               NaN   \n",
       "339           NaN                   NaN               2.0   \n",
       "168           NaN                   NaN               NaN   \n",
       "410           NaN                   NaN               2.0   \n",
       "362           NaN                   NaN               2.0   \n",
       "150           NaN                   NaN               NaN   \n",
       "151           NaN                   NaN               NaN   \n",
       "504           NaN                   NaN               5.0   \n",
       "483           NaN                   NaN               5.0   \n",
       "\n",
       "     model__n_estimators model__penalty  \\\n",
       "434                 50.0            NaN   \n",
       "169                  NaN             l2   \n",
       "339                 50.0            NaN   \n",
       "168                  NaN             l2   \n",
       "410                200.0            NaN   \n",
       "362                100.0            NaN   \n",
       "150                  NaN             l1   \n",
       "151                  NaN             l1   \n",
       "504                200.0            NaN   \n",
       "483                150.0            NaN   \n",
       "\n",
       "                                                  vect  vect__min_df  \\\n",
       "434  TfidfVectorizer(analyzer='word', binary=False,...            50   \n",
       "169  TfidfVectorizer(analyzer='word', binary=False,...            50   \n",
       "339  TfidfVectorizer(analyzer='word', binary=False,...            50   \n",
       "168  TfidfVectorizer(analyzer='word', binary=False,...            50   \n",
       "410  TfidfVectorizer(analyzer='word', binary=False,...            50   \n",
       "362  TfidfVectorizer(analyzer='word', binary=False,...            50   \n",
       "150  TfidfVectorizer(analyzer='word', binary=False,...           100   \n",
       "151  TfidfVectorizer(analyzer='word', binary=False,...           100   \n",
       "504  TfidfVectorizer(analyzer='word', binary=False,...            50   \n",
       "483  TfidfVectorizer(analyzer='word', binary=False,...            50   \n",
       "\n",
       "    vect__norm  vect__smooth_idf  Accuracy  \n",
       "434         l2              True  0.120000  \n",
       "169         l1             False  0.120000  \n",
       "339         l2             False  0.119286  \n",
       "168         l1              True  0.119286  \n",
       "410         l2              True  0.117143  \n",
       "362         l2              True  0.117143  \n",
       "150         l1              True  0.117143  \n",
       "151         l1             False  0.117143  \n",
       "504         l1              True  0.117143  \n",
       "483         l2             False  0.115714  "
      ]
     },
     "execution_count": 43,
     "metadata": {},
     "output_type": "execute_result"
    }
   ],
   "source": [
    "grid_results.head(10)"
   ]
  },
  {
   "cell_type": "code",
   "execution_count": 38,
   "metadata": {},
   "outputs": [
    {
     "name": "stderr",
     "output_type": "stream",
     "text": [
      "/home/ec2-user/anaconda3/envs/python3/lib/python3.6/site-packages/sklearn/utils/deprecation.py:125: FutureWarning: You are accessing a training score ('split0_train_score'), which will not be available by default any more in 0.21. If you need training scores, please set return_train_score=True\n",
      "  warnings.warn(*warn_args, **warn_kwargs)\n",
      "/home/ec2-user/anaconda3/envs/python3/lib/python3.6/site-packages/sklearn/utils/deprecation.py:125: FutureWarning: You are accessing a training score ('split1_train_score'), which will not be available by default any more in 0.21. If you need training scores, please set return_train_score=True\n",
      "  warnings.warn(*warn_args, **warn_kwargs)\n",
      "/home/ec2-user/anaconda3/envs/python3/lib/python3.6/site-packages/sklearn/utils/deprecation.py:125: FutureWarning: You are accessing a training score ('split2_train_score'), which will not be available by default any more in 0.21. If you need training scores, please set return_train_score=True\n",
      "  warnings.warn(*warn_args, **warn_kwargs)\n",
      "/home/ec2-user/anaconda3/envs/python3/lib/python3.6/site-packages/sklearn/utils/deprecation.py:125: FutureWarning: You are accessing a training score ('split3_train_score'), which will not be available by default any more in 0.21. If you need training scores, please set return_train_score=True\n",
      "  warnings.warn(*warn_args, **warn_kwargs)\n",
      "/home/ec2-user/anaconda3/envs/python3/lib/python3.6/site-packages/sklearn/utils/deprecation.py:125: FutureWarning: You are accessing a training score ('split4_train_score'), which will not be available by default any more in 0.21. If you need training scores, please set return_train_score=True\n",
      "  warnings.warn(*warn_args, **warn_kwargs)\n",
      "/home/ec2-user/anaconda3/envs/python3/lib/python3.6/site-packages/sklearn/utils/deprecation.py:125: FutureWarning: You are accessing a training score ('mean_train_score'), which will not be available by default any more in 0.21. If you need training scores, please set return_train_score=True\n",
      "  warnings.warn(*warn_args, **warn_kwargs)\n",
      "/home/ec2-user/anaconda3/envs/python3/lib/python3.6/site-packages/sklearn/utils/deprecation.py:125: FutureWarning: You are accessing a training score ('std_train_score'), which will not be available by default any more in 0.21. If you need training scores, please set return_train_score=True\n",
      "  warnings.warn(*warn_args, **warn_kwargs)\n"
     ]
    }
   ],
   "source": [
    "results = pd.DataFrame(fittedgrid.cv_results_)"
   ]
  },
  {
   "cell_type": "code",
   "execution_count": 40,
   "metadata": {},
   "outputs": [
    {
     "data": {
      "text/plain": [
       "RandomForestClassifier(bootstrap=True, class_weight=None, criterion='gini',\n",
       "            max_depth=None, max_features='auto', max_leaf_nodes=None,\n",
       "            min_impurity_decrease=0.0, min_impurity_split=None,\n",
       "            min_samples_leaf=1, min_samples_split=2,\n",
       "            min_weight_fraction_leaf=0.0, n_estimators='warn', n_jobs=None,\n",
       "            oob_score=False, random_state=None, verbose=0,\n",
       "            warm_start=False)"
      ]
     },
     "execution_count": 40,
     "metadata": {},
     "output_type": "execute_result"
    }
   ],
   "source": [
    "# best model no.1 \n",
    "results['param_model'].iloc[434]"
   ]
  },
  {
   "cell_type": "code",
   "execution_count": 41,
   "metadata": {},
   "outputs": [
    {
     "data": {
      "text/plain": [
       "LogisticRegression(C=1, class_weight=None, dual=False, fit_intercept=True,\n",
       "          intercept_scaling=1, max_iter=100, multi_class='warn',\n",
       "          n_jobs=None, penalty='l2', random_state=None, solver='saga',\n",
       "          tol=0.0001, verbose=0, warm_start=False)"
      ]
     },
     "execution_count": 41,
     "metadata": {},
     "output_type": "execute_result"
    }
   ],
   "source": [
    "# best model no.2\n",
    "results['param_model'].iloc[169]"
   ]
  },
  {
   "cell_type": "markdown",
   "metadata": {},
   "source": [
    "#### Apply the 2 best models on complete set"
   ]
  },
  {
   "cell_type": "code",
   "execution_count": null,
   "metadata": {},
   "outputs": [
    {
     "name": "stdout",
     "output_type": "stream",
     "text": [
      "Fitting 5 folds for each of 8 candidates, totalling 40 fits\n"
     ]
    },
    {
     "name": "stderr",
     "output_type": "stream",
     "text": [
      "[Parallel(n_jobs=-1)]: Using backend LokyBackend with 96 concurrent workers.\n",
      "[Parallel(n_jobs=-1)]: Done   1 tasks      | elapsed:  4.1min\n",
      "[Parallel(n_jobs=-1)]: Done   4 out of  40 | elapsed:  4.2min remaining: 38.0min\n",
      "[Parallel(n_jobs=-1)]: Done   9 out of  40 | elapsed:  4.7min remaining: 16.2min\n",
      "[Parallel(n_jobs=-1)]: Done  14 out of  40 | elapsed:  5.2min remaining:  9.6min\n",
      "[Parallel(n_jobs=-1)]: Done  19 out of  40 | elapsed:  5.6min remaining:  6.2min\n",
      "[Parallel(n_jobs=-1)]: Done  24 out of  40 | elapsed: 11.9min remaining:  8.0min\n",
      "[Parallel(n_jobs=-1)]: Done  29 out of  40 | elapsed: 12.2min remaining:  4.6min\n",
      "[Parallel(n_jobs=-1)]: Done  34 out of  40 | elapsed: 13.1min remaining:  2.3min\n",
      "[Parallel(n_jobs=-1)]: Done  40 out of  40 | elapsed: 14.1min finished\n",
      "/home/ec2-user/anaconda3/envs/python3/lib/python3.6/site-packages/sklearn/linear_model/logistic.py:460: FutureWarning: Default multi_class will be changed to 'auto' in 0.22. Specify the multi_class option to silence this warning.\n",
      "  \"this warning.\", FutureWarning)\n"
     ]
    }
   ],
   "source": [
    "# use 2 best models to form a new pipeline and fit to the train set \n",
    "\n",
    "pipeline1 = Pipeline([ ('vect', CountVectorizer()),('model', LogisticRegression())])\n",
    "\n",
    "param_grid1 = [\n",
    "    # Logistic Regression\n",
    "    {'vect':[TfidfVectorizer(smooth_idf=False, norm='l1')], \n",
    "     'model':[LogisticRegression(solver='saga', penalty='l2', C=1.0)],\n",
    "     'vect__min_df':[100, 500, 1000, 2500]},\n",
    "    \n",
    "    # Random Forest\n",
    "    {'vect':[TfidfVectorizer(smooth_idf=True, norm='l2')], \n",
    "     'model':[RandomForestClassifier(n_estimators=50, max_depth=5)],\n",
    "     'vect__min_df':[100, 500, 1000, 2500]},\n",
    "]\n",
    "\n",
    "grid1 = GridSearchCV(pipeline1, param_grid1, cv=5, verbose=10, n_jobs=-1)\n",
    "fittedgrid1 = grid1.fit(X_train, y_train)\n",
    "\n",
    "fittedgrid1.score(X_test, y_test)\n",
    "\n",
    "# save the best model to file\n",
    "joblib.dump(fittedgrid1.best_estimator_, 'bestmodel1.pkl', compress = 1)"
   ]
  },
  {
   "cell_type": "code",
   "execution_count": 51,
   "metadata": {},
   "outputs": [],
   "source": [
    "# load in the model\n",
    "best_model = joblib.load('bestmodel1.pkl')"
   ]
  },
  {
   "cell_type": "code",
   "execution_count": 56,
   "metadata": {},
   "outputs": [
    {
     "data": {
      "text/plain": [
       "0.1551844961032041"
      ]
     },
     "execution_count": 56,
     "metadata": {},
     "output_type": "execute_result"
    }
   ],
   "source": [
    "# accuracy score\n",
    "score = best_model.score(X_test, y_test)\n",
    "score"
   ]
  },
  {
   "cell_type": "code",
   "execution_count": 57,
   "metadata": {},
   "outputs": [],
   "source": [
    "y_pred = best_model.predict(X_test)"
   ]
  },
  {
   "cell_type": "code",
   "execution_count": 58,
   "metadata": {},
   "outputs": [
    {
     "name": "stdout",
     "output_type": "stream",
     "text": [
      "              precision    recall  f1-score   support\n",
      "\n",
      "        INFP       0.24      0.05      0.09     54285\n",
      "        INFJ       0.21      0.04      0.07     61493\n",
      "        INTP       0.16      0.17      0.17     76631\n",
      "        INTJ       0.23      0.06      0.10     66850\n",
      "        ENTP       0.18      0.01      0.02     18089\n",
      "        ENFP       0.31      0.02      0.04     19968\n",
      "        ISTP       0.31      0.04      0.07     28800\n",
      "        ISFP       0.31      0.11      0.16     47842\n",
      "        ENTJ       0.14      0.20      0.17     81078\n",
      "        ISTJ       0.13      0.43      0.20     92909\n",
      "        ENFJ       0.31      0.03      0.05     52665\n",
      "        ISFJ       0.13      0.35      0.19     89567\n",
      "        ESTP       0.30      0.05      0.08     46968\n",
      "        ESFP       0.44      0.07      0.12     42411\n",
      "        ESFJ       0.24      0.02      0.04     46478\n",
      "        ESTJ       0.24      0.19      0.21     67264\n",
      "\n",
      "   micro avg       0.16      0.16      0.16    893298\n",
      "   macro avg       0.24      0.12      0.11    893298\n",
      "weighted avg       0.22      0.16      0.13    893298\n",
      "\n"
     ]
    }
   ],
   "source": [
    "print(classification_report(y_test, y_pred,target_names=mbti))"
   ]
  },
  {
   "cell_type": "markdown",
   "metadata": {},
   "source": [
    "Interestingly the result is worse than Logistic Regression... \n",
    "\n",
    "To classify user comments to personality types are difficult, with 16 classes, random guessing would have an accuracy about 7%, the best model we tried is Logistic Regression, with precision/recall/f1 score all above 20%. \n",
    "\n",
    "However, I was not satisfied at that time, so I tried more approaches, including balancing the data, buillding LDA topic models. "
   ]
  },
  {
   "cell_type": "markdown",
   "metadata": {},
   "source": [
    "## Dealing with Imbalanced Data "
   ]
  },
  {
   "cell_type": "markdown",
   "metadata": {},
   "source": [
    "### Remove more stop words!\n",
    "\n",
    "While I was working on building dictionary using Gensim, I found out that there are actually more stop words and spaces that are not cleaned in the documents, so I performed more cleaning steps here (*sigh*). "
   ]
  },
  {
   "cell_type": "code",
   "execution_count": 8,
   "metadata": {
    "ExecuteTime": {
     "end_time": "2019-12-06T23:48:48.691915Z",
     "start_time": "2019-12-06T23:48:48.685395Z"
    }
   },
   "outputs": [
    {
     "data": {
      "text/plain": [
       "[['lol that be why leave']]"
      ]
     },
     "execution_count": 8,
     "metadata": {},
     "output_type": "execute_result"
    }
   ],
   "source": [
    "# list of posts \n",
    "[p.split('|||') for p in df_clean.head(1).comments_lemma.values]"
   ]
  },
  {
   "cell_type": "code",
   "execution_count": 11,
   "metadata": {
    "ExecuteTime": {
     "end_time": "2019-12-07T03:03:18.017750Z",
     "start_time": "2019-12-07T03:03:17.373762Z"
    }
   },
   "outputs": [],
   "source": [
    "# convert columns to list \n",
    "\n",
    "list_personality = df_clean['MBTI'].tolist()\n",
    "list_posts = df_clean['comments_lemma'].tolist()"
   ]
  },
  {
   "cell_type": "code",
   "execution_count": 18,
   "metadata": {},
   "outputs": [
    {
     "name": "stdout",
     "output_type": "stream",
     "text": [
      "[nltk_data] Downloading package stopwords to\n",
      "[nltk_data]     /home/ec2-user/nltk_data...\n",
      "[nltk_data]   Unzipping corpora/stopwords.zip.\n"
     ]
    }
   ],
   "source": [
    "# remove more stop words\n",
    "from nltk.corpus import stopwords\n",
    "nltk.download('stopwords')\n",
    "\n",
    "stop_words = stopwords.words('english')\n",
    "stop = ['to', 'of', 'the', 'be', 'for', 'that', 'do', 'have', 'this', 'and']\n",
    "stop_words = stop_words + stop"
   ]
  },
  {
   "cell_type": "code",
   "execution_count": 29,
   "metadata": {},
   "outputs": [],
   "source": [
    "# remove double and leading space \n",
    "dataset = [re.sub(' +', ' ', wd) for wd in list_posts]\n",
    "dataset = [wd.strip(' ') for wd in list_posts]"
   ]
  },
  {
   "cell_type": "code",
   "execution_count": 40,
   "metadata": {},
   "outputs": [],
   "source": [
    "# split the sentences \n",
    "sentence_steam = [doc.split(' ') for doc in dataset]"
   ]
  },
  {
   "cell_type": "code",
   "execution_count": 42,
   "metadata": {},
   "outputs": [],
   "source": [
    "# filter out the empty strings\n",
    "sentence_steam = [[x for x in string if x] for string in sentence_steam]"
   ]
  },
  {
   "cell_type": "code",
   "execution_count": 44,
   "metadata": {},
   "outputs": [],
   "source": [
    "# remove extra stop words\n",
    "data_processed = [[wd for wd in doc if not wd in stop_words] for doc in sentence_steam]"
   ]
  },
  {
   "cell_type": "code",
   "execution_count": 51,
   "metadata": {},
   "outputs": [],
   "source": [
    "# rejoin the data_processed as list for TFIDF\n",
    "data_processed = [' '.join(doc) for doc in data_processed]"
   ]
  },
  {
   "cell_type": "code",
   "execution_count": 80,
   "metadata": {},
   "outputs": [],
   "source": [
    "df_clean['comments_lemma'] = data_processed"
   ]
  },
  {
   "cell_type": "code",
   "execution_count": 81,
   "metadata": {
    "scrolled": true
   },
   "outputs": [
    {
     "data": {
      "text/html": [
       "<div>\n",
       "<style scoped>\n",
       "    .dataframe tbody tr th:only-of-type {\n",
       "        vertical-align: middle;\n",
       "    }\n",
       "\n",
       "    .dataframe tbody tr th {\n",
       "        vertical-align: top;\n",
       "    }\n",
       "\n",
       "    .dataframe thead th {\n",
       "        text-align: right;\n",
       "    }\n",
       "</style>\n",
       "<table border=\"1\" class=\"dataframe\">\n",
       "  <thead>\n",
       "    <tr style=\"text-align: right;\">\n",
       "      <th></th>\n",
       "      <th>MBTI</th>\n",
       "      <th>comments_lemma</th>\n",
       "    </tr>\n",
       "  </thead>\n",
       "  <tbody>\n",
       "    <tr>\n",
       "      <th>0</th>\n",
       "      <td>INFP</td>\n",
       "      <td>lol leave</td>\n",
       "    </tr>\n",
       "    <tr>\n",
       "      <th>1</th>\n",
       "      <td>INTP</td>\n",
       "      <td>post try tell people time always joke unless s...</td>\n",
       "    </tr>\n",
       "    <tr>\n",
       "      <th>2</th>\n",
       "      <td>INFP</td>\n",
       "      <td>first thought pepsi something probably alcohol</td>\n",
       "    </tr>\n",
       "    <tr>\n",
       "      <th>3</th>\n",
       "      <td>ENTP</td>\n",
       "      <td>formula something like every time say add bpm ...</td>\n",
       "    </tr>\n",
       "    <tr>\n",
       "      <th>4</th>\n",
       "      <td>INTP</td>\n",
       "      <td>imply five</td>\n",
       "    </tr>\n",
       "    <tr>\n",
       "      <th>5</th>\n",
       "      <td>INTP</td>\n",
       "      <td>well would know think lot potential technology...</td>\n",
       "    </tr>\n",
       "    <tr>\n",
       "      <th>6</th>\n",
       "      <td>INFJ</td>\n",
       "      <td>sine support director actor people behind film</td>\n",
       "    </tr>\n",
       "    <tr>\n",
       "      <th>7</th>\n",
       "      <td>INFP</td>\n",
       "      <td>use enough vacation day lose time roll</td>\n",
       "    </tr>\n",
       "    <tr>\n",
       "      <th>8</th>\n",
       "      <td>INTP</td>\n",
       "      <td>angle devil</td>\n",
       "    </tr>\n",
       "    <tr>\n",
       "      <th>9</th>\n",
       "      <td>INTP</td>\n",
       "      <td>mean much influence crow ruby</td>\n",
       "    </tr>\n",
       "    <tr>\n",
       "      <th>10</th>\n",
       "      <td>INTP</td>\n",
       "      <td>many people guess</td>\n",
       "    </tr>\n",
       "    <tr>\n",
       "      <th>11</th>\n",
       "      <td>INFP</td>\n",
       "      <td>go third date exactly breakup</td>\n",
       "    </tr>\n",
       "    <tr>\n",
       "      <th>12</th>\n",
       "      <td>INFJ</td>\n",
       "      <td>want nes classic controller since already game...</td>\n",
       "    </tr>\n",
       "    <tr>\n",
       "      <th>13</th>\n",
       "      <td>ENTP</td>\n",
       "      <td>maybe tongue cheek wreck body enjoy use drug e...</td>\n",
       "    </tr>\n",
       "    <tr>\n",
       "      <th>14</th>\n",
       "      <td>INFP</td>\n",
       "      <td>agree consistant position support way think go...</td>\n",
       "    </tr>\n",
       "    <tr>\n",
       "      <th>15</th>\n",
       "      <td>INTP</td>\n",
       "      <td>alor pas balise integr e faut faire que par css</td>\n",
       "    </tr>\n",
       "    <tr>\n",
       "      <th>16</th>\n",
       "      <td>INTJ</td>\n",
       "      <td>kind strange lump vague reference religion ont...</td>\n",
       "    </tr>\n",
       "    <tr>\n",
       "      <th>17</th>\n",
       "      <td>INFP</td>\n",
       "      <td>wow fuck woman kind worried child unlike fianc...</td>\n",
       "    </tr>\n",
       "    <tr>\n",
       "      <th>18</th>\n",
       "      <td>ISTJ</td>\n",
       "      <td>psychotic tire kill people dark comedy edgy we...</td>\n",
       "    </tr>\n",
       "    <tr>\n",
       "      <th>19</th>\n",
       "      <td>ENTP</td>\n",
       "      <td>like</td>\n",
       "    </tr>\n",
       "    <tr>\n",
       "      <th>20</th>\n",
       "      <td>ENTP</td>\n",
       "      <td>hella dank dude</td>\n",
       "    </tr>\n",
       "    <tr>\n",
       "      <th>21</th>\n",
       "      <td>ENTP</td>\n",
       "      <td>stat mean relatively little attempt counteract...</td>\n",
       "    </tr>\n",
       "    <tr>\n",
       "      <th>22</th>\n",
       "      <td>INFP</td>\n",
       "      <td>never subreddit even british drink enough tea ...</td>\n",
       "    </tr>\n",
       "    <tr>\n",
       "      <th>23</th>\n",
       "      <td>INTJ</td>\n",
       "      <td>make original comic random place see find site...</td>\n",
       "    </tr>\n",
       "    <tr>\n",
       "      <th>24</th>\n",
       "      <td>INFJ</td>\n",
       "      <td>hmmm</td>\n",
       "    </tr>\n",
       "    <tr>\n",
       "      <th>25</th>\n",
       "      <td>INTP</td>\n",
       "      <td>blue cheese smell taste exactly like vomit und...</td>\n",
       "    </tr>\n",
       "    <tr>\n",
       "      <th>26</th>\n",
       "      <td>INFJ</td>\n",
       "      <td>sure also check bjorn nyland youtube channel</td>\n",
       "    </tr>\n",
       "    <tr>\n",
       "      <th>27</th>\n",
       "      <td>INTP</td>\n",
       "      <td>help friend mine purchase two honda civic grea...</td>\n",
       "    </tr>\n",
       "    <tr>\n",
       "      <th>28</th>\n",
       "      <td>ENTP</td>\n",
       "      <td>white kinght become princess zulul megazulul w...</td>\n",
       "    </tr>\n",
       "    <tr>\n",
       "      <th>29</th>\n",
       "      <td>INFP</td>\n",
       "      <td>face sure</td>\n",
       "    </tr>\n",
       "    <tr>\n",
       "      <th>...</th>\n",
       "      <td>...</td>\n",
       "      <td>...</td>\n",
       "    </tr>\n",
       "    <tr>\n",
       "      <th>61887</th>\n",
       "      <td>ISTJ</td>\n",
       "      <td>cutie land whale like way jose</td>\n",
       "    </tr>\n",
       "    <tr>\n",
       "      <th>61888</th>\n",
       "      <td>ISTJ</td>\n",
       "      <td>talk social hierarchy issue talk issue relate ...</td>\n",
       "    </tr>\n",
       "    <tr>\n",
       "      <th>61889</th>\n",
       "      <td>ISTJ</td>\n",
       "      <td>aventus</td>\n",
       "    </tr>\n",
       "    <tr>\n",
       "      <th>61890</th>\n",
       "      <td>ISTJ</td>\n",
       "      <td>would need unleash true power verbal deception...</td>\n",
       "    </tr>\n",
       "    <tr>\n",
       "      <th>61891</th>\n",
       "      <td>ISFP</td>\n",
       "      <td>writing character good rest show drag</td>\n",
       "    </tr>\n",
       "    <tr>\n",
       "      <th>61892</th>\n",
       "      <td>ESTP</td>\n",
       "      <td>true hero blooregard kazoo type confirm w estp...</td>\n",
       "    </tr>\n",
       "    <tr>\n",
       "      <th>61893</th>\n",
       "      <td>ISFP</td>\n",
       "      <td>definitely pride individuality sure would cons...</td>\n",
       "    </tr>\n",
       "    <tr>\n",
       "      <th>61894</th>\n",
       "      <td>ESTJ</td>\n",
       "      <td>ever issue nihilism avoid conflict</td>\n",
       "    </tr>\n",
       "    <tr>\n",
       "      <th>61895</th>\n",
       "      <td>ESFJ</td>\n",
       "      <td>know want know want</td>\n",
       "    </tr>\n",
       "    <tr>\n",
       "      <th>61896</th>\n",
       "      <td>ISFJ</td>\n",
       "      <td>well least plan rwby evo thank god</td>\n",
       "    </tr>\n",
       "    <tr>\n",
       "      <th>61897</th>\n",
       "      <td>ISFP</td>\n",
       "      <td>bullshit anyway would care high type brag woul...</td>\n",
       "    </tr>\n",
       "    <tr>\n",
       "      <th>61898</th>\n",
       "      <td>ESTP</td>\n",
       "      <td>meme</td>\n",
       "    </tr>\n",
       "    <tr>\n",
       "      <th>61899</th>\n",
       "      <td>ISTJ</td>\n",
       "      <td>grasp point tripe view post call someone gun m...</td>\n",
       "    </tr>\n",
       "    <tr>\n",
       "      <th>61900</th>\n",
       "      <td>ESTP</td>\n",
       "      <td>real stop lie make shit scare people edit dele...</td>\n",
       "    </tr>\n",
       "    <tr>\n",
       "      <th>61901</th>\n",
       "      <td>ISFJ</td>\n",
       "      <td>uni would study economic year prior go uni stu...</td>\n",
       "    </tr>\n",
       "    <tr>\n",
       "      <th>61902</th>\n",
       "      <td>ESTP</td>\n",
       "      <td>use anything projectile base like arrow bolt t...</td>\n",
       "    </tr>\n",
       "    <tr>\n",
       "      <th>61903</th>\n",
       "      <td>ISFJ</td>\n",
       "      <td>wow hate koala</td>\n",
       "    </tr>\n",
       "    <tr>\n",
       "      <th>61904</th>\n",
       "      <td>ISTJ</td>\n",
       "      <td>florida tennessee lsu georgia semifinal yes pl...</td>\n",
       "    </tr>\n",
       "    <tr>\n",
       "      <th>61905</th>\n",
       "      <td>ESTJ</td>\n",
       "      <td>big annoyance disease mean sometimes helpful f...</td>\n",
       "    </tr>\n",
       "    <tr>\n",
       "      <th>61906</th>\n",
       "      <td>ESFJ</td>\n",
       "      <td>try explain stuff lab partner chemistry</td>\n",
       "    </tr>\n",
       "    <tr>\n",
       "      <th>61907</th>\n",
       "      <td>ESTJ</td>\n",
       "      <td>good clever title well whole post work well to...</td>\n",
       "    </tr>\n",
       "    <tr>\n",
       "      <th>61908</th>\n",
       "      <td>ISFJ</td>\n",
       "      <td>look like red tailed hawk</td>\n",
       "    </tr>\n",
       "    <tr>\n",
       "      <th>61909</th>\n",
       "      <td>ESFP</td>\n",
       "      <td>congrat graduate though</td>\n",
       "    </tr>\n",
       "    <tr>\n",
       "      <th>61910</th>\n",
       "      <td>ESTP</td>\n",
       "      <td>could maybe keep tooth white white snowflake l...</td>\n",
       "    </tr>\n",
       "    <tr>\n",
       "      <th>61911</th>\n",
       "      <td>ISFJ</td>\n",
       "      <td>fruit salad think wash</td>\n",
       "    </tr>\n",
       "    <tr>\n",
       "      <th>61912</th>\n",
       "      <td>ISFJ</td>\n",
       "      <td>league legends recently uninstalle release hug...</td>\n",
       "    </tr>\n",
       "    <tr>\n",
       "      <th>61913</th>\n",
       "      <td>ISTJ</td>\n",
       "      <td>take easy need come gun blaze hostility downvo...</td>\n",
       "    </tr>\n",
       "    <tr>\n",
       "      <th>61914</th>\n",
       "      <td>ESFP</td>\n",
       "      <td>let remember country still gain million people...</td>\n",
       "    </tr>\n",
       "    <tr>\n",
       "      <th>61915</th>\n",
       "      <td>ESTP</td>\n",
       "      <td>cfb bigxii time man</td>\n",
       "    </tr>\n",
       "    <tr>\n",
       "      <th>61916</th>\n",
       "      <td>ESTP</td>\n",
       "      <td>fam w know common guess could see</td>\n",
       "    </tr>\n",
       "  </tbody>\n",
       "</table>\n",
       "<p>2987373 rows × 2 columns</p>\n",
       "</div>"
      ],
      "text/plain": [
       "       MBTI                                     comments_lemma\n",
       "0      INFP                                          lol leave\n",
       "1      INTP  post try tell people time always joke unless s...\n",
       "2      INFP     first thought pepsi something probably alcohol\n",
       "3      ENTP  formula something like every time say add bpm ...\n",
       "4      INTP                                         imply five\n",
       "5      INTP  well would know think lot potential technology...\n",
       "6      INFJ     sine support director actor people behind film\n",
       "7      INFP             use enough vacation day lose time roll\n",
       "8      INTP                                        angle devil\n",
       "9      INTP                      mean much influence crow ruby\n",
       "10     INTP                                  many people guess\n",
       "11     INFP                      go third date exactly breakup\n",
       "12     INFJ  want nes classic controller since already game...\n",
       "13     ENTP  maybe tongue cheek wreck body enjoy use drug e...\n",
       "14     INFP  agree consistant position support way think go...\n",
       "15     INTP    alor pas balise integr e faut faire que par css\n",
       "16     INTJ  kind strange lump vague reference religion ont...\n",
       "17     INFP  wow fuck woman kind worried child unlike fianc...\n",
       "18     ISTJ  psychotic tire kill people dark comedy edgy we...\n",
       "19     ENTP                                               like\n",
       "20     ENTP                                    hella dank dude\n",
       "21     ENTP  stat mean relatively little attempt counteract...\n",
       "22     INFP  never subreddit even british drink enough tea ...\n",
       "23     INTJ  make original comic random place see find site...\n",
       "24     INFJ                                               hmmm\n",
       "25     INTP  blue cheese smell taste exactly like vomit und...\n",
       "26     INFJ       sure also check bjorn nyland youtube channel\n",
       "27     INTP  help friend mine purchase two honda civic grea...\n",
       "28     ENTP  white kinght become princess zulul megazulul w...\n",
       "29     INFP                                          face sure\n",
       "...     ...                                                ...\n",
       "61887  ISTJ                     cutie land whale like way jose\n",
       "61888  ISTJ  talk social hierarchy issue talk issue relate ...\n",
       "61889  ISTJ                                            aventus\n",
       "61890  ISTJ  would need unleash true power verbal deception...\n",
       "61891  ISFP              writing character good rest show drag\n",
       "61892  ESTP  true hero blooregard kazoo type confirm w estp...\n",
       "61893  ISFP  definitely pride individuality sure would cons...\n",
       "61894  ESTJ                 ever issue nihilism avoid conflict\n",
       "61895  ESFJ                                know want know want\n",
       "61896  ISFJ                 well least plan rwby evo thank god\n",
       "61897  ISFP  bullshit anyway would care high type brag woul...\n",
       "61898  ESTP                                               meme\n",
       "61899  ISTJ  grasp point tripe view post call someone gun m...\n",
       "61900  ESTP  real stop lie make shit scare people edit dele...\n",
       "61901  ISFJ  uni would study economic year prior go uni stu...\n",
       "61902  ESTP  use anything projectile base like arrow bolt t...\n",
       "61903  ISFJ                                     wow hate koala\n",
       "61904  ISTJ  florida tennessee lsu georgia semifinal yes pl...\n",
       "61905  ESTJ  big annoyance disease mean sometimes helpful f...\n",
       "61906  ESFJ            try explain stuff lab partner chemistry\n",
       "61907  ESTJ  good clever title well whole post work well to...\n",
       "61908  ISFJ                          look like red tailed hawk\n",
       "61909  ESFP                            congrat graduate though\n",
       "61910  ESTP  could maybe keep tooth white white snowflake l...\n",
       "61911  ISFJ                             fruit salad think wash\n",
       "61912  ISFJ  league legends recently uninstalle release hug...\n",
       "61913  ISTJ  take easy need come gun blaze hostility downvo...\n",
       "61914  ESFP  let remember country still gain million people...\n",
       "61915  ESTP                                cfb bigxii time man\n",
       "61916  ESTP                  fam w know common guess could see\n",
       "\n",
       "[2987373 rows x 2 columns]"
      ]
     },
     "execution_count": 81,
     "metadata": {},
     "output_type": "execute_result"
    }
   ],
   "source": [
    "# save as a new file for future use\n",
    "df_clean.to_csv('token_voc.csv')"
   ]
  },
  {
   "cell_type": "markdown",
   "metadata": {},
   "source": [
    "### Drop Null Values"
   ]
  },
  {
   "cell_type": "code",
   "execution_count": 4,
   "metadata": {
    "ExecuteTime": {
     "end_time": "2019-12-09T06:46:53.713654Z",
     "start_time": "2019-12-09T06:46:53.055772Z"
    }
   },
   "outputs": [],
   "source": [
    "# remember to drop na\n",
    "data = df_clean.dropna()"
   ]
  },
  {
   "cell_type": "code",
   "execution_count": 5,
   "metadata": {
    "ExecuteTime": {
     "end_time": "2019-12-09T06:46:56.137542Z",
     "start_time": "2019-12-09T06:46:55.712090Z"
    }
   },
   "outputs": [
    {
     "data": {
      "text/plain": [
       "MBTI              0\n",
       "comments_lemma    0\n",
       "dtype: int64"
      ]
     },
     "execution_count": 5,
     "metadata": {},
     "output_type": "execute_result"
    }
   ],
   "source": [
    "data.isna().sum()"
   ]
  },
  {
   "cell_type": "markdown",
   "metadata": {},
   "source": [
    "### Split dataset to 2 files "
   ]
  },
  {
   "cell_type": "code",
   "execution_count": 10,
   "metadata": {
    "ExecuteTime": {
     "end_time": "2019-12-09T06:53:35.502863Z",
     "start_time": "2019-12-09T06:53:28.106743Z"
    }
   },
   "outputs": [],
   "source": [
    "# Split train and set dataframes and save as separate files \n",
    "train_data, test_data = train_test_split(data, test_size=0.1, random_state=42, stratify=data.MBTI)"
   ]
  },
  {
   "cell_type": "code",
   "execution_count": 11,
   "metadata": {
    "ExecuteTime": {
     "end_time": "2019-12-09T06:53:36.391633Z",
     "start_time": "2019-12-09T06:53:36.386865Z"
    }
   },
   "outputs": [
    {
     "name": "stdout",
     "output_type": "stream",
     "text": [
      "(2665071, 2)\n",
      "(296119, 2)\n"
     ]
    }
   ],
   "source": [
    "# Look at the shape of the separate datasets\n",
    "print(train_data.shape)\n",
    "print(test_data.shape)"
   ]
  },
  {
   "cell_type": "code",
   "execution_count": 12,
   "metadata": {
    "ExecuteTime": {
     "end_time": "2019-12-09T06:54:35.499059Z",
     "start_time": "2019-12-09T06:54:14.935859Z"
    }
   },
   "outputs": [],
   "source": [
    "# save files to csv for future use \n",
    "train_data.to_csv('train_data.csv')\n",
    "test_data.to_csv('test_data.csv')"
   ]
  },
  {
   "cell_type": "code",
   "execution_count": 2,
   "metadata": {
    "ExecuteTime": {
     "end_time": "2019-12-09T23:41:30.125438Z",
     "start_time": "2019-12-09T23:41:23.304944Z"
    }
   },
   "outputs": [
    {
     "name": "stderr",
     "output_type": "stream",
     "text": [
      "/home/ec2-user/anaconda3/envs/python3/lib/python3.6/site-packages/numpy/lib/arraysetops.py:472: FutureWarning: elementwise comparison failed; returning scalar instead, but in the future will perform elementwise comparison\n",
      "  mask |= (ar1 == a)\n"
     ]
    }
   ],
   "source": [
    "train_data = pd.read_csv('train_data.csv', index_col=0)"
   ]
  },
  {
   "cell_type": "code",
   "execution_count": 3,
   "metadata": {
    "ExecuteTime": {
     "end_time": "2019-12-09T23:41:37.844672Z",
     "start_time": "2019-12-09T23:41:37.841390Z"
    }
   },
   "outputs": [],
   "source": [
    "# From this moment on, we will only deal with train dataset, and will not touch test data until it's time \n",
    "# to evaluate the performance of the models, so we set train data as df \n",
    "df = train_data"
   ]
  },
  {
   "cell_type": "code",
   "execution_count": 4,
   "metadata": {
    "ExecuteTime": {
     "end_time": "2019-12-09T23:41:40.061549Z",
     "start_time": "2019-12-09T23:41:40.027641Z"
    }
   },
   "outputs": [
    {
     "data": {
      "text/html": [
       "<div>\n",
       "<style scoped>\n",
       "    .dataframe tbody tr th:only-of-type {\n",
       "        vertical-align: middle;\n",
       "    }\n",
       "\n",
       "    .dataframe tbody tr th {\n",
       "        vertical-align: top;\n",
       "    }\n",
       "\n",
       "    .dataframe thead th {\n",
       "        text-align: right;\n",
       "    }\n",
       "</style>\n",
       "<table border=\"1\" class=\"dataframe\">\n",
       "  <thead>\n",
       "    <tr style=\"text-align: right;\">\n",
       "      <th></th>\n",
       "      <th>MBTI</th>\n",
       "      <th>comments_lemma</th>\n",
       "    </tr>\n",
       "  </thead>\n",
       "  <tbody>\n",
       "    <tr>\n",
       "      <th>1166243</th>\n",
       "      <td>ENTP</td>\n",
       "      <td>like boss get shitbag estj even bad esfj real ...</td>\n",
       "    </tr>\n",
       "    <tr>\n",
       "      <th>1521404</th>\n",
       "      <td>ISTJ</td>\n",
       "      <td>netflix use downloaded version chromecast chro...</td>\n",
       "    </tr>\n",
       "    <tr>\n",
       "      <th>261951</th>\n",
       "      <td>ENTJ</td>\n",
       "      <td>dude sit next bus lot double seat leave edit w...</td>\n",
       "    </tr>\n",
       "    <tr>\n",
       "      <th>758217</th>\n",
       "      <td>INFJ</td>\n",
       "      <td>connect parent trans folk important</td>\n",
       "    </tr>\n",
       "    <tr>\n",
       "      <th>945670</th>\n",
       "      <td>ENFJ</td>\n",
       "      <td>c users yourname appdata local packages micros...</td>\n",
       "    </tr>\n",
       "    <tr>\n",
       "      <th>556009</th>\n",
       "      <td>ENTP</td>\n",
       "      <td>cheese melty bite hard messy</td>\n",
       "    </tr>\n",
       "    <tr>\n",
       "      <th>958092</th>\n",
       "      <td>INFP</td>\n",
       "      <td>lebron close elite skip bayless</td>\n",
       "    </tr>\n",
       "    <tr>\n",
       "      <th>17866</th>\n",
       "      <td>ESTP</td>\n",
       "      <td>one rectify something</td>\n",
       "    </tr>\n",
       "    <tr>\n",
       "      <th>3928</th>\n",
       "      <td>ISFP</td>\n",
       "      <td>see issue base trailer border good seem hard f...</td>\n",
       "    </tr>\n",
       "    <tr>\n",
       "      <th>1500654</th>\n",
       "      <td>INFP</td>\n",
       "      <td>joke tall woman welcome club</td>\n",
       "    </tr>\n",
       "  </tbody>\n",
       "</table>\n",
       "</div>"
      ],
      "text/plain": [
       "         MBTI                                     comments_lemma\n",
       "1166243  ENTP  like boss get shitbag estj even bad esfj real ...\n",
       "1521404  ISTJ  netflix use downloaded version chromecast chro...\n",
       "261951   ENTJ  dude sit next bus lot double seat leave edit w...\n",
       "758217   INFJ                connect parent trans folk important\n",
       "945670   ENFJ  c users yourname appdata local packages micros...\n",
       "556009   ENTP                       cheese melty bite hard messy\n",
       "958092   INFP                    lebron close elite skip bayless\n",
       "17866    ESTP                              one rectify something\n",
       "3928     ISFP  see issue base trailer border good seem hard f...\n",
       "1500654  INFP                       joke tall woman welcome club"
      ]
     },
     "execution_count": 4,
     "metadata": {},
     "output_type": "execute_result"
    }
   ],
   "source": [
    "df.head(10)"
   ]
  },
  {
   "cell_type": "markdown",
   "metadata": {},
   "source": [
    "### Balancing the Data \n",
    "\n",
    "Although I have already done some upsampling when I first import the data, the imbalanced dataset still proves to be a problem, in my opinion, when fitting the data into the classifier. In addition, the 3 million - observation dataset has become a problem when doing computation-heavy modelling or functions. My hope is that a reduce-sized dataset at this point could help with the accuracy (How wrong I was!!) and computation time (time is precious before Demo day). Therefore, I made the judgement call of undersampling the complete dataset to match the minority class. "
   ]
  },
  {
   "cell_type": "code",
   "execution_count": 5,
   "metadata": {
    "ExecuteTime": {
     "end_time": "2019-12-09T23:42:00.945342Z",
     "start_time": "2019-12-09T23:42:00.641088Z"
    }
   },
   "outputs": [
    {
     "data": {
      "text/plain": [
       "INFP    276739\n",
       "INTP    266706\n",
       "INFJ    242212\n",
       "ENTJ    228588\n",
       "ISTP    201421\n",
       "ENTP    199207\n",
       "ENFP    183483\n",
       "ENFJ    161366\n",
       "INTJ    157322\n",
       "ESTP    142569\n",
       "ISFJ    140225\n",
       "ISTJ    138619\n",
       "ISFP    126794\n",
       "ESTJ     86058\n",
       "ESFP     59558\n",
       "ESFJ     54204\n",
       "Name: MBTI, dtype: int64"
      ]
     },
     "execution_count": 5,
     "metadata": {},
     "output_type": "execute_result"
    }
   ],
   "source": [
    "# overview of data distribution \n",
    "df['MBTI'].value_counts()"
   ]
  },
  {
   "cell_type": "code",
   "execution_count": 6,
   "metadata": {
    "ExecuteTime": {
     "end_time": "2019-12-09T23:42:06.324488Z",
     "start_time": "2019-12-09T23:42:03.768396Z"
    }
   },
   "outputs": [
    {
     "data": {
      "image/png": "[encoded data removed]",
      "text/plain": [
       "<Figure size 864x576 with 1 Axes>"
      ]
     },
     "metadata": {},
     "output_type": "display_data"
    }
   ],
   "source": [
    "# plot out the distribution of data \n",
    "plt.figure(figsize=(12,8))\n",
    "plt.xticks(fontsize=12, rotation=0)\n",
    "plt.yticks(fontsize=12, rotation=0)\n",
    "sns.countplot(data=df, x=df['MBTI'],order=df['MBTI'].value_counts().index)\n",
    "plt.show()"
   ]
  },
  {
   "cell_type": "markdown",
   "metadata": {},
   "source": [
    "From the above graph we can see that the classes are highly imbalanced and they are causing a big problem to the classification models. Although the distribution reflects the personalities' distribution among the population, for this project's sake, I will have to introduce some bias - manually balancing the data. I will undersample the majorities to the same level as the minority class.\n",
    "\n",
    "A much reduced dataset will also help with the computation time."
   ]
  },
  {
   "cell_type": "code",
   "execution_count": 8,
   "metadata": {
    "ExecuteTime": {
     "end_time": "2019-12-09T23:45:43.465447Z",
     "start_time": "2019-12-09T23:45:43.366376Z"
    }
   },
   "outputs": [
    {
     "ename": "AttributeError",
     "evalue": "'DataFrame' object has no attribute 'name'",
     "output_type": "error",
     "traceback": [
      "\u001b[0;31m---------------------------------------------------------------------------\u001b[0m",
      "\u001b[0;31mAttributeError\u001b[0m                            Traceback (most recent call last)",
      "\u001b[0;32m<ipython-input-8-daeca9ba3a3f>\u001b[0m in \u001b[0;36m<module>\u001b[0;34m()\u001b[0m\n\u001b[1;32m      7\u001b[0m \u001b[0my\u001b[0m \u001b[0;34m=\u001b[0m \u001b[0mdf\u001b[0m\u001b[0;34m[\u001b[0m\u001b[0;34m[\u001b[0m\u001b[0;34m'MBTI'\u001b[0m\u001b[0;34m]\u001b[0m\u001b[0;34m]\u001b[0m\u001b[0;34m\u001b[0m\u001b[0m\n\u001b[1;32m      8\u001b[0m \u001b[0;34m\u001b[0m\u001b[0m\n\u001b[0;32m----> 9\u001b[0;31m \u001b[0mX_resampled\u001b[0m\u001b[0;34m,\u001b[0m \u001b[0my_resampled\u001b[0m \u001b[0;34m=\u001b[0m \u001b[0mrus\u001b[0m\u001b[0;34m.\u001b[0m\u001b[0mfit_resample\u001b[0m\u001b[0;34m(\u001b[0m\u001b[0mX\u001b[0m\u001b[0;34m,\u001b[0m\u001b[0my\u001b[0m\u001b[0;34m)\u001b[0m\u001b[0;34m\u001b[0m\u001b[0m\n\u001b[0m",
      "\u001b[0;32m~/anaconda3/envs/python3/lib/python3.6/site-packages/imblearn/base.py\u001b[0m in \u001b[0;36mfit_resample\u001b[0;34m(self, X, y)\u001b[0m\n\u001b[1;32m     73\u001b[0m         \"\"\"\n\u001b[1;32m     74\u001b[0m         \u001b[0mcheck_classification_targets\u001b[0m\u001b[0;34m(\u001b[0m\u001b[0my\u001b[0m\u001b[0;34m)\u001b[0m\u001b[0;34m\u001b[0m\u001b[0m\n\u001b[0;32m---> 75\u001b[0;31m         \u001b[0mX\u001b[0m\u001b[0;34m,\u001b[0m \u001b[0my\u001b[0m\u001b[0;34m,\u001b[0m \u001b[0mbinarize_y\u001b[0m \u001b[0;34m=\u001b[0m \u001b[0mself\u001b[0m\u001b[0;34m.\u001b[0m\u001b[0m_check_X_y\u001b[0m\u001b[0;34m(\u001b[0m\u001b[0mX\u001b[0m\u001b[0;34m,\u001b[0m \u001b[0my\u001b[0m\u001b[0;34m)\u001b[0m\u001b[0;34m\u001b[0m\u001b[0m\n\u001b[0m\u001b[1;32m     76\u001b[0m \u001b[0;34m\u001b[0m\u001b[0m\n\u001b[1;32m     77\u001b[0m         self.sampling_strategy_ = check_sampling_strategy(\n",
      "\u001b[0;32m~/anaconda3/envs/python3/lib/python3.6/site-packages/imblearn/under_sampling/_prototype_selection/_random_under_sampler.py\u001b[0m in \u001b[0;36m_check_X_y\u001b[0;34m(self, X, y)\u001b[0m\n\u001b[1;32m     92\u001b[0m         \u001b[0;32mif\u001b[0m \u001b[0mhasattr\u001b[0m\u001b[0;34m(\u001b[0m\u001b[0my\u001b[0m\u001b[0;34m,\u001b[0m \u001b[0;34m\"loc\"\u001b[0m\u001b[0;34m)\u001b[0m\u001b[0;34m:\u001b[0m\u001b[0;34m\u001b[0m\u001b[0m\n\u001b[1;32m     93\u001b[0m             \u001b[0;31m# store information to build a series\u001b[0m\u001b[0;34m\u001b[0m\u001b[0;34m\u001b[0m\u001b[0m\n\u001b[0;32m---> 94\u001b[0;31m             \u001b[0mself\u001b[0m\u001b[0;34m.\u001b[0m\u001b[0m_y_name\u001b[0m \u001b[0;34m=\u001b[0m \u001b[0my\u001b[0m\u001b[0;34m.\u001b[0m\u001b[0mname\u001b[0m\u001b[0;34m\u001b[0m\u001b[0m\n\u001b[0m\u001b[1;32m     95\u001b[0m             \u001b[0mself\u001b[0m\u001b[0;34m.\u001b[0m\u001b[0m_y_dtype\u001b[0m \u001b[0;34m=\u001b[0m \u001b[0my\u001b[0m\u001b[0;34m.\u001b[0m\u001b[0mdtype\u001b[0m\u001b[0;34m\u001b[0m\u001b[0m\n\u001b[1;32m     96\u001b[0m         \u001b[0;32melse\u001b[0m\u001b[0;34m:\u001b[0m\u001b[0;34m\u001b[0m\u001b[0m\n",
      "\u001b[0;32m~/anaconda3/envs/python3/lib/python3.6/site-packages/pandas/core/generic.py\u001b[0m in \u001b[0;36m__getattr__\u001b[0;34m(self, name)\u001b[0m\n\u001b[1;32m   5065\u001b[0m             \u001b[0;32mif\u001b[0m \u001b[0mself\u001b[0m\u001b[0;34m.\u001b[0m\u001b[0m_info_axis\u001b[0m\u001b[0;34m.\u001b[0m\u001b[0m_can_hold_identifiers_and_holds_name\u001b[0m\u001b[0;34m(\u001b[0m\u001b[0mname\u001b[0m\u001b[0;34m)\u001b[0m\u001b[0;34m:\u001b[0m\u001b[0;34m\u001b[0m\u001b[0m\n\u001b[1;32m   5066\u001b[0m                 \u001b[0;32mreturn\u001b[0m \u001b[0mself\u001b[0m\u001b[0;34m[\u001b[0m\u001b[0mname\u001b[0m\u001b[0;34m]\u001b[0m\u001b[0;34m\u001b[0m\u001b[0m\n\u001b[0;32m-> 5067\u001b[0;31m             \u001b[0;32mreturn\u001b[0m \u001b[0mobject\u001b[0m\u001b[0;34m.\u001b[0m\u001b[0m__getattribute__\u001b[0m\u001b[0;34m(\u001b[0m\u001b[0mself\u001b[0m\u001b[0;34m,\u001b[0m \u001b[0mname\u001b[0m\u001b[0;34m)\u001b[0m\u001b[0;34m\u001b[0m\u001b[0m\n\u001b[0m\u001b[1;32m   5068\u001b[0m \u001b[0;34m\u001b[0m\u001b[0m\n\u001b[1;32m   5069\u001b[0m     \u001b[0;32mdef\u001b[0m \u001b[0m__setattr__\u001b[0m\u001b[0;34m(\u001b[0m\u001b[0mself\u001b[0m\u001b[0;34m,\u001b[0m \u001b[0mname\u001b[0m\u001b[0;34m,\u001b[0m \u001b[0mvalue\u001b[0m\u001b[0;34m)\u001b[0m\u001b[0;34m:\u001b[0m\u001b[0;34m\u001b[0m\u001b[0m\n",
      "\u001b[0;31mAttributeError\u001b[0m: 'DataFrame' object has no attribute 'name'"
     ]
    }
   ],
   "source": [
    "# use imblearn's randomundersampler \n",
    "from imblearn.under_sampling import RandomUnderSampler\n",
    "\n",
    "rus = RandomUnderSampler()\n",
    "\n",
    "X = df[['comments_lemma']]\n",
    "y = df[['MBTI']]\n",
    "\n",
    "X_resampled, y_resampled = rus.fit_resample(X,y)"
   ]
  },
  {
   "cell_type": "code",
   "execution_count": 54,
   "metadata": {
    "ExecuteTime": {
     "end_time": "2019-12-10T00:17:47.514426Z",
     "start_time": "2019-12-10T00:17:46.195696Z"
    }
   },
   "outputs": [],
   "source": [
    "# convert resamped X and y to series and join back together as a new df \n",
    "X_resampled = pd.Series(X_resampled.tolist()).apply(lambda x: ' '.join(x))\n",
    "y_resampled = pd.Series(y_resampled.tolist()).apply(lambda x: ' '.join(x))\n",
    "\n",
    "# put the X_resample and y_resampled back together to a df \n",
    "df_resampled = pd.concat([X_resampled,y_resampled],axis=1).reset_index(drop=True)\n",
    "df_resampled.columns = ['text', 'MBTI']"
   ]
  },
  {
   "cell_type": "code",
   "execution_count": 56,
   "metadata": {
    "ExecuteTime": {
     "end_time": "2019-12-10T00:18:05.172058Z",
     "start_time": "2019-12-10T00:18:05.158539Z"
    }
   },
   "outputs": [
    {
     "data": {
      "text/html": [
       "<div>\n",
       "<style scoped>\n",
       "    .dataframe tbody tr th:only-of-type {\n",
       "        vertical-align: middle;\n",
       "    }\n",
       "\n",
       "    .dataframe tbody tr th {\n",
       "        vertical-align: top;\n",
       "    }\n",
       "\n",
       "    .dataframe thead th {\n",
       "        text-align: right;\n",
       "    }\n",
       "</style>\n",
       "<table border=\"1\" class=\"dataframe\">\n",
       "  <thead>\n",
       "    <tr style=\"text-align: right;\">\n",
       "      <th></th>\n",
       "      <th>text</th>\n",
       "      <th>MBTI</th>\n",
       "    </tr>\n",
       "  </thead>\n",
       "  <tbody>\n",
       "    <tr>\n",
       "      <td>0</td>\n",
       "      <td>video like particular downvote show tutorial r...</td>\n",
       "      <td>ENFJ</td>\n",
       "    </tr>\n",
       "    <tr>\n",
       "      <td>1</td>\n",
       "      <td>tolkien middle earth book especially silnarill...</td>\n",
       "      <td>ENFJ</td>\n",
       "    </tr>\n",
       "    <tr>\n",
       "      <td>2</td>\n",
       "      <td>halfway inferno shut amazing</td>\n",
       "      <td>ENFJ</td>\n",
       "    </tr>\n",
       "    <tr>\n",
       "      <td>3</td>\n",
       "      <td>must precise eye color green neutral l oreal p...</td>\n",
       "      <td>ENFJ</td>\n",
       "    </tr>\n",
       "    <tr>\n",
       "      <td>4</td>\n",
       "      <td>dunno expert acquisition work assume big role ...</td>\n",
       "      <td>ENFJ</td>\n",
       "    </tr>\n",
       "    <tr>\n",
       "      <td>5</td>\n",
       "      <td>geez totally miss fact mean literally win thin...</td>\n",
       "      <td>ENFJ</td>\n",
       "    </tr>\n",
       "    <tr>\n",
       "      <td>6</td>\n",
       "      <td>really fucking old</td>\n",
       "      <td>ENFJ</td>\n",
       "    </tr>\n",
       "    <tr>\n",
       "      <td>7</td>\n",
       "      <td>volunteer tribute</td>\n",
       "      <td>ENFJ</td>\n",
       "    </tr>\n",
       "    <tr>\n",
       "      <td>8</td>\n",
       "      <td>enfp</td>\n",
       "      <td>ENFJ</td>\n",
       "    </tr>\n",
       "    <tr>\n",
       "      <td>9</td>\n",
       "      <td>nope go freewill</td>\n",
       "      <td>ENFJ</td>\n",
       "    </tr>\n",
       "  </tbody>\n",
       "</table>\n",
       "</div>"
      ],
      "text/plain": [
       "                                                text  MBTI\n",
       "0  video like particular downvote show tutorial r...  ENFJ\n",
       "1  tolkien middle earth book especially silnarill...  ENFJ\n",
       "2                       halfway inferno shut amazing  ENFJ\n",
       "3  must precise eye color green neutral l oreal p...  ENFJ\n",
       "4  dunno expert acquisition work assume big role ...  ENFJ\n",
       "5  geez totally miss fact mean literally win thin...  ENFJ\n",
       "6                                 really fucking old  ENFJ\n",
       "7                                  volunteer tribute  ENFJ\n",
       "8                                               enfp  ENFJ\n",
       "9                                   nope go freewill  ENFJ"
      ]
     },
     "execution_count": 56,
     "metadata": {},
     "output_type": "execute_result"
    }
   ],
   "source": [
    "df_resampled.head(10)"
   ]
  },
  {
   "cell_type": "code",
   "execution_count": 55,
   "metadata": {
    "ExecuteTime": {
     "end_time": "2019-12-10T00:17:52.400031Z",
     "start_time": "2019-12-10T00:17:52.286471Z"
    }
   },
   "outputs": [
    {
     "data": {
      "text/plain": [
       "ENTJ    54204\n",
       "ENTP    54204\n",
       "ESTP    54204\n",
       "INFJ    54204\n",
       "ENFJ    54204\n",
       "ISTJ    54204\n",
       "ESTJ    54204\n",
       "ISTP    54204\n",
       "ISFJ    54204\n",
       "ESFJ    54204\n",
       "INFP    54204\n",
       "ISFP    54204\n",
       "INTJ    54204\n",
       "ENFP    54204\n",
       "INTP    54204\n",
       "ESFP    54204\n",
       "Name: MBTI, dtype: int64"
      ]
     },
     "execution_count": 55,
     "metadata": {},
     "output_type": "execute_result"
    }
   ],
   "source": [
    "# count the values again \n",
    "df_resampled['MBTI'].value_counts()"
   ]
  },
  {
   "cell_type": "code",
   "execution_count": 57,
   "metadata": {
    "ExecuteTime": {
     "end_time": "2019-12-10T00:19:04.536190Z",
     "start_time": "2019-12-10T00:18:57.844754Z"
    }
   },
   "outputs": [],
   "source": [
    "# save the resampled dataset as csv file for future use\n",
    "df_resampled.to_csv('../../clean_data/resampled.csv')"
   ]
  },
  {
   "cell_type": "markdown",
   "metadata": {},
   "source": [
    "### TFIDF Vectorizer - Find the top words "
   ]
  },
  {
   "cell_type": "code",
   "execution_count": 3,
   "metadata": {
    "ExecuteTime": {
     "end_time": "2019-12-11T05:11:29.175169Z",
     "start_time": "2019-12-11T05:11:29.171344Z"
    }
   },
   "outputs": [],
   "source": [
    "list_personality = df_resampled['MBTI']\n",
    "list_posts = df_resampled['text']"
   ]
  },
  {
   "cell_type": "code",
   "execution_count": 9,
   "metadata": {
    "ExecuteTime": {
     "end_time": "2019-12-11T05:39:08.676612Z",
     "start_time": "2019-12-11T05:39:08.601556Z"
    }
   },
   "outputs": [],
   "source": [
    "list_posts_enfj = df_resampled.loc[df_resampled['MBTI']=='ENFJ', 'text']"
   ]
  },
  {
   "cell_type": "code",
   "execution_count": 4,
   "metadata": {
    "ExecuteTime": {
     "end_time": "2019-12-11T05:16:51.182946Z",
     "start_time": "2019-12-11T05:14:43.701634Z"
    }
   },
   "outputs": [],
   "source": [
    "# vectorize with count vectorizer \n",
    "\n",
    "from sklearn.feature_extraction.text import CountVectorizer, TfidfVectorizer\n",
    "cnvectorizer = CountVectorizer(tokenizer=None,    \n",
    "                             preprocessor=None, \n",
    "                             stop_words=None,  \n",
    "                             ngram_range=(1,2)) "
   ]
  },
  {
   "cell_type": "code",
   "execution_count": 4,
   "metadata": {
    "ExecuteTime": {
     "end_time": "2019-12-11T05:45:51.655362Z",
     "start_time": "2019-12-11T05:43:35.811549Z"
    }
   },
   "outputs": [],
   "source": [
    "MBTI_list = ['ENFJ', 'ENFP', 'ENTJ', 'ENTP', 'ESFJ', 'ESFP', 'ESTJ', 'ESTP', 'INFJ', 'INFP', 'INTJ','INTP','ISFJ','ISFP','ISTJ','ISTP']"
   ]
  },
  {
   "cell_type": "code",
   "execution_count": 6,
   "metadata": {
    "ExecuteTime": {
     "start_time": "2019-12-11T05:47:40.407Z"
    }
   },
   "outputs": [],
   "source": [
    "# Vectorize with count and tf-idf\n",
    "# keep the words appearing in 1000 to 90% of the posts.\n",
    "# ngram is set to 2\n",
    "\n",
    "from sklearn.feature_extraction.text import CountVectorizer, TfidfVectorizer\n",
    "\n",
    "tfidfizer = TfidfVectorizer(tokenizer=None,    \n",
    "                             preprocessor=None, \n",
    "                             stop_words=None,  \n",
    "                             ngram_range=(1,2),\n",
    "                             max_df=0.9,\n",
    "                             min_df=1000) \n",
    "                           \n",
    "#X_cnt = cntizer.fit_transform(list_posts).toarray()                                 \n",
    "X_tfidf = tfidfizer.fit_transform(list_posts).toarray()"
   ]
  },
  {
   "cell_type": "code",
   "execution_count": 15,
   "metadata": {},
   "outputs": [
    {
     "name": "stdout",
     "output_type": "stream",
     "text": [
      "The Most Frequently Used Words for ENFJ is:  ['google', 'love', 'sure', 'zone', 'forward']\n",
      "The Most Frequently Used Bigrams for ENFJ is:  ['find way', 'first place', 'first time', 'good job', 'good idea']\n",
      "The Most Frequently Used Words for ENFP is:  ['good', 'recall', 'tree', 'ground', 'exact']\n",
      "The Most Frequently Used Bigrams for ENFP is:  ['last night', 'find way', 'first place', 'first time', 'good friend']\n",
      "The Most Frequently Used Words for ENTJ is:  ['lie', 'cheat', 'website', 'put', 'person']\n",
      "The Most Frequently Used Bigrams for ENTJ is:  ['find way', 'first time', 'first place', 'good idea', 'good friend']\n",
      "The Most Frequently Used Words for ENTP is:  ['alternative', 'see', 'really', 'zone', 'forum']\n",
      "The Most Frequently Used Bigrams for ENTP is:  ['find way', 'first place', 'first time', 'good luck', 'good job']\n",
      "The Most Frequently Used Words for ESFJ is:  ['please', 'zone', 'forward', 'french', 'freedom']\n",
      "The Most Frequently Used Bigrams for ESFJ is:  ['find way', 'first time', 'first place', 'good one', 'good luck']\n",
      "The Most Frequently Used Words for ESFP is:  ['like', 'keep', 'yeah', 'back', 'feel']\n",
      "The Most Frequently Used Bigrams for ESFP is:  ['feel like', 'like good', 'go back', 'find way', 'first place']\n",
      "The Most Frequently Used Words for ESTJ is:  ['faster', 'role', 'make', 'come', 'pro']\n",
      "The Most Frequently Used Bigrams for ESTJ is:  ['would still', 'would make', 'first time', 'first place', 'find way']\n",
      "The Most Frequently Used Words for ESTP is:  ['step', 'take', 'zone', 'foot', 'free']\n",
      "The Most Frequently Used Bigrams for ESTP is:  ['find way', 'first place', 'first time', 'good job', 'good idea']\n",
      "The Most Frequently Used Words for INFJ is:  ['funny', 'sub', 'also', 'people', 'one']\n",
      "The Most Frequently Used Bigrams for INFJ is:  ['first time', 'first place', 'find way', 'good one', 'good luck']\n",
      "The Most Frequently Used Words for INFP is:  ['training', 'destroy', 'anti', 'five', 'minute']\n",
      "The Most Frequently Used Bigrams for INFP is:  ['good friend', 'first time', 'first place', 'find way', 'good luck']\n",
      "The Most Frequently Used Words for INTJ is:  ['low', 'also', 'dinner', 'food', 'include']\n",
      "The Most Frequently Used Bigrams for INTJ is:  ['find way', 'first time', 'first place', 'good job', 'good idea']\n",
      "The Most Frequently Used Words for INTP is:  ['zone', 'gt', 'french', 'freedom', 'free']\n",
      "The Most Frequently Used Bigrams for INTP is:  ['find way', 'first place', 'first time', 'good one', 'good luck']\n",
      "The Most Frequently Used Words for ISFJ is:  ['rich', 'smart', 'zone', 'forum', 'freedom']\n",
      "The Most Frequently Used Bigrams for ISFJ is:  ['find way', 'first place', 'first time', 'good luck', 'good job']\n",
      "The Most Frequently Used Words for ISFP is:  ['hello', 'url', 'forward', 'french', 'freedom']\n",
      "The Most Frequently Used Bigrams for ISFP is:  ['find way', 'first time', 'first place', 'good one', 'good luck']\n",
      "The Most Frequently Used Words for ISTJ is:  ['personal', 'hope', 'first', 'something', 'french']\n",
      "The Most Frequently Used Bigrams for ISTJ is:  ['find way', 'first place', 'first time', 'good job', 'good idea']\n",
      "The Most Frequently Used Words for ISTP is:  ['laugh', 'concerned', 'smile', 'people', 'easily']\n",
      "The Most Frequently Used Bigrams for ISTP is:  ['think could', 'people would', 'would make', 'feel like', 'find way']\n"
     ]
    }
   ],
   "source": [
    "# Find out the top 5 words/phrases for each personalities\n",
    "n = 5\n",
    "\n",
    "for personality in MBTI_list:\n",
    "    list_post_type = df_resampled.loc[df_resampled['MBTI'] == personality, 'text']\n",
    "    list_tfidf = tfidfizer.transform(list_post_type)\n",
    "    \n",
    "    feature_array = np.array(tfidfizer.get_feature_names())\n",
    "    tfidf_sorting = np.argsort(list_tfidf.toarray()).flatten()[::-1]\n",
    "    \n",
    "    sorted_feature =feature_array[tfidf_sorting]\n",
    "    \n",
    "    unigrams = [v for v in sorted_feature if len(v.split(' ')) == 1]\n",
    "    bigrams = [v for v in sorted_feature if len(v.split(' ')) == 2]\n",
    "\n",
    "    \n",
    "    print('The Most Frequently Used Words for', personality, 'is: ', unigrams[:n])\n",
    "    print('The Most Frequently Used Bigrams for', personality, 'is: ', bigrams[:n])"
   ]
  },
  {
   "cell_type": "code",
   "execution_count": 47,
   "metadata": {
    "ExecuteTime": {
     "end_time": "2019-12-10T00:20:33.330205Z",
     "start_time": "2019-12-10T00:20:33.290166Z"
    }
   },
   "outputs": [
    {
     "data": {
      "text/plain": [
       "{'video': 2170,\n",
       " 'like': 1113,\n",
       " 'particular': 1414,\n",
       " 'downvote': 535,\n",
       " 'show': 1803,\n",
       " 'really': 1614,\n",
       " 'helpful': 903,\n",
       " 'steal': 1898,\n",
       " 'waste': 2195,\n",
       " 'people': 1430,\n",
       " 'time': 2057,\n",
       " 'generally': 798,\n",
       " 'wrong': 2292,\n",
       " 'dick': 502,\n",
       " 'also': 63,\n",
       " 'one': 1369,\n",
       " 'actually': 26,\n",
       " 'make': 1182,\n",
       " 'personal': 1455,\n",
       " 'attack': 140,\n",
       " 'waste time': 2196,\n",
       " 'middle': 1249,\n",
       " 'earth': 559,\n",
       " 'book': 225,\n",
       " 'especially': 618,\n",
       " 'write': 2289,\n",
       " 'love': 1166,\n",
       " 'old': 1367,\n",
       " 'influence': 983,\n",
       " 'want': 2186,\n",
       " 'create': 432,\n",
       " 'explain': 666,\n",
       " 'know': 1060,\n",
       " 'language': 1073,\n",
       " 'develop': 499,\n",
       " 'change': 294,\n",
       " 'focus': 753,\n",
       " 'lot': 1161,\n",
       " 'fine': 733,\n",
       " 'find': 731,\n",
       " 'need': 1314,\n",
       " 'story': 1910,\n",
       " 'child': 304,\n",
       " 'kid': 1053,\n",
       " 'connect': 382,\n",
       " 'main': 1177,\n",
       " 'work': 2252,\n",
       " 'shut': 1805,\n",
       " 'amazing': 71,\n",
       " 'must': 1298,\n",
       " 'eye': 677,\n",
       " 'color': 340,\n",
       " 'green': 859,\n",
       " 'neutral': 1321,\n",
       " 'match': 1211,\n",
       " 'perfectly': 1449,\n",
       " 'dunno': 553,\n",
       " 'expert': 665,\n",
       " 'assume': 136,\n",
       " 'big': 203,\n",
       " 'role': 1702,\n",
       " 'since': 1815,\n",
       " 'high': 908,\n",
       " 'member': 1237,\n",
       " 'speak': 1867,\n",
       " 'highly': 910,\n",
       " 'totally': 2080,\n",
       " 'miss': 1262,\n",
       " 'fact': 680,\n",
       " 'mean': 1225,\n",
       " 'literally': 1135,\n",
       " 'win': 2238,\n",
       " 'think': 2021,\n",
       " 'could': 412,\n",
       " 'fucking': 782,\n",
       " 'enfp': 595,\n",
       " 'nope': 1338,\n",
       " 'go': 828,\n",
       " 'guy': 871,\n",
       " 'play': 1482,\n",
       " 'sex': 1783,\n",
       " 'therapist': 2007,\n",
       " 'okay': 1366,\n",
       " 'question': 1577,\n",
       " 'somewhat': 1854,\n",
       " 'related': 1651,\n",
       " 'topic': 2078,\n",
       " 'hand': 878,\n",
       " 'engage': 596,\n",
       " 'discussion': 520,\n",
       " 'frame': 769,\n",
       " 'vary': 2165,\n",
       " 'depend': 486,\n",
       " 'person': 1454,\n",
       " 'generation': 799,\n",
       " 'current': 448,\n",
       " 'stage': 1885,\n",
       " 'life': 1110,\n",
       " 'marry': 1207,\n",
       " 'etc': 624,\n",
       " 'social': 1838,\n",
       " 'status': 1896,\n",
       " 'gender': 796,\n",
       " 'certain': 289,\n",
       " 'tend': 1994,\n",
       " 'best': 197,\n",
       " 'type': 2123,\n",
       " 'lol': 1147,\n",
       " 'comment': 351,\n",
       " 'someone': 1848,\n",
       " 'else': 580,\n",
       " 'separate': 1771,\n",
       " 'post': 1509,\n",
       " 'copy': 406,\n",
       " 'hate': 890,\n",
       " 'thing': 2011,\n",
       " 'dominant': 530,\n",
       " 'example': 649,\n",
       " 'say': 1728,\n",
       " 'value': 2162,\n",
       " 'opinion': 1385,\n",
       " 'almost': 57,\n",
       " 'every': 634,\n",
       " 'decision': 473,\n",
       " 'without': 2247,\n",
       " 'clearly': 325,\n",
       " 'something': 1850,\n",
       " 'disagree': 517,\n",
       " 'someone else': 1849,\n",
       " 'could say': 417,\n",
       " 'feel': 710,\n",
       " 'front': 779,\n",
       " 'lack': 1069,\n",
       " 'detail': 497,\n",
       " 'rest': 1682,\n",
       " 'image': 960,\n",
       " 'good': 839,\n",
       " 'job': 1038,\n",
       " 'feel like': 714,\n",
       " 'really like': 1621,\n",
       " 'like good': 1116,\n",
       " 'good job': 843,\n",
       " 'tbh': 1980,\n",
       " 'enfj': 594,\n",
       " 'take': 1969,\n",
       " 'home': 923,\n",
       " 'school': 1743,\n",
       " 'strong': 1922,\n",
       " 'around': 123,\n",
       " 'see': 1757,\n",
       " 'pretty': 1526,\n",
       " 'much': 1290,\n",
       " 'everything': 642,\n",
       " 'consider': 387,\n",
       " 'opposite': 1388,\n",
       " 'different': 506,\n",
       " 'gt': 865,\n",
       " 'idea': 949,\n",
       " 'interest': 1005,\n",
       " 'future': 789,\n",
       " 'imagine': 961,\n",
       " 'user': 2156,\n",
       " 'explore': 668,\n",
       " 'information': 985,\n",
       " 'seem': 1761,\n",
       " 'rather': 1598,\n",
       " 'manner': 1198,\n",
       " 'enjoy': 601,\n",
       " 'useful': 2154,\n",
       " 'ridiculous': 1693,\n",
       " 'source': 1864,\n",
       " 'theme': 2005,\n",
       " 'store': 1909,\n",
       " 'apply': 113,\n",
       " 'elsewhere': 581,\n",
       " 'understand': 2131,\n",
       " 'well': 2218,\n",
       " 'enough': 603,\n",
       " 'move': 1287,\n",
       " 'maybe': 1222,\n",
       " 'exactly': 648,\n",
       " 'get': 805,\n",
       " 'obsess': 1353,\n",
       " 'brain': 238,\n",
       " 'culture': 444,\n",
       " 'interesting': 1007,\n",
       " 'individual': 979,\n",
       " 'boring': 229,\n",
       " 'usually': 2159,\n",
       " 'talk': 1972,\n",
       " 'easy': 562,\n",
       " 'put': 1574,\n",
       " 'context': 396,\n",
       " 'tho': 2039,\n",
       " 'small': 1832,\n",
       " 'town': 2085,\n",
       " 'family': 691,\n",
       " 'bring': 242,\n",
       " 'attract': 145,\n",
       " 'statement': 1894,\n",
       " 'necessarily': 1312,\n",
       " 'experience': 663,\n",
       " 'laugh': 1083,\n",
       " 'introvert': 1016,\n",
       " 'parent': 1411,\n",
       " 'probably': 1540,\n",
       " 'sometimes': 1853,\n",
       " 'remember': 1663,\n",
       " 'refer': 1640,\n",
       " 'many': 1199,\n",
       " 'friend': 776,\n",
       " 'stay': 1897,\n",
       " 'room': 1705,\n",
       " 'recently': 1633,\n",
       " 'force': 759,\n",
       " 'bad': 163,\n",
       " 'avoid': 154,\n",
       " 'right': 1694,\n",
       " 'normal': 1339,\n",
       " 'christian': 312,\n",
       " 'mature': 1216,\n",
       " 'either': 576,\n",
       " 'read': 1604,\n",
       " 'fiction': 721,\n",
       " 'classic': 322,\n",
       " 'hold': 919,\n",
       " 'sound': 1862,\n",
       " 'infj': 982,\n",
       " 'hard': 884,\n",
       " 'male': 1193,\n",
       " 'affect': 40,\n",
       " 'include': 971,\n",
       " 'however': 937,\n",
       " 'plan': 1479,\n",
       " 'suggest': 1942,\n",
       " 'charge': 297,\n",
       " 'host': 933,\n",
       " 'care': 274,\n",
       " 'look': 1152,\n",
       " 'mind': 1254,\n",
       " 'happiness': 882,\n",
       " 'positive': 1505,\n",
       " 'emotion': 583,\n",
       " 'would': 2259,\n",
       " 'negative': 1316,\n",
       " 'ruin': 1712,\n",
       " 'everybody': 638,\n",
       " 'mood': 1278,\n",
       " 'sell': 1765,\n",
       " 'aware': 155,\n",
       " 'everyone': 640,\n",
       " 'power': 1513,\n",
       " 'terrible': 1997,\n",
       " 'memory': 1239,\n",
       " 'past': 1422,\n",
       " 'definitely': 480,\n",
       " 'try': 2113,\n",
       " 'although': 68,\n",
       " 'overly': 1401,\n",
       " 'several': 1781,\n",
       " 'always': 69,\n",
       " 'sure': 1953,\n",
       " 'happy': 883,\n",
       " 'haha': 874,\n",
       " 'trouble': 2107,\n",
       " 'loud': 1165,\n",
       " 'college': 339,\n",
       " 'note': 1342,\n",
       " 'ability': 0,\n",
       " 'group': 862,\n",
       " 'use': 2153,\n",
       " 'come': 345,\n",
       " 'naturally': 1306,\n",
       " 'least': 1092,\n",
       " 'difference': 505,\n",
       " 'form': 763,\n",
       " 'structure': 1924,\n",
       " 'subject': 1933,\n",
       " 'input': 989,\n",
       " 'datum': 463,\n",
       " 'conclusion': 373,\n",
       " 'completely': 365,\n",
       " 'obvious': 1354,\n",
       " 'anyway': 100,\n",
       " 'give': 824,\n",
       " 'url': 2148,\n",
       " 'content': 395,\n",
       " 'php': 1464,\n",
       " 'mbti': 1223,\n",
       " 'inferior': 981,\n",
       " 'pretty much': 1528,\n",
       " 'good one': 845,\n",
       " 'lot people': 1162,\n",
       " 'people want': 1443,\n",
       " 'feel good': 713,\n",
       " 'make feel': 1184,\n",
       " 'feel bad': 711,\n",
       " 'good thing': 847,\n",
       " 'want get': 2187,\n",
       " 'sound like': 1863,\n",
       " 'look like': 1155,\n",
       " 'would rather': 2278,\n",
       " 'everyone else': 641,\n",
       " 'make sure': 1189,\n",
       " 'think really': 2033,\n",
       " 'bad thing': 164,\n",
       " 'fuck': 781,\n",
       " 'discover': 518,\n",
       " 'fantastic': 693,\n",
       " 'damn': 458,\n",
       " 'reasonable': 1628,\n",
       " 'back': 161,\n",
       " 'specific': 1869,\n",
       " 'provide': 1563,\n",
       " 'evidence': 645,\n",
       " 'point': 1490,\n",
       " 'deny': 485,\n",
       " 'nothing': 1343,\n",
       " 'worth': 2258,\n",
       " 'live': 1138,\n",
       " 'level': 1106,\n",
       " 'cold': 336,\n",
       " 'realise': 1610,\n",
       " 'common': 354,\n",
       " 'argument': 119,\n",
       " 'website': 2210,\n",
       " 'trump': 2110,\n",
       " 'organization': 1392,\n",
       " 'trust': 2111,\n",
       " 'even': 626,\n",
       " 'way': 2200,\n",
       " 'first': 737,\n",
       " 'date': 462,\n",
       " 'test': 1998,\n",
       " 'anyone': 96,\n",
       " 'score': 1746,\n",
       " 'anything': 98,\n",
       " 'anything else': 99,\n",
       " 'tone': 2073,\n",
       " 'may': 1218,\n",
       " 'though': 2040,\n",
       " 'intj': 1013,\n",
       " 'tendency': 1995,\n",
       " 'compliment': 368,\n",
       " 'ear': 555,\n",
       " 'fast': 698,\n",
       " 'hour': 935,\n",
       " 'death': 468,\n",
       " 'share': 1790,\n",
       " 'road': 1699,\n",
       " 'dad': 455,\n",
       " 'five': 742,\n",
       " 'figure': 724,\n",
       " 'cream': 431,\n",
       " 'important': 966,\n",
       " 'part': 1413,\n",
       " 'whole': 2229,\n",
       " 'wall': 2184,\n",
       " 'behind': 190,\n",
       " 'taste': 1978,\n",
       " 'would good': 2268,\n",
       " 'hell': 900,\n",
       " 'able': 1,\n",
       " 'would able': 2260,\n",
       " 'wow': 2288,\n",
       " 'act': 18,\n",
       " 'year': 2297,\n",
       " 'act like': 19,\n",
       " 'year old': 2299,\n",
       " 'useless': 2155,\n",
       " 'side': 1807,\n",
       " 'character': 296,\n",
       " 'strange': 1912,\n",
       " 'business': 256,\n",
       " 'long': 1148,\n",
       " 'relevant': 1658,\n",
       " 'remind': 1664,\n",
       " 'reason': 1627,\n",
       " 'hahaha': 875,\n",
       " 'curious': 447,\n",
       " 'thank': 2002,\n",
       " 'response': 1679,\n",
       " 'us': 2152,\n",
       " 'concern': 371,\n",
       " 'program': 1552,\n",
       " 'approach': 115,\n",
       " 'proper': 1557,\n",
       " 'obviously': 1355,\n",
       " 'debate': 469,\n",
       " 'trend': 2102,\n",
       " 'like lot': 1118,\n",
       " 'still': 1904,\n",
       " 'sign': 1808,\n",
       " 'yeah': 2296,\n",
       " 'another': 88,\n",
       " 'cat': 282,\n",
       " 'similar': 1811,\n",
       " 'design': 493,\n",
       " 'house': 936,\n",
       " 'accidentally': 10,\n",
       " 'somehow': 1847,\n",
       " 'outside': 1399,\n",
       " 'door': 531,\n",
       " 'run': 1714,\n",
       " 'inside': 991,\n",
       " 'pretty sure': 1529,\n",
       " 'pink': 1474,\n",
       " 'think one': 2031,\n",
       " 'regard': 1644,\n",
       " 'stereotype': 1902,\n",
       " 'believe': 192,\n",
       " 'automatically': 151,\n",
       " 'real': 1608,\n",
       " 'infp': 986,\n",
       " 'end': 591,\n",
       " 'relationship': 1653,\n",
       " 'criticism': 438,\n",
       " 'towards': 2084,\n",
       " 'forum': 766,\n",
       " 'due': 551,\n",
       " 'intuitive': 1019,\n",
       " 'bias': 201,\n",
       " 'notice': 1344,\n",
       " 'nearly': 1310,\n",
       " 'online': 1381,\n",
       " 'large': 1074,\n",
       " 'portion': 1503,\n",
       " 'community': 357,\n",
       " 'self': 1763,\n",
       " 'visit': 2175,\n",
       " 'better': 199,\n",
       " 'theory': 2006,\n",
       " 'argue': 118,\n",
       " 'society': 1840,\n",
       " 'estj': 622,\n",
       " 'man': 1194,\n",
       " 'seek': 1760,\n",
       " 'attitude': 144,\n",
       " 'stuff': 1928,\n",
       " 'trait': 2092,\n",
       " 'woman': 2248,\n",
       " 'let': 1102,\n",
       " 'sensitive': 1768,\n",
       " 'sweet': 1962,\n",
       " 'passive': 1421,\n",
       " 'yes': 2303,\n",
       " 'agree': 47,\n",
       " 'issue': 1028,\n",
       " 'dynamic': 554,\n",
       " 'incredibly': 975,\n",
       " 'complex': 366,\n",
       " 'whatever': 2223,\n",
       " 'problem': 1543,\n",
       " 'strength': 1917,\n",
       " 'real life': 1609,\n",
       " 'many people': 1200,\n",
       " 'seriously': 1774,\n",
       " 'month': 1276,\n",
       " 'never': 1322,\n",
       " 'claim': 319,\n",
       " 'nation': 1302,\n",
       " 'amount': 77,\n",
       " 'little': 1136,\n",
       " 'slow': 1830,\n",
       " 'effort': 573,\n",
       " 'lose': 1159,\n",
       " 'hope': 927,\n",
       " 'difficult': 509,\n",
       " 'twice': 2119,\n",
       " 'threat': 2045,\n",
       " 'rid': 1691,\n",
       " 'harm': 888,\n",
       " 'young': 2306,\n",
       " 'guilty': 869,\n",
       " 'ever': 632,\n",
       " 'may get': 1219,\n",
       " 'get rid': 817,\n",
       " 'burn': 254,\n",
       " 'bitch': 210,\n",
       " 'thought': 2042,\n",
       " 'close': 327,\n",
       " 'remove': 1665,\n",
       " 'fear': 706,\n",
       " 'hurt': 946,\n",
       " 'fully': 784,\n",
       " 'open': 1383,\n",
       " 'close friend': 328,\n",
       " 'think may': 2029,\n",
       " 'dollar': 528,\n",
       " 'black': 212,\n",
       " 'plain': 1478,\n",
       " 'paper': 1410,\n",
       " 'special': 1868,\n",
       " 'solid': 1843,\n",
       " 'fix': 743,\n",
       " 'stress': 1918,\n",
       " 'kinda': 1056,\n",
       " 'jump': 1045,\n",
       " 'silly': 1810,\n",
       " 'nervous': 1318,\n",
       " 'worry': 2257,\n",
       " 'sort': 1860,\n",
       " 'head': 891,\n",
       " 'together': 2070,\n",
       " 'please': 1485,\n",
       " 'take time': 1971,\n",
       " 'happen': 881,\n",
       " 'shit': 1794,\n",
       " 'album': 52,\n",
       " 'pant': 1409,\n",
       " 'welcome': 2217,\n",
       " 'fashion': 697,\n",
       " 'length': 1098,\n",
       " 'link': 1132,\n",
       " 'immediately': 962,\n",
       " 'properly': 1558,\n",
       " 'along': 59,\n",
       " 'joke': 1041,\n",
       " 'anyways': 101,\n",
       " 'go get': 831,\n",
       " 'series': 1772,\n",
       " 'rock': 1701,\n",
       " 'mechanic': 1230,\n",
       " 'depth': 489,\n",
       " 'universe': 2138,\n",
       " 'follow': 755,\n",
       " 'two': 2121,\n",
       " 'game': 791,\n",
       " 'combat': 342,\n",
       " 'bit': 209,\n",
       " 'crap': 428,\n",
       " 'gear': 795,\n",
       " 'choose': 310,\n",
       " 'amp': 78,\n",
       " 'top': 2077,\n",
       " 'spot': 1880,\n",
       " 'honestly': 925,\n",
       " 'jpg': 1042,\n",
       " 'original': 1395,\n",
       " 'process': 1544,\n",
       " 'increase': 973,\n",
       " 'become': 184,\n",
       " 'reality': 1612,\n",
       " 'stand': 1886,\n",
       " 'matter': 1215,\n",
       " 'contact': 393,\n",
       " 'express': 669,\n",
       " 'feeling': 717,\n",
       " 'action': 20,\n",
       " 'overall': 1400,\n",
       " 'would say': 2281,\n",
       " 'function': 786,\n",
       " 'lead': 1087,\n",
       " 'day': 465,\n",
       " 'one day': 1370,\n",
       " 'confident': 376,\n",
       " 'party': 1417,\n",
       " 'tired': 2065,\n",
       " 'mad': 1175,\n",
       " 'internet': 1009,\n",
       " 'jealous': 1035,\n",
       " 'lately': 1080,\n",
       " 'meme': 1238,\n",
       " 'indeed': 976,\n",
       " 'weird': 2216,\n",
       " 'combination': 343,\n",
       " 'skin': 1824,\n",
       " 'soon': 1858,\n",
       " 'clear': 324,\n",
       " 'necessary': 1313,\n",
       " 'would like': 2270,\n",
       " 'brother': 244,\n",
       " 'movie': 1289,\n",
       " 'watch': 2197,\n",
       " 'summer': 1946,\n",
       " 'week': 2213,\n",
       " 'half': 877,\n",
       " 'like say': 1123,\n",
       " 'total': 2079,\n",
       " 'loss': 1160,\n",
       " 'eat': 563,\n",
       " 'word': 2251,\n",
       " 'humor': 944,\n",
       " 'husband': 947,\n",
       " 'tell': 1991,\n",
       " 'interested': 1006,\n",
       " 'previous': 1532,\n",
       " 'grow': 863,\n",
       " 'ton': 2072,\n",
       " 'beautiful': 183,\n",
       " 'complete': 364,\n",
       " 'asshole': 134,\n",
       " 'intp': 1014,\n",
       " 'quite': 1582,\n",
       " 'unit': 2136,\n",
       " 'quite bit': 1583,\n",
       " 'even though': 629,\n",
       " 'really want': 1625,\n",
       " 'great': 858,\n",
       " 'king': 1057,\n",
       " 'dr': 536,\n",
       " 'doctor': 526,\n",
       " 'patient': 1425,\n",
       " 'feed': 708,\n",
       " 'via': 2167,\n",
       " 'term': 1996,\n",
       " 'bottle': 233,\n",
       " 'adult': 35,\n",
       " 'could see': 418,\n",
       " 'long term': 1149,\n",
       " 'drive': 544,\n",
       " 'dog': 527,\n",
       " 'team': 1984,\n",
       " 'distance': 525,\n",
       " 'exercise': 656,\n",
       " 'prepare': 1520,\n",
       " 'hair': 876,\n",
       " 'would want': 2285,\n",
       " 'get one': 813,\n",
       " 'lock': 1144,\n",
       " 'teach': 1982,\n",
       " 'basic': 175,\n",
       " 'economic': 564,\n",
       " 'high school': 909,\n",
       " 'face': 678,\n",
       " 'hang': 880,\n",
       " 'sport': 1879,\n",
       " 'tie': 2052,\n",
       " 'four': 768,\n",
       " 'porn': 1502,\n",
       " 'female': 719,\n",
       " 'enemy': 592,\n",
       " 'dude': 550,\n",
       " 'press': 1523,\n",
       " 'shitty': 1795,\n",
       " 'fault': 702,\n",
       " 'go back': 830,\n",
       " 'mention': 1242,\n",
       " 'already': 60,\n",
       " 'meaning': 1226,\n",
       " 'personally': 1457,\n",
       " 'gift': 821,\n",
       " 'ago': 46,\n",
       " 'sense': 1767,\n",
       " 'hobby': 918,\n",
       " 'funny': 788,\n",
       " 'moment': 1272,\n",
       " 'spend': 1874,\n",
       " 'say want': 1734,\n",
       " 'say like': 1730,\n",
       " 'month ago': 1277,\n",
       " 'make sense': 1188,\n",
       " 'go way': 835,\n",
       " 'way get': 2201,\n",
       " 'direction': 514,\n",
       " 'across': 17,\n",
       " 'makeup': 1192,\n",
       " 'style': 1931,\n",
       " 'much well': 1293,\n",
       " 'china': 307,\n",
       " 'cost': 411,\n",
       " 'emotional': 584,\n",
       " 'robot': 1700,\n",
       " 'chinese': 308,\n",
       " 'money': 1273,\n",
       " 'player': 1484,\n",
       " 'wage': 2180,\n",
       " 'people use': 1442,\n",
       " 'night': 1333,\n",
       " 'confused': 380,\n",
       " 'attention': 143,\n",
       " 'reach': 1601,\n",
       " 'help': 902,\n",
       " 'last': 1075,\n",
       " 'forget': 762,\n",
       " 'sub': 1932,\n",
       " 'page': 1404,\n",
       " 'ask': 130,\n",
       " 'stop': 1908,\n",
       " 'new': 1327,\n",
       " 'discuss': 519,\n",
       " 'learn': 1091,\n",
       " 'guess': 867,\n",
       " 'last night': 1076,\n",
       " 'sorry': 1859,\n",
       " 'suck': 1938,\n",
       " 'body': 222,\n",
       " 'apple': 111,\n",
       " 'glass': 827,\n",
       " 'picture': 1471,\n",
       " 'beer': 186,\n",
       " 'fill': 726,\n",
       " 'exist': 657,\n",
       " 'communication': 356,\n",
       " 'deeply': 475,\n",
       " 'call': 262,\n",
       " 'dislike': 522,\n",
       " 'keep': 1049,\n",
       " 'peace': 1429,\n",
       " 'relate': 1650,\n",
       " 'comfort': 348,\n",
       " 'address': 30,\n",
       " 'cause': 285,\n",
       " 'truth': 2112,\n",
       " 'likely': 1128,\n",
       " 'drag': 537,\n",
       " 'chance': 293,\n",
       " 'advice': 38,\n",
       " 'sit': 1818,\n",
       " 'away': 156,\n",
       " 'easily': 560,\n",
       " 'motivation': 1284,\n",
       " 'uncomfortable': 2130,\n",
       " 'angry': 83,\n",
       " 'relax': 1656,\n",
       " 'less': 1100,\n",
       " 'phrase': 1465,\n",
       " 'non': 1336,\n",
       " 'google': 850,\n",
       " 'tip': 2064,\n",
       " 'magic': 1176,\n",
       " 'situation': 1820,\n",
       " 'respond': 1678,\n",
       " 'benefit': 194,\n",
       " 'control': 400,\n",
       " 'conversation': 401,\n",
       " 'threaten': 2046,\n",
       " 'safe': 1720,\n",
       " 'comfortable': 349,\n",
       " 'anxiety': 92,\n",
       " 'third': 2038,\n",
       " 'let go': 1103,\n",
       " 'seem like': 1762,\n",
       " 'really hard': 1619,\n",
       " 'know would': 1066,\n",
       " 'would really': 2279,\n",
       " 'get people': 814,\n",
       " 'really really': 1623,\n",
       " 'really well': 1626,\n",
       " 'let know': 1104,\n",
       " 'yup': 2308,\n",
       " 'check': 301,\n",
       " 'tea': 1981,\n",
       " 'final': 729,\n",
       " 'sample': 1725,\n",
       " 'letter': 1105,\n",
       " 'possible': 1507,\n",
       " 'government': 852,\n",
       " 'blame': 213,\n",
       " 'natural': 1305,\n",
       " 'willing': 2237,\n",
       " 'pre': 1517,\n",
       " 'png': 1489,\n",
       " 'search': 1750,\n",
       " 'faith': 686,\n",
       " 'far': 695,\n",
       " 'selfish': 1764,\n",
       " 'communicate': 355,\n",
       " 'perfect': 1448,\n",
       " 'thinking': 2037,\n",
       " 'lt': 1170,\n",
       " 'except': 651,\n",
       " 'yet': 2305,\n",
       " 'annoying': 87,\n",
       " 'fair': 684,\n",
       " 'feel way': 715,\n",
       " 'people like': 1436,\n",
       " 'build': 250,\n",
       " 'boat': 221,\n",
       " 'efficient': 572,\n",
       " 'cheap': 299,\n",
       " 'longer': 1151,\n",
       " 'die': 503,\n",
       " 'pro': 1539,\n",
       " 'choice': 309,\n",
       " 'logic': 1145,\n",
       " 'deep': 474,\n",
       " 'partner': 1416,\n",
       " 'limit': 1129,\n",
       " 'serve': 1775,\n",
       " 'defense': 478,\n",
       " 'admit': 33,\n",
       " 'ideal': 950,\n",
       " 'save': 1727,\n",
       " 'decide': 472,\n",
       " 'light': 1112,\n",
       " 'armor': 121,\n",
       " 'buy': 259,\n",
       " 'exact': 647,\n",
       " 'name': 1301,\n",
       " 'second': 1753,\n",
       " 'heavy': 899,\n",
       " 'state': 1893,\n",
       " 'car': 272,\n",
       " 'illegal': 958,\n",
       " 'cute': 453,\n",
       " 'lovely': 1167,\n",
       " 'rush': 1715,\n",
       " 'wait': 2181,\n",
       " 'next': 1329,\n",
       " 'think go': 2024,\n",
       " 'driver': 545,\n",
       " 'straight': 1911,\n",
       " 'switch': 1963,\n",
       " 'wanna': 2185,\n",
       " 'environment': 609,\n",
       " 'bored': 228,\n",
       " 'quickly': 1579,\n",
       " 'something else': 1851,\n",
       " 'kill': 1054,\n",
       " 'tear': 1985,\n",
       " 'excuse': 655,\n",
       " 'justify': 1047,\n",
       " 'like go': 1115,\n",
       " 'hey': 906,\n",
       " 'article': 126,\n",
       " 'join': 1040,\n",
       " 'church': 314,\n",
       " 'busy': 257,\n",
       " 'personality': 1456,\n",
       " 'meet': 1235,\n",
       " 'perhaps': 1452,\n",
       " 'get along': 806,\n",
       " 'enneagram': 602,\n",
       " 'creepy': 435,\n",
       " 'kind': 1055,\n",
       " 'minded': 1255,\n",
       " 'perspective': 1458,\n",
       " 'reasoning': 1629,\n",
       " 'basically': 176,\n",
       " 'assumption': 137,\n",
       " 'like people': 1121,\n",
       " 'music': 1297,\n",
       " 'research': 1675,\n",
       " 'wiki': 2234,\n",
       " 'subjective': 1934,\n",
       " 'prove': 1562,\n",
       " 'impossible': 967,\n",
       " 'novel': 1345,\n",
       " 'philosophy': 1461,\n",
       " 'human': 942,\n",
       " 'science': 1744,\n",
       " 'superior': 1949,\n",
       " 'knowledge': 1067,\n",
       " 'valid': 2161,\n",
       " 'path': 1424,\n",
       " 'url wiki': 2151,\n",
       " 'people feel': 1432,\n",
       " 'nah': 1299,\n",
       " 'heat': 897,\n",
       " 'html': 938,\n",
       " 'cake': 260,\n",
       " 'reply': 1669,\n",
       " 'damage': 457,\n",
       " 'floor': 750,\n",
       " 'really need': 1622,\n",
       " 'band': 170,\n",
       " 'deserve': 492,\n",
       " 'credit': 434,\n",
       " 'edit': 567,\n",
       " 'god': 837,\n",
       " 'mistake': 1264,\n",
       " 'course': 424,\n",
       " 'encounter': 589,\n",
       " 'good point': 846,\n",
       " 'thread': 2044,\n",
       " 'hit': 916,\n",
       " 'get lot': 812,\n",
       " 'late': 1079,\n",
       " 'serious': 1773,\n",
       " 'today': 2069,\n",
       " 'pretty good': 1527,\n",
       " 'essentially': 619,\n",
       " 'even know': 628,\n",
       " 'none': 1337,\n",
       " 'event': 630,\n",
       " 'advance': 36,\n",
       " 'empty': 588,\n",
       " 'bible': 202,\n",
       " 'description': 491,\n",
       " 'answer': 89,\n",
       " 'leave': 1093,\n",
       " 'heart': 896,\n",
       " 'super': 1948,\n",
       " 'absolutely': 3,\n",
       " 'alone': 58,\n",
       " 'start': 1890,\n",
       " 'depressed': 487,\n",
       " 'position': 1504,\n",
       " 'start get': 1891,\n",
       " 'like make': 1119,\n",
       " 'number': 1347,\n",
       " 'nice': 1332,\n",
       " 'still get': 1905,\n",
       " 'guide': 868,\n",
       " 'turn': 2118,\n",
       " 'dragon': 538,\n",
       " 'involve': 1022,\n",
       " 'pretend': 1525,\n",
       " 'try make': 2116,\n",
       " 'bar': 172,\n",
       " 'instead': 995,\n",
       " 'somewhere': 1855,\n",
       " 'say something': 1731,\n",
       " 'racist': 1586,\n",
       " 'song': 1857,\n",
       " 'bomb': 223,\n",
       " 'obama': 1348,\n",
       " 'average': 153,\n",
       " 'expect': 660,\n",
       " 'survive': 1959,\n",
       " 'mess': 1244,\n",
       " 'little bit': 1137,\n",
       " 'prevent': 1531,\n",
       " 'free': 771,\n",
       " 'expand': 659,\n",
       " 'trip': 2105,\n",
       " 'jerk': 1036,\n",
       " 'think people': 2032,\n",
       " 'feel free': 712,\n",
       " 'people say': 1439,\n",
       " 'troll': 2106,\n",
       " 'ignore': 955,\n",
       " 'steam': 1899,\n",
       " 'thousand': 2043,\n",
       " 'tag': 1968,\n",
       " 'would think': 2284,\n",
       " 'girl': 822,\n",
       " 'much time': 1292,\n",
       " 'could get': 414,\n",
       " 'stick': 1903,\n",
       " 'confirm': 377,\n",
       " 'section': 1755,\n",
       " 'attach': 139,\n",
       " 'medical': 1232,\n",
       " 'baby': 160,\n",
       " 'receive': 1631,\n",
       " 'fire': 736,\n",
       " 'mom': 1271,\n",
       " 'repeat': 1667,\n",
       " 'already know': 61,\n",
       " 'piece': 1472,\n",
       " 'offer': 1361,\n",
       " 'area': 117,\n",
       " 'next time': 1330,\n",
       " 'thank much': 2003,\n",
       " 'title': 2066,\n",
       " 'birthday': 208,\n",
       " 'yea': 2295,\n",
       " 'nail': 1300,\n",
       " 'internal': 1008,\n",
       " 'walk': 2183,\n",
       " 'soul': 1861,\n",
       " 'continue': 397,\n",
       " 'confidence': 375,\n",
       " 'allow': 56,\n",
       " 'intelligence': 998,\n",
       " 'dream': 541,\n",
       " 'travel': 2098,\n",
       " 'country': 422,\n",
       " 'currently': 449,\n",
       " 'concerned': 372,\n",
       " 'practice': 1516,\n",
       " 'sexual': 1784,\n",
       " 'habit': 873,\n",
       " 'daily': 456,\n",
       " 'freak': 770,\n",
       " 'everyday': 639,\n",
       " 'realize': 1613,\n",
       " 'center': 287,\n",
       " 'energy': 593,\n",
       " 'set': 1778,\n",
       " 'upon': 2145,\n",
       " 'thus': 2050,\n",
       " 'recognize': 1634,\n",
       " 'mother': 1283,\n",
       " 'fly': 752,\n",
       " 'leg': 1095,\n",
       " 'physical': 1466,\n",
       " 'wise': 2243,\n",
       " 'often': 1364,\n",
       " 'beyond': 200,\n",
       " 'spirit': 1876,\n",
       " 'application': 112,\n",
       " 'world': 2255,\n",
       " 'land': 1071,\n",
       " 'reading': 1606,\n",
       " 'appreciate': 114,\n",
       " 'every day': 635,\n",
       " 'pass': 1419,\n",
       " 'simple': 1813,\n",
       " 'french': 773,\n",
       " 'english': 600,\n",
       " 'sentence': 1770,\n",
       " 'correct': 409,\n",
       " 'app': 106,\n",
       " 'majority': 1181,\n",
       " 'cool': 404,\n",
       " 'bernie': 195,\n",
       " 'low': 1168,\n",
       " ...}"
      ]
     },
     "execution_count": 47,
     "metadata": {},
     "output_type": "execute_result"
    }
   ],
   "source": [
    "tfidfizer.vocabulary_"
   ]
  },
  {
   "cell_type": "markdown",
   "metadata": {},
   "source": [
    "### Refit the Models"
   ]
  },
  {
   "cell_type": "markdown",
   "metadata": {},
   "source": [
    "#### Naive Bayes"
   ]
  },
  {
   "cell_type": "code",
   "execution_count": 62,
   "metadata": {
    "ExecuteTime": {
     "end_time": "2019-12-09T01:43:49.647979Z",
     "start_time": "2019-12-09T01:43:48.766787Z"
    }
   },
   "outputs": [],
   "source": [
    "from sklearn.model_selection import train_test_split\n",
    "from sklearn.feature_extraction.text import TfidfVectorizer\n",
    "from sklearn.naive_bayes import MultinomialNB\n",
    "from sklearn.metrics import classification_report\n",
    "\n",
    "\n",
    "X_train, X_test, y_train, y_test = train_test_split(df_resampled['text'], df_resampled['MBTI'], random_state = 42, stratify=df_resampled['MBTI'])\n",
    "X_train_tfidf = tfidfizer.fit_transform(X_train)"
   ]
  },
  {
   "cell_type": "code",
   "execution_count": 65,
   "metadata": {
    "ExecuteTime": {
     "end_time": "2019-12-09T01:43:49.647979Z",
     "start_time": "2019-12-09T01:43:48.766787Z"
    }
   },
   "outputs": [],
   "source": [
    "mynb = MultinomialNB().fit(X_train_tfidf, y_train)"
   ]
  },
  {
   "cell_type": "code",
   "execution_count": 66,
   "metadata": {
    "ExecuteTime": {
     "end_time": "2019-12-09T01:43:52.208953Z",
     "start_time": "2019-12-09T01:43:52.082779Z"
    }
   },
   "outputs": [],
   "source": [
    "X_test_tfidf = tfidfizer.transform(X_test)"
   ]
  },
  {
   "cell_type": "code",
   "execution_count": 67,
   "metadata": {
    "ExecuteTime": {
     "end_time": "2019-12-09T01:43:54.211287Z",
     "start_time": "2019-12-09T01:43:54.205886Z"
    }
   },
   "outputs": [],
   "source": [
    "y_pred = mynb.predict(X_test_tfidf)"
   ]
  },
  {
   "cell_type": "code",
   "execution_count": 68,
   "metadata": {
    "ExecuteTime": {
     "end_time": "2019-12-09T01:45:07.871669Z",
     "start_time": "2019-12-09T01:45:07.823902Z"
    }
   },
   "outputs": [
    {
     "name": "stdout",
     "output_type": "stream",
     "text": [
      "Accuracy Score:  0.13466257102796841\n",
      "              precision    recall  f1-score   support\n",
      "\n",
      "        ENFJ       0.10      0.12      0.11     13551\n",
      "        ENFP       0.11      0.04      0.06     13551\n",
      "        ENTJ       0.11      0.08      0.10     13551\n",
      "        ENTP       0.15      0.07      0.10     13551\n",
      "        ESFJ       0.15      0.35      0.21     13551\n",
      "        ESFP       0.16      0.22      0.19     13551\n",
      "        ESTJ       0.17      0.27      0.21     13551\n",
      "        ESTP       0.13      0.18      0.15     13551\n",
      "        INFJ       0.11      0.05      0.07     13551\n",
      "        INFP       0.09      0.04      0.06     13551\n",
      "        INTJ       0.12      0.12      0.12     13551\n",
      "        INTP       0.10      0.05      0.07     13551\n",
      "        ISFJ       0.14      0.11      0.12     13551\n",
      "        ISFP       0.14      0.12      0.13     13551\n",
      "        ISTJ       0.12      0.13      0.12     13551\n",
      "        ISTP       0.15      0.20      0.17     13551\n",
      "\n",
      "    accuracy                           0.13    216816\n",
      "   macro avg       0.13      0.13      0.12    216816\n",
      "weighted avg       0.13      0.13      0.12    216816\n",
      "\n"
     ]
    }
   ],
   "source": [
    "print('Accuracy Score: ', mynb.score(X_test_tfidf, y_test))\n",
    "print(classification_report(y_test, y_pred))"
   ]
  },
  {
   "cell_type": "markdown",
   "metadata": {},
   "source": [
    "#### Logistic Regression"
   ]
  },
  {
   "cell_type": "code",
   "execution_count": 11,
   "metadata": {},
   "outputs": [
    {
     "name": "stderr",
     "output_type": "stream",
     "text": [
      "/home/ec2-user/anaconda3/envs/python3/lib/python3.6/site-packages/sklearn/linear_model/_logistic.py:939: ConvergenceWarning: lbfgs failed to converge (status=1):\n",
      "STOP: TOTAL NO. of ITERATIONS REACHED LIMIT.\n",
      "\n",
      "Increase the number of iterations (max_iter) or scale the data as shown in:\n",
      "    https://scikit-learn.org/stable/modules/preprocessing.html.\n",
      "Please also refer to the documentation for alternative solver options:\n",
      "    https://scikit-learn.org/stable/modules/linear_model.html#logistic-regression\n",
      "  extra_warning_msg=_LOGISTIC_SOLVER_CONVERGENCE_MSG)\n"
     ]
    },
    {
     "data": {
      "text/plain": [
       "0.13693596740717964"
      ]
     },
     "execution_count": 11,
     "metadata": {},
     "output_type": "execute_result"
    }
   ],
   "source": [
    "# try Logistic Regression\n",
    "\n",
    "mylogit = LogisticRegression(max_iter=100)\n",
    "mylogit.fit(X_train_tfidf, y_train)\n",
    "mylogit.score(X_test_tfidf, y_test)"
   ]
  },
  {
   "cell_type": "markdown",
   "metadata": {},
   "source": [
    "#### Parameter Tuning\n",
    "\n",
    "I decide to manually tune C value for logistic regression to see if it will help with the accuracy... well, not really. "
   ]
  },
  {
   "cell_type": "code",
   "execution_count": 27,
   "metadata": {},
   "outputs": [],
   "source": [
    "c_value = [0.0001, 0.001, 0.01, 0.1, 1, 10, 100, 1000]\n",
    "test_scores = []\n",
    "\n",
    "for c in c_value:\n",
    "    mylogit=LogisticRegression(solver='saga',penalty='l2',C=c)\n",
    "    mylogit.fit(X_train_tfidf,y_train)\n",
    "    score = mylogit.score(X_test_tfidf, y_test)\n",
    "    \n",
    "    test_scores.append(score)\n",
    "    "
   ]
  },
  {
   "cell_type": "code",
   "execution_count": 31,
   "metadata": {},
   "outputs": [
    {
     "data": {
      "image/png": "[encoded data removed]",
      "text/plain": [
       "<Figure size 864x576 with 1 Axes>"
      ]
     },
     "metadata": {},
     "output_type": "display_data"
    }
   ],
   "source": [
    "# plot out the test scores\n",
    "plt.figure(figsize=(12,8))\n",
    "plt.plot(c_value, test_scores)\n",
    "plt.xscale('log')\n",
    "plt.show()"
   ]
  },
  {
   "cell_type": "code",
   "execution_count": 32,
   "metadata": {
    "scrolled": true
   },
   "outputs": [
    {
     "data": {
      "text/plain": [
       "LogisticRegression(C=0.1, class_weight=None, dual=False, fit_intercept=True,\n",
       "          intercept_scaling=1, max_iter=100, multi_class='warn',\n",
       "          n_jobs=None, penalty='l2', random_state=None, solver='saga',\n",
       "          tol=0.0001, verbose=0, warm_start=False)"
      ]
     },
     "execution_count": 32,
     "metadata": {},
     "output_type": "execute_result"
    }
   ],
   "source": [
    "# pick c value = 0.1, refit the model \n",
    "mylogit = LogisticRegression(solver='saga', penalty='l2', C=0.1)\n",
    "mylogit.fit(X_train_tfidf, y_train)"
   ]
  },
  {
   "cell_type": "markdown",
   "metadata": {},
   "source": [
    "Below I try to fit the model on the test data set which I set aside, there are some errors which I haven't got time to figure out yet. That's for the next."
   ]
  },
  {
   "cell_type": "code",
   "execution_count": 37,
   "metadata": {},
   "outputs": [],
   "source": [
    "df_test = pd.read_csv('test_data.csv', index_col=0)"
   ]
  },
  {
   "cell_type": "code",
   "execution_count": 44,
   "metadata": {},
   "outputs": [],
   "source": [
    "X_test_final = df_test['comments_lemma']\n",
    "y_test_final = df_test['MBTI']\n",
    "\n",
    "X_test_final_tfidf = tfidfizer.transform(X_test_final)"
   ]
  },
  {
   "cell_type": "code",
   "execution_count": 40,
   "metadata": {},
   "outputs": [
    {
     "ename": "ValueError",
     "evalue": "X has 3 features per sample; expecting 1681",
     "output_type": "error",
     "traceback": [
      "\u001b[0;31m---------------------------------------------------------------------------\u001b[0m",
      "\u001b[0;31mValueError\u001b[0m                                Traceback (most recent call last)",
      "\u001b[0;32m<ipython-input-40-9660132e31c9>\u001b[0m in \u001b[0;36m<module>\u001b[0;34m()\u001b[0m\n\u001b[0;32m----> 1\u001b[0;31m \u001b[0mmylogit\u001b[0m\u001b[0;34m.\u001b[0m\u001b[0mscore\u001b[0m\u001b[0;34m(\u001b[0m\u001b[0mX_test_final_tfidf\u001b[0m\u001b[0;34m,\u001b[0m \u001b[0my_test_final\u001b[0m\u001b[0;34m)\u001b[0m\u001b[0;34m\u001b[0m\u001b[0m\n\u001b[0m",
      "\u001b[0;32m~/anaconda3/envs/python3/lib/python3.6/site-packages/sklearn/base.py\u001b[0m in \u001b[0;36mscore\u001b[0;34m(self, X, y, sample_weight)\u001b[0m\n\u001b[1;32m    288\u001b[0m         \"\"\"\n\u001b[1;32m    289\u001b[0m         \u001b[0;32mfrom\u001b[0m \u001b[0;34m.\u001b[0m\u001b[0mmetrics\u001b[0m \u001b[0;32mimport\u001b[0m \u001b[0maccuracy_score\u001b[0m\u001b[0;34m\u001b[0m\u001b[0m\n\u001b[0;32m--> 290\u001b[0;31m         \u001b[0;32mreturn\u001b[0m \u001b[0maccuracy_score\u001b[0m\u001b[0;34m(\u001b[0m\u001b[0my\u001b[0m\u001b[0;34m,\u001b[0m \u001b[0mself\u001b[0m\u001b[0;34m.\u001b[0m\u001b[0mpredict\u001b[0m\u001b[0;34m(\u001b[0m\u001b[0mX\u001b[0m\u001b[0;34m)\u001b[0m\u001b[0;34m,\u001b[0m \u001b[0msample_weight\u001b[0m\u001b[0;34m=\u001b[0m\u001b[0msample_weight\u001b[0m\u001b[0;34m)\u001b[0m\u001b[0;34m\u001b[0m\u001b[0m\n\u001b[0m\u001b[1;32m    291\u001b[0m \u001b[0;34m\u001b[0m\u001b[0m\n\u001b[1;32m    292\u001b[0m \u001b[0;34m\u001b[0m\u001b[0m\n",
      "\u001b[0;32m~/anaconda3/envs/python3/lib/python3.6/site-packages/sklearn/linear_model/base.py\u001b[0m in \u001b[0;36mpredict\u001b[0;34m(self, X)\u001b[0m\n\u001b[1;32m    279\u001b[0m             \u001b[0mPredicted\u001b[0m \u001b[0;32mclass\u001b[0m \u001b[0mlabel\u001b[0m \u001b[0mper\u001b[0m \u001b[0msample\u001b[0m\u001b[0;34m.\u001b[0m\u001b[0;34m\u001b[0m\u001b[0m\n\u001b[1;32m    280\u001b[0m         \"\"\"\n\u001b[0;32m--> 281\u001b[0;31m         \u001b[0mscores\u001b[0m \u001b[0;34m=\u001b[0m \u001b[0mself\u001b[0m\u001b[0;34m.\u001b[0m\u001b[0mdecision_function\u001b[0m\u001b[0;34m(\u001b[0m\u001b[0mX\u001b[0m\u001b[0;34m)\u001b[0m\u001b[0;34m\u001b[0m\u001b[0m\n\u001b[0m\u001b[1;32m    282\u001b[0m         \u001b[0;32mif\u001b[0m \u001b[0mlen\u001b[0m\u001b[0;34m(\u001b[0m\u001b[0mscores\u001b[0m\u001b[0;34m.\u001b[0m\u001b[0mshape\u001b[0m\u001b[0;34m)\u001b[0m \u001b[0;34m==\u001b[0m \u001b[0;36m1\u001b[0m\u001b[0;34m:\u001b[0m\u001b[0;34m\u001b[0m\u001b[0m\n\u001b[1;32m    283\u001b[0m             \u001b[0mindices\u001b[0m \u001b[0;34m=\u001b[0m \u001b[0;34m(\u001b[0m\u001b[0mscores\u001b[0m \u001b[0;34m>\u001b[0m \u001b[0;36m0\u001b[0m\u001b[0;34m)\u001b[0m\u001b[0;34m.\u001b[0m\u001b[0mastype\u001b[0m\u001b[0;34m(\u001b[0m\u001b[0mnp\u001b[0m\u001b[0;34m.\u001b[0m\u001b[0mint\u001b[0m\u001b[0;34m)\u001b[0m\u001b[0;34m\u001b[0m\u001b[0m\n",
      "\u001b[0;32m~/anaconda3/envs/python3/lib/python3.6/site-packages/sklearn/linear_model/base.py\u001b[0m in \u001b[0;36mdecision_function\u001b[0;34m(self, X)\u001b[0m\n\u001b[1;32m    260\u001b[0m         \u001b[0;32mif\u001b[0m \u001b[0mX\u001b[0m\u001b[0;34m.\u001b[0m\u001b[0mshape\u001b[0m\u001b[0;34m[\u001b[0m\u001b[0;36m1\u001b[0m\u001b[0;34m]\u001b[0m \u001b[0;34m!=\u001b[0m \u001b[0mn_features\u001b[0m\u001b[0;34m:\u001b[0m\u001b[0;34m\u001b[0m\u001b[0m\n\u001b[1;32m    261\u001b[0m             raise ValueError(\"X has %d features per sample; expecting %d\"\n\u001b[0;32m--> 262\u001b[0;31m                              % (X.shape[1], n_features))\n\u001b[0m\u001b[1;32m    263\u001b[0m \u001b[0;34m\u001b[0m\u001b[0m\n\u001b[1;32m    264\u001b[0m         scores = safe_sparse_dot(X, self.coef_.T,\n",
      "\u001b[0;31mValueError\u001b[0m: X has 3 features per sample; expecting 1681"
     ]
    }
   ],
   "source": [
    "mylogit.score(X_test_final_tfidf, y_test_final)"
   ]
  },
  {
   "cell_type": "markdown",
   "metadata": {},
   "source": [
    "Ok, it actually did worse than all the models before balancing the data. Now I have started to questioning myself... but I still want to try a GridSearch."
   ]
  },
  {
   "cell_type": "markdown",
   "metadata": {},
   "source": [
    "### GridSearch 2.0\n",
    "\n",
    "As I did before, I sampled a subset of the data to perform GridSearch. I made the judgement call to do that because of the time restraints at the time. I will need to review Hadoop and MapReduce to see if there are better ways to handle the parameter tuning/gridsearch."
   ]
  },
  {
   "cell_type": "code",
   "execution_count": 8,
   "metadata": {},
   "outputs": [],
   "source": [
    "import warnings\n",
    "warnings.filterwarnings(\"ignore\")"
   ]
  },
  {
   "cell_type": "code",
   "execution_count": 19,
   "metadata": {},
   "outputs": [],
   "source": [
    "# make a sample set of data and run GridSearch \n",
    "df_sample = df_resampled.sample(n=10000)"
   ]
  },
  {
   "cell_type": "code",
   "execution_count": 20,
   "metadata": {},
   "outputs": [],
   "source": [
    "X_sample = df_sample['text']\n",
    "y_sample = df_sample['MBTI']\n",
    "\n",
    "X_sample_train, X_sample_test, y_sample_train, y_sample_test = train_test_split(X_sample, y_sample, test_size=0.3, random_state = 42, stratify=y_sample)"
   ]
  },
  {
   "cell_type": "code",
   "execution_count": 21,
   "metadata": {},
   "outputs": [],
   "source": [
    "X_sample_tfidf=tfidfizer.fit_transform(X_sample_train)"
   ]
  },
  {
   "cell_type": "code",
   "execution_count": 22,
   "metadata": {},
   "outputs": [],
   "source": [
    "X_sample_tfidf_test=tfidfizer.transform(X_sample_test)"
   ]
  },
  {
   "cell_type": "code",
   "execution_count": 23,
   "metadata": {
    "scrolled": true
   },
   "outputs": [
    {
     "name": "stdout",
     "output_type": "stream",
     "text": [
      "Fitting 5 folds for each of 173 candidates, totalling 865 fits\n"
     ]
    },
    {
     "name": "stderr",
     "output_type": "stream",
     "text": [
      "[Parallel(n_jobs=-1)]: Using backend LokyBackend with 96 concurrent workers.\n",
      "[Parallel(n_jobs=-1)]: Done   1 tasks      | elapsed:    1.4s\n",
      "[Parallel(n_jobs=-1)]: Done   8 tasks      | elapsed:    2.4s\n",
      "[Parallel(n_jobs=-1)]: Done  29 tasks      | elapsed:    3.8s\n",
      "[Parallel(n_jobs=-1)]: Done  50 tasks      | elapsed:    4.0s\n",
      "[Parallel(n_jobs=-1)]: Done  73 tasks      | elapsed:    4.3s\n",
      "[Parallel(n_jobs=-1)]: Done  96 tasks      | elapsed:    4.6s\n",
      "[Parallel(n_jobs=-1)]: Done 121 tasks      | elapsed:    4.8s\n",
      "[Parallel(n_jobs=-1)]: Done 146 tasks      | elapsed:    4.9s\n",
      "[Parallel(n_jobs=-1)]: Done 173 tasks      | elapsed:    5.4s\n",
      "[Parallel(n_jobs=-1)]: Done 200 tasks      | elapsed:    7.3s\n",
      "[Parallel(n_jobs=-1)]: Done 229 tasks      | elapsed:    8.6s\n",
      "[Parallel(n_jobs=-1)]: Done 258 tasks      | elapsed:   11.0s\n",
      "[Parallel(n_jobs=-1)]: Done 289 tasks      | elapsed:   13.6s\n",
      "[Parallel(n_jobs=-1)]: Done 320 tasks      | elapsed:   15.8s\n",
      "[Parallel(n_jobs=-1)]: Done 353 tasks      | elapsed:   17.8s\n",
      "[Parallel(n_jobs=-1)]: Done 386 tasks      | elapsed:   20.8s\n",
      "[Parallel(n_jobs=-1)]: Done 421 tasks      | elapsed:   23.5s\n",
      "[Parallel(n_jobs=-1)]: Done 456 tasks      | elapsed:   25.9s\n",
      "[Parallel(n_jobs=-1)]: Done 493 tasks      | elapsed:   28.3s\n",
      "[Parallel(n_jobs=-1)]: Done 530 tasks      | elapsed:   28.9s\n",
      "[Parallel(n_jobs=-1)]: Done 569 tasks      | elapsed:   31.5s\n",
      "[Parallel(n_jobs=-1)]: Done 608 tasks      | elapsed:   33.5s\n",
      "[Parallel(n_jobs=-1)]: Done 649 tasks      | elapsed:   35.8s\n",
      "[Parallel(n_jobs=-1)]: Done 761 out of 865 | elapsed:   44.7s remaining:    6.1s\n",
      "[Parallel(n_jobs=-1)]: Done 848 out of 865 | elapsed:   51.8s remaining:    1.0s\n",
      "[Parallel(n_jobs=-1)]: Done 865 out of 865 | elapsed:   54.8s finished\n"
     ]
    },
    {
     "data": {
      "text/plain": [
       "['bestmodel_1210.pkl']"
      ]
     },
     "execution_count": 23,
     "metadata": {},
     "output_type": "execute_result"
    }
   ],
   "source": [
    "pipeline = Pipeline([('model', LogisticRegression())])\n",
    "\n",
    "param_grid = [\n",
    "    # Logistic Regression\n",
    "    {'model':[LogisticRegression(solver='saga')],\n",
    "    'model__penalty':['l1','l2'], 'model__C':[0.0001, 0.001, 0.01, 0.1, 1, 10, 100, 1000]},\n",
    "    \n",
    "    # Random Forest\n",
    "    {'model':[RandomForestClassifier()],\n",
    "     'model__n_estimators': [50, 100, 150, 200], 'model__max_depth':[2, 5, 10, 15, 20]},\n",
    "    \n",
    "    # XG Boost\n",
    "    {'model':[XGBClassifier()], 'model__learning_rate': [0.1, 0.5, 1, 2],\n",
    "     'model__n_estimators': [50, 100, 150, 200], 'model__max_depth':[2, 5, 10, 15, 20]},\n",
    "    \n",
    "    # SGDClassfier\n",
    "    {'model':[SGDClassifier(loss='hinge',penalty='l2',random_state=42, max_iter=5, tol=None)],\n",
    "     'model__alpha': [1e-3, 1e-2, 1e-1, 1e0, 1e1, 1e2, 1e3]},\n",
    "    \n",
    "    \n",
    "    # MLP Classifier - SKlearn's Neural Network \n",
    "    {'model':[MLPClassifier(solver='adam')], 'model__max_iter':[10, 50, 100, 150, 200],\n",
    "     'model__hidden_layer_sizes':[50, 100, 150, 200, 250, 300, 350, 400, 450, 500]},\n",
    "    \n",
    "]\n",
    "\n",
    "grid = GridSearchCV(pipeline, param_grid, cv=5, verbose=10, n_jobs=-1)\n",
    "fittedgrid = grid.fit(X_sample_tfidf, y_sample_train)\n",
    "\n",
    "fittedgrid.score(X_sample_tfidf_test, y_sample_test)\n",
    "\n",
    "# Save the model \n",
    "joblib.dump(grid.best_estimator_, 'bestmodel_1210.pkl', compress = 1)"
   ]
  },
  {
   "cell_type": "code",
   "execution_count": 24,
   "metadata": {},
   "outputs": [
    {
     "data": {
      "text/plain": [
       "Pipeline(memory=None,\n",
       "     steps=[('model', LogisticRegression(C=100, class_weight=None, dual=False, fit_intercept=True,\n",
       "          intercept_scaling=1, max_iter=100, multi_class='warn',\n",
       "          n_jobs=None, penalty='l1', random_state=None, solver='saga',\n",
       "          tol=0.0001, verbose=0, warm_start=False))])"
      ]
     },
     "execution_count": 24,
     "metadata": {},
     "output_type": "execute_result"
    }
   ],
   "source": [
    "fittedgrid.best_estimator_"
   ]
  },
  {
   "cell_type": "code",
   "execution_count": 25,
   "metadata": {},
   "outputs": [],
   "source": [
    "grid_results = pd.concat([pd.DataFrame(fittedgrid.cv_results_[\"params\"]),pd.DataFrame(fittedgrid.cv_results_[\"mean_test_score\"], columns=[\"Accuracy\"])],axis=1).sort_values(by='Accuracy', ascending = False)"
   ]
  },
  {
   "cell_type": "code",
   "execution_count": 26,
   "metadata": {},
   "outputs": [
    {
     "data": {
      "text/html": [
       "<div>\n",
       "<style scoped>\n",
       "    .dataframe tbody tr th:only-of-type {\n",
       "        vertical-align: middle;\n",
       "    }\n",
       "\n",
       "    .dataframe tbody tr th {\n",
       "        vertical-align: top;\n",
       "    }\n",
       "\n",
       "    .dataframe thead th {\n",
       "        text-align: right;\n",
       "    }\n",
       "</style>\n",
       "<table border=\"1\" class=\"dataframe\">\n",
       "  <thead>\n",
       "    <tr style=\"text-align: right;\">\n",
       "      <th></th>\n",
       "      <th>model</th>\n",
       "      <th>model__C</th>\n",
       "      <th>model__alpha</th>\n",
       "      <th>model__hidden_layer_sizes</th>\n",
       "      <th>model__learning_rate</th>\n",
       "      <th>model__max_depth</th>\n",
       "      <th>model__max_iter</th>\n",
       "      <th>model__n_estimators</th>\n",
       "      <th>model__penalty</th>\n",
       "      <th>Accuracy</th>\n",
       "    </tr>\n",
       "  </thead>\n",
       "  <tbody>\n",
       "    <tr>\n",
       "      <th>15</th>\n",
       "      <td>LogisticRegression(C=100, class_weight=None, d...</td>\n",
       "      <td>1000.0</td>\n",
       "      <td>NaN</td>\n",
       "      <td>NaN</td>\n",
       "      <td>NaN</td>\n",
       "      <td>NaN</td>\n",
       "      <td>NaN</td>\n",
       "      <td>NaN</td>\n",
       "      <td>l2</td>\n",
       "      <td>0.073000</td>\n",
       "    </tr>\n",
       "    <tr>\n",
       "      <th>14</th>\n",
       "      <td>LogisticRegression(C=100, class_weight=None, d...</td>\n",
       "      <td>1000.0</td>\n",
       "      <td>NaN</td>\n",
       "      <td>NaN</td>\n",
       "      <td>NaN</td>\n",
       "      <td>NaN</td>\n",
       "      <td>NaN</td>\n",
       "      <td>NaN</td>\n",
       "      <td>l1</td>\n",
       "      <td>0.073000</td>\n",
       "    </tr>\n",
       "    <tr>\n",
       "      <th>13</th>\n",
       "      <td>LogisticRegression(C=100, class_weight=None, d...</td>\n",
       "      <td>100.0</td>\n",
       "      <td>NaN</td>\n",
       "      <td>NaN</td>\n",
       "      <td>NaN</td>\n",
       "      <td>NaN</td>\n",
       "      <td>NaN</td>\n",
       "      <td>NaN</td>\n",
       "      <td>l2</td>\n",
       "      <td>0.073000</td>\n",
       "    </tr>\n",
       "    <tr>\n",
       "      <th>12</th>\n",
       "      <td>LogisticRegression(C=100, class_weight=None, d...</td>\n",
       "      <td>100.0</td>\n",
       "      <td>NaN</td>\n",
       "      <td>NaN</td>\n",
       "      <td>NaN</td>\n",
       "      <td>NaN</td>\n",
       "      <td>NaN</td>\n",
       "      <td>NaN</td>\n",
       "      <td>l1</td>\n",
       "      <td>0.073000</td>\n",
       "    </tr>\n",
       "    <tr>\n",
       "      <th>10</th>\n",
       "      <td>LogisticRegression(C=100, class_weight=None, d...</td>\n",
       "      <td>10.0</td>\n",
       "      <td>NaN</td>\n",
       "      <td>NaN</td>\n",
       "      <td>NaN</td>\n",
       "      <td>NaN</td>\n",
       "      <td>NaN</td>\n",
       "      <td>NaN</td>\n",
       "      <td>l1</td>\n",
       "      <td>0.072857</td>\n",
       "    </tr>\n",
       "    <tr>\n",
       "      <th>11</th>\n",
       "      <td>LogisticRegression(C=100, class_weight=None, d...</td>\n",
       "      <td>10.0</td>\n",
       "      <td>NaN</td>\n",
       "      <td>NaN</td>\n",
       "      <td>NaN</td>\n",
       "      <td>NaN</td>\n",
       "      <td>NaN</td>\n",
       "      <td>NaN</td>\n",
       "      <td>l2</td>\n",
       "      <td>0.072857</td>\n",
       "    </tr>\n",
       "    <tr>\n",
       "      <th>8</th>\n",
       "      <td>LogisticRegression(C=100, class_weight=None, d...</td>\n",
       "      <td>1.0</td>\n",
       "      <td>NaN</td>\n",
       "      <td>NaN</td>\n",
       "      <td>NaN</td>\n",
       "      <td>NaN</td>\n",
       "      <td>NaN</td>\n",
       "      <td>NaN</td>\n",
       "      <td>l1</td>\n",
       "      <td>0.072857</td>\n",
       "    </tr>\n",
       "    <tr>\n",
       "      <th>9</th>\n",
       "      <td>LogisticRegression(C=100, class_weight=None, d...</td>\n",
       "      <td>1.0</td>\n",
       "      <td>NaN</td>\n",
       "      <td>NaN</td>\n",
       "      <td>NaN</td>\n",
       "      <td>NaN</td>\n",
       "      <td>NaN</td>\n",
       "      <td>NaN</td>\n",
       "      <td>l2</td>\n",
       "      <td>0.072857</td>\n",
       "    </tr>\n",
       "    <tr>\n",
       "      <th>128</th>\n",
       "      <td>MLPClassifier(activation='relu', alpha=0.0001,...</td>\n",
       "      <td>NaN</td>\n",
       "      <td>NaN</td>\n",
       "      <td>100.0</td>\n",
       "      <td>NaN</td>\n",
       "      <td>NaN</td>\n",
       "      <td>10.0</td>\n",
       "      <td>NaN</td>\n",
       "      <td>NaN</td>\n",
       "      <td>0.072571</td>\n",
       "    </tr>\n",
       "    <tr>\n",
       "      <th>126</th>\n",
       "      <td>MLPClassifier(activation='relu', alpha=0.0001,...</td>\n",
       "      <td>NaN</td>\n",
       "      <td>NaN</td>\n",
       "      <td>50.0</td>\n",
       "      <td>NaN</td>\n",
       "      <td>NaN</td>\n",
       "      <td>150.0</td>\n",
       "      <td>NaN</td>\n",
       "      <td>NaN</td>\n",
       "      <td>0.072286</td>\n",
       "    </tr>\n",
       "  </tbody>\n",
       "</table>\n",
       "</div>"
      ],
      "text/plain": [
       "                                                 model  model__C  \\\n",
       "15   LogisticRegression(C=100, class_weight=None, d...    1000.0   \n",
       "14   LogisticRegression(C=100, class_weight=None, d...    1000.0   \n",
       "13   LogisticRegression(C=100, class_weight=None, d...     100.0   \n",
       "12   LogisticRegression(C=100, class_weight=None, d...     100.0   \n",
       "10   LogisticRegression(C=100, class_weight=None, d...      10.0   \n",
       "11   LogisticRegression(C=100, class_weight=None, d...      10.0   \n",
       "8    LogisticRegression(C=100, class_weight=None, d...       1.0   \n",
       "9    LogisticRegression(C=100, class_weight=None, d...       1.0   \n",
       "128  MLPClassifier(activation='relu', alpha=0.0001,...       NaN   \n",
       "126  MLPClassifier(activation='relu', alpha=0.0001,...       NaN   \n",
       "\n",
       "     model__alpha  model__hidden_layer_sizes  model__learning_rate  \\\n",
       "15            NaN                        NaN                   NaN   \n",
       "14            NaN                        NaN                   NaN   \n",
       "13            NaN                        NaN                   NaN   \n",
       "12            NaN                        NaN                   NaN   \n",
       "10            NaN                        NaN                   NaN   \n",
       "11            NaN                        NaN                   NaN   \n",
       "8             NaN                        NaN                   NaN   \n",
       "9             NaN                        NaN                   NaN   \n",
       "128           NaN                      100.0                   NaN   \n",
       "126           NaN                       50.0                   NaN   \n",
       "\n",
       "     model__max_depth  model__max_iter  model__n_estimators model__penalty  \\\n",
       "15                NaN              NaN                  NaN             l2   \n",
       "14                NaN              NaN                  NaN             l1   \n",
       "13                NaN              NaN                  NaN             l2   \n",
       "12                NaN              NaN                  NaN             l1   \n",
       "10                NaN              NaN                  NaN             l1   \n",
       "11                NaN              NaN                  NaN             l2   \n",
       "8                 NaN              NaN                  NaN             l1   \n",
       "9                 NaN              NaN                  NaN             l2   \n",
       "128               NaN             10.0                  NaN            NaN   \n",
       "126               NaN            150.0                  NaN            NaN   \n",
       "\n",
       "     Accuracy  \n",
       "15   0.073000  \n",
       "14   0.073000  \n",
       "13   0.073000  \n",
       "12   0.073000  \n",
       "10   0.072857  \n",
       "11   0.072857  \n",
       "8    0.072857  \n",
       "9    0.072857  \n",
       "128  0.072571  \n",
       "126  0.072286  "
      ]
     },
     "execution_count": 26,
     "metadata": {},
     "output_type": "execute_result"
    }
   ],
   "source": [
    "grid_results.head(10)"
   ]
  },
  {
   "cell_type": "markdown",
   "metadata": {},
   "source": [
    "The results are all so pretty bad...."
   ]
  },
  {
   "cell_type": "markdown",
   "metadata": {},
   "source": [
    "### Use 2 best models on complete set"
   ]
  },
  {
   "cell_type": "code",
   "execution_count": 11,
   "metadata": {},
   "outputs": [
    {
     "name": "stdout",
     "output_type": "stream",
     "text": [
      "Fitting 5 folds for each of 2 candidates, totalling 10 fits\n"
     ]
    },
    {
     "name": "stderr",
     "output_type": "stream",
     "text": [
      "[Parallel(n_jobs=-1)]: Using backend LokyBackend with 96 concurrent workers.\n",
      "[Parallel(n_jobs=-1)]: Done   3 out of  10 | elapsed:   20.4s remaining:   47.5s\n",
      "[Parallel(n_jobs=-1)]: Done   5 out of  10 | elapsed:   22.6s remaining:   22.6s\n",
      "[Parallel(n_jobs=-1)]: Done   7 out of  10 | elapsed:  1.9min remaining:   48.5s\n",
      "[Parallel(n_jobs=-1)]: Done  10 out of  10 | elapsed:  2.1min finished\n"
     ]
    },
    {
     "data": {
      "text/plain": [
       "['bestmodel1210b.pkl']"
      ]
     },
     "execution_count": 11,
     "metadata": {},
     "output_type": "execute_result"
    }
   ],
   "source": [
    "# use 2 best models to form a new pipeline and fit to the train set - just try it out \n",
    "\n",
    "pipeline1 = Pipeline([('model', LogisticRegression())])\n",
    "\n",
    "param_grid1 = [\n",
    "    # Logistic Regression\n",
    "    {'model':[LogisticRegression(solver='saga', penalty='l2', C=1.0)]},\n",
    "    \n",
    "    # Random Forest\n",
    "    {'model':[RandomForestClassifier(n_estimators=50, max_depth=5)]},\n",
    "]\n",
    "\n",
    "grid1 = GridSearchCV(pipeline1, param_grid1, cv=5, verbose=10, n_jobs=-1)\n",
    "fittedgrid1 = grid1.fit(X_train_tfidf, y_train)\n",
    "\n",
    "fittedgrid1.score(X_test_tfidf, y_test)\n",
    "\n",
    "joblib.dump(fittedgrid1.best_estimator_, 'bestmodel1210b.pkl', compress = 1)"
   ]
  },
  {
   "cell_type": "code",
   "execution_count": 13,
   "metadata": {},
   "outputs": [],
   "source": [
    "# load in the model\n",
    "best_model = joblib.load('bestmodel1210b.pkl')"
   ]
  },
  {
   "cell_type": "code",
   "execution_count": 15,
   "metadata": {},
   "outputs": [
    {
     "data": {
      "text/plain": [
       "0.1374471519717119"
      ]
     },
     "execution_count": 15,
     "metadata": {},
     "output_type": "execute_result"
    }
   ],
   "source": [
    "# accuracy score\n",
    "score = best_model.score(X_test_tfidf, y_test)\n",
    "score"
   ]
  },
  {
   "cell_type": "code",
   "execution_count": 16,
   "metadata": {},
   "outputs": [],
   "source": [
    "y_pred = best_model.predict(X_test_tfidf)"
   ]
  },
  {
   "cell_type": "code",
   "execution_count": 18,
   "metadata": {},
   "outputs": [
    {
     "name": "stdout",
     "output_type": "stream",
     "text": [
      "              precision    recall  f1-score   support\n",
      "\n",
      "        ENFJ       0.12      0.08      0.09     16261\n",
      "        ENFP       0.11      0.06      0.07     16261\n",
      "        ENTJ       0.11      0.07      0.08     16261\n",
      "        ENTP       0.13      0.08      0.10     16262\n",
      "        ESFJ       0.18      0.37      0.24     16261\n",
      "        ESFP       0.16      0.24      0.19     16261\n",
      "        ESTJ       0.17      0.27      0.21     16262\n",
      "        ESTP       0.14      0.16      0.15     16261\n",
      "        INFJ       0.11      0.05      0.07     16261\n",
      "        INFP       0.08      0.03      0.05     16261\n",
      "        INTJ       0.12      0.10      0.11     16262\n",
      "        INTP       0.08      0.11      0.10     16261\n",
      "        ISFJ       0.13      0.11      0.12     16262\n",
      "        ISFP       0.14      0.15      0.14     16261\n",
      "        ISTJ       0.11      0.11      0.11     16261\n",
      "        ISTP       0.15      0.20      0.18     16261\n",
      "\n",
      "   micro avg       0.14      0.14      0.14    260180\n",
      "   macro avg       0.13      0.14      0.13    260180\n",
      "weighted avg       0.13      0.14      0.13    260180\n",
      "\n"
     ]
    }
   ],
   "source": [
    "print(classification_report(y_test, y_pred))"
   ]
  },
  {
   "cell_type": "markdown",
   "metadata": {},
   "source": [
    "The best model from GridSearch did so bad, the average for the newly balanced set are all much worse than before. I think at this moment, I have come to the conclusion that downsampling is a bad idea! "
   ]
  },
  {
   "cell_type": "markdown",
   "metadata": {},
   "source": [
    "### Experiment: Facebook's FastText "
   ]
  },
  {
   "cell_type": "markdown",
   "metadata": {},
   "source": [
    "I heard FastText has a great classifier tool, so I want to give it a try. It actually gave the best result for the balanced dataset. I would definitely try to play with it on the original set when I got more AWS credits. You are welcome to skip this section and go straight to the Topic Modelling. "
   ]
  },
  {
   "cell_type": "code",
   "execution_count": 23,
   "metadata": {},
   "outputs": [
    {
     "name": "stdout",
     "output_type": "stream",
     "text": [
      "Collecting fasttext\n",
      "\u001b[?25l  Downloading https://files.pythonhosted.org/packages/10/61/2e01f1397ec533756c1d893c22d9d5ed3fce3a6e4af1976e0d86bb13ea97/fasttext-0.9.1.tar.gz (57kB)\n",
      "\u001b[K     |████████████████████████████████| 61kB 2.3MB/s eta 0:00:011\n",
      "\u001b[?25hRequirement already satisfied: pybind11>=2.2 in /home/ec2-user/anaconda3/envs/python3/lib/python3.6/site-packages (from fasttext) (2.4.3)\n",
      "Requirement already satisfied: setuptools>=0.7.0 in /home/ec2-user/anaconda3/envs/python3/lib/python3.6/site-packages (from fasttext) (39.1.0)\n",
      "Requirement already satisfied: numpy in /home/ec2-user/anaconda3/envs/python3/lib/python3.6/site-packages (from fasttext) (1.17.4)\n",
      "Building wheels for collected packages: fasttext\n",
      "  Building wheel for fasttext (setup.py) ... \u001b[?25ldone\n",
      "\u001b[?25h  Created wheel for fasttext: filename=fasttext-0.9.1-cp36-cp36m-linux_x86_64.whl size=2113890 sha256=d357596b666ad8ffe106196bc93b22e96663ee9162475892fef0d403ed856efc\n",
      "  Stored in directory: /home/ec2-user/.cache/pip/wheels/9f/f0/04/caa82c912aee89ce76358ff954f3f0729b7577c8ff23a292e3\n",
      "Successfully built fasttext\n",
      "Installing collected packages: fasttext\n",
      "Successfully installed fasttext-0.9.1\n"
     ]
    }
   ],
   "source": [
    "! pip install fasttext"
   ]
  },
  {
   "cell_type": "code",
   "execution_count": 2,
   "metadata": {
    "ExecuteTime": {
     "end_time": "2019-12-08T18:04:04.445204Z",
     "start_time": "2019-12-08T18:04:04.375645Z"
    }
   },
   "outputs": [],
   "source": [
    "import fasttext"
   ]
  },
  {
   "cell_type": "markdown",
   "metadata": {},
   "source": [
    "#### 1. Convert the data to FastText format"
   ]
  },
  {
   "cell_type": "code",
   "execution_count": 3,
   "metadata": {},
   "outputs": [],
   "source": [
    "df_resampled = pd.read_csv('resampled.csv', index_col=0)"
   ]
  },
  {
   "cell_type": "code",
   "execution_count": 4,
   "metadata": {
    "ExecuteTime": {
     "end_time": "2019-12-08T18:45:10.659386Z",
     "start_time": "2019-12-08T18:45:10.354336Z"
    }
   },
   "outputs": [],
   "source": [
    "# convert input file to FastText format: __label__ sentence 1\n",
    "from io import StringIO\n",
    "import csv\n",
    "\n",
    "col = ['MBTI', 'text']\n",
    "\n",
    "df_fasttext = df_resampled[col]\n",
    "df_fasttext['MBTI']=['__label__'+ s for s in df_fasttext['MBTI']]\n",
    "#data_sample['comments_lemma']= data_sample['comments_lemma'].replace('\\n',' ', regex=True).replace('\\t',' ', regex=True)\n",
    "df_fasttext.to_csv(r'fasttextsample.txt', index=False, sep=' ', header=False, quoting=csv.QUOTE_NONE, quotechar=\"\", escapechar=\" \")"
   ]
  },
  {
   "cell_type": "code",
   "execution_count": 5,
   "metadata": {
    "ExecuteTime": {
     "end_time": "2019-12-08T18:20:13.318856Z",
     "start_time": "2019-12-08T18:20:13.305798Z"
    }
   },
   "outputs": [
    {
     "data": {
      "text/html": [
       "<div>\n",
       "<style scoped>\n",
       "    .dataframe tbody tr th:only-of-type {\n",
       "        vertical-align: middle;\n",
       "    }\n",
       "\n",
       "    .dataframe tbody tr th {\n",
       "        vertical-align: top;\n",
       "    }\n",
       "\n",
       "    .dataframe thead th {\n",
       "        text-align: right;\n",
       "    }\n",
       "</style>\n",
       "<table border=\"1\" class=\"dataframe\">\n",
       "  <thead>\n",
       "    <tr style=\"text-align: right;\">\n",
       "      <th></th>\n",
       "      <th>MBTI</th>\n",
       "      <th>text</th>\n",
       "    </tr>\n",
       "  </thead>\n",
       "  <tbody>\n",
       "    <tr>\n",
       "      <th>0</th>\n",
       "      <td>__label__ENFJ</td>\n",
       "      <td>video like particular downvote show tutorial r...</td>\n",
       "    </tr>\n",
       "    <tr>\n",
       "      <th>1</th>\n",
       "      <td>__label__ENFJ</td>\n",
       "      <td>tolkien middle earth book especially silnarill...</td>\n",
       "    </tr>\n",
       "    <tr>\n",
       "      <th>2</th>\n",
       "      <td>__label__ENFJ</td>\n",
       "      <td>halfway inferno shut amazing</td>\n",
       "    </tr>\n",
       "    <tr>\n",
       "      <th>3</th>\n",
       "      <td>__label__ENFJ</td>\n",
       "      <td>must precise eye color green neutral l oreal p...</td>\n",
       "    </tr>\n",
       "    <tr>\n",
       "      <th>4</th>\n",
       "      <td>__label__ENFJ</td>\n",
       "      <td>dunno expert acquisition work assume big role ...</td>\n",
       "    </tr>\n",
       "  </tbody>\n",
       "</table>\n",
       "</div>"
      ],
      "text/plain": [
       "            MBTI                                               text\n",
       "0  __label__ENFJ  video like particular downvote show tutorial r...\n",
       "1  __label__ENFJ  tolkien middle earth book especially silnarill...\n",
       "2  __label__ENFJ                       halfway inferno shut amazing\n",
       "3  __label__ENFJ  must precise eye color green neutral l oreal p...\n",
       "4  __label__ENFJ  dunno expert acquisition work assume big role ..."
      ]
     },
     "execution_count": 5,
     "metadata": {},
     "output_type": "execute_result"
    }
   ],
   "source": [
    "df_fasttext.head()"
   ]
  },
  {
   "cell_type": "code",
   "execution_count": 6,
   "metadata": {
    "ExecuteTime": {
     "end_time": "2019-12-08T18:20:16.258884Z",
     "start_time": "2019-12-08T18:20:16.247559Z"
    }
   },
   "outputs": [
    {
     "data": {
      "text/html": [
       "<div>\n",
       "<style scoped>\n",
       "    .dataframe tbody tr th:only-of-type {\n",
       "        vertical-align: middle;\n",
       "    }\n",
       "\n",
       "    .dataframe tbody tr th {\n",
       "        vertical-align: top;\n",
       "    }\n",
       "\n",
       "    .dataframe thead th {\n",
       "        text-align: right;\n",
       "    }\n",
       "</style>\n",
       "<table border=\"1\" class=\"dataframe\">\n",
       "  <thead>\n",
       "    <tr style=\"text-align: right;\">\n",
       "      <th></th>\n",
       "      <th>MBTI</th>\n",
       "      <th>text</th>\n",
       "    </tr>\n",
       "  </thead>\n",
       "  <tbody>\n",
       "    <tr>\n",
       "      <th>867259</th>\n",
       "      <td>__label__ISTP</td>\n",
       "      <td>anthony taylor cunt</td>\n",
       "    </tr>\n",
       "    <tr>\n",
       "      <th>867260</th>\n",
       "      <td>__label__ISTP</td>\n",
       "      <td>well pretty amazing understand completely</td>\n",
       "    </tr>\n",
       "    <tr>\n",
       "      <th>867261</th>\n",
       "      <td>__label__ISTP</td>\n",
       "      <td>also digital copy sure save often card get rea...</td>\n",
       "    </tr>\n",
       "    <tr>\n",
       "      <th>867262</th>\n",
       "      <td>__label__ISTP</td>\n",
       "      <td>weeaboo generally consider someone waaaaaay an...</td>\n",
       "    </tr>\n",
       "    <tr>\n",
       "      <th>867263</th>\n",
       "      <td>__label__ISTP</td>\n",
       "      <td>yeah think could laugh easily people would mak...</td>\n",
       "    </tr>\n",
       "  </tbody>\n",
       "</table>\n",
       "</div>"
      ],
      "text/plain": [
       "                 MBTI                                               text\n",
       "867259  __label__ISTP                                anthony taylor cunt\n",
       "867260  __label__ISTP          well pretty amazing understand completely\n",
       "867261  __label__ISTP  also digital copy sure save often card get rea...\n",
       "867262  __label__ISTP  weeaboo generally consider someone waaaaaay an...\n",
       "867263  __label__ISTP  yeah think could laugh easily people would mak..."
      ]
     },
     "execution_count": 6,
     "metadata": {},
     "output_type": "execute_result"
    }
   ],
   "source": [
    "df_fasttext.tail()"
   ]
  },
  {
   "cell_type": "code",
   "execution_count": 7,
   "metadata": {
    "ExecuteTime": {
     "end_time": "2019-12-08T18:45:14.879057Z",
     "start_time": "2019-12-08T18:45:14.649938Z"
    }
   },
   "outputs": [],
   "source": [
    "# split the data to two files\n",
    "from sklearn.model_selection import train_test_split\n",
    "\n",
    "X = df_fasttext.text\n",
    "y = df_fasttext.MBTI\n",
    "\n",
    "X_rest, X_test, y_rest, y_test = train_test_split(X, y, test_size = 0.3, stratify = y, random_state = 42)\n",
    "X_train, X_valid, y_train, y_valid = train_test_split(X_rest, y_rest, test_size = 0.3, stratify=y_rest, random_state=42)"
   ]
  },
  {
   "cell_type": "code",
   "execution_count": 8,
   "metadata": {
    "ExecuteTime": {
     "end_time": "2019-12-08T18:45:17.327831Z",
     "start_time": "2019-12-08T18:45:16.970750Z"
    }
   },
   "outputs": [],
   "source": [
    "train_df = pd.concat([y_train, X_train], axis = 1)\n",
    "valid_df = pd.concat([y_valid, X_valid], axis = 1)\n",
    "test_df = pd.concat([y_test, X_test], axis = 1)\n",
    "train_df.to_csv(r'fasttextsample_train.txt', index=False, sep=' ', header=False, quoting=csv.QUOTE_NONE, quotechar=\"\", escapechar=\" \")\n",
    "valid_df.to_csv(r'fasttextsample_valid.txt', index=False, sep=' ', header=False, quoting=csv.QUOTE_NONE, quotechar=\"\", escapechar=\" \")\n",
    "test_df.to_csv(r'fasttextsample_test.txt', index=False, sep=' ', header=False, quoting=csv.QUOTE_NONE, quotechar=\"\", escapechar=\" \")"
   ]
  },
  {
   "cell_type": "markdown",
   "metadata": {},
   "source": [
    "#### Input the data into the model"
   ]
  },
  {
   "cell_type": "code",
   "execution_count": 9,
   "metadata": {
    "ExecuteTime": {
     "end_time": "2019-12-08T18:54:53.627783Z",
     "start_time": "2019-12-08T18:50:31.608791Z"
    }
   },
   "outputs": [],
   "source": [
    "#  train the model \n",
    "# adjust epochs\n",
    "epochs = range(1,51)\n",
    "test_scores = []\n",
    "\n",
    "for epoch in epochs: \n",
    "    model = fasttext.train_supervised(input='fasttextsample_train.txt', epoch = epoch, lr= 1.0, \n",
    "                                      wordNgrams = 2, bucket = 200000, dim=50, loss='hs')\n",
    "    score = model.test('fasttextsample_valid.txt')[1]\n",
    "    test_scores.append(score)\n",
    "\n",
    "    "
   ]
  },
  {
   "cell_type": "code",
   "execution_count": 10,
   "metadata": {
    "ExecuteTime": {
     "end_time": "2019-12-08T18:56:31.467072Z",
     "start_time": "2019-12-08T18:56:31.248650Z"
    }
   },
   "outputs": [
    {
     "data": {
      "image/png": "[encoded data removed]",
      "text/plain": [
       "<Figure size 432x288 with 1 Axes>"
      ]
     },
     "metadata": {},
     "output_type": "display_data"
    }
   ],
   "source": [
    "plt.figure()\n",
    "plt.plot(epochs, test_scores)\n",
    "plt.grid()\n",
    "plt.show()"
   ]
  },
  {
   "cell_type": "code",
   "execution_count": 11,
   "metadata": {
    "scrolled": true
   },
   "outputs": [
    {
     "data": {
      "text/plain": [
       "[0.1428900870825692,\n",
       " 0.16335943248081,\n",
       " 0.17308896039005964,\n",
       " 0.17230378968406487,\n",
       " 0.17713560941326334,\n",
       " 0.17590569166401282,\n",
       " 0.15999912148732195,\n",
       " 0.16721939755993104,\n",
       " 0.15287218738675423,\n",
       " 0.10632199685931717,\n",
       " 0.1698549355940393,\n",
       " 0.1558536397878392,\n",
       " 0.16924546742365176,\n",
       " 0.1258524318329069,\n",
       " 0.1314200059299606,\n",
       " 0.1276808363440695,\n",
       " 0.13888187298902957,\n",
       " 0.1452510899047912,\n",
       " 0.1494679507593644,\n",
       " 0.14694771751424837,\n",
       " 0.1528666966825165,\n",
       " 0.14942951582970032,\n",
       " 0.15343223921900223,\n",
       " 0.15250980090706434,\n",
       " 0.15208701668075947,\n",
       " 0.1567760780997771,\n",
       " 0.1571933716218442,\n",
       " 0.15721533443879512,\n",
       " 0.15894490627367866,\n",
       " 0.15848917782194744,\n",
       " 0.1517685558349714,\n",
       " 0.1555736138717152,\n",
       " 0.14730461328970054,\n",
       " 0.14677201497864117,\n",
       " 0.15348165555714177,\n",
       " 0.15524417161745166,\n",
       " 0.14866081723641875,\n",
       " 0.152476856681638,\n",
       " 0.14713989216256876,\n",
       " 0.15973007697967342,\n",
       " 0.1516422696375037,\n",
       " 0.1409903034163162,\n",
       " 0.16176163754763187,\n",
       " 0.14592644652603143,\n",
       " 0.15694079922690884,\n",
       " 0.15117555977729705,\n",
       " 0.15001702118313695,\n",
       " 0.16104784599672753,\n",
       " 0.14416393046572154,\n",
       " 0.1624973919154871]"
      ]
     },
     "execution_count": 11,
     "metadata": {},
     "output_type": "execute_result"
    }
   ],
   "source": [
    "test_scores"
   ]
  },
  {
   "cell_type": "code",
   "execution_count": 12,
   "metadata": {
    "ExecuteTime": {
     "end_time": "2019-12-08T18:59:46.009585Z",
     "start_time": "2019-12-08T18:59:39.335678Z"
    }
   },
   "outputs": [],
   "source": [
    "# adjust learning rate\n",
    "\n",
    "learning_rates = np.arange(0.1,1.0,0.1)\n",
    "test_scores1 = []\n",
    "\n",
    "for learning_rate in learning_rates: \n",
    "    model = fasttext.train_supervised(input='fasttextsample_train.txt', epoch = 5, lr= learning_rate, \n",
    "                                      wordNgrams = 2, bucket = 200000, dim=50, loss='hs')\n",
    "    score = model.test('fasttextsample_valid.txt')[1]\n",
    "    test_scores1.append(score)"
   ]
  },
  {
   "cell_type": "code",
   "execution_count": 13,
   "metadata": {
    "ExecuteTime": {
     "end_time": "2019-12-08T19:00:02.998966Z",
     "start_time": "2019-12-08T19:00:02.739527Z"
    }
   },
   "outputs": [
    {
     "data": {
      "image/png": "[encoded data removed]",
      "text/plain": [
       "<Figure size 432x288 with 1 Axes>"
      ]
     },
     "metadata": {},
     "output_type": "display_data"
    }
   ],
   "source": [
    "plt.figure()\n",
    "plt.plot(learning_rates, test_scores1)\n",
    "plt.grid()\n",
    "plt.show()"
   ]
  },
  {
   "cell_type": "code",
   "execution_count": 14,
   "metadata": {
    "scrolled": true
   },
   "outputs": [
    {
     "data": {
      "text/plain": [
       "[0.18838606239636296,\n",
       " 0.19127966352964432,\n",
       " 0.19140045902287428,\n",
       " 0.18757892887341732,\n",
       " 0.18717810746406335,\n",
       " 0.18582190351734512,\n",
       " 0.1856626730944511,\n",
       " 0.18413076661212568,\n",
       " 0.182823979003547]"
      ]
     },
     "execution_count": 14,
     "metadata": {},
     "output_type": "execute_result"
    }
   ],
   "source": [
    "test_scores1"
   ]
  },
  {
   "cell_type": "code",
   "execution_count": 15,
   "metadata": {
    "ExecuteTime": {
     "end_time": "2019-12-08T19:02:04.357495Z",
     "start_time": "2019-12-08T19:02:03.568789Z"
    }
   },
   "outputs": [],
   "source": [
    "# final model \n",
    "model = fasttext.train_supervised(input='fasttextsample_train.txt', epoch = 5, lr= 0.3, \n",
    "                                      wordNgrams = 2, bucket = 200000, dim=50, loss='hs')\n",
    "# save the model \n",
    "model.save_model('fasttext_model.bin')"
   ]
  },
  {
   "cell_type": "code",
   "execution_count": 16,
   "metadata": {
    "ExecuteTime": {
     "end_time": "2019-12-08T19:02:34.462712Z",
     "start_time": "2019-12-08T19:02:34.279479Z"
    }
   },
   "outputs": [
    {
     "data": {
      "text/plain": [
       "(260180, 0.1900799446537013, 0.1900799446537013)"
      ]
     },
     "execution_count": 16,
     "metadata": {},
     "output_type": "execute_result"
    }
   ],
   "source": [
    "# test on test set \n",
    "model.test('fasttextsample_test.txt')"
   ]
  },
  {
   "cell_type": "markdown",
   "metadata": {},
   "source": [
    "## LDA Topic Modelling with Gensim"
   ]
  },
  {
   "cell_type": "code",
   "execution_count": 19,
   "metadata": {
    "ExecuteTime": {
     "end_time": "2019-12-10T00:20:53.027498Z",
     "start_time": "2019-12-10T00:20:53.015410Z"
    }
   },
   "outputs": [],
   "source": [
    "import re\n",
    "import numpy as np\n",
    "import pandas as pd\n",
    "from pprint import pprint\n",
    "\n",
    "# Gensim\n",
    "import gensim\n",
    "import gensim.corpora as corpora\n",
    "from gensim.utils import simple_preprocess\n",
    "from gensim.models import CoherenceModel\n",
    "\n",
    "# spacy for lemmatization\n",
    "import spacy\n",
    "\n",
    "# Plotting tools\n",
    "import pyLDAvis\n",
    "import pyLDAvis.gensim  # don't skip this\n",
    "import matplotlib.pyplot as plt\n",
    "%matplotlib inline\n",
    "\n",
    "\n",
    "import warnings\n",
    "warnings.filterwarnings(\"ignore\",category=DeprecationWarning)"
   ]
  },
  {
   "cell_type": "markdown",
   "metadata": {},
   "source": [
    "### Steps: \n",
    "1. Import the data\n",
    "2. Lemmatize the data & remove stop words\n",
    "3. Create dictionary and corpus \n",
    "4. train the model"
   ]
  },
  {
   "cell_type": "markdown",
   "metadata": {},
   "source": [
    "### Create a Dictionary \n",
    "\n",
    "I picked two contrast personalties for topic modelling. I want to see if these people do talk about different topics online or they actually are interested in the same issues. Because the personalities are all self-identified, so it is also a way to see how accurate the personality types reflect their online interest/behaviours."
   ]
  },
  {
   "cell_type": "code",
   "execution_count": 62,
   "metadata": {
    "ExecuteTime": {
     "end_time": "2019-12-10T00:20:57.577142Z",
     "start_time": "2019-12-10T00:20:57.397741Z"
    }
   },
   "outputs": [],
   "source": [
    "# Separate a df ESFJ & INTP for LDA topic modelling\n",
    "df_esfj = df_resampled[df_resampled['MBTI']=='ESFJ']\n",
    "df_intp = df_resampled[df_resampled['MBTI']=='INTP']"
   ]
  },
  {
   "cell_type": "code",
   "execution_count": 3,
   "metadata": {},
   "outputs": [],
   "source": [
    "df_esfj = pd.read_csv('df_esfj.csv',index_col=0)\n",
    "df_intp = pd.read_csv('df_intp.csv',index_col=0)"
   ]
  },
  {
   "cell_type": "code",
   "execution_count": 4,
   "metadata": {
    "ExecuteTime": {
     "end_time": "2019-12-10T00:20:59.753750Z",
     "start_time": "2019-12-10T00:20:59.746970Z"
    }
   },
   "outputs": [
    {
     "name": "stdout",
     "output_type": "stream",
     "text": [
      "ESFJ: (54204, 2)\n",
      "INTP: (54204, 2)\n"
     ]
    }
   ],
   "source": [
    "print('ESFJ:', df_esfj.shape)\n",
    "print('INTP:', df_intp.shape)"
   ]
  },
  {
   "cell_type": "code",
   "execution_count": 5,
   "metadata": {
    "ExecuteTime": {
     "end_time": "2019-12-10T00:21:25.067148Z",
     "start_time": "2019-12-10T00:21:25.051043Z"
    }
   },
   "outputs": [
    {
     "data": {
      "text/html": [
       "<div>\n",
       "<style scoped>\n",
       "    .dataframe tbody tr th:only-of-type {\n",
       "        vertical-align: middle;\n",
       "    }\n",
       "\n",
       "    .dataframe tbody tr th {\n",
       "        vertical-align: top;\n",
       "    }\n",
       "\n",
       "    .dataframe thead th {\n",
       "        text-align: right;\n",
       "    }\n",
       "</style>\n",
       "<table border=\"1\" class=\"dataframe\">\n",
       "  <thead>\n",
       "    <tr style=\"text-align: right;\">\n",
       "      <th></th>\n",
       "      <th>text</th>\n",
       "      <th>MBTI</th>\n",
       "    </tr>\n",
       "  </thead>\n",
       "  <tbody>\n",
       "    <tr>\n",
       "      <th>216816</th>\n",
       "      <td>enjoy ridiculous article affordable watch one ...</td>\n",
       "      <td>ESFJ</td>\n",
       "    </tr>\n",
       "    <tr>\n",
       "      <th>216817</th>\n",
       "      <td>yup exactly story grow mom would cook one mayb...</td>\n",
       "      <td>ESFJ</td>\n",
       "    </tr>\n",
       "    <tr>\n",
       "      <th>216818</th>\n",
       "      <td>unfortunately</td>\n",
       "      <td>ESFJ</td>\n",
       "    </tr>\n",
       "    <tr>\n",
       "      <th>216819</th>\n",
       "      <td>wow time change back release match ghz believe...</td>\n",
       "      <td>ESFJ</td>\n",
       "    </tr>\n",
       "    <tr>\n",
       "      <th>216820</th>\n",
       "      <td>annoy want keep reading journal</td>\n",
       "      <td>ESFJ</td>\n",
       "    </tr>\n",
       "    <tr>\n",
       "      <th>216821</th>\n",
       "      <td>would go around northeast usa visit big city</td>\n",
       "      <td>ESFJ</td>\n",
       "    </tr>\n",
       "    <tr>\n",
       "      <th>216822</th>\n",
       "      <td>lewis write bit believe screwtape letters some...</td>\n",
       "      <td>ESFJ</td>\n",
       "    </tr>\n",
       "    <tr>\n",
       "      <th>216823</th>\n",
       "      <td>would runaway groom anything</td>\n",
       "      <td>ESFJ</td>\n",
       "    </tr>\n",
       "    <tr>\n",
       "      <th>216824</th>\n",
       "      <td>refuse work chrome work fine safari</td>\n",
       "      <td>ESFJ</td>\n",
       "    </tr>\n",
       "    <tr>\n",
       "      <th>216825</th>\n",
       "      <td>part reason one kid everyone else around like ...</td>\n",
       "      <td>ESFJ</td>\n",
       "    </tr>\n",
       "    <tr>\n",
       "      <th>216826</th>\n",
       "      <td>see could color class officer one point go gym...</td>\n",
       "      <td>ESFJ</td>\n",
       "    </tr>\n",
       "    <tr>\n",
       "      <th>216827</th>\n",
       "      <td>currently work grad school stuff make feel lik...</td>\n",
       "      <td>ESFJ</td>\n",
       "    </tr>\n",
       "    <tr>\n",
       "      <th>216828</th>\n",
       "      <td>esfj totally hit hurt jerk sorry mean come let...</td>\n",
       "      <td>ESFJ</td>\n",
       "    </tr>\n",
       "    <tr>\n",
       "      <th>216829</th>\n",
       "      <td>yes fail pursue friend want try win heart allow</td>\n",
       "      <td>ESFJ</td>\n",
       "    </tr>\n",
       "    <tr>\n",
       "      <th>216830</th>\n",
       "      <td>heelllllllloooooo</td>\n",
       "      <td>ESFJ</td>\n",
       "    </tr>\n",
       "    <tr>\n",
       "      <th>216831</th>\n",
       "      <td>week friend post picture kid rarely enough wan...</td>\n",
       "      <td>ESFJ</td>\n",
       "    </tr>\n",
       "    <tr>\n",
       "      <th>216832</th>\n",
       "      <td>anything burroughs write dozen tarzan book lea...</td>\n",
       "      <td>ESFJ</td>\n",
       "    </tr>\n",
       "    <tr>\n",
       "      <th>216833</th>\n",
       "      <td>absolutely amazing happy long</td>\n",
       "      <td>ESFJ</td>\n",
       "    </tr>\n",
       "    <tr>\n",
       "      <th>216834</th>\n",
       "      <td>wake get ready camp good friend come watch jeo...</td>\n",
       "      <td>ESFJ</td>\n",
       "    </tr>\n",
       "    <tr>\n",
       "      <th>216835</th>\n",
       "      <td>personally find one say gold ugly look like pu...</td>\n",
       "      <td>ESFJ</td>\n",
       "    </tr>\n",
       "  </tbody>\n",
       "</table>\n",
       "</div>"
      ],
      "text/plain": [
       "                                                     text  MBTI\n",
       "216816  enjoy ridiculous article affordable watch one ...  ESFJ\n",
       "216817  yup exactly story grow mom would cook one mayb...  ESFJ\n",
       "216818                                      unfortunately  ESFJ\n",
       "216819  wow time change back release match ghz believe...  ESFJ\n",
       "216820                    annoy want keep reading journal  ESFJ\n",
       "216821       would go around northeast usa visit big city  ESFJ\n",
       "216822  lewis write bit believe screwtape letters some...  ESFJ\n",
       "216823                       would runaway groom anything  ESFJ\n",
       "216824                refuse work chrome work fine safari  ESFJ\n",
       "216825  part reason one kid everyone else around like ...  ESFJ\n",
       "216826  see could color class officer one point go gym...  ESFJ\n",
       "216827  currently work grad school stuff make feel lik...  ESFJ\n",
       "216828  esfj totally hit hurt jerk sorry mean come let...  ESFJ\n",
       "216829    yes fail pursue friend want try win heart allow  ESFJ\n",
       "216830                                  heelllllllloooooo  ESFJ\n",
       "216831  week friend post picture kid rarely enough wan...  ESFJ\n",
       "216832  anything burroughs write dozen tarzan book lea...  ESFJ\n",
       "216833                      absolutely amazing happy long  ESFJ\n",
       "216834  wake get ready camp good friend come watch jeo...  ESFJ\n",
       "216835  personally find one say gold ugly look like pu...  ESFJ"
      ]
     },
     "execution_count": 5,
     "metadata": {},
     "output_type": "execute_result"
    }
   ],
   "source": [
    "df_esfj.head(20)"
   ]
  },
  {
   "cell_type": "code",
   "execution_count": 6,
   "metadata": {
    "ExecuteTime": {
     "end_time": "2019-12-10T00:25:17.438231Z",
     "start_time": "2019-12-10T00:25:17.426816Z"
    }
   },
   "outputs": [
    {
     "data": {
      "text/html": [
       "<div>\n",
       "<style scoped>\n",
       "    .dataframe tbody tr th:only-of-type {\n",
       "        vertical-align: middle;\n",
       "    }\n",
       "\n",
       "    .dataframe tbody tr th {\n",
       "        vertical-align: top;\n",
       "    }\n",
       "\n",
       "    .dataframe thead th {\n",
       "        text-align: right;\n",
       "    }\n",
       "</style>\n",
       "<table border=\"1\" class=\"dataframe\">\n",
       "  <thead>\n",
       "    <tr style=\"text-align: right;\">\n",
       "      <th></th>\n",
       "      <th>text</th>\n",
       "      <th>MBTI</th>\n",
       "    </tr>\n",
       "  </thead>\n",
       "  <tbody>\n",
       "    <tr>\n",
       "      <th>596244</th>\n",
       "      <td>hear amd car driver crash</td>\n",
       "      <td>INTP</td>\n",
       "    </tr>\n",
       "    <tr>\n",
       "      <th>596245</th>\n",
       "      <td>one sell tomato grocery store</td>\n",
       "      <td>INTP</td>\n",
       "    </tr>\n",
       "    <tr>\n",
       "      <th>596246</th>\n",
       "      <td>nox definitely nox</td>\n",
       "      <td>INTP</td>\n",
       "    </tr>\n",
       "    <tr>\n",
       "      <th>596247</th>\n",
       "      <td>yeah well fuck</td>\n",
       "      <td>INTP</td>\n",
       "    </tr>\n",
       "    <tr>\n",
       "      <th>596248</th>\n",
       "      <td>society value man primarily base successful pe...</td>\n",
       "      <td>INTP</td>\n",
       "    </tr>\n",
       "    <tr>\n",
       "      <th>596249</th>\n",
       "      <td>tell anything would convey experience taste so...</td>\n",
       "      <td>INTP</td>\n",
       "    </tr>\n",
       "    <tr>\n",
       "      <th>596250</th>\n",
       "      <td>fair never actually house mate room mate live ...</td>\n",
       "      <td>INTP</td>\n",
       "    </tr>\n",
       "    <tr>\n",
       "      <th>596251</th>\n",
       "      <td>extremely entj maybe estp like season master s...</td>\n",
       "      <td>INTP</td>\n",
       "    </tr>\n",
       "    <tr>\n",
       "      <th>596252</th>\n",
       "      <td>want buy preyta seem really mana hungry right ...</td>\n",
       "      <td>INTP</td>\n",
       "    </tr>\n",
       "    <tr>\n",
       "      <th>596253</th>\n",
       "      <td>georgeous lt</td>\n",
       "      <td>INTP</td>\n",
       "    </tr>\n",
       "    <tr>\n",
       "      <th>596254</th>\n",
       "      <td>many point twilight could brilliant though per...</td>\n",
       "      <td>INTP</td>\n",
       "    </tr>\n",
       "    <tr>\n",
       "      <th>596255</th>\n",
       "      <td>sorry know tell good selling guess could wrong...</td>\n",
       "      <td>INTP</td>\n",
       "    </tr>\n",
       "    <tr>\n",
       "      <th>596256</th>\n",
       "      <td>legitimate question legitimate point trolling ...</td>\n",
       "      <td>INTP</td>\n",
       "    </tr>\n",
       "    <tr>\n",
       "      <th>596257</th>\n",
       "      <td>man would kill tax live kommifornia think go p...</td>\n",
       "      <td>INTP</td>\n",
       "    </tr>\n",
       "    <tr>\n",
       "      <th>596258</th>\n",
       "      <td>hey dunkle play leah guy sound like hank hill ...</td>\n",
       "      <td>INTP</td>\n",
       "    </tr>\n",
       "    <tr>\n",
       "      <th>596259</th>\n",
       "      <td>sweden pretty terrifyingly broken country top ...</td>\n",
       "      <td>INTP</td>\n",
       "    </tr>\n",
       "    <tr>\n",
       "      <th>596260</th>\n",
       "      <td>claim tenable hide variable interpretation cla...</td>\n",
       "      <td>INTP</td>\n",
       "    </tr>\n",
       "    <tr>\n",
       "      <th>596261</th>\n",
       "      <td>remember matter could win without</td>\n",
       "      <td>INTP</td>\n",
       "    </tr>\n",
       "    <tr>\n",
       "      <th>596262</th>\n",
       "      <td>really think fictional character personality type</td>\n",
       "      <td>INTP</td>\n",
       "    </tr>\n",
       "    <tr>\n",
       "      <th>596263</th>\n",
       "      <td>say look nice allow nerd monastery anyways loo...</td>\n",
       "      <td>INTP</td>\n",
       "    </tr>\n",
       "  </tbody>\n",
       "</table>\n",
       "</div>"
      ],
      "text/plain": [
       "                                                     text  MBTI\n",
       "596244                          hear amd car driver crash  INTP\n",
       "596245                      one sell tomato grocery store  INTP\n",
       "596246                                 nox definitely nox  INTP\n",
       "596247                                     yeah well fuck  INTP\n",
       "596248  society value man primarily base successful pe...  INTP\n",
       "596249  tell anything would convey experience taste so...  INTP\n",
       "596250  fair never actually house mate room mate live ...  INTP\n",
       "596251  extremely entj maybe estp like season master s...  INTP\n",
       "596252  want buy preyta seem really mana hungry right ...  INTP\n",
       "596253                                       georgeous lt  INTP\n",
       "596254  many point twilight could brilliant though per...  INTP\n",
       "596255  sorry know tell good selling guess could wrong...  INTP\n",
       "596256  legitimate question legitimate point trolling ...  INTP\n",
       "596257  man would kill tax live kommifornia think go p...  INTP\n",
       "596258  hey dunkle play leah guy sound like hank hill ...  INTP\n",
       "596259  sweden pretty terrifyingly broken country top ...  INTP\n",
       "596260  claim tenable hide variable interpretation cla...  INTP\n",
       "596261                  remember matter could win without  INTP\n",
       "596262  really think fictional character personality type  INTP\n",
       "596263  say look nice allow nerd monastery anyways loo...  INTP"
      ]
     },
     "execution_count": 6,
     "metadata": {},
     "output_type": "execute_result"
    }
   ],
   "source": [
    "df_intp.head(20)"
   ]
  },
  {
   "cell_type": "code",
   "execution_count": 7,
   "metadata": {
    "ExecuteTime": {
     "end_time": "2019-12-10T00:27:37.119595Z",
     "start_time": "2019-12-10T00:27:31.309710Z"
    }
   },
   "outputs": [
    {
     "name": "stdout",
     "output_type": "stream",
     "text": [
      "Dictionary(30936 unique tokens: ['affordable', 'article', 'enjoy', 'gaudy', 'gold']...)\n",
      "Dictionary(53175 unique tokens: ['amd', 'car', 'crash', 'driver', 'hear']...)\n"
     ]
    }
   ],
   "source": [
    "import gensim\n",
    "from gensim import corpora\n",
    "from pprint import pprint\n",
    "\n",
    "# How to create a dictionary from a list of sentences\n",
    "documents_esfj = df_esfj['text'].tolist( )\n",
    "documents_intp = df_intp['text'].tolist( )\n",
    "\n",
    "\n",
    "# Tokenize(split) the sentences into words\n",
    "texts_esfj = [[text for text in doc.split()] for doc in documents_esfj]\n",
    "texts_intp = [[text for text in doc.split()] for doc in documents_intp]\n",
    "\n",
    "# Create dictionary\n",
    "dictionary_esfj = corpora.Dictionary(texts_esfj)\n",
    "dictionary_intp = corpora.Dictionary(texts_intp)\n",
    "\n",
    "\n",
    "# Get information about the dictionary\n",
    "print(dictionary_esfj)\n",
    "print(dictionary_intp)"
   ]
  },
  {
   "cell_type": "markdown",
   "metadata": {},
   "source": [
    "### Create a Corpus "
   ]
  },
  {
   "cell_type": "code",
   "execution_count": 8,
   "metadata": {
    "ExecuteTime": {
     "end_time": "2019-12-10T00:33:07.292948Z",
     "start_time": "2019-12-10T00:33:01.513647Z"
    },
    "scrolled": true
   },
   "outputs": [],
   "source": [
    "# Create the Corpus\n",
    "corpus_esfj = [dictionary_esfj.doc2bow(doc, allow_update=True) for doc in texts_esfj]\n",
    "corpus_intp = [dictionary_intp.doc2bow(doc, allow_update=True) for doc in texts_intp]"
   ]
  },
  {
   "cell_type": "code",
   "execution_count": 9,
   "metadata": {
    "ExecuteTime": {
     "end_time": "2019-12-10T00:35:17.652254Z",
     "start_time": "2019-12-10T00:35:15.685876Z"
    },
    "scrolled": true
   },
   "outputs": [
    {
     "name": "stdout",
     "output_type": "stream",
     "text": [
      "ESFJ examples:  [[('affordable', 1), ('article', 1), ('enjoy', 1), ('gaudy', 1), ('gold', 1), ('one', 1), ('ridiculous', 1), ('watch', 1)], [('one', 3), ('watch', 1), ('actually', 1), ('ask', 1), ('away', 2), ('bet', 1), ('big', 1), ('boil', 1), ('bowl', 1), ('busy', 1), ('cook', 1), ('corn', 3), ('could', 2), ('country', 1), ('ear', 1), ('eat', 1), ('exactly', 1), ('first', 1), ('four', 1), ('front', 1), ('give', 1), ('go', 1), ('good', 1), ('grain', 1), ('grow', 2), ('handle', 1), ('happen', 1), ('hear', 1), ('horrify', 1), ('insult', 1), ('keep', 1), ('later', 1), ('leave', 1), ('leftover', 3), ('look', 1), ('maybe', 1), ('meal', 1), ('mom', 2), ('per', 1), ('puzzled', 1), ('really', 1), ('rest', 1), ('rice', 1), ('roommate', 1), ('see', 2), ('shocked', 1), ('starve', 1), ('story', 1), ('third', 1), ('throw', 2), ('time', 1), ('turn', 1), ('two', 1), ('week', 2), ('work', 2), ('world', 1), ('would', 3), ('yup', 1)], [('unfortunately', 1)], [('give', 1), ('time', 1), ('amd', 1), ('back', 1), ('beat', 1), ('believe', 1), ('change', 1), ('clock', 1), ('editon', 1), ('ghz', 2), ('guess', 1), ('help', 1), ('high', 1), ('match', 1), ('nvidia', 1), ('overclocke', 1), ('probably', 1), ('rebrand', 1), ('rebrande', 1), ('release', 1), ('slightly', 2), ('strong', 1), ('support', 1), ('ton', 1), ('wow', 1), ('x', 2), ('year', 1)], [('keep', 1), ('annoy', 1), ('journal', 1), ('reading', 1), ('want', 1)]]\n",
      "INTP examples: [[('amd', 1), ('car', 1), ('crash', 1), ('driver', 1), ('hear', 1)], [('grocery', 1), ('one', 1), ('sell', 1), ('store', 1), ('tomato', 1)], [('definitely', 1), ('nox', 2)], [('fuck', 1), ('well', 1), ('yeah', 1)], [('accomplish', 1), ('advancement', 1), ('also', 1), ('anything', 1), ('base', 1), ('become', 1), ('big', 1), ('career', 1), ('caveat', 1), ('early', 1), ('establish', 1), ('family', 1), ('field', 1), ('figure', 1), ('gain', 1), ('get', 1), ('kid', 1), ('life', 1), ('look', 1), ('magical', 1), ('man', 1), ('meanwhile', 1), ('much', 1), ('number', 1), ('people', 1), ('primarily', 1), ('professional', 1), ('raise', 1), ('relatively', 1), ('safe', 1), ('settle', 2), ('society', 1), ('still', 1), ('success', 1), ('successful', 2), ('suddenly', 1), ('take', 1), ('term', 1), ('time', 1), ('usually', 1), ('value', 2), ('want', 2), ('willing', 1), ('woman', 1), ('year', 1)]]\n"
     ]
    }
   ],
   "source": [
    "# print out the word count of first 6 comments\n",
    "word_counts_esfj = [[(dictionary_esfj[id], count) for id, count in line] for line in corpus_esfj]\n",
    "word_counts_intp = [[(dictionary_intp[id], count) for id, count in line] for line in corpus_intp]\n",
    "\n",
    "print('ESFJ examples: ', word_counts_esfj[:5])\n",
    "\n",
    "print('INTP examples:', word_counts_intp[:5])"
   ]
  },
  {
   "cell_type": "markdown",
   "metadata": {},
   "source": [
    "### Save Dictionary and Corpus"
   ]
  },
  {
   "cell_type": "code",
   "execution_count": 76,
   "metadata": {
    "ExecuteTime": {
     "end_time": "2019-12-10T00:37:23.575976Z",
     "start_time": "2019-12-10T00:37:18.227148Z"
    }
   },
   "outputs": [],
   "source": [
    "# Save the Dict and Corpus\n",
    "dictionary_esfj.save('dictionary_esfj.dict')\n",
    "dictionary_intp.save('dictionary_intp.dict')\n",
    "\n",
    "corpora.MmCorpus.serialize('corpus_esfj.mm', corpus_esfj)\n",
    "corpora.MmCorpus.serialize('corpus_intp.mm', corpus_intp)  "
   ]
  },
  {
   "cell_type": "markdown",
   "metadata": {},
   "source": [
    "### TF-IDF weights "
   ]
  },
  {
   "cell_type": "code",
   "execution_count": 10,
   "metadata": {
    "ExecuteTime": {
     "end_time": "2019-12-10T00:40:48.722685Z",
     "start_time": "2019-12-10T00:40:47.798835Z"
    }
   },
   "outputs": [
    {
     "name": "stdout",
     "output_type": "stream",
     "text": [
      "[['affordable', 0.44], ['article', 0.31], ['enjoy', 0.23], ['gaudy', 0.6], ['gold', 0.34], ['one', 0.11], ['ridiculous', 0.36], ['watch', 0.21]]\n",
      "[['amd', 0.57], ['car', 0.37], ['crash', 0.48], ['driver', 0.46], ['hear', 0.31]]\n"
     ]
    }
   ],
   "source": [
    "from gensim import models\n",
    "\n",
    "# Create the TF-IDF model\n",
    "tfidf_esfj = models.TfidfModel(corpus_esfj, smartirs='ntc')\n",
    "tfidf_intp = models.TfidfModel(corpus_intp, smartirs='ntc')\n",
    "\n",
    "# Show the TF-IDF weights of the first lines of ESFJ and INTP\n",
    "for doc in tfidf_esfj[corpus_esfj[:1]]:\n",
    "    print([[dictionary_esfj[id], np.around(freq, decimals=2)] for id, freq in doc])\n",
    "\n",
    "for doc in tfidf_intp[corpus_intp[:1]]:\n",
    "    print([[dictionary_intp[id], np.around(freq, decimals=2)] for id, freq in doc])"
   ]
  },
  {
   "cell_type": "markdown",
   "metadata": {},
   "source": [
    "### Bi-grams and Tri-grams\n",
    "\n",
    "#### Bi-grams"
   ]
  },
  {
   "cell_type": "code",
   "execution_count": 11,
   "metadata": {
    "ExecuteTime": {
     "end_time": "2019-12-10T00:54:02.836268Z",
     "start_time": "2019-12-10T00:53:32.902429Z"
    }
   },
   "outputs": [
    {
     "name": "stdout",
     "output_type": "stream",
     "text": [
      "['annoy', 'want', 'keep', 'reading_journal']\n",
      "['society', 'value', 'man', 'primarily_base', 'successful', 'people', 'accomplish_much', 'term', 'career_success', 'big', 'year', 'professional_advancement', 'also', 'gain', 'value', 'meanwhile_woman', 'look', 'settle', 'raise_family', 'usually', 'want', 'early', 'still', 'relatively', 'safe', 'kid', 'willing_settle', 'caveat', 'magical', 'number', 'anything', 'life', 'suddenly_become', 'successful', 'figure', 'want', 'get', 'establish', 'field', 'take', 'time']\n"
     ]
    }
   ],
   "source": [
    "from gensim.models import Phrases\n",
    "\n",
    "# remove double and leading space \n",
    "# dataset = [re.sub(' +', ' ', wd) for wd in dataset]\n",
    "# dataset = [wd.lstrip(' ') for wd in dataset]\n",
    "\n",
    "# split the sentences \n",
    "sentence_esfj = [doc.split(' ') for doc in documents_esfj]\n",
    "sentence_intp = [doc.split(' ') for doc in documents_intp]\n",
    "\n",
    "# Build the bigram models\n",
    "bigram_esfj = Phrases(sentence_esfj, min_count=1, threshold=10)\n",
    "bigram_intp = Phrases(sentence_intp, min_count=1, threshold=10)\n",
    "\n",
    "# faster way to get a sentene clubbed as a bigram\n",
    "bigram_model_esfj = gensim.models.phrases.Phraser(bigram_esfj)\n",
    "bigram_model_intp = gensim.models.phrases.Phraser(bigram_intp)\n",
    "\n",
    "# try on a sentence\n",
    "sent_esfj = sentence_esfj[4]\n",
    "sent_intp = sentence_intp[4]\n",
    "\n",
    "# try bigrammodel\n",
    "print(bigram_model_esfj[sent_esfj])\n",
    "print(bigram_model_intp[sent_intp])"
   ]
  },
  {
   "cell_type": "markdown",
   "metadata": {},
   "source": [
    "#### Tri-grams\n",
    "\n",
    "Unfortunately in this case, I didn't find any trigrams..."
   ]
  },
  {
   "cell_type": "code",
   "execution_count": 25,
   "metadata": {
    "ExecuteTime": {
     "end_time": "2019-12-10T01:00:06.760891Z",
     "start_time": "2019-12-10T00:59:44.551580Z"
    }
   },
   "outputs": [
    {
     "name": "stdout",
     "output_type": "stream",
     "text": [
      "['annoy', 'want', 'keep', 'reading_journal']\n",
      "['society', 'value', 'man', 'primarily_base', 'successful', 'people', 'accomplish_much', 'term', 'career_success', 'big', 'year', 'professional_advancement', 'also', 'gain', 'value', 'meanwhile_woman', 'look', 'settle', 'raise_family', 'usually', 'want', 'early', 'still', 'relatively', 'safe', 'kid', 'willing_settle', 'caveat', 'magical', 'number', 'anything', 'life', 'suddenly_become', 'successful', 'figure', 'want', 'get', 'establish', 'field', 'take', 'time']\n"
     ]
    }
   ],
   "source": [
    "# Build the trigram models - try to see if there is any \n",
    "trigram_esfj = Phrases(bigram_esfj[sentence_esfj], threshold=10)\n",
    "trigram_intp = Phrases(bigram_intp[sentence_esfj], threshold=10)\n",
    "\n",
    "# Construct trigram\n",
    "print(trigram_esfj[bigram_esfj[sent_esfj]])\n",
    "print(trigram_intp[bigram_intp[sent_intp]])"
   ]
  },
  {
   "cell_type": "markdown",
   "metadata": {},
   "source": [
    "### Topic Modelling \n",
    "\n",
    "#### Data Prep"
   ]
  },
  {
   "cell_type": "code",
   "execution_count": 12,
   "metadata": {
    "ExecuteTime": {
     "end_time": "2019-12-10T01:08:24.374484Z",
     "start_time": "2019-12-10T01:08:24.362791Z"
    }
   },
   "outputs": [],
   "source": [
    "from gensim.models import LdaModel, LdaMulticore\n",
    "import gensim.downloader as api\n",
    "from gensim.utils import simple_preprocess, lemmatize\n",
    "from nltk.corpus import stopwords\n",
    "\n",
    "\n",
    "import re\n",
    "\n",
    "stop_words = stopwords.words('english')\n",
    "stop = ['to', 'of', 'the', 'be', 'for', 'that', 'do', 'have', 'this', 'and']\n",
    "stop_words = stop_words + stop"
   ]
  },
  {
   "cell_type": "code",
   "execution_count": 192,
   "metadata": {
    "ExecuteTime": {
     "end_time": "2019-12-07T23:36:50.432579Z",
     "start_time": "2019-12-07T23:36:50.428260Z"
    }
   },
   "outputs": [
    {
     "name": "stdout",
     "output_type": "stream",
     "text": [
      "['i', 'me', 'my', 'myself', 'we', 'our', 'ours', 'ourselves', 'you', \"you're\", \"you've\", \"you'll\", \"you'd\", 'your', 'yours', 'yourself', 'yourselves', 'he', 'him', 'his', 'himself', 'she', \"she's\", 'her', 'hers', 'herself', 'it', \"it's\", 'its', 'itself', 'they', 'them', 'their', 'theirs', 'themselves', 'what', 'which', 'who', 'whom', 'this', 'that', \"that'll\", 'these', 'those', 'am', 'is', 'are', 'was', 'were', 'be', 'been', 'being', 'have', 'has', 'had', 'having', 'do', 'does', 'did', 'doing', 'a', 'an', 'the', 'and', 'but', 'if', 'or', 'because', 'as', 'until', 'while', 'of', 'at', 'by', 'for', 'with', 'about', 'against', 'between', 'into', 'through', 'during', 'before', 'after', 'above', 'below', 'to', 'from', 'up', 'down', 'in', 'out', 'on', 'off', 'over', 'under', 'again', 'further', 'then', 'once', 'here', 'there', 'when', 'where', 'why', 'how', 'all', 'any', 'both', 'each', 'few', 'more', 'most', 'other', 'some', 'such', 'no', 'nor', 'not', 'only', 'own', 'same', 'so', 'than', 'too', 'very', 's', 't', 'can', 'will', 'just', 'don', \"don't\", 'should', \"should've\", 'now', 'd', 'll', 'm', 'o', 're', 've', 'y', 'ain', 'aren', \"aren't\", 'couldn', \"couldn't\", 'didn', \"didn't\", 'doesn', \"doesn't\", 'hadn', \"hadn't\", 'hasn', \"hasn't\", 'haven', \"haven't\", 'isn', \"isn't\", 'ma', 'mightn', \"mightn't\", 'mustn', \"mustn't\", 'needn', \"needn't\", 'shan', \"shan't\", 'shouldn', \"shouldn't\", 'wasn', \"wasn't\", 'weren', \"weren't\", 'won', \"won't\", 'wouldn', \"wouldn't\", 'to', 'of', 'the', 'be', 'for', 'that', 'do', 'have', 'this', 'and']\n"
     ]
    }
   ],
   "source": [
    "print(stop_words)"
   ]
  },
  {
   "cell_type": "code",
   "execution_count": 13,
   "metadata": {
    "ExecuteTime": {
     "end_time": "2019-12-10T01:03:44.242882Z",
     "start_time": "2019-12-10T01:03:33.881154Z"
    }
   },
   "outputs": [],
   "source": [
    "# create bi-grams\n",
    "processed_bigram_esfj = [bigram_model_esfj[doc] for doc in sentence_esfj]\n",
    "processed_bigram_intp = [bigram_model_intp[doc] for doc in sentence_intp]"
   ]
  },
  {
   "cell_type": "code",
   "execution_count": 28,
   "metadata": {
    "ExecuteTime": {
     "end_time": "2019-12-10T01:04:51.420422Z",
     "start_time": "2019-12-10T01:04:51.415785Z"
    }
   },
   "outputs": [
    {
     "name": "stdout",
     "output_type": "stream",
     "text": [
      "[['enjoy', 'ridiculous', 'article', 'affordable', 'watch', 'one', 'gaudy', 'gold'], ['yup_exactly', 'story', 'grow', 'mom', 'would', 'cook', 'one', 'maybe', 'two', 'big', 'meal_per', 'week', 'would', 'work', 'leftover_rest', 'week', 'busy', 'work', 'mom', 'grow_starve', 'third', 'world', 'country', 'leave', 'one', 'grain_rice', 'bowl_bet', 'would', 'hear', 'later', 'see', 'shocked_horrify', 'see', 'insult_leftover', 'happen', 'front', 'first', 'time', 'roommate_boil', 'four_ear', 'corn_eat', 'one', 'go', 'throw_away', 'actually', 'ask', 'could', 'keep_leftover', 'corn', 'could_handle', 'watch', 'throw_away', 'look_puzzled', 'give', 'turn', 'really', 'good', 'corn'], ['unfortunately'], ['wow', 'time', 'change', 'back', 'release', 'match_ghz', 'believe', 'slightly', 'strong', 'x_x', 'slightly_overclocke', 'clock', 'high_ghz', 'editon_beat', 'rebrand_guess', 'year_amd', 'give', 'support_nvidia', 'probably', 'help_rebrande', 'ton'], ['annoy', 'want', 'keep', 'reading_journal']]\n",
      "[['hear', 'amd', 'car', 'driver_crash'], ['one', 'sell', 'tomato', 'grocery_store'], ['nox', 'definitely', 'nox'], ['yeah', 'well', 'fuck'], ['society', 'value', 'man', 'primarily_base', 'successful', 'people', 'accomplish_much', 'term', 'career_success', 'big', 'year', 'professional_advancement', 'also', 'gain', 'value', 'meanwhile_woman', 'look', 'settle', 'raise_family', 'usually', 'want', 'early', 'still', 'relatively', 'safe', 'kid', 'willing_settle', 'caveat', 'magical', 'number', 'anything', 'life', 'suddenly_become', 'successful', 'figure', 'want', 'get', 'establish', 'field', 'take', 'time']]\n"
     ]
    }
   ],
   "source": [
    "# see the examples \n",
    "print(processed_bigram_esfj[:5])\n",
    "print(processed_bigram_intp[:5])"
   ]
  },
  {
   "cell_type": "code",
   "execution_count": 14,
   "metadata": {
    "ExecuteTime": {
     "end_time": "2019-12-10T01:07:34.489356Z",
     "start_time": "2019-12-10T01:07:26.473050Z"
    }
   },
   "outputs": [],
   "source": [
    "# Step 3: Create the Inputs of LDA model: Dictionary and Corpus\n",
    "dct_esfj = corpora.Dictionary(processed_bigram_esfj)\n",
    "dct_intp = corpora.Dictionary(processed_bigram_intp)\n",
    "\n",
    "corp_esfj = [dct_esfj.doc2bow(line) for line in processed_bigram_esfj]\n",
    "corp_intp = [dct_intp.doc2bow(line) for line in processed_bigram_intp]"
   ]
  },
  {
   "cell_type": "markdown",
   "metadata": {},
   "source": [
    "#### LDA Modelling"
   ]
  },
  {
   "cell_type": "code",
   "execution_count": 38,
   "metadata": {
    "ExecuteTime": {
     "end_time": "2019-12-10T01:41:23.360046Z",
     "start_time": "2019-12-10T01:37:14.888718Z"
    },
    "scrolled": true
   },
   "outputs": [
    {
     "name": "stderr",
     "output_type": "stream",
     "text": [
      "Process ForkPoolWorker-74:\n",
      "Process ForkPoolWorker-62:\n",
      "Process ForkPoolWorker-76:\n",
      "Process ForkPoolWorker-89:\n",
      "Process ForkPoolWorker-67:\n",
      "Process ForkPoolWorker-81:\n",
      "Process ForkPoolWorker-77:\n",
      "Process ForkPoolWorker-93:\n",
      "Process ForkPoolWorker-65:\n",
      "Process ForkPoolWorker-87:\n",
      "Process ForkPoolWorker-57:\n",
      "Process ForkPoolWorker-79:\n",
      "Process ForkPoolWorker-95:\n",
      "Process ForkPoolWorker-66:\n",
      "Process ForkPoolWorker-78:\n",
      "Process ForkPoolWorker-91:\n",
      "Process ForkPoolWorker-63:\n",
      "Process ForkPoolWorker-73:\n",
      "Process ForkPoolWorker-84:\n"
     ]
    },
    {
     "ename": "KeyboardInterrupt",
     "evalue": "",
     "output_type": "error",
     "traceback": [
      "\u001b[0;31m---------------------------------------------------------------------------\u001b[0m",
      "\u001b[0;31mKeyboardInterrupt\u001b[0m                         Traceback (most recent call last)",
      "\u001b[0;32m<ipython-input-38-7866184ddd91>\u001b[0m in \u001b[0;36m<module>\u001b[0;34m()\u001b[0m\n\u001b[1;32m     15\u001b[0m                          \u001b[0miterations\u001b[0m\u001b[0;34m=\u001b[0m\u001b[0;36m100\u001b[0m\u001b[0;34m,\u001b[0m\u001b[0;34m\u001b[0m\u001b[0m\n\u001b[1;32m     16\u001b[0m                          \u001b[0mgamma_threshold\u001b[0m\u001b[0;34m=\u001b[0m\u001b[0;36m0.001\u001b[0m\u001b[0;34m,\u001b[0m\u001b[0;34m\u001b[0m\u001b[0m\n\u001b[0;32m---> 17\u001b[0;31m                          per_word_topics=True)\n\u001b[0m",
      "\u001b[0;32m~/anaconda3/envs/python3/lib/python3.6/site-packages/gensim/models/ldamulticore.py\u001b[0m in \u001b[0;36m__init__\u001b[0;34m(self, corpus, num_topics, id2word, workers, chunksize, passes, batch, alpha, eta, decay, offset, eval_every, iterations, gamma_threshold, random_state, minimum_probability, minimum_phi_value, per_word_topics, dtype)\u001b[0m\n\u001b[1;32m    182\u001b[0m             \u001b[0mdecay\u001b[0m\u001b[0;34m=\u001b[0m\u001b[0mdecay\u001b[0m\u001b[0;34m,\u001b[0m \u001b[0moffset\u001b[0m\u001b[0;34m=\u001b[0m\u001b[0moffset\u001b[0m\u001b[0;34m,\u001b[0m \u001b[0meval_every\u001b[0m\u001b[0;34m=\u001b[0m\u001b[0meval_every\u001b[0m\u001b[0;34m,\u001b[0m \u001b[0miterations\u001b[0m\u001b[0;34m=\u001b[0m\u001b[0miterations\u001b[0m\u001b[0;34m,\u001b[0m\u001b[0;34m\u001b[0m\u001b[0m\n\u001b[1;32m    183\u001b[0m             \u001b[0mgamma_threshold\u001b[0m\u001b[0;34m=\u001b[0m\u001b[0mgamma_threshold\u001b[0m\u001b[0;34m,\u001b[0m \u001b[0mrandom_state\u001b[0m\u001b[0;34m=\u001b[0m\u001b[0mrandom_state\u001b[0m\u001b[0;34m,\u001b[0m \u001b[0mminimum_probability\u001b[0m\u001b[0;34m=\u001b[0m\u001b[0mminimum_probability\u001b[0m\u001b[0;34m,\u001b[0m\u001b[0;34m\u001b[0m\u001b[0m\n\u001b[0;32m--> 184\u001b[0;31m             \u001b[0mminimum_phi_value\u001b[0m\u001b[0;34m=\u001b[0m\u001b[0mminimum_phi_value\u001b[0m\u001b[0;34m,\u001b[0m \u001b[0mper_word_topics\u001b[0m\u001b[0;34m=\u001b[0m\u001b[0mper_word_topics\u001b[0m\u001b[0;34m,\u001b[0m \u001b[0mdtype\u001b[0m\u001b[0;34m=\u001b[0m\u001b[0mdtype\u001b[0m\u001b[0;34m\u001b[0m\u001b[0m\n\u001b[0m\u001b[1;32m    185\u001b[0m         )\n\u001b[1;32m    186\u001b[0m \u001b[0;34m\u001b[0m\u001b[0m\n",
      "\u001b[0;32m~/anaconda3/envs/python3/lib/python3.6/site-packages/gensim/models/ldamodel.py\u001b[0m in \u001b[0;36m__init__\u001b[0;34m(self, corpus, num_topics, id2word, distributed, chunksize, passes, update_every, alpha, eta, decay, offset, eval_every, iterations, gamma_threshold, minimum_probability, random_state, ns_conf, minimum_phi_value, per_word_topics, callbacks, dtype)\u001b[0m\n\u001b[1;32m    517\u001b[0m         \u001b[0;32mif\u001b[0m \u001b[0mcorpus\u001b[0m \u001b[0;32mis\u001b[0m \u001b[0;32mnot\u001b[0m \u001b[0;32mNone\u001b[0m\u001b[0;34m:\u001b[0m\u001b[0;34m\u001b[0m\u001b[0m\n\u001b[1;32m    518\u001b[0m             \u001b[0muse_numpy\u001b[0m \u001b[0;34m=\u001b[0m \u001b[0mself\u001b[0m\u001b[0;34m.\u001b[0m\u001b[0mdispatcher\u001b[0m \u001b[0;32mis\u001b[0m \u001b[0;32mnot\u001b[0m \u001b[0;32mNone\u001b[0m\u001b[0;34m\u001b[0m\u001b[0m\n\u001b[0;32m--> 519\u001b[0;31m             \u001b[0mself\u001b[0m\u001b[0;34m.\u001b[0m\u001b[0mupdate\u001b[0m\u001b[0;34m(\u001b[0m\u001b[0mcorpus\u001b[0m\u001b[0;34m,\u001b[0m \u001b[0mchunks_as_numpy\u001b[0m\u001b[0;34m=\u001b[0m\u001b[0muse_numpy\u001b[0m\u001b[0;34m)\u001b[0m\u001b[0;34m\u001b[0m\u001b[0m\n\u001b[0m\u001b[1;32m    520\u001b[0m \u001b[0;34m\u001b[0m\u001b[0m\n\u001b[1;32m    521\u001b[0m     \u001b[0;32mdef\u001b[0m \u001b[0minit_dir_prior\u001b[0m\u001b[0;34m(\u001b[0m\u001b[0mself\u001b[0m\u001b[0;34m,\u001b[0m \u001b[0mprior\u001b[0m\u001b[0;34m,\u001b[0m \u001b[0mname\u001b[0m\u001b[0;34m)\u001b[0m\u001b[0;34m:\u001b[0m\u001b[0;34m\u001b[0m\u001b[0m\n",
      "\u001b[0;32m~/anaconda3/envs/python3/lib/python3.6/site-packages/gensim/models/ldamulticore.py\u001b[0m in \u001b[0;36mupdate\u001b[0;34m(self, corpus, chunks_as_numpy)\u001b[0m\n\u001b[1;32m    308\u001b[0m             \u001b[0;31m# wait for all outstanding jobs to finish\u001b[0m\u001b[0;34m\u001b[0m\u001b[0;34m\u001b[0m\u001b[0m\n\u001b[1;32m    309\u001b[0m             \u001b[0;32mwhile\u001b[0m \u001b[0mqueue_size\u001b[0m\u001b[0;34m[\u001b[0m\u001b[0;36m0\u001b[0m\u001b[0;34m]\u001b[0m \u001b[0;34m>\u001b[0m \u001b[0;36m0\u001b[0m\u001b[0;34m:\u001b[0m\u001b[0;34m\u001b[0m\u001b[0m\n\u001b[0;32m--> 310\u001b[0;31m                 \u001b[0mprocess_result_queue\u001b[0m\u001b[0;34m(\u001b[0m\u001b[0mforce\u001b[0m\u001b[0;34m=\u001b[0m\u001b[0;32mTrue\u001b[0m\u001b[0;34m)\u001b[0m\u001b[0;34m\u001b[0m\u001b[0m\n\u001b[0m\u001b[1;32m    311\u001b[0m \u001b[0;34m\u001b[0m\u001b[0m\n\u001b[1;32m    312\u001b[0m             \u001b[0;32mif\u001b[0m \u001b[0mreallen\u001b[0m \u001b[0;34m!=\u001b[0m \u001b[0mlencorpus\u001b[0m\u001b[0;34m:\u001b[0m\u001b[0;34m\u001b[0m\u001b[0m\n",
      "\u001b[0;32m~/anaconda3/envs/python3/lib/python3.6/site-packages/gensim/models/ldamulticore.py\u001b[0m in \u001b[0;36mprocess_result_queue\u001b[0;34m(force)\u001b[0m\n\u001b[1;32m    266\u001b[0m             \"\"\"\n\u001b[1;32m    267\u001b[0m             \u001b[0mmerged_new\u001b[0m \u001b[0;34m=\u001b[0m \u001b[0;32mFalse\u001b[0m\u001b[0;34m\u001b[0m\u001b[0m\n\u001b[0;32m--> 268\u001b[0;31m             \u001b[0;32mwhile\u001b[0m \u001b[0;32mnot\u001b[0m \u001b[0mresult_queue\u001b[0m\u001b[0;34m.\u001b[0m\u001b[0mempty\u001b[0m\u001b[0;34m(\u001b[0m\u001b[0;34m)\u001b[0m\u001b[0;34m:\u001b[0m\u001b[0;34m\u001b[0m\u001b[0m\n\u001b[0m\u001b[1;32m    269\u001b[0m                 \u001b[0mother\u001b[0m\u001b[0;34m.\u001b[0m\u001b[0mmerge\u001b[0m\u001b[0;34m(\u001b[0m\u001b[0mresult_queue\u001b[0m\u001b[0;34m.\u001b[0m\u001b[0mget\u001b[0m\u001b[0;34m(\u001b[0m\u001b[0;34m)\u001b[0m\u001b[0;34m)\u001b[0m\u001b[0;34m\u001b[0m\u001b[0m\n\u001b[1;32m    270\u001b[0m                 \u001b[0mqueue_size\u001b[0m\u001b[0;34m[\u001b[0m\u001b[0;36m0\u001b[0m\u001b[0;34m]\u001b[0m \u001b[0;34m-=\u001b[0m \u001b[0;36m1\u001b[0m\u001b[0;34m\u001b[0m\u001b[0m\n",
      "\u001b[0;32m~/anaconda3/envs/python3/lib/python3.6/multiprocessing/queues.py\u001b[0m in \u001b[0;36mempty\u001b[0;34m(self)\u001b[0m\n\u001b[1;32m    118\u001b[0m \u001b[0;34m\u001b[0m\u001b[0m\n\u001b[1;32m    119\u001b[0m     \u001b[0;32mdef\u001b[0m \u001b[0mempty\u001b[0m\u001b[0;34m(\u001b[0m\u001b[0mself\u001b[0m\u001b[0;34m)\u001b[0m\u001b[0;34m:\u001b[0m\u001b[0;34m\u001b[0m\u001b[0m\n\u001b[0;32m--> 120\u001b[0;31m         \u001b[0;32mreturn\u001b[0m \u001b[0;32mnot\u001b[0m \u001b[0mself\u001b[0m\u001b[0;34m.\u001b[0m\u001b[0m_poll\u001b[0m\u001b[0;34m(\u001b[0m\u001b[0;34m)\u001b[0m\u001b[0;34m\u001b[0m\u001b[0m\n\u001b[0m\u001b[1;32m    121\u001b[0m \u001b[0;34m\u001b[0m\u001b[0m\n\u001b[1;32m    122\u001b[0m     \u001b[0;32mdef\u001b[0m \u001b[0mfull\u001b[0m\u001b[0;34m(\u001b[0m\u001b[0mself\u001b[0m\u001b[0;34m)\u001b[0m\u001b[0;34m:\u001b[0m\u001b[0;34m\u001b[0m\u001b[0m\n",
      "\u001b[0;32m~/anaconda3/envs/python3/lib/python3.6/multiprocessing/connection.py\u001b[0m in \u001b[0;36mpoll\u001b[0;34m(self, timeout)\u001b[0m\n\u001b[1;32m    255\u001b[0m         \u001b[0mself\u001b[0m\u001b[0;34m.\u001b[0m\u001b[0m_check_closed\u001b[0m\u001b[0;34m(\u001b[0m\u001b[0;34m)\u001b[0m\u001b[0;34m\u001b[0m\u001b[0m\n\u001b[1;32m    256\u001b[0m         \u001b[0mself\u001b[0m\u001b[0;34m.\u001b[0m\u001b[0m_check_readable\u001b[0m\u001b[0;34m(\u001b[0m\u001b[0;34m)\u001b[0m\u001b[0;34m\u001b[0m\u001b[0m\n\u001b[0;32m--> 257\u001b[0;31m         \u001b[0;32mreturn\u001b[0m \u001b[0mself\u001b[0m\u001b[0;34m.\u001b[0m\u001b[0m_poll\u001b[0m\u001b[0;34m(\u001b[0m\u001b[0mtimeout\u001b[0m\u001b[0;34m)\u001b[0m\u001b[0;34m\u001b[0m\u001b[0m\n\u001b[0m\u001b[1;32m    258\u001b[0m \u001b[0;34m\u001b[0m\u001b[0m\n\u001b[1;32m    259\u001b[0m     \u001b[0;32mdef\u001b[0m \u001b[0m__enter__\u001b[0m\u001b[0;34m(\u001b[0m\u001b[0mself\u001b[0m\u001b[0;34m)\u001b[0m\u001b[0;34m:\u001b[0m\u001b[0;34m\u001b[0m\u001b[0m\n",
      "\u001b[0;32m~/anaconda3/envs/python3/lib/python3.6/multiprocessing/connection.py\u001b[0m in \u001b[0;36m_poll\u001b[0;34m(self, timeout)\u001b[0m\n\u001b[1;32m    412\u001b[0m \u001b[0;34m\u001b[0m\u001b[0m\n\u001b[1;32m    413\u001b[0m     \u001b[0;32mdef\u001b[0m \u001b[0m_poll\u001b[0m\u001b[0;34m(\u001b[0m\u001b[0mself\u001b[0m\u001b[0;34m,\u001b[0m \u001b[0mtimeout\u001b[0m\u001b[0;34m)\u001b[0m\u001b[0;34m:\u001b[0m\u001b[0;34m\u001b[0m\u001b[0m\n\u001b[0;32m--> 414\u001b[0;31m         \u001b[0mr\u001b[0m \u001b[0;34m=\u001b[0m \u001b[0mwait\u001b[0m\u001b[0;34m(\u001b[0m\u001b[0;34m[\u001b[0m\u001b[0mself\u001b[0m\u001b[0;34m]\u001b[0m\u001b[0;34m,\u001b[0m \u001b[0mtimeout\u001b[0m\u001b[0;34m)\u001b[0m\u001b[0;34m\u001b[0m\u001b[0m\n\u001b[0m\u001b[1;32m    415\u001b[0m         \u001b[0;32mreturn\u001b[0m \u001b[0mbool\u001b[0m\u001b[0;34m(\u001b[0m\u001b[0mr\u001b[0m\u001b[0;34m)\u001b[0m\u001b[0;34m\u001b[0m\u001b[0m\n\u001b[1;32m    416\u001b[0m \u001b[0;34m\u001b[0m\u001b[0m\n",
      "\u001b[0;32m~/anaconda3/envs/python3/lib/python3.6/multiprocessing/connection.py\u001b[0m in \u001b[0;36mwait\u001b[0;34m(object_list, timeout)\u001b[0m\n\u001b[1;32m    909\u001b[0m \u001b[0;34m\u001b[0m\u001b[0m\n\u001b[1;32m    910\u001b[0m             \u001b[0;32mwhile\u001b[0m \u001b[0;32mTrue\u001b[0m\u001b[0;34m:\u001b[0m\u001b[0;34m\u001b[0m\u001b[0m\n\u001b[0;32m--> 911\u001b[0;31m                 \u001b[0mready\u001b[0m \u001b[0;34m=\u001b[0m \u001b[0mselector\u001b[0m\u001b[0;34m.\u001b[0m\u001b[0mselect\u001b[0m\u001b[0;34m(\u001b[0m\u001b[0mtimeout\u001b[0m\u001b[0;34m)\u001b[0m\u001b[0;34m\u001b[0m\u001b[0m\n\u001b[0m\u001b[1;32m    912\u001b[0m                 \u001b[0;32mif\u001b[0m \u001b[0mready\u001b[0m\u001b[0;34m:\u001b[0m\u001b[0;34m\u001b[0m\u001b[0m\n\u001b[1;32m    913\u001b[0m                     \u001b[0;32mreturn\u001b[0m \u001b[0;34m[\u001b[0m\u001b[0mkey\u001b[0m\u001b[0;34m.\u001b[0m\u001b[0mfileobj\u001b[0m \u001b[0;32mfor\u001b[0m \u001b[0;34m(\u001b[0m\u001b[0mkey\u001b[0m\u001b[0;34m,\u001b[0m \u001b[0mevents\u001b[0m\u001b[0;34m)\u001b[0m \u001b[0;32min\u001b[0m \u001b[0mready\u001b[0m\u001b[0;34m]\u001b[0m\u001b[0;34m\u001b[0m\u001b[0m\n",
      "\u001b[0;32m~/anaconda3/envs/python3/lib/python3.6/selectors.py\u001b[0m in \u001b[0;36mselect\u001b[0;34m(self, timeout)\u001b[0m\n\u001b[1;32m    374\u001b[0m             \u001b[0mready\u001b[0m \u001b[0;34m=\u001b[0m \u001b[0;34m[\u001b[0m\u001b[0;34m]\u001b[0m\u001b[0;34m\u001b[0m\u001b[0m\n\u001b[1;32m    375\u001b[0m             \u001b[0;32mtry\u001b[0m\u001b[0;34m:\u001b[0m\u001b[0;34m\u001b[0m\u001b[0m\n\u001b[0;32m--> 376\u001b[0;31m                 \u001b[0mfd_event_list\u001b[0m \u001b[0;34m=\u001b[0m \u001b[0mself\u001b[0m\u001b[0;34m.\u001b[0m\u001b[0m_poll\u001b[0m\u001b[0;34m.\u001b[0m\u001b[0mpoll\u001b[0m\u001b[0;34m(\u001b[0m\u001b[0mtimeout\u001b[0m\u001b[0;34m)\u001b[0m\u001b[0;34m\u001b[0m\u001b[0m\n\u001b[0m\u001b[1;32m    377\u001b[0m             \u001b[0;32mexcept\u001b[0m \u001b[0mInterruptedError\u001b[0m\u001b[0;34m:\u001b[0m\u001b[0;34m\u001b[0m\u001b[0m\n\u001b[1;32m    378\u001b[0m                 \u001b[0;32mreturn\u001b[0m \u001b[0mready\u001b[0m\u001b[0;34m\u001b[0m\u001b[0m\n",
      "\u001b[0;31mKeyboardInterrupt\u001b[0m: "
     ]
    },
    {
     "name": "stderr",
     "output_type": "stream",
     "text": [
      "Process ForkPoolWorker-59:\n",
      "Process ForkPoolWorker-68:\n",
      "Process ForkPoolWorker-64:\n",
      "Process ForkPoolWorker-60:\n",
      "Process ForkPoolWorker-82:\n",
      "Process ForkPoolWorker-92:\n",
      "Process ForkPoolWorker-58:\n",
      "Process ForkPoolWorker-88:\n",
      "Process ForkPoolWorker-83:\n",
      "Process ForkPoolWorker-86:\n",
      "Process ForkPoolWorker-85:\n",
      "Process ForkPoolWorker-90:\n",
      "Process ForkPoolWorker-56:\n",
      "Process ForkPoolWorker-75:\n",
      "Process ForkPoolWorker-61:\n",
      "Process ForkPoolWorker-94:\n",
      "Process ForkPoolWorker-80:\n",
      "Traceback (most recent call last):\n",
      "Traceback (most recent call last):\n",
      "Traceback (most recent call last):\n",
      "Traceback (most recent call last):\n",
      "Traceback (most recent call last):\n",
      "Traceback (most recent call last):\n",
      "Traceback (most recent call last):\n",
      "Traceback (most recent call last):\n",
      "Traceback (most recent call last):\n",
      "Traceback (most recent call last):\n",
      "Traceback (most recent call last):\n",
      "Traceback (most recent call last):\n",
      "Traceback (most recent call last):\n",
      "Traceback (most recent call last):\n",
      "Traceback (most recent call last):\n",
      "Traceback (most recent call last):\n",
      "Traceback (most recent call last):\n",
      "Traceback (most recent call last):\n",
      "Traceback (most recent call last):\n",
      "Traceback (most recent call last):\n",
      "Traceback (most recent call last):\n",
      "Traceback (most recent call last):\n",
      "Traceback (most recent call last):\n",
      "Traceback (most recent call last):\n",
      "  File \"/home/ec2-user/anaconda3/envs/python3/lib/python3.6/multiprocessing/process.py\", line 258, in _bootstrap\n",
      "    self.run()\n",
      "  File \"/home/ec2-user/anaconda3/envs/python3/lib/python3.6/multiprocessing/process.py\", line 258, in _bootstrap\n",
      "    self.run()\n",
      "Traceback (most recent call last):\n",
      "Traceback (most recent call last):\n",
      "  File \"/home/ec2-user/anaconda3/envs/python3/lib/python3.6/multiprocessing/process.py\", line 258, in _bootstrap\n",
      "    self.run()\n",
      "  File \"/home/ec2-user/anaconda3/envs/python3/lib/python3.6/multiprocessing/process.py\", line 258, in _bootstrap\n",
      "    self.run()\n",
      "Traceback (most recent call last):\n",
      "  File \"/home/ec2-user/anaconda3/envs/python3/lib/python3.6/multiprocessing/process.py\", line 258, in _bootstrap\n",
      "    self.run()\n",
      "Traceback (most recent call last):\n",
      "  File \"/home/ec2-user/anaconda3/envs/python3/lib/python3.6/multiprocessing/process.py\", line 258, in _bootstrap\n",
      "    self.run()\n",
      "Traceback (most recent call last):\n",
      "Traceback (most recent call last):\n",
      "  File \"/home/ec2-user/anaconda3/envs/python3/lib/python3.6/multiprocessing/process.py\", line 258, in _bootstrap\n",
      "    self.run()\n",
      "  File \"/home/ec2-user/anaconda3/envs/python3/lib/python3.6/multiprocessing/process.py\", line 258, in _bootstrap\n",
      "    self.run()\n",
      "Traceback (most recent call last):\n",
      "  File \"/home/ec2-user/anaconda3/envs/python3/lib/python3.6/multiprocessing/process.py\", line 258, in _bootstrap\n",
      "    self.run()\n",
      "Traceback (most recent call last):\n",
      "  File \"/home/ec2-user/anaconda3/envs/python3/lib/python3.6/multiprocessing/process.py\", line 258, in _bootstrap\n",
      "    self.run()\n",
      "Traceback (most recent call last):\n",
      "  File \"/home/ec2-user/anaconda3/envs/python3/lib/python3.6/multiprocessing/process.py\", line 258, in _bootstrap\n",
      "    self.run()\n",
      "  File \"/home/ec2-user/anaconda3/envs/python3/lib/python3.6/multiprocessing/process.py\", line 258, in _bootstrap\n",
      "    self.run()\n",
      "  File \"/home/ec2-user/anaconda3/envs/python3/lib/python3.6/multiprocessing/process.py\", line 258, in _bootstrap\n",
      "    self.run()\n",
      "Traceback (most recent call last):\n",
      "  File \"/home/ec2-user/anaconda3/envs/python3/lib/python3.6/multiprocessing/process.py\", line 258, in _bootstrap\n",
      "    self.run()\n",
      "Traceback (most recent call last):\n",
      "  File \"/home/ec2-user/anaconda3/envs/python3/lib/python3.6/multiprocessing/process.py\", line 258, in _bootstrap\n",
      "    self.run()\n",
      "Traceback (most recent call last):\n",
      "  File \"/home/ec2-user/anaconda3/envs/python3/lib/python3.6/multiprocessing/process.py\", line 258, in _bootstrap\n",
      "    self.run()\n",
      "  File \"/home/ec2-user/anaconda3/envs/python3/lib/python3.6/multiprocessing/process.py\", line 258, in _bootstrap\n",
      "    self.run()\n",
      "  File \"/home/ec2-user/anaconda3/envs/python3/lib/python3.6/multiprocessing/process.py\", line 258, in _bootstrap\n",
      "    self.run()\n",
      "  File \"/home/ec2-user/anaconda3/envs/python3/lib/python3.6/multiprocessing/process.py\", line 258, in _bootstrap\n",
      "    self.run()\n",
      "  File \"/home/ec2-user/anaconda3/envs/python3/lib/python3.6/multiprocessing/process.py\", line 258, in _bootstrap\n",
      "    self.run()\n",
      "  File \"/home/ec2-user/anaconda3/envs/python3/lib/python3.6/multiprocessing/process.py\", line 258, in _bootstrap\n",
      "    self.run()\n",
      "  File \"/home/ec2-user/anaconda3/envs/python3/lib/python3.6/multiprocessing/process.py\", line 258, in _bootstrap\n",
      "    self.run()\n",
      "  File \"/home/ec2-user/anaconda3/envs/python3/lib/python3.6/multiprocessing/process.py\", line 258, in _bootstrap\n",
      "    self.run()\n",
      "  File \"/home/ec2-user/anaconda3/envs/python3/lib/python3.6/multiprocessing/process.py\", line 258, in _bootstrap\n",
      "    self.run()\n",
      "  File \"/home/ec2-user/anaconda3/envs/python3/lib/python3.6/multiprocessing/process.py\", line 93, in run\n",
      "    self._target(*self._args, **self._kwargs)\n",
      "  File \"/home/ec2-user/anaconda3/envs/python3/lib/python3.6/multiprocessing/process.py\", line 93, in run\n",
      "    self._target(*self._args, **self._kwargs)\n",
      "  File \"/home/ec2-user/anaconda3/envs/python3/lib/python3.6/multiprocessing/process.py\", line 258, in _bootstrap\n",
      "    self.run()\n",
      "  File \"/home/ec2-user/anaconda3/envs/python3/lib/python3.6/multiprocessing/process.py\", line 258, in _bootstrap\n",
      "    self.run()\n",
      "  File \"/home/ec2-user/anaconda3/envs/python3/lib/python3.6/multiprocessing/process.py\", line 93, in run\n",
      "    self._target(*self._args, **self._kwargs)\n",
      "  File \"/home/ec2-user/anaconda3/envs/python3/lib/python3.6/multiprocessing/process.py\", line 93, in run\n",
      "    self._target(*self._args, **self._kwargs)\n",
      "  File \"/home/ec2-user/anaconda3/envs/python3/lib/python3.6/multiprocessing/process.py\", line 93, in run\n",
      "    self._target(*self._args, **self._kwargs)\n",
      "  File \"/home/ec2-user/anaconda3/envs/python3/lib/python3.6/multiprocessing/process.py\", line 258, in _bootstrap\n",
      "    self.run()\n",
      "  File \"/home/ec2-user/anaconda3/envs/python3/lib/python3.6/multiprocessing/process.py\", line 93, in run\n",
      "    self._target(*self._args, **self._kwargs)\n",
      "  File \"/home/ec2-user/anaconda3/envs/python3/lib/python3.6/multiprocessing/process.py\", line 258, in _bootstrap\n",
      "    self.run()\n",
      "  File \"/home/ec2-user/anaconda3/envs/python3/lib/python3.6/multiprocessing/process.py\", line 258, in _bootstrap\n",
      "    self.run()\n",
      "  File \"/home/ec2-user/anaconda3/envs/python3/lib/python3.6/multiprocessing/process.py\", line 258, in _bootstrap\n",
      "    self.run()\n",
      "  File \"/home/ec2-user/anaconda3/envs/python3/lib/python3.6/multiprocessing/process.py\", line 93, in run\n",
      "    self._target(*self._args, **self._kwargs)\n",
      "  File \"/home/ec2-user/anaconda3/envs/python3/lib/python3.6/multiprocessing/process.py\", line 93, in run\n",
      "    self._target(*self._args, **self._kwargs)\n",
      "  File \"/home/ec2-user/anaconda3/envs/python3/lib/python3.6/multiprocessing/process.py\", line 258, in _bootstrap\n",
      "    self.run()\n",
      "  File \"/home/ec2-user/anaconda3/envs/python3/lib/python3.6/multiprocessing/process.py\", line 93, in run\n",
      "    self._target(*self._args, **self._kwargs)\n",
      "  File \"/home/ec2-user/anaconda3/envs/python3/lib/python3.6/multiprocessing/process.py\", line 258, in _bootstrap\n",
      "    self.run()\n",
      "  File \"/home/ec2-user/anaconda3/envs/python3/lib/python3.6/multiprocessing/process.py\", line 93, in run\n",
      "    self._target(*self._args, **self._kwargs)\n",
      "  File \"/home/ec2-user/anaconda3/envs/python3/lib/python3.6/multiprocessing/process.py\", line 93, in run\n",
      "    self._target(*self._args, **self._kwargs)\n",
      "  File \"/home/ec2-user/anaconda3/envs/python3/lib/python3.6/multiprocessing/process.py\", line 93, in run\n",
      "    self._target(*self._args, **self._kwargs)\n",
      "  File \"/home/ec2-user/anaconda3/envs/python3/lib/python3.6/multiprocessing/process.py\", line 258, in _bootstrap\n",
      "    self.run()\n",
      "  File \"/home/ec2-user/anaconda3/envs/python3/lib/python3.6/multiprocessing/process.py\", line 93, in run\n",
      "    self._target(*self._args, **self._kwargs)\n",
      "  File \"/home/ec2-user/anaconda3/envs/python3/lib/python3.6/multiprocessing/process.py\", line 93, in run\n",
      "    self._target(*self._args, **self._kwargs)\n",
      "  File \"/home/ec2-user/anaconda3/envs/python3/lib/python3.6/multiprocessing/process.py\", line 258, in _bootstrap\n",
      "    self.run()\n",
      "  File \"/home/ec2-user/anaconda3/envs/python3/lib/python3.6/multiprocessing/process.py\", line 93, in run\n",
      "    self._target(*self._args, **self._kwargs)\n"
     ]
    },
    {
     "name": "stderr",
     "output_type": "stream",
     "text": [
      "  File \"/home/ec2-user/anaconda3/envs/python3/lib/python3.6/multiprocessing/process.py\", line 258, in _bootstrap\n",
      "    self.run()\n",
      "  File \"/home/ec2-user/anaconda3/envs/python3/lib/python3.6/multiprocessing/process.py\", line 258, in _bootstrap\n",
      "    self.run()\n",
      "  File \"/home/ec2-user/anaconda3/envs/python3/lib/python3.6/multiprocessing/process.py\", line 93, in run\n",
      "    self._target(*self._args, **self._kwargs)\n",
      "  File \"/home/ec2-user/anaconda3/envs/python3/lib/python3.6/multiprocessing/process.py\", line 93, in run\n",
      "    self._target(*self._args, **self._kwargs)\n",
      "  File \"/home/ec2-user/anaconda3/envs/python3/lib/python3.6/multiprocessing/process.py\", line 93, in run\n",
      "    self._target(*self._args, **self._kwargs)\n",
      "  File \"/home/ec2-user/anaconda3/envs/python3/lib/python3.6/multiprocessing/process.py\", line 93, in run\n",
      "    self._target(*self._args, **self._kwargs)\n",
      "  File \"/home/ec2-user/anaconda3/envs/python3/lib/python3.6/multiprocessing/process.py\", line 93, in run\n",
      "    self._target(*self._args, **self._kwargs)\n",
      "  File \"/home/ec2-user/anaconda3/envs/python3/lib/python3.6/multiprocessing/process.py\", line 93, in run\n",
      "    self._target(*self._args, **self._kwargs)\n",
      "  File \"/home/ec2-user/anaconda3/envs/python3/lib/python3.6/multiprocessing/process.py\", line 93, in run\n",
      "    self._target(*self._args, **self._kwargs)\n",
      "  File \"/home/ec2-user/anaconda3/envs/python3/lib/python3.6/multiprocessing/process.py\", line 93, in run\n",
      "    self._target(*self._args, **self._kwargs)\n",
      "  File \"/home/ec2-user/anaconda3/envs/python3/lib/python3.6/multiprocessing/process.py\", line 93, in run\n",
      "    self._target(*self._args, **self._kwargs)\n",
      "  File \"/home/ec2-user/anaconda3/envs/python3/lib/python3.6/multiprocessing/pool.py\", line 103, in worker\n",
      "    initializer(*initargs)\n",
      "  File \"/home/ec2-user/anaconda3/envs/python3/lib/python3.6/multiprocessing/pool.py\", line 103, in worker\n",
      "    initializer(*initargs)\n",
      "  File \"/home/ec2-user/anaconda3/envs/python3/lib/python3.6/multiprocessing/process.py\", line 93, in run\n",
      "    self._target(*self._args, **self._kwargs)\n",
      "  File \"/home/ec2-user/anaconda3/envs/python3/lib/python3.6/multiprocessing/process.py\", line 93, in run\n",
      "    self._target(*self._args, **self._kwargs)\n",
      "  File \"/home/ec2-user/anaconda3/envs/python3/lib/python3.6/multiprocessing/pool.py\", line 103, in worker\n",
      "    initializer(*initargs)\n",
      "  File \"/home/ec2-user/anaconda3/envs/python3/lib/python3.6/multiprocessing/pool.py\", line 103, in worker\n",
      "    initializer(*initargs)\n",
      "  File \"/home/ec2-user/anaconda3/envs/python3/lib/python3.6/multiprocessing/pool.py\", line 103, in worker\n",
      "    initializer(*initargs)\n",
      "  File \"/home/ec2-user/anaconda3/envs/python3/lib/python3.6/multiprocessing/process.py\", line 93, in run\n",
      "    self._target(*self._args, **self._kwargs)\n",
      "  File \"/home/ec2-user/anaconda3/envs/python3/lib/python3.6/multiprocessing/pool.py\", line 103, in worker\n",
      "    initializer(*initargs)\n",
      "  File \"/home/ec2-user/anaconda3/envs/python3/lib/python3.6/multiprocessing/process.py\", line 93, in run\n",
      "    self._target(*self._args, **self._kwargs)\n",
      "  File \"/home/ec2-user/anaconda3/envs/python3/lib/python3.6/multiprocessing/process.py\", line 93, in run\n",
      "    self._target(*self._args, **self._kwargs)\n",
      "  File \"/home/ec2-user/anaconda3/envs/python3/lib/python3.6/multiprocessing/pool.py\", line 103, in worker\n",
      "    initializer(*initargs)\n",
      "  File \"/home/ec2-user/anaconda3/envs/python3/lib/python3.6/multiprocessing/process.py\", line 93, in run\n",
      "    self._target(*self._args, **self._kwargs)\n",
      "  File \"/home/ec2-user/anaconda3/envs/python3/lib/python3.6/multiprocessing/pool.py\", line 103, in worker\n",
      "    initializer(*initargs)\n",
      "  File \"/home/ec2-user/anaconda3/envs/python3/lib/python3.6/multiprocessing/process.py\", line 93, in run\n",
      "    self._target(*self._args, **self._kwargs)\n",
      "  File \"/home/ec2-user/anaconda3/envs/python3/lib/python3.6/multiprocessing/pool.py\", line 103, in worker\n",
      "    initializer(*initargs)\n",
      "  File \"/home/ec2-user/anaconda3/envs/python3/lib/python3.6/multiprocessing/pool.py\", line 103, in worker\n",
      "    initializer(*initargs)\n",
      "  File \"/home/ec2-user/anaconda3/envs/python3/lib/python3.6/multiprocessing/process.py\", line 93, in run\n",
      "    self._target(*self._args, **self._kwargs)\n",
      "  File \"/home/ec2-user/anaconda3/envs/python3/lib/python3.6/multiprocessing/pool.py\", line 103, in worker\n",
      "    initializer(*initargs)\n",
      "  File \"/home/ec2-user/anaconda3/envs/python3/lib/python3.6/multiprocessing/pool.py\", line 103, in worker\n",
      "    initializer(*initargs)\n",
      "  File \"/home/ec2-user/anaconda3/envs/python3/lib/python3.6/multiprocessing/process.py\", line 93, in run\n",
      "    self._target(*self._args, **self._kwargs)\n",
      "  File \"/home/ec2-user/anaconda3/envs/python3/lib/python3.6/multiprocessing/pool.py\", line 103, in worker\n",
      "    initializer(*initargs)\n",
      "  File \"/home/ec2-user/anaconda3/envs/python3/lib/python3.6/multiprocessing/process.py\", line 93, in run\n",
      "    self._target(*self._args, **self._kwargs)\n",
      "  File \"/home/ec2-user/anaconda3/envs/python3/lib/python3.6/multiprocessing/pool.py\", line 103, in worker\n",
      "    initializer(*initargs)\n",
      "  File \"/home/ec2-user/anaconda3/envs/python3/lib/python3.6/multiprocessing/pool.py\", line 103, in worker\n",
      "    initializer(*initargs)\n",
      "  File \"/home/ec2-user/anaconda3/envs/python3/lib/python3.6/multiprocessing/process.py\", line 93, in run\n",
      "    self._target(*self._args, **self._kwargs)\n",
      "  File \"/home/ec2-user/anaconda3/envs/python3/lib/python3.6/multiprocessing/process.py\", line 93, in run\n",
      "    self._target(*self._args, **self._kwargs)\n",
      "  File \"/home/ec2-user/anaconda3/envs/python3/lib/python3.6/multiprocessing/pool.py\", line 103, in worker\n",
      "    initializer(*initargs)\n",
      "  File \"/home/ec2-user/anaconda3/envs/python3/lib/python3.6/multiprocessing/pool.py\", line 103, in worker\n",
      "    initializer(*initargs)\n",
      "  File \"/home/ec2-user/anaconda3/envs/python3/lib/python3.6/multiprocessing/pool.py\", line 103, in worker\n",
      "    initializer(*initargs)\n",
      "  File \"/home/ec2-user/anaconda3/envs/python3/lib/python3.6/multiprocessing/pool.py\", line 103, in worker\n",
      "    initializer(*initargs)\n",
      "  File \"/home/ec2-user/anaconda3/envs/python3/lib/python3.6/multiprocessing/pool.py\", line 103, in worker\n",
      "    initializer(*initargs)\n",
      "  File \"/home/ec2-user/anaconda3/envs/python3/lib/python3.6/multiprocessing/pool.py\", line 103, in worker\n",
      "    initializer(*initargs)\n",
      "  File \"/home/ec2-user/anaconda3/envs/python3/lib/python3.6/multiprocessing/pool.py\", line 103, in worker\n",
      "    initializer(*initargs)\n",
      "  File \"/home/ec2-user/anaconda3/envs/python3/lib/python3.6/multiprocessing/pool.py\", line 103, in worker\n",
      "    initializer(*initargs)\n",
      "  File \"/home/ec2-user/anaconda3/envs/python3/lib/python3.6/multiprocessing/pool.py\", line 103, in worker\n",
      "    initializer(*initargs)\n",
      "  File \"/home/ec2-user/anaconda3/envs/python3/lib/python3.6/site-packages/gensim/models/ldamulticore.py\", line 334, in worker_e_step\n",
      "    chunk_no, chunk, worker_lda = input_queue.get()\n",
      "  File \"/home/ec2-user/anaconda3/envs/python3/lib/python3.6/site-packages/gensim/models/ldamulticore.py\", line 334, in worker_e_step\n",
      "    chunk_no, chunk, worker_lda = input_queue.get()\n",
      "  File \"/home/ec2-user/anaconda3/envs/python3/lib/python3.6/multiprocessing/pool.py\", line 103, in worker\n",
      "    initializer(*initargs)\n",
      "  File \"/home/ec2-user/anaconda3/envs/python3/lib/python3.6/multiprocessing/pool.py\", line 103, in worker\n",
      "    initializer(*initargs)\n",
      "  File \"/home/ec2-user/anaconda3/envs/python3/lib/python3.6/site-packages/gensim/models/ldamulticore.py\", line 334, in worker_e_step\n",
      "    chunk_no, chunk, worker_lda = input_queue.get()\n",
      "  File \"/home/ec2-user/anaconda3/envs/python3/lib/python3.6/site-packages/gensim/models/ldamulticore.py\", line 334, in worker_e_step\n",
      "    chunk_no, chunk, worker_lda = input_queue.get()\n",
      "  File \"/home/ec2-user/anaconda3/envs/python3/lib/python3.6/site-packages/gensim/models/ldamulticore.py\", line 334, in worker_e_step\n",
      "    chunk_no, chunk, worker_lda = input_queue.get()\n",
      "  File \"/home/ec2-user/anaconda3/envs/python3/lib/python3.6/multiprocessing/pool.py\", line 103, in worker\n",
      "    initializer(*initargs)\n",
      "  File \"/home/ec2-user/anaconda3/envs/python3/lib/python3.6/multiprocessing/pool.py\", line 103, in worker\n",
      "    initializer(*initargs)\n",
      "  File \"/home/ec2-user/anaconda3/envs/python3/lib/python3.6/site-packages/gensim/models/ldamulticore.py\", line 334, in worker_e_step\n",
      "    chunk_no, chunk, worker_lda = input_queue.get()\n"
     ]
    },
    {
     "name": "stderr",
     "output_type": "stream",
     "text": [
      "  File \"/home/ec2-user/anaconda3/envs/python3/lib/python3.6/multiprocessing/pool.py\", line 103, in worker\n",
      "    initializer(*initargs)\n",
      "  File \"/home/ec2-user/anaconda3/envs/python3/lib/python3.6/site-packages/gensim/models/ldamulticore.py\", line 334, in worker_e_step\n",
      "    chunk_no, chunk, worker_lda = input_queue.get()\n",
      "  File \"/home/ec2-user/anaconda3/envs/python3/lib/python3.6/site-packages/gensim/models/ldamulticore.py\", line 334, in worker_e_step\n",
      "    chunk_no, chunk, worker_lda = input_queue.get()\n",
      "  File \"/home/ec2-user/anaconda3/envs/python3/lib/python3.6/multiprocessing/pool.py\", line 103, in worker\n",
      "    initializer(*initargs)\n",
      "  File \"/home/ec2-user/anaconda3/envs/python3/lib/python3.6/multiprocessing/pool.py\", line 103, in worker\n",
      "    initializer(*initargs)\n",
      "  File \"/home/ec2-user/anaconda3/envs/python3/lib/python3.6/site-packages/gensim/models/ldamulticore.py\", line 334, in worker_e_step\n",
      "    chunk_no, chunk, worker_lda = input_queue.get()\n",
      "  File \"/home/ec2-user/anaconda3/envs/python3/lib/python3.6/site-packages/gensim/models/ldamulticore.py\", line 334, in worker_e_step\n",
      "    chunk_no, chunk, worker_lda = input_queue.get()\n",
      "  File \"/home/ec2-user/anaconda3/envs/python3/lib/python3.6/multiprocessing/pool.py\", line 103, in worker\n",
      "    initializer(*initargs)\n",
      "  File \"/home/ec2-user/anaconda3/envs/python3/lib/python3.6/site-packages/gensim/models/ldamulticore.py\", line 334, in worker_e_step\n",
      "    chunk_no, chunk, worker_lda = input_queue.get()\n",
      "  File \"/home/ec2-user/anaconda3/envs/python3/lib/python3.6/site-packages/gensim/models/ldamulticore.py\", line 334, in worker_e_step\n",
      "    chunk_no, chunk, worker_lda = input_queue.get()\n",
      "  File \"/home/ec2-user/anaconda3/envs/python3/lib/python3.6/multiprocessing/pool.py\", line 103, in worker\n",
      "    initializer(*initargs)\n",
      "  File \"/home/ec2-user/anaconda3/envs/python3/lib/python3.6/site-packages/gensim/models/ldamulticore.py\", line 334, in worker_e_step\n",
      "    chunk_no, chunk, worker_lda = input_queue.get()\n",
      "  File \"/home/ec2-user/anaconda3/envs/python3/lib/python3.6/multiprocessing/pool.py\", line 103, in worker\n",
      "    initializer(*initargs)\n",
      "  File \"/home/ec2-user/anaconda3/envs/python3/lib/python3.6/site-packages/gensim/models/ldamulticore.py\", line 334, in worker_e_step\n",
      "    chunk_no, chunk, worker_lda = input_queue.get()\n",
      "  File \"/home/ec2-user/anaconda3/envs/python3/lib/python3.6/site-packages/gensim/models/ldamulticore.py\", line 334, in worker_e_step\n",
      "    chunk_no, chunk, worker_lda = input_queue.get()\n",
      "  File \"/home/ec2-user/anaconda3/envs/python3/lib/python3.6/multiprocessing/pool.py\", line 103, in worker\n",
      "    initializer(*initargs)\n",
      "  File \"/home/ec2-user/anaconda3/envs/python3/lib/python3.6/site-packages/gensim/models/ldamulticore.py\", line 334, in worker_e_step\n",
      "    chunk_no, chunk, worker_lda = input_queue.get()\n",
      "  File \"/home/ec2-user/anaconda3/envs/python3/lib/python3.6/multiprocessing/pool.py\", line 103, in worker\n",
      "    initializer(*initargs)\n",
      "  File \"/home/ec2-user/anaconda3/envs/python3/lib/python3.6/site-packages/gensim/models/ldamulticore.py\", line 334, in worker_e_step\n",
      "    chunk_no, chunk, worker_lda = input_queue.get()\n",
      "  File \"/home/ec2-user/anaconda3/envs/python3/lib/python3.6/site-packages/gensim/models/ldamulticore.py\", line 334, in worker_e_step\n",
      "    chunk_no, chunk, worker_lda = input_queue.get()\n",
      "  File \"/home/ec2-user/anaconda3/envs/python3/lib/python3.6/site-packages/gensim/models/ldamulticore.py\", line 334, in worker_e_step\n",
      "    chunk_no, chunk, worker_lda = input_queue.get()\n",
      "  File \"/home/ec2-user/anaconda3/envs/python3/lib/python3.6/site-packages/gensim/models/ldamulticore.py\", line 334, in worker_e_step\n",
      "    chunk_no, chunk, worker_lda = input_queue.get()\n",
      "  File \"/home/ec2-user/anaconda3/envs/python3/lib/python3.6/site-packages/gensim/models/ldamulticore.py\", line 334, in worker_e_step\n",
      "    chunk_no, chunk, worker_lda = input_queue.get()\n",
      "  File \"/home/ec2-user/anaconda3/envs/python3/lib/python3.6/site-packages/gensim/models/ldamulticore.py\", line 334, in worker_e_step\n",
      "    chunk_no, chunk, worker_lda = input_queue.get()\n",
      "  File \"/home/ec2-user/anaconda3/envs/python3/lib/python3.6/site-packages/gensim/models/ldamulticore.py\", line 334, in worker_e_step\n",
      "    chunk_no, chunk, worker_lda = input_queue.get()\n",
      "  File \"/home/ec2-user/anaconda3/envs/python3/lib/python3.6/site-packages/gensim/models/ldamulticore.py\", line 334, in worker_e_step\n",
      "    chunk_no, chunk, worker_lda = input_queue.get()\n",
      "  File \"/home/ec2-user/anaconda3/envs/python3/lib/python3.6/multiprocessing/queues.py\", line 93, in get\n",
      "    with self._rlock:\n",
      "  File \"/home/ec2-user/anaconda3/envs/python3/lib/python3.6/site-packages/gensim/models/ldamulticore.py\", line 334, in worker_e_step\n",
      "    chunk_no, chunk, worker_lda = input_queue.get()\n",
      "  File \"/home/ec2-user/anaconda3/envs/python3/lib/python3.6/multiprocessing/queues.py\", line 93, in get\n",
      "    with self._rlock:\n",
      "  File \"/home/ec2-user/anaconda3/envs/python3/lib/python3.6/site-packages/gensim/models/ldamulticore.py\", line 334, in worker_e_step\n",
      "    chunk_no, chunk, worker_lda = input_queue.get()\n",
      "  File \"/home/ec2-user/anaconda3/envs/python3/lib/python3.6/multiprocessing/queues.py\", line 93, in get\n",
      "    with self._rlock:\n",
      "  File \"/home/ec2-user/anaconda3/envs/python3/lib/python3.6/multiprocessing/queues.py\", line 93, in get\n",
      "    with self._rlock:\n",
      "  File \"/home/ec2-user/anaconda3/envs/python3/lib/python3.6/multiprocessing/queues.py\", line 93, in get\n",
      "    with self._rlock:\n",
      "  File \"/home/ec2-user/anaconda3/envs/python3/lib/python3.6/multiprocessing/queues.py\", line 93, in get\n",
      "    with self._rlock:\n",
      "  File \"/home/ec2-user/anaconda3/envs/python3/lib/python3.6/site-packages/gensim/models/ldamulticore.py\", line 334, in worker_e_step\n",
      "    chunk_no, chunk, worker_lda = input_queue.get()\n",
      "  File \"/home/ec2-user/anaconda3/envs/python3/lib/python3.6/site-packages/gensim/models/ldamulticore.py\", line 334, in worker_e_step\n",
      "    chunk_no, chunk, worker_lda = input_queue.get()\n",
      "  File \"/home/ec2-user/anaconda3/envs/python3/lib/python3.6/multiprocessing/queues.py\", line 93, in get\n",
      "    with self._rlock:\n",
      "  File \"/home/ec2-user/anaconda3/envs/python3/lib/python3.6/site-packages/gensim/models/ldamulticore.py\", line 334, in worker_e_step\n",
      "    chunk_no, chunk, worker_lda = input_queue.get()\n",
      "  File \"/home/ec2-user/anaconda3/envs/python3/lib/python3.6/multiprocessing/queues.py\", line 93, in get\n",
      "    with self._rlock:\n",
      "  File \"/home/ec2-user/anaconda3/envs/python3/lib/python3.6/site-packages/gensim/models/ldamulticore.py\", line 334, in worker_e_step\n",
      "    chunk_no, chunk, worker_lda = input_queue.get()\n",
      "  File \"/home/ec2-user/anaconda3/envs/python3/lib/python3.6/multiprocessing/queues.py\", line 93, in get\n",
      "    with self._rlock:\n",
      "  File \"/home/ec2-user/anaconda3/envs/python3/lib/python3.6/site-packages/gensim/models/ldamulticore.py\", line 334, in worker_e_step\n",
      "    chunk_no, chunk, worker_lda = input_queue.get()\n",
      "  File \"/home/ec2-user/anaconda3/envs/python3/lib/python3.6/site-packages/gensim/models/ldamulticore.py\", line 334, in worker_e_step\n",
      "    chunk_no, chunk, worker_lda = input_queue.get()\n",
      "  File \"/home/ec2-user/anaconda3/envs/python3/lib/python3.6/multiprocessing/queues.py\", line 93, in get\n",
      "    with self._rlock:\n",
      "Process ForkPoolWorker-69:\n",
      "  File \"/home/ec2-user/anaconda3/envs/python3/lib/python3.6/multiprocessing/queues.py\", line 93, in get\n",
      "    with self._rlock:\n",
      "  File \"/home/ec2-user/anaconda3/envs/python3/lib/python3.6/multiprocessing/queues.py\", line 93, in get\n",
      "    with self._rlock:\n",
      "  File \"/home/ec2-user/anaconda3/envs/python3/lib/python3.6/site-packages/gensim/models/ldamulticore.py\", line 334, in worker_e_step\n",
      "    chunk_no, chunk, worker_lda = input_queue.get()\n",
      "  File \"/home/ec2-user/anaconda3/envs/python3/lib/python3.6/multiprocessing/queues.py\", line 93, in get\n",
      "    with self._rlock:\n",
      "  File \"/home/ec2-user/anaconda3/envs/python3/lib/python3.6/site-packages/gensim/models/ldamulticore.py\", line 334, in worker_e_step\n",
      "    chunk_no, chunk, worker_lda = input_queue.get()\n",
      "  File \"/home/ec2-user/anaconda3/envs/python3/lib/python3.6/multiprocessing/queues.py\", line 93, in get\n",
      "    with self._rlock:\n",
      "  File \"/home/ec2-user/anaconda3/envs/python3/lib/python3.6/multiprocessing/queues.py\", line 93, in get\n",
      "    with self._rlock:\n",
      "  File \"/home/ec2-user/anaconda3/envs/python3/lib/python3.6/site-packages/gensim/models/ldamulticore.py\", line 334, in worker_e_step\n",
      "    chunk_no, chunk, worker_lda = input_queue.get()\n"
     ]
    },
    {
     "name": "stderr",
     "output_type": "stream",
     "text": [
      "  File \"/home/ec2-user/anaconda3/envs/python3/lib/python3.6/multiprocessing/queues.py\", line 93, in get\n",
      "    with self._rlock:\n",
      "  File \"/home/ec2-user/anaconda3/envs/python3/lib/python3.6/site-packages/gensim/models/ldamulticore.py\", line 334, in worker_e_step\n",
      "    chunk_no, chunk, worker_lda = input_queue.get()\n",
      "  File \"/home/ec2-user/anaconda3/envs/python3/lib/python3.6/multiprocessing/queues.py\", line 93, in get\n",
      "    with self._rlock:\n",
      "  File \"/home/ec2-user/anaconda3/envs/python3/lib/python3.6/multiprocessing/queues.py\", line 93, in get\n",
      "    with self._rlock:\n",
      "  File \"/home/ec2-user/anaconda3/envs/python3/lib/python3.6/multiprocessing/queues.py\", line 93, in get\n",
      "    with self._rlock:\n",
      "  File \"/home/ec2-user/anaconda3/envs/python3/lib/python3.6/multiprocessing/queues.py\", line 93, in get\n",
      "    with self._rlock:\n",
      "  File \"/home/ec2-user/anaconda3/envs/python3/lib/python3.6/multiprocessing/queues.py\", line 93, in get\n",
      "    with self._rlock:\n",
      "  File \"/home/ec2-user/anaconda3/envs/python3/lib/python3.6/multiprocessing/queues.py\", line 93, in get\n",
      "    with self._rlock:\n",
      "  File \"/home/ec2-user/anaconda3/envs/python3/lib/python3.6/multiprocessing/queues.py\", line 93, in get\n",
      "    with self._rlock:\n",
      "  File \"/home/ec2-user/anaconda3/envs/python3/lib/python3.6/multiprocessing/queues.py\", line 93, in get\n",
      "    with self._rlock:\n",
      "  File \"/home/ec2-user/anaconda3/envs/python3/lib/python3.6/multiprocessing/queues.py\", line 93, in get\n",
      "    with self._rlock:\n",
      "  File \"/home/ec2-user/anaconda3/envs/python3/lib/python3.6/multiprocessing/synchronize.py\", line 96, in __enter__\n",
      "    return self._semlock.__enter__()\n",
      "  File \"/home/ec2-user/anaconda3/envs/python3/lib/python3.6/multiprocessing/synchronize.py\", line 96, in __enter__\n",
      "    return self._semlock.__enter__()\n",
      "  File \"/home/ec2-user/anaconda3/envs/python3/lib/python3.6/multiprocessing/synchronize.py\", line 96, in __enter__\n",
      "    return self._semlock.__enter__()\n",
      "  File \"/home/ec2-user/anaconda3/envs/python3/lib/python3.6/multiprocessing/queues.py\", line 93, in get\n",
      "    with self._rlock:\n",
      "  File \"/home/ec2-user/anaconda3/envs/python3/lib/python3.6/multiprocessing/synchronize.py\", line 96, in __enter__\n",
      "    return self._semlock.__enter__()\n",
      "  File \"/home/ec2-user/anaconda3/envs/python3/lib/python3.6/multiprocessing/synchronize.py\", line 96, in __enter__\n",
      "    return self._semlock.__enter__()\n",
      "  File \"/home/ec2-user/anaconda3/envs/python3/lib/python3.6/multiprocessing/queues.py\", line 93, in get\n",
      "    with self._rlock:\n",
      "  File \"/home/ec2-user/anaconda3/envs/python3/lib/python3.6/multiprocessing/synchronize.py\", line 96, in __enter__\n",
      "    return self._semlock.__enter__()\n",
      "  File \"/home/ec2-user/anaconda3/envs/python3/lib/python3.6/multiprocessing/synchronize.py\", line 96, in __enter__\n",
      "    return self._semlock.__enter__()\n",
      "  File \"/home/ec2-user/anaconda3/envs/python3/lib/python3.6/multiprocessing/queues.py\", line 93, in get\n",
      "    with self._rlock:\n",
      "  File \"/home/ec2-user/anaconda3/envs/python3/lib/python3.6/multiprocessing/queues.py\", line 93, in get\n",
      "    with self._rlock:\n",
      "  File \"/home/ec2-user/anaconda3/envs/python3/lib/python3.6/multiprocessing/synchronize.py\", line 96, in __enter__\n",
      "    return self._semlock.__enter__()\n",
      "  File \"/home/ec2-user/anaconda3/envs/python3/lib/python3.6/multiprocessing/queues.py\", line 93, in get\n",
      "    with self._rlock:\n",
      "  File \"/home/ec2-user/anaconda3/envs/python3/lib/python3.6/multiprocessing/synchronize.py\", line 96, in __enter__\n",
      "    return self._semlock.__enter__()\n",
      "  File \"/home/ec2-user/anaconda3/envs/python3/lib/python3.6/multiprocessing/queues.py\", line 93, in get\n",
      "    with self._rlock:\n",
      "  File \"/home/ec2-user/anaconda3/envs/python3/lib/python3.6/multiprocessing/queues.py\", line 93, in get\n",
      "    with self._rlock:\n",
      "  File \"/home/ec2-user/anaconda3/envs/python3/lib/python3.6/multiprocessing/synchronize.py\", line 96, in __enter__\n",
      "    return self._semlock.__enter__()\n",
      "  File \"/home/ec2-user/anaconda3/envs/python3/lib/python3.6/multiprocessing/synchronize.py\", line 96, in __enter__\n",
      "    return self._semlock.__enter__()\n",
      "  File \"/home/ec2-user/anaconda3/envs/python3/lib/python3.6/multiprocessing/synchronize.py\", line 96, in __enter__\n",
      "    return self._semlock.__enter__()\n",
      "  File \"/home/ec2-user/anaconda3/envs/python3/lib/python3.6/multiprocessing/queues.py\", line 93, in get\n",
      "    with self._rlock:\n",
      "  File \"/home/ec2-user/anaconda3/envs/python3/lib/python3.6/multiprocessing/synchronize.py\", line 96, in __enter__\n",
      "    return self._semlock.__enter__()\n",
      "  File \"/home/ec2-user/anaconda3/envs/python3/lib/python3.6/multiprocessing/synchronize.py\", line 96, in __enter__\n",
      "    return self._semlock.__enter__()\n",
      "  File \"/home/ec2-user/anaconda3/envs/python3/lib/python3.6/multiprocessing/queues.py\", line 94, in get\n",
      "    res = self._recv_bytes()\n",
      "  File \"/home/ec2-user/anaconda3/envs/python3/lib/python3.6/multiprocessing/synchronize.py\", line 96, in __enter__\n",
      "    return self._semlock.__enter__()\n",
      "  File \"/home/ec2-user/anaconda3/envs/python3/lib/python3.6/multiprocessing/queues.py\", line 93, in get\n",
      "    with self._rlock:\n",
      "  File \"/home/ec2-user/anaconda3/envs/python3/lib/python3.6/multiprocessing/synchronize.py\", line 96, in __enter__\n",
      "    return self._semlock.__enter__()\n",
      "  File \"/home/ec2-user/anaconda3/envs/python3/lib/python3.6/multiprocessing/queues.py\", line 93, in get\n",
      "    with self._rlock:\n",
      "  File \"/home/ec2-user/anaconda3/envs/python3/lib/python3.6/multiprocessing/synchronize.py\", line 96, in __enter__\n",
      "    return self._semlock.__enter__()\n",
      "  File \"/home/ec2-user/anaconda3/envs/python3/lib/python3.6/multiprocessing/synchronize.py\", line 96, in __enter__\n",
      "    return self._semlock.__enter__()\n",
      "  File \"/home/ec2-user/anaconda3/envs/python3/lib/python3.6/multiprocessing/synchronize.py\", line 96, in __enter__\n",
      "    return self._semlock.__enter__()\n",
      "  File \"/home/ec2-user/anaconda3/envs/python3/lib/python3.6/multiprocessing/synchronize.py\", line 96, in __enter__\n",
      "    return self._semlock.__enter__()\n",
      "  File \"/home/ec2-user/anaconda3/envs/python3/lib/python3.6/multiprocessing/synchronize.py\", line 96, in __enter__\n",
      "    return self._semlock.__enter__()\n",
      "  File \"/home/ec2-user/anaconda3/envs/python3/lib/python3.6/multiprocessing/synchronize.py\", line 96, in __enter__\n",
      "    return self._semlock.__enter__()\n",
      "  File \"/home/ec2-user/anaconda3/envs/python3/lib/python3.6/multiprocessing/synchronize.py\", line 96, in __enter__\n",
      "    return self._semlock.__enter__()\n",
      "Traceback (most recent call last):\n",
      "  File \"/home/ec2-user/anaconda3/envs/python3/lib/python3.6/multiprocessing/synchronize.py\", line 96, in __enter__\n",
      "    return self._semlock.__enter__()\n",
      "  File \"/home/ec2-user/anaconda3/envs/python3/lib/python3.6/multiprocessing/synchronize.py\", line 96, in __enter__\n",
      "    return self._semlock.__enter__()\n",
      "KeyboardInterrupt\n",
      "KeyboardInterrupt\n",
      "  File \"/home/ec2-user/anaconda3/envs/python3/lib/python3.6/multiprocessing/synchronize.py\", line 96, in __enter__\n",
      "    return self._semlock.__enter__()\n",
      "KeyboardInterrupt\n",
      "KeyboardInterrupt\n",
      "  File \"/home/ec2-user/anaconda3/envs/python3/lib/python3.6/multiprocessing/synchronize.py\", line 96, in __enter__\n",
      "    return self._semlock.__enter__()\n",
      "KeyboardInterrupt\n",
      "KeyboardInterrupt\n",
      "KeyboardInterrupt\n",
      "  File \"/home/ec2-user/anaconda3/envs/python3/lib/python3.6/multiprocessing/synchronize.py\", line 96, in __enter__\n",
      "    return self._semlock.__enter__()\n",
      "  File \"/home/ec2-user/anaconda3/envs/python3/lib/python3.6/multiprocessing/synchronize.py\", line 96, in __enter__\n",
      "    return self._semlock.__enter__()\n",
      "KeyboardInterrupt\n",
      "  File \"/home/ec2-user/anaconda3/envs/python3/lib/python3.6/multiprocessing/synchronize.py\", line 96, in __enter__\n",
      "    return self._semlock.__enter__()\n",
      "  File \"/home/ec2-user/anaconda3/envs/python3/lib/python3.6/multiprocessing/synchronize.py\", line 96, in __enter__\n",
      "    return self._semlock.__enter__()\n",
      "KeyboardInterrupt\n",
      "  File \"/home/ec2-user/anaconda3/envs/python3/lib/python3.6/multiprocessing/synchronize.py\", line 96, in __enter__\n",
      "    return self._semlock.__enter__()\n",
      "KeyboardInterrupt\n",
      "KeyboardInterrupt\n",
      "  File \"/home/ec2-user/anaconda3/envs/python3/lib/python3.6/multiprocessing/synchronize.py\", line 96, in __enter__\n",
      "    return self._semlock.__enter__()\n",
      "KeyboardInterrupt\n",
      "KeyboardInterrupt\n",
      "KeyboardInterrupt\n",
      "  File \"/home/ec2-user/anaconda3/envs/python3/lib/python3.6/multiprocessing/connection.py\", line 216, in recv_bytes\n",
      "    buf = self._recv_bytes(maxlength)\n"
     ]
    },
    {
     "name": "stderr",
     "output_type": "stream",
     "text": [
      "  File \"/home/ec2-user/anaconda3/envs/python3/lib/python3.6/multiprocessing/synchronize.py\", line 96, in __enter__\n",
      "    return self._semlock.__enter__()\n",
      "KeyboardInterrupt\n",
      "  File \"/home/ec2-user/anaconda3/envs/python3/lib/python3.6/multiprocessing/synchronize.py\", line 96, in __enter__\n",
      "    return self._semlock.__enter__()\n",
      "KeyboardInterrupt\n",
      "KeyboardInterrupt\n",
      "KeyboardInterrupt\n",
      "KeyboardInterrupt\n",
      "KeyboardInterrupt\n",
      "KeyboardInterrupt\n",
      "KeyboardInterrupt\n",
      "  File \"/home/ec2-user/anaconda3/envs/python3/lib/python3.6/multiprocessing/process.py\", line 258, in _bootstrap\n",
      "    self.run()\n",
      "KeyboardInterrupt\n",
      "KeyboardInterrupt\n",
      "KeyboardInterrupt\n",
      "KeyboardInterrupt\n",
      "KeyboardInterrupt\n",
      "KeyboardInterrupt\n",
      "KeyboardInterrupt\n",
      "KeyboardInterrupt\n",
      "KeyboardInterrupt\n",
      "KeyboardInterrupt\n",
      "KeyboardInterrupt\n",
      "  File \"/home/ec2-user/anaconda3/envs/python3/lib/python3.6/multiprocessing/connection.py\", line 407, in _recv_bytes\n",
      "    buf = self._recv(4)\n",
      "KeyboardInterrupt\n",
      "KeyboardInterrupt\n",
      "Process ForkPoolWorker-70:\n",
      "Process ForkPoolWorker-72:\n",
      "Process ForkPoolWorker-71:\n",
      "  File \"/home/ec2-user/anaconda3/envs/python3/lib/python3.6/multiprocessing/process.py\", line 93, in run\n",
      "    self._target(*self._args, **self._kwargs)\n",
      "  File \"/home/ec2-user/anaconda3/envs/python3/lib/python3.6/multiprocessing/connection.py\", line 379, in _recv\n",
      "    chunk = read(handle, remaining)\n",
      "  File \"/home/ec2-user/anaconda3/envs/python3/lib/python3.6/multiprocessing/pool.py\", line 103, in worker\n",
      "    initializer(*initargs)\n",
      "KeyboardInterrupt\n",
      "  File \"/home/ec2-user/anaconda3/envs/python3/lib/python3.6/site-packages/gensim/models/ldamulticore.py\", line 334, in worker_e_step\n",
      "    chunk_no, chunk, worker_lda = input_queue.get()\n",
      "  File \"/home/ec2-user/anaconda3/envs/python3/lib/python3.6/multiprocessing/queues.py\", line 93, in get\n",
      "    with self._rlock:\n",
      "  File \"/home/ec2-user/anaconda3/envs/python3/lib/python3.6/multiprocessing/synchronize.py\", line 96, in __enter__\n",
      "    return self._semlock.__enter__()\n",
      "Traceback (most recent call last):\n",
      "KeyboardInterrupt\n",
      "Traceback (most recent call last):\n",
      "Traceback (most recent call last):\n",
      "  File \"/home/ec2-user/anaconda3/envs/python3/lib/python3.6/multiprocessing/process.py\", line 258, in _bootstrap\n",
      "    self.run()\n",
      "  File \"/home/ec2-user/anaconda3/envs/python3/lib/python3.6/multiprocessing/process.py\", line 258, in _bootstrap\n",
      "    self.run()\n",
      "  File \"/home/ec2-user/anaconda3/envs/python3/lib/python3.6/multiprocessing/process.py\", line 258, in _bootstrap\n",
      "    self.run()\n",
      "  File \"/home/ec2-user/anaconda3/envs/python3/lib/python3.6/multiprocessing/process.py\", line 93, in run\n",
      "    self._target(*self._args, **self._kwargs)\n",
      "  File \"/home/ec2-user/anaconda3/envs/python3/lib/python3.6/multiprocessing/pool.py\", line 103, in worker\n",
      "    initializer(*initargs)\n",
      "  File \"/home/ec2-user/anaconda3/envs/python3/lib/python3.6/multiprocessing/process.py\", line 93, in run\n",
      "    self._target(*self._args, **self._kwargs)\n",
      "  File \"/home/ec2-user/anaconda3/envs/python3/lib/python3.6/multiprocessing/process.py\", line 93, in run\n",
      "    self._target(*self._args, **self._kwargs)\n",
      "  File \"/home/ec2-user/anaconda3/envs/python3/lib/python3.6/site-packages/gensim/models/ldamulticore.py\", line 334, in worker_e_step\n",
      "    chunk_no, chunk, worker_lda = input_queue.get()\n",
      "  File \"/home/ec2-user/anaconda3/envs/python3/lib/python3.6/multiprocessing/pool.py\", line 103, in worker\n",
      "    initializer(*initargs)\n",
      "  File \"/home/ec2-user/anaconda3/envs/python3/lib/python3.6/multiprocessing/pool.py\", line 103, in worker\n",
      "    initializer(*initargs)\n",
      "  File \"/home/ec2-user/anaconda3/envs/python3/lib/python3.6/multiprocessing/queues.py\", line 93, in get\n",
      "    with self._rlock:\n",
      "  File \"/home/ec2-user/anaconda3/envs/python3/lib/python3.6/site-packages/gensim/models/ldamulticore.py\", line 334, in worker_e_step\n",
      "    chunk_no, chunk, worker_lda = input_queue.get()\n",
      "  File \"/home/ec2-user/anaconda3/envs/python3/lib/python3.6/site-packages/gensim/models/ldamulticore.py\", line 334, in worker_e_step\n",
      "    chunk_no, chunk, worker_lda = input_queue.get()\n",
      "  File \"/home/ec2-user/anaconda3/envs/python3/lib/python3.6/multiprocessing/synchronize.py\", line 96, in __enter__\n",
      "    return self._semlock.__enter__()\n",
      "  File \"/home/ec2-user/anaconda3/envs/python3/lib/python3.6/multiprocessing/queues.py\", line 93, in get\n",
      "    with self._rlock:\n",
      "  File \"/home/ec2-user/anaconda3/envs/python3/lib/python3.6/multiprocessing/queues.py\", line 93, in get\n",
      "    with self._rlock:\n",
      "KeyboardInterrupt\n",
      "  File \"/home/ec2-user/anaconda3/envs/python3/lib/python3.6/multiprocessing/synchronize.py\", line 96, in __enter__\n",
      "    return self._semlock.__enter__()\n",
      "  File \"/home/ec2-user/anaconda3/envs/python3/lib/python3.6/multiprocessing/synchronize.py\", line 96, in __enter__\n",
      "    return self._semlock.__enter__()\n",
      "KeyboardInterrupt\n",
      "KeyboardInterrupt\n"
     ]
    }
   ],
   "source": [
    "# train the model \n",
    "# Step 4: Train the LDA model\n",
    "lda_model_esfj = LdaMulticore(corpus=corp_esfj,\n",
    "                         id2word=dct_esfj,\n",
    "                         random_state=100,\n",
    "                         num_topics=10,\n",
    "                         passes=10,\n",
    "                         chunksize=1000,\n",
    "                         batch=False,\n",
    "                         alpha='asymmetric',\n",
    "                         decay=0.5,\n",
    "                         offset=64,\n",
    "                         eta=None,\n",
    "                         eval_every=0,\n",
    "                         iterations=100,\n",
    "                         gamma_threshold=0.001,\n",
    "                         per_word_topics=True)"
   ]
  },
  {
   "cell_type": "code",
   "execution_count": null,
   "metadata": {
    "ExecuteTime": {
     "end_time": "2019-12-10T01:45:15.960123Z",
     "start_time": "2019-12-10T01:41:23.366193Z"
    }
   },
   "outputs": [],
   "source": [
    "lda_model_intp = LdaMulticore(corpus=corp_intp,\n",
    "                         id2word=dct_intp,\n",
    "                         random_state=100,\n",
    "                         num_topics=10,\n",
    "                         passes=10,\n",
    "                         chunksize=1000,\n",
    "                         batch=False,\n",
    "                         alpha='asymmetric',\n",
    "                         decay=0.5,\n",
    "                         offset=64,\n",
    "                         eta=None,\n",
    "                         eval_every=0,\n",
    "                         iterations=100,\n",
    "                         gamma_threshold=0.001,\n",
    "                         per_word_topics=True)"
   ]
  },
  {
   "cell_type": "code",
   "execution_count": 98,
   "metadata": {
    "ExecuteTime": {
     "end_time": "2019-12-10T01:47:49.636738Z",
     "start_time": "2019-12-10T01:47:49.442028Z"
    },
    "scrolled": false
   },
   "outputs": [
    {
     "data": {
      "text/plain": [
       "[(0,\n",
       "  '0.018*\"url\" + 0.013*\"thank\" + 0.010*\"one\" + 0.010*\"good\" + 0.009*\"love\" + 0.008*\"like\" + 0.007*\"look\" + 0.007*\"get\" + 0.005*\"go\" + 0.005*\"make\"'),\n",
       " (1,\n",
       "  '0.018*\"like\" + 0.017*\"get\" + 0.016*\"would\" + 0.013*\"think\" + 0.013*\"people\" + 0.012*\"go\" + 0.010*\"really\" + 0.010*\"know\" + 0.010*\"one\" + 0.009*\"make\"'),\n",
       " (2,\n",
       "  '0.003*\"decant_available\" + 0.002*\"uconn\" + 0.002*\"function\" + 0.002*\"look\" + 0.002*\"ice_cream\" + 0.001*\"tooth\" + 0.001*\"decant\" + 0.001*\"true\" + 0.001*\"fruit\" + 0.001*\"work\"'),\n",
       " (3,\n",
       "  '0.011*\"funner_funner\" + 0.003*\"disorder\" + 0.002*\"url_wiki\" + 0.002*\"isfp\" + 0.002*\"url\" + 0.002*\"makeupaddiction\" + 0.002*\"personality_disorder\" + 0.001*\"king_landing\" + 0.001*\"double_major\" + 0.001*\"borderline_personality\"'),\n",
       " (4,\n",
       "  '0.047*\"color\" + 0.021*\"look\" + 0.020*\"see\" + 0.015*\"blue\" + 0.015*\"red\" + 0.015*\"green\" + 0.013*\"white\" + 0.013*\"black\" + 0.010*\"light\" + 0.007*\"yellow\"'),\n",
       " (5,\n",
       "  '0.003*\"use\" + 0.002*\"get\" + 0.001*\"truth\" + 0.001*\"point\" + 0.001*\"sansa\" + 0.001*\"treatment\" + 0.001*\"fact\" + 0.001*\"two\" + 0.001*\"awful\" + 0.001*\"jaime\"'),\n",
       " (6,\n",
       "  '0.008*\"spell\" + 0.005*\"cleric\" + 0.003*\"dae_dae\" + 0.003*\"ability\" + 0.003*\"flower\" + 0.002*\"woman\" + 0.002*\"migraine\" + 0.002*\"need\" + 0.002*\"play\" + 0.002*\"wizard\"'),\n",
       " (7,\n",
       "  '0.007*\"people\" + 0.003*\"thing\" + 0.003*\"look\" + 0.002*\"trans_people\" + 0.002*\"url\" + 0.002*\"find\" + 0.002*\"even\" + 0.002*\"kaitlyn\" + 0.002*\"country\" + 0.002*\"mental_illness\"'),\n",
       " (8,\n",
       "  '0.002*\"boston\" + 0.002*\"exam\" + 0.001*\"copy\" + 0.001*\"almond\" + 0.001*\"wear_glass\" + 0.001*\"full_attack\" + 0.001*\"mouse\" + 0.001*\"diet\" + 0.001*\"country_music\" + 0.001*\"melee\"'),\n",
       " (9,\n",
       "  '0.012*\"phone\" + 0.006*\"moto\" + 0.004*\"may\" + 0.003*\"amp_x\" + 0.002*\"nexus\" + 0.002*\"also\" + 0.002*\"look\" + 0.001*\"issue\" + 0.001*\"furthermore\" + 0.001*\"thank_info\"')]"
      ]
     },
     "execution_count": 98,
     "metadata": {},
     "output_type": "execute_result"
    }
   ],
   "source": [
    "# save the model\n",
    "lda_model_esfj.save('lda_model_esfj.model')\n",
    "lda_model_intp.save('lda_model_intp.model')\n",
    "\n",
    "# See the topics\n",
    "lda_model_esfj.print_topics()"
   ]
  },
  {
   "cell_type": "code",
   "execution_count": 99,
   "metadata": {
    "ExecuteTime": {
     "end_time": "2019-12-10T01:47:55.233249Z",
     "start_time": "2019-12-10T01:47:55.216232Z"
    },
    "scrolled": true
   },
   "outputs": [
    {
     "data": {
      "text/plain": [
       "[(0,\n",
       "  '0.012*\"would\" + 0.011*\"get\" + 0.010*\"like\" + 0.010*\"think\" + 0.010*\"people\" + 0.009*\"one\" + 0.008*\"make\" + 0.008*\"go\" + 0.008*\"say\" + 0.007*\"know\"'),\n",
       " (1,\n",
       "  '0.044*\"url\" + 0.019*\"thank\" + 0.008*\"lol\" + 0.007*\"yes\" + 0.006*\"gt\" + 0.006*\"look_like\" + 0.006*\"fuck\" + 0.005*\"cat\" + 0.005*\"jpg\" + 0.005*\"man\"'),\n",
       " (2,\n",
       "  '0.010*\"team\" + 0.007*\"play\" + 0.005*\"game\" + 0.004*\"like\" + 0.004*\"k\" + 0.004*\"win\" + 0.003*\"player\" + 0.003*\"gt\" + 0.003*\"think\" + 0.003*\"make\"'),\n",
       " (3,\n",
       "  '0.004*\"rape_drug\" + 0.004*\"ghb_date\" + 0.003*\"alright_alright\" + 0.003*\"hello\" + 0.002*\"shitpost\" + 0.002*\"ftfy\" + 0.002*\"holy_fuck\" + 0.002*\"ubuntu\" + 0.002*\"b\" + 0.002*\"der\"'),\n",
       " (4,\n",
       "  '0.012*\"nope\" + 0.005*\"entj\" + 0.005*\"esfp\" + 0.004*\"esfj\" + 0.004*\"estp\" + 0.004*\"w\" + 0.004*\"isfj\" + 0.004*\"irl\" + 0.003*\"isfp\" + 0.002*\"estj\"'),\n",
       " (5,\n",
       "  '0.005*\"horse\" + 0.005*\"welcome\" + 0.004*\"zip_gt\" + 0.003*\"gif\" + 0.003*\"ca\" + 0.003*\"rar_gt\" + 0.002*\"pony\" + 0.002*\"cum\" + 0.002*\"logo\" + 0.002*\"ebook\"'),\n",
       " (6,\n",
       "  '0.014*\"v\" + 0.012*\"url_watch\" + 0.008*\"l\" + 0.008*\"c_est\" + 0.007*\"que\" + 0.005*\"c\" + 0.005*\"les\" + 0.005*\"pas\" + 0.005*\"j_ai\" + 0.004*\"des\"'),\n",
       " (7,\n",
       "  '0.004*\"dat\" + 0.004*\"van\" + 0.003*\"wizard\" + 0.003*\"url_user\" + 0.003*\"url_channel\" + 0.002*\"die\" + 0.002*\"het\" + 0.002*\"euro\" + 0.002*\"satan\" + 0.002*\"hearthstone\"'),\n",
       " (8,\n",
       "  '0.003*\"cake\" + 0.003*\"mspapplebloom_spin\" + 0.003*\"b_cc\" + 0.002*\"chocolate\" + 0.002*\"amp\" + 0.002*\"namespace\" + 0.002*\"c\" + 0.002*\"use_namespace\" + 0.002*\"std\" + 0.001*\"std_min\"'),\n",
       " (9,\n",
       "  '0.004*\"card\" + 0.004*\"armor\" + 0.004*\"sword\" + 0.003*\"tier\" + 0.003*\"blade\" + 0.003*\"island\" + 0.002*\"board\" + 0.002*\"gpu\" + 0.002*\"adorable\" + 0.002*\"battery\"')]"
      ]
     },
     "execution_count": 99,
     "metadata": {},
     "output_type": "execute_result"
    }
   ],
   "source": [
    "lda_model_intp.print_topics()"
   ]
  },
  {
   "cell_type": "markdown",
   "metadata": {},
   "source": [
    "#### LSI Model"
   ]
  },
  {
   "cell_type": "code",
   "execution_count": 30,
   "metadata": {
    "ExecuteTime": {
     "end_time": "2019-12-10T01:54:08.583192Z",
     "start_time": "2019-12-10T01:53:49.999683Z"
    }
   },
   "outputs": [
    {
     "name": "stdout",
     "output_type": "stream",
     "text": [
      "[(0,\n",
      "  '0.344*\"like\" + 0.281*\"would\" + 0.278*\"get\" + 0.246*\"people\" + 0.210*\"think\" '\n",
      "  '+ 0.205*\"thing\" + 0.196*\"go\" + 0.186*\"really\" + 0.163*\"make\" + 0.160*\"one\"'),\n",
      " (1,\n",
      "  '1.000*\"funner_funner\" + 0.008*\"funner\" + -0.000*\"everyone\" + 0.000*\"keep\" + '\n",
      "  '-0.000*\"type\" + -0.000*\"hate\" + -0.000*\"already\" + -0.000*\"pay\" + '\n",
      "  '0.000*\"gt\" + -0.000*\"hear\"'),\n",
      " (2,\n",
      "  '0.623*\"get\" + -0.603*\"like\" + 0.240*\"go\" + -0.218*\"people\" + -0.109*\"feel\" '\n",
      "  '+ -0.107*\"think\" + 0.102*\"time\" + 0.087*\"take\" + -0.084*\"thing\" + '\n",
      "  '0.075*\"want\"'),\n",
      " (3,\n",
      "  '-0.800*\"would\" + 0.419*\"people\" + 0.206*\"get\" + 0.165*\"thing\" + 0.092*\"lot\" '\n",
      "  '+ -0.082*\"think\" + -0.080*\"kid\" + -0.079*\"like\" + -0.079*\"go\" + '\n",
      "  '0.075*\"well\"'),\n",
      " (4,\n",
      "  '0.617*\"like\" + -0.458*\"people\" + 0.338*\"get\" + -0.298*\"would\" + '\n",
      "  '-0.219*\"think\" + 0.136*\"go\" + -0.128*\"see\" + -0.107*\"thing\" + 0.103*\"kid\" + '\n",
      "  '-0.078*\"well\"'),\n",
      " (5,\n",
      "  '0.529*\"people\" + 0.396*\"get\" + -0.317*\"see\" + 0.272*\"would\" + -0.248*\"one\" '\n",
      "  '+ -0.164*\"make\" + 0.149*\"like\" + -0.143*\"look\" + -0.142*\"well\" + '\n",
      "  '-0.140*\"thing\"'),\n",
      " (6,\n",
      "  '0.488*\"go\" + 0.380*\"think\" + -0.318*\"thing\" + -0.252*\"would\" + -0.216*\"get\" '\n",
      "  '+ -0.195*\"color\" + 0.189*\"want\" + 0.185*\"say\" + 0.173*\"know\" + 0.171*\"kid\"'),\n",
      " (7,\n",
      "  '0.591*\"go\" + -0.540*\"think\" + -0.271*\"get\" + -0.227*\"one\" + -0.204*\"really\" '\n",
      "  '+ 0.176*\"make\" + 0.155*\"thing\" + 0.139*\"people\" + -0.117*\"kid\" + '\n",
      "  '-0.095*\"see\"'),\n",
      " (8,\n",
      "  '0.563*\"one\" + -0.492*\"think\" + -0.376*\"thing\" + 0.271*\"people\" + '\n",
      "  '0.252*\"see\" + 0.106*\"kid\" + -0.101*\"something\" + -0.087*\"time\" + '\n",
      "  '-0.086*\"try\" + -0.085*\"feel\"'),\n",
      " (9,\n",
      "  '0.715*\"really\" + -0.289*\"see\" + 0.255*\"good\" + -0.248*\"think\" + -0.181*\"go\" '\n",
      "  '+ 0.163*\"want\" + -0.152*\"get\" + -0.135*\"thing\" + -0.135*\"one\" + '\n",
      "  '0.131*\"need\"')]\n",
      "[(0,\n",
      "  '0.276*\"would\" + 0.274*\"people\" + 0.252*\"get\" + 0.240*\"think\" + 0.240*\"like\" '\n",
      "  '+ 0.202*\"say\" + 0.198*\"thing\" + 0.189*\"make\" + 0.188*\"one\" + 0.162*\"know\"'),\n",
      " (1,\n",
      "  '-0.675*\"would\" + 0.521*\"get\" + -0.207*\"think\" + -0.198*\"people\" + '\n",
      "  '0.165*\"go\" + -0.136*\"say\" + 0.104*\"one\" + 0.084*\"game\" + 0.079*\"really\" + '\n",
      "  '0.079*\"good\"'),\n",
      " (2,\n",
      "  '-0.681*\"people\" + 0.553*\"would\" + 0.223*\"get\" + -0.164*\"think\" + '\n",
      "  '0.134*\"one\" + 0.093*\"go\" + -0.090*\"say\" + -0.084*\"thing\" + 0.083*\"could\" + '\n",
      "  '0.064*\"take\"'),\n",
      " (3,\n",
      "  '-0.564*\"get\" + -0.465*\"people\" + 0.309*\"like\" + -0.272*\"would\" + '\n",
      "  '0.230*\"one\" + 0.185*\"thing\" + 0.122*\"think\" + 0.120*\"know\" + 0.120*\"gt\" + '\n",
      "  '0.106*\"way\"'),\n",
      " (4,\n",
      "  '0.743*\"like\" + -0.314*\"one\" + -0.221*\"gt\" + -0.193*\"make\" + -0.185*\"say\" + '\n",
      "  '-0.182*\"use\" + 0.138*\"think\" + -0.116*\"good\" + 0.113*\"go\" + '\n",
      "  '-0.096*\"zip_gt\"'),\n",
      " (5,\n",
      "  '-0.749*\"think\" + 0.290*\"like\" + 0.261*\"people\" + 0.203*\"make\" + 0.190*\"use\" '\n",
      "  '+ -0.181*\"get\" + -0.144*\"know\" + -0.126*\"gt\" + 0.114*\"one\" + -0.101*\"go\"'),\n",
      " (6,\n",
      "  '-0.410*\"say\" + -0.402*\"gt\" + 0.369*\"think\" + -0.286*\"know\" + '\n",
      "  '-0.270*\"zip_gt\" + -0.199*\"rar_gt\" + 0.194*\"one\" + 0.175*\"make\" + '\n",
      "  '0.162*\"good\" + -0.157*\"like\"'),\n",
      " (7,\n",
      "  '-0.453*\"say\" + 0.390*\"make\" + 0.375*\"zip_gt\" + -0.341*\"one\" + '\n",
      "  '0.276*\"rar_gt\" + 0.224*\"gt\" + 0.165*\"pdf_gt\" + 0.132*\"ebook\" + '\n",
      "  '0.119*\"really\" + 0.115*\"think\"'),\n",
      " (8,\n",
      "  '0.489*\"one\" + -0.380*\"make\" + -0.314*\"go\" + 0.246*\"zip_gt\" + -0.229*\"know\" '\n",
      "  '+ 0.212*\"like\" + -0.211*\"thing\" + -0.209*\"want\" + 0.181*\"rar_gt\" + '\n",
      "  '0.143*\"people\"'),\n",
      " (9,\n",
      "  '0.448*\"say\" + 0.376*\"good\" + -0.312*\"thing\" + -0.308*\"one\" + -0.260*\"know\" '\n",
      "  '+ -0.259*\"go\" + -0.225*\"see\" + 0.145*\"like\" + -0.138*\"people\" + '\n",
      "  '0.124*\"also\"')]\n"
     ]
    }
   ],
   "source": [
    "from gensim.models import LsiModel\n",
    "\n",
    "# Build the LSI Model\n",
    "lsi_model_esfj = LsiModel(corpus=corp_esfj, id2word=dct_esfj, num_topics=10, decay=0.5)\n",
    "lsi_model_intp = LsiModel(corpus=corp_intp, id2word=dct_intp, num_topics=10, decay=0.5)\n",
    "\n",
    "# View Topics\n",
    "pprint(lsi_model_esfj.print_topics(-1))\n",
    "pprint(lsi_model_intp.print_topics(-1))"
   ]
  },
  {
   "cell_type": "markdown",
   "metadata": {},
   "source": [
    "#### Compute Model Perplexity and Coherence Score"
   ]
  },
  {
   "cell_type": "code",
   "execution_count": 101,
   "metadata": {
    "ExecuteTime": {
     "end_time": "2019-12-10T01:59:11.834553Z",
     "start_time": "2019-12-10T01:57:38.633770Z"
    }
   },
   "outputs": [
    {
     "name": "stdout",
     "output_type": "stream",
     "text": [
      "\n",
      "ESFJ Perplexity:  -8.376806543613682\n",
      "\n",
      "INTP Perplexity:  -8.912526472268127\n",
      "\n",
      "ESFJ Coherence Score:  0.5237966081240052\n",
      "\n",
      "INTP Coherence Score:  0.5570043489160339\n"
     ]
    }
   ],
   "source": [
    "# Compute Perplexity\n",
    "print('\\nESFJ Perplexity: ', lda_model_esfj.log_perplexity(corp_esfj))\n",
    "print('\\nINTP Perplexity: ', lda_model_intp.log_perplexity(corp_intp))\n",
    "\n",
    "# Compute Coherence Score \n",
    "coherence_model_esfj = CoherenceModel(model=lda_model_esfj, texts=processed_bigram_esfj, dictionary=dct_esfj, coherence='c_v')\n",
    "coherence_esfj = coherence_model_esfj.get_coherence()\n",
    "print('\\nESFJ Coherence Score: ', coherence_esfj)\n",
    "\n",
    "coherence_model_intp = CoherenceModel(model=lda_model_intp, texts=processed_bigram_intp, dictionary=dct_intp, coherence='c_v')\n",
    "coherence_intp = coherence_model_intp.get_coherence()\n",
    "print('\\nINTP Coherence Score: ', coherence_intp)"
   ]
  },
  {
   "cell_type": "markdown",
   "metadata": {},
   "source": [
    "### Find the best Number of Topics \n",
    "\n",
    "Before moving on to Mallet model and visualisations, I decided to find out the best number of topics for the documents."
   ]
  },
  {
   "cell_type": "code",
   "execution_count": 116,
   "metadata": {
    "ExecuteTime": {
     "end_time": "2019-12-10T02:24:42.258335Z",
     "start_time": "2019-12-10T02:24:42.250905Z"
    }
   },
   "outputs": [],
   "source": [
    "def compute_coherence_values(dictionary, corpus, texts, limit, start, step):\n",
    "    \"\"\"\n",
    "    Compute c_v coherence for various number of topics\n",
    "\n",
    "    Parameters:\n",
    "    ----------\n",
    "    dictionary : Gensim dictionary\n",
    "    corpus : Gensim corpus\n",
    "    texts : List of input texts\n",
    "    limit : Max num of topics\n",
    "\n",
    "    Returns:\n",
    "    -------\n",
    "    model_list : List of LDA topic models\n",
    "    coherence_values : Coherence values corresponding to the LDA model with respective number of topics\n",
    "    \"\"\"\n",
    "    coherence_values = []\n",
    "    model_list = []\n",
    "    for num_topics in range(start, limit, step):\n",
    "        model = gensim.models.wrappers.LdaMallet(mallet_path, corpus=corpus, num_topics=num_topics, id2word=dictionary)\n",
    "        model_list.append(model)\n",
    "        coherencemodel = CoherenceModel(model=model, texts=texts, dictionary=dictionary, coherence='c_v')\n",
    "        coherence_values.append(coherencemodel.get_coherence())\n",
    "\n",
    "    return model_list, coherence_values"
   ]
  },
  {
   "cell_type": "code",
   "execution_count": 117,
   "metadata": {
    "ExecuteTime": {
     "end_time": "2019-12-10T03:01:34.529281Z",
     "start_time": "2019-12-10T02:24:44.107575Z"
    },
    "scrolled": true
   },
   "outputs": [],
   "source": [
    "# Can take a long time to run.\n",
    "model_list_esfj, coherence_values_esfj = compute_coherence_values(dictionary=dct_esfj, corpus=corp_esfj, texts=processed_bigram_esfj, start=10, limit=100, step=10)"
   ]
  },
  {
   "cell_type": "code",
   "execution_count": 118,
   "metadata": {
    "ExecuteTime": {
     "end_time": "2019-12-10T03:03:36.569966Z",
     "start_time": "2019-12-10T03:03:36.306283Z"
    }
   },
   "outputs": [
    {
     "data": {
      "image/png": "[encoded data removed]",
      "text/plain": [
       "<Figure size 432x288 with 1 Axes>"
      ]
     },
     "metadata": {
      "needs_background": "light"
     },
     "output_type": "display_data"
    }
   ],
   "source": [
    "# Show graph\n",
    "limit=100; start=10; step=10;\n",
    "x = range(start, limit, step)\n",
    "plt.plot(x, coherence_values_esfj)\n",
    "plt.xlabel(\"Num Topics\")\n",
    "plt.ylabel(\"Coherence score\")\n",
    "plt.legend((\"coherence_values\"), loc='best')\n",
    "plt.show()"
   ]
  },
  {
   "cell_type": "code",
   "execution_count": 119,
   "metadata": {
    "ExecuteTime": {
     "end_time": "2019-12-10T03:04:07.113986Z",
     "start_time": "2019-12-10T03:04:07.107030Z"
    }
   },
   "outputs": [
    {
     "name": "stdout",
     "output_type": "stream",
     "text": [
      "Num Topics = 10  has Coherence Value of 0.5285\n",
      "Num Topics = 20  has Coherence Value of 0.5077\n",
      "Num Topics = 30  has Coherence Value of 0.4788\n",
      "Num Topics = 40  has Coherence Value of 0.4653\n",
      "Num Topics = 50  has Coherence Value of 0.4592\n",
      "Num Topics = 60  has Coherence Value of 0.4416\n",
      "Num Topics = 70  has Coherence Value of 0.4425\n",
      "Num Topics = 80  has Coherence Value of 0.4253\n",
      "Num Topics = 90  has Coherence Value of 0.426\n"
     ]
    }
   ],
   "source": [
    "# Print the coherence scores\n",
    "for m, cv in zip(x, coherence_values_esfj):\n",
    "    print(\"Num Topics =\", m, \" has Coherence Value of\", round(cv, 4))"
   ]
  },
  {
   "cell_type": "code",
   "execution_count": 122,
   "metadata": {
    "ExecuteTime": {
     "end_time": "2019-12-10T03:04:57.112102Z",
     "start_time": "2019-12-10T03:04:57.080585Z"
    },
    "scrolled": true
   },
   "outputs": [
    {
     "name": "stdout",
     "output_type": "stream",
     "text": [
      "[(0,\n",
      "  '0.049*\"kid\" + 0.027*\"year\" + 0.019*\"lol\" + 0.019*\"school\" + 0.018*\"mom\" + '\n",
      "  '0.016*\"parent\" + 0.013*\"class\" + 0.013*\"start\" + 0.013*\"husband\" + '\n",
      "  '0.013*\"family\"'),\n",
      " (1,\n",
      "  '0.051*\"friend\" + 0.041*\"time\" + 0.016*\"day\" + 0.015*\"place\" + 0.014*\"long\" '\n",
      "  '+ 0.013*\"end\" + 0.012*\"week\" + 0.011*\"live\" + 0.011*\"back\" + 0.010*\"month\"'),\n",
      " (2,\n",
      "  '0.040*\"love\" + 0.033*\"make\" + 0.032*\"good\" + 0.014*\"eat\" + 0.011*\"feel\" + '\n",
      "  '0.009*\"day\" + 0.009*\"pretty\" + 0.009*\"hear\" + 0.009*\"food\" + '\n",
      "  '0.008*\"listen\"'),\n",
      " (3,\n",
      "  '0.014*\"good\" + 0.013*\"run\" + 0.013*\"back\" + 0.011*\"happen\" + 0.011*\"turn\" + '\n",
      "  '0.010*\"phone\" + 0.009*\"game\" + 0.009*\"bad\" + 0.008*\"play\" + 0.008*\"car\"'),\n",
      " (4,\n",
      "  '0.090*\"people\" + 0.050*\"feel\" + 0.036*\"thing\" + 0.028*\"person\" + '\n",
      "  '0.027*\"life\" + 0.024*\"talk\" + 0.016*\"lot\" + 0.013*\"make\" + 0.011*\"friend\" + '\n",
      "  '0.010*\"bad\"'),\n",
      " (5,\n",
      "  '0.047*\"work\" + 0.041*\"good\" + 0.029*\"make\" + 0.029*\"thing\" + 0.027*\"time\" + '\n",
      "  '0.017*\"learn\" + 0.015*\"stuff\" + 0.015*\"love\" + 0.014*\"find\" + 0.011*\"give\"'),\n",
      " (6,\n",
      "  '0.037*\"guy\" + 0.024*\"show\" + 0.020*\"girl\" + 0.019*\"watch\" + 0.017*\"woman\" + '\n",
      "  '0.016*\"man\" + 0.015*\"date\" + 0.015*\"comment\" + 0.013*\"post\" + '\n",
      "  '0.011*\"boyfriend\"'),\n",
      " (7,\n",
      "  '0.034*\"people\" + 0.024*\"type\" + 0.014*\"thing\" + 0.011*\"idea\" + 0.011*\"lot\" '\n",
      "  '+ 0.011*\"find\" + 0.011*\"question\" + 0.010*\"understand\" + 0.010*\"esfj\" + '\n",
      "  '0.008*\"function\"'),\n",
      " (8,\n",
      "  '0.022*\"thing\" + 0.021*\"color\" + 0.017*\"lot\" + 0.016*\"url\" + 0.014*\"weird\" + '\n",
      "  '0.013*\"make\" + 0.012*\"change\" + 0.010*\"notice\" + 0.010*\"work\" + '\n",
      "  '0.009*\"wear\"'),\n",
      " (9,\n",
      "  '0.037*\"read\" + 0.022*\"book\" + 0.019*\"url\" + 0.012*\"write\" + 0.009*\"buy\" + '\n",
      "  '0.009*\"story\" + 0.007*\"great\" + 0.006*\"word\" + 0.006*\"list\" + 0.006*\"edit\"')]\n"
     ]
    }
   ],
   "source": [
    "# Select the model and print the topics\n",
    "optimal_model_esfj = model_list_esfj[0]\n",
    "model_topics = optimal_model_esfj.show_topics(formatted=False)\n",
    "pprint(optimal_model_esfj.print_topics(num_words=10))"
   ]
  },
  {
   "cell_type": "markdown",
   "metadata": {},
   "source": [
    "### Mallet Model\n",
    "\n",
    "Use Mallet wrapper to find better topics, and it is indeed much better than plain LDA."
   ]
  },
  {
   "cell_type": "code",
   "execution_count": 103,
   "metadata": {
    "ExecuteTime": {
     "end_time": "2019-12-10T02:05:16.142134Z",
     "start_time": "2019-12-10T02:02:26.732244Z"
    }
   },
   "outputs": [],
   "source": [
    "mallet_path = '../../mallet-2.0.8/bin/mallet' # update this path\n",
    "ldamallet_esfj = gensim.models.wrappers.LdaMallet(mallet_path, corpus=corp_esfj, num_topics=10, id2word=dct_esfj)"
   ]
  },
  {
   "cell_type": "code",
   "execution_count": 107,
   "metadata": {
    "ExecuteTime": {
     "end_time": "2019-12-10T02:10:53.465372Z",
     "start_time": "2019-12-10T02:08:31.339726Z"
    }
   },
   "outputs": [],
   "source": [
    "ldamallet_intp = gensim.models.wrappers.LdaMallet(mallet_path, corpus=corp_intp, num_topics=10, id2word=dct_intp)"
   ]
  },
  {
   "cell_type": "code",
   "execution_count": 104,
   "metadata": {
    "ExecuteTime": {
     "end_time": "2019-12-10T02:05:47.419267Z",
     "start_time": "2019-12-10T02:05:47.389681Z"
    },
    "scrolled": true
   },
   "outputs": [
    {
     "name": "stdout",
     "output_type": "stream",
     "text": [
      "[(0,\n",
      "  [('people', 0.039644162267911856),\n",
      "   ('feel', 0.039434990710322),\n",
      "   ('guy', 0.035103909047285074),\n",
      "   ('girl', 0.0188746570201666),\n",
      "   ('woman', 0.017841103441487333),\n",
      "   ('make', 0.017447368744847612),\n",
      "   ('life', 0.017102850885287856),\n",
      "   ('person', 0.015995472050988644),\n",
      "   ('man', 0.01565095419142889),\n",
      "   ('date', 0.01459279219420964)]),\n",
      " (1,\n",
      "  [('friend', 0.05263593282832461),\n",
      "   ('people', 0.05121781160259516),\n",
      "   ('love', 0.042744537278861724),\n",
      "   ('time', 0.03396400335622023),\n",
      "   ('talk', 0.0322622578853449),\n",
      "   ('thing', 0.02993417553977239),\n",
      "   ('make', 0.025549817416892186),\n",
      "   ('feel', 0.021874519906876708),\n",
      "   ('good', 0.01916827190110968),\n",
      "   ('lot', 0.018092863304931518)]),\n",
      " (2,\n",
      "  [('work', 0.03111286363000369),\n",
      "   ('show', 0.020975107165116958),\n",
      "   ('year', 0.020644389890227304),\n",
      "   ('school', 0.01901624330615516),\n",
      "   ('good', 0.018939923935026776),\n",
      "   ('watch', 0.018863604563898392),\n",
      "   ('class', 0.018176730223742957),\n",
      "   ('make', 0.018100410852614573),\n",
      "   ('start', 0.013915565335741634),\n",
      "   ('end', 0.013432209318595215)]),\n",
      " (3,\n",
      "  [('read', 0.03687897679799473),\n",
      "   ('book', 0.02214795295327463),\n",
      "   ('comment', 0.01474387814126872),\n",
      "   ('post', 0.014396812134455941),\n",
      "   ('write', 0.012108747348801336),\n",
      "   ('story', 0.010874734880133685),\n",
      "   ('reddit', 0.008085352529082846),\n",
      "   ('character', 0.007339803329262806),\n",
      "   ('thread', 0.0069541744328041645),\n",
      "   ('word', 0.006941320136255543)]),\n",
      " (4,\n",
      "  [('eat', 0.014631607085074353),\n",
      "   ('haha', 0.0138718890248878),\n",
      "   ('love', 0.012394659463413948),\n",
      "   ('movie', 0.010973705313805765),\n",
      "   ('buy', 0.010270262665484883),\n",
      "   ('food', 0.00890558392774237),\n",
      "   ('sound', 0.007766006837462542),\n",
      "   ('awesome', 0.007386147807369265),\n",
      "   ('lt', 0.0070203576302424065),\n",
      "   ('song', 0.006190295305223765)]),\n",
      " (5,\n",
      "  [('thing', 0.029963602809247963),\n",
      "   ('color', 0.020120982211513816),\n",
      "   ('lot', 0.019851848054544523),\n",
      "   ('change', 0.01771159071102681),\n",
      "   ('work', 0.016532526785256574),\n",
      "   ('weird', 0.012046957502435023),\n",
      "   ('make', 0.011098579996924181),\n",
      "   ('problem', 0.01020146614035987),\n",
      "   ('time', 0.009893884246680678),\n",
      "   ('stuff', 0.009355615932742093)]),\n",
      " (6,\n",
      "  [('kid', 0.050022105728541655),\n",
      "   ('lol', 0.0208930714330828),\n",
      "   ('mom', 0.01813932924903682),\n",
      "   ('parent', 0.016572980483799658),\n",
      "   ('play', 0.015625592117728793),\n",
      "   ('husband', 0.014703467441419819),\n",
      "   ('family', 0.012922377313206593),\n",
      "   ('stop', 0.011469715151897935),\n",
      "   ('son', 0.011040232425945809),\n",
      "   ('cool', 0.009764416092970378)]),\n",
      " (7,\n",
      "  [('people', 0.0343382022101994),\n",
      "   ('thing', 0.02710621906653644),\n",
      "   ('type', 0.02274947049592309),\n",
      "   ('feel', 0.010568133182621292),\n",
      "   ('idea', 0.01054618482710183),\n",
      "   ('experience', 0.009734095672881709),\n",
      "   ('esfj', 0.009701173139602516),\n",
      "   ('understand', 0.00860375536362938),\n",
      "   ('lot', 0.008142839897720664),\n",
      "   ('find', 0.007912382164766306)]),\n",
      " (8,\n",
      "  [('time', 0.03620541335760326),\n",
      "   ('day', 0.028350933187048837),\n",
      "   ('back', 0.02584497998977671),\n",
      "   ('live', 0.017491802665536287),\n",
      "   ('long', 0.013003528282362328),\n",
      "   ('run', 0.012554700844044933),\n",
      "   ('place', 0.012442493984465584),\n",
      "   ('week', 0.01175678539814734),\n",
      "   ('move', 0.01168198082509444),\n",
      "   ('wait', 0.011008739667618348)]),\n",
      " (9,\n",
      "  [('good', 0.050521063078958976),\n",
      "   ('url', 0.029361490957212175),\n",
      "   ('make', 0.02606693868548743),\n",
      "   ('yeah', 0.02576367445963829),\n",
      "   ('pretty', 0.020870092633436258),\n",
      "   ('find', 0.020139501543890603),\n",
      "   ('give', 0.0125992501102779),\n",
      "   ('bad', 0.012337340097044552),\n",
      "   ('great', 0.0115929642699603),\n",
      "   ('guess', 0.010352337891486546)])]\n"
     ]
    }
   ],
   "source": [
    "# Show Topics - ESFJ\n",
    "pprint(ldamallet_esfj.show_topics(formatted=False))"
   ]
  },
  {
   "cell_type": "code",
   "execution_count": 108,
   "metadata": {
    "ExecuteTime": {
     "end_time": "2019-12-10T02:12:12.306165Z",
     "start_time": "2019-12-10T02:12:12.276336Z"
    },
    "scrolled": true
   },
   "outputs": [
    {
     "name": "stdout",
     "output_type": "stream",
     "text": [
      "[(0,\n",
      "  [('time', 0.03694628544437392),\n",
      "   ('day', 0.02163933458308117),\n",
      "   ('show', 0.018687174339823167),\n",
      "   ('year', 0.017653918254682863),\n",
      "   ('end', 0.016517336561028533),\n",
      "   ('start', 0.015956426114809512),\n",
      "   ('back', 0.013579937118986819),\n",
      "   ('watch', 0.011572468153571375),\n",
      "   ('great', 0.010347321652619304),\n",
      "   ('character', 0.009978301622212053)]),\n",
      " (1,\n",
      "  [('people', 0.055514534963218204),\n",
      "   ('man', 0.012306177701206006),\n",
      "   ('woman', 0.011950665900948943),\n",
      "   ('make', 0.009694533322394509),\n",
      "   ('state', 0.008040036098121256),\n",
      "   ('society', 0.007055541882024776),\n",
      "   ('problem', 0.007028194820466541),\n",
      "   ('call', 0.006535947712418301),\n",
      "   ('country', 0.005893291765799765),\n",
      "   ('government', 0.005852271173462411)]),\n",
      " (2,\n",
      "  [('money', 0.01270179055345891),\n",
      "   ('buy', 0.01073999567740112),\n",
      "   ('pay', 0.010606992634956524),\n",
      "   ('job', 0.008046684067898054),\n",
      "   ('car', 0.007414919616286222),\n",
      "   ('work', 0.00714891353139703),\n",
      "   ('gt', 0.0063342698964238804),\n",
      "   ('part', 0.005719130825117625),\n",
      "   ('company', 0.005569502402367454),\n",
      "   ('place', 0.0055196262614507306)]),\n",
      " (3,\n",
      "  [('url', 0.035913292749702064),\n",
      "   ('post', 0.021692917190066673),\n",
      "   ('yeah', 0.01893902792540342),\n",
      "   ('fuck', 0.01442973556221213),\n",
      "   ('shit', 0.013753341707733437),\n",
      "   ('read', 0.013382935549328437),\n",
      "   ('guy', 0.01165974168196605),\n",
      "   ('comment', 0.011289335523561053),\n",
      "   ('edit', 0.01109608013656714),\n",
      "   ('lol', 0.010033175508100622)]),\n",
      " (4,\n",
      "  [('people', 0.04774473495108065),\n",
      "   ('thing', 0.02249737438505334),\n",
      "   ('find', 0.02216571776021226),\n",
      "   ('good', 0.021239843015864242),\n",
      "   ('lot', 0.019139351058537393),\n",
      "   ('type', 0.0189873417721519),\n",
      "   ('intp', 0.014731081753358024),\n",
      "   ('make', 0.012893151290697031),\n",
      "   ('stuff', 0.01247858050964568),\n",
      "   ('learn', 0.011732353103753248)]),\n",
      " (5,\n",
      "  [('game', 0.028973438621679826),\n",
      "   ('play', 0.022124910265613782),\n",
      "   ('run', 0.01198851399856425),\n",
      "   ('good', 0.011213208901651112),\n",
      "   ('kill', 0.010653266331658291),\n",
      "   ('level', 0.00669059583632448),\n",
      "   ('player', 0.006288585786073223),\n",
      "   ('hit', 0.0062598707824838475),\n",
      "   ('lose', 0.006216798277099785),\n",
      "   ('team', 0.006101938262742283)]),\n",
      " (6,\n",
      "  [('thing', 0.03137610703355632),\n",
      "   ('work', 0.028112558567830348),\n",
      "   ('make', 0.026000054166779515),\n",
      "   ('change', 0.014476071825149636),\n",
      "   ('human', 0.010914606072095984),\n",
      "   ('life', 0.010779189123310674),\n",
      "   ('happen', 0.009709395227906726),\n",
      "   ('world', 0.008869810145437803),\n",
      "   ('time', 0.008788559976166618),\n",
      "   ('system', 0.007800016250033855)]),\n",
      " (7,\n",
      "  [('bad', 0.025014752659076843),\n",
      "   ('make', 0.021027936498798198),\n",
      "   ('talk', 0.019761366743908233),\n",
      "   ('love', 0.018091797521553276),\n",
      "   ('friend', 0.015069301515565854),\n",
      "   ('feel', 0.014954158810575857),\n",
      "   ('stop', 0.01368758905568589),\n",
      "   ('good', 0.013558053512572145),\n",
      "   ('life', 0.013442910807582148),\n",
      "   ('thing', 0.011888484290217188)]),\n",
      " (8,\n",
      "  [('gt', 0.03187969516990752),\n",
      "   ('point', 0.016353429338540396),\n",
      "   ('word', 0.01209557128522225),\n",
      "   ('fact', 0.010481924443359639),\n",
      "   ('agree', 0.010346323868413202),\n",
      "   ('god', 0.010183603178477477),\n",
      "   ('true', 0.010129362948498902),\n",
      "   ('wrong', 0.010075122718520327),\n",
      "   ('reason', 0.009817481626122095),\n",
      "   ('understand', 0.008502156049141648)]),\n",
      " (9,\n",
      "  [('make', 0.012484221544903175),\n",
      "   ('nice', 0.01154521104645793),\n",
      "   ('good', 0.01128351959607155),\n",
      "   ('put', 0.010606200548012683),\n",
      "   ('sound', 0.010359902712354915),\n",
      "   ('cool', 0.00891290292786552),\n",
      "   ('big', 0.008389520027092761),\n",
      "   ('pretty', 0.008035466888334718),\n",
      "   ('yeah', 0.007373541455004464),\n",
      "   ('bit', 0.006850158554231705)])]\n"
     ]
    }
   ],
   "source": [
    "# Show Topics - INTP\n",
    "pprint(ldamallet_intp.show_topics(formatted=False))"
   ]
  },
  {
   "cell_type": "code",
   "execution_count": 109,
   "metadata": {
    "ExecuteTime": {
     "end_time": "2019-12-10T02:13:52.378405Z",
     "start_time": "2019-12-10T02:13:33.281582Z"
    },
    "scrolled": false
   },
   "outputs": [
    {
     "name": "stdout",
     "output_type": "stream",
     "text": [
      "\n",
      " ESFJ Coherence Score:  0.49884616111697466\n",
      "\n",
      " ESFJ Coherence Score:  0.49884616111697466\n"
     ]
    }
   ],
   "source": [
    "# Compute Coherence Score\n",
    "coherence_model_ldamallet_esfj = CoherenceModel(model=ldamallet_esfj, texts=processed_bigram_esfj, dictionary=dct_esfj, coherence='c_v')\n",
    "coherence_ldamallet_esfj = coherence_model_ldamallet_esfj.get_coherence()\n",
    "print('\\n ESFJ Coherence Score: ', coherence_ldamallet_esfj)\n",
    "\n",
    "coherence_model_ldamallet_intp = CoherenceModel(model=ldamallet_intp, texts=processed_bigram_intp, dictionary=dct_esfj, coherence='c_v')\n",
    "coherence_ldamallet_esfj = coherence_model_ldamallet_esfj.get_coherence()\n",
    "print('\\n ESFJ Coherence Score: ', coherence_ldamallet_esfj)"
   ]
  },
  {
   "cell_type": "markdown",
   "metadata": {},
   "source": [
    "Because PyLDAvis only supports lda models, thus I used the function below to convert Mallet models to regular LDA models for visualisation. "
   ]
  },
  {
   "cell_type": "code",
   "execution_count": 125,
   "metadata": {
    "ExecuteTime": {
     "end_time": "2019-12-10T03:14:32.991856Z",
     "start_time": "2019-12-10T03:14:32.986493Z"
    }
   },
   "outputs": [],
   "source": [
    "# function to convert Mallet model to LDA to be used in visualization \n",
    "\n",
    "def mallet_to_lda(mallet_model):\n",
    "    model_gensim = LdaModel(\n",
    "        id2word=mallet_model.id2word, num_topics=mallet_model.num_topics,\n",
    "        alpha=mallet_model.alpha, eta=0, iterations=1000,\n",
    "        gamma_threshold=0.001,\n",
    "        dtype=np.float32\n",
    "    )\n",
    "    model_gensim.sync_state()\n",
    "    model_gensim.state.sstats = mallet_model.wordtopics\n",
    "    return model_gensim"
   ]
  },
  {
   "cell_type": "code",
   "execution_count": 129,
   "metadata": {
    "ExecuteTime": {
     "end_time": "2019-12-10T03:16:49.816860Z",
     "start_time": "2019-12-10T03:16:49.399706Z"
    }
   },
   "outputs": [],
   "source": [
    "# convert ldamallet models to lda models for visualization \n",
    "lda_ldamallet_esfj = mallet_to_lda(ldamallet_esfj)\n",
    "lda_ldamallet_intp = mallet_to_lda(ldamallet_intp)"
   ]
  },
  {
   "cell_type": "code",
   "execution_count": 131,
   "metadata": {
    "ExecuteTime": {
     "end_time": "2019-12-10T04:11:04.745872Z",
     "start_time": "2019-12-10T04:11:04.482332Z"
    }
   },
   "outputs": [],
   "source": [
    "# save the converted model\n",
    "lda_ldamallet_esfj.save('lda_ldamallet_esfj.model')\n",
    "lda_ldamallet_intp.save('lda_ldamallet_intp.model')"
   ]
  },
  {
   "cell_type": "markdown",
   "metadata": {},
   "source": [
    "### Visualise Topics - keywords & topics\n",
    "\n",
    "These visualizations are amazing! And they provided useful insights into the user behaviours of INTP and ESFJ users. They do actually have different interests on Reddit. I have attached the two html visualisations in the zip file. The INTP people are the rational ones, they talk about money/gaming/psychology... on the other hand ESFJ people like to openly discuss relationship issues including dating life/friendship/family/appearces etc... This in a way proves that the self-identified personality indicators is at least a bit right."
   ]
  },
  {
   "cell_type": "code",
   "execution_count": 18,
   "metadata": {},
   "outputs": [
    {
     "name": "stdout",
     "output_type": "stream",
     "text": [
      "Requirement already satisfied: pyLDAvis in /home/ec2-user/anaconda3/envs/python3/lib/python3.6/site-packages (2.1.2)\r\n",
      "Requirement already satisfied: pytest in /home/ec2-user/anaconda3/envs/python3/lib/python3.6/site-packages (from pyLDAvis) (3.5.1)\r\n",
      "Requirement already satisfied: jinja2>=2.7.2 in /home/ec2-user/anaconda3/envs/python3/lib/python3.6/site-packages (from pyLDAvis) (2.10)\r\n",
      "Requirement already satisfied: numexpr in /home/ec2-user/anaconda3/envs/python3/lib/python3.6/site-packages (from pyLDAvis) (2.6.5)\r\n",
      "Requirement already satisfied: funcy in /home/ec2-user/anaconda3/envs/python3/lib/python3.6/site-packages (from pyLDAvis) (1.14)\r\n",
      "Requirement already satisfied: numpy>=1.9.2 in /home/ec2-user/anaconda3/envs/python3/lib/python3.6/site-packages (from pyLDAvis) (1.17.4)\r\n",
      "Requirement already satisfied: wheel>=0.23.0 in /home/ec2-user/anaconda3/envs/python3/lib/python3.6/site-packages (from pyLDAvis) (0.31.1)\r\n",
      "Requirement already satisfied: future in /home/ec2-user/anaconda3/envs/python3/lib/python3.6/site-packages (from pyLDAvis) (0.18.2)\r\n",
      "Requirement already satisfied: pandas>=0.17.0 in /home/ec2-user/anaconda3/envs/python3/lib/python3.6/site-packages (from pyLDAvis) (0.24.2)\r\n",
      "Requirement already satisfied: scipy>=0.18.0 in /home/ec2-user/anaconda3/envs/python3/lib/python3.6/site-packages (from pyLDAvis) (1.1.0)\r\n",
      "Requirement already satisfied: joblib>=0.8.4 in /home/ec2-user/anaconda3/envs/python3/lib/python3.6/site-packages (from pyLDAvis) (0.14.0)\r\n",
      "Requirement already satisfied: py>=1.5.0 in /home/ec2-user/anaconda3/envs/python3/lib/python3.6/site-packages (from pytest->pyLDAvis) (1.5.3)\r\n",
      "Requirement already satisfied: six>=1.10.0 in /home/ec2-user/anaconda3/envs/python3/lib/python3.6/site-packages (from pytest->pyLDAvis) (1.11.0)\r\n",
      "Requirement already satisfied: setuptools in /home/ec2-user/anaconda3/envs/python3/lib/python3.6/site-packages (from pytest->pyLDAvis) (39.1.0)\r\n",
      "Requirement already satisfied: attrs>=17.4.0 in /home/ec2-user/anaconda3/envs/python3/lib/python3.6/site-packages (from pytest->pyLDAvis) (18.1.0)\r\n",
      "Requirement already satisfied: more-itertools>=4.0.0 in /home/ec2-user/anaconda3/envs/python3/lib/python3.6/site-packages (from pytest->pyLDAvis) (4.1.0)\r\n",
      "Requirement already satisfied: pluggy<0.7,>=0.5 in /home/ec2-user/anaconda3/envs/python3/lib/python3.6/site-packages (from pytest->pyLDAvis) (0.6.0)\r\n",
      "Requirement already satisfied: MarkupSafe>=0.23 in /home/ec2-user/anaconda3/envs/python3/lib/python3.6/site-packages (from jinja2>=2.7.2->pyLDAvis) (1.0)\r\n",
      "Requirement already satisfied: pytz>=2011k in /home/ec2-user/anaconda3/envs/python3/lib/python3.6/site-packages (from pandas>=0.17.0->pyLDAvis) (2018.4)\r\n",
      "Requirement already satisfied: python-dateutil>=2.5.0 in /home/ec2-user/anaconda3/envs/python3/lib/python3.6/site-packages (from pandas>=0.17.0->pyLDAvis) (2.7.3)\r\n"
     ]
    }
   ],
   "source": [
    "! pip install pyLDAvis"
   ]
  },
  {
   "cell_type": "code",
   "execution_count": 20,
   "metadata": {
    "ExecuteTime": {
     "end_time": "2019-12-10T04:09:47.466429Z",
     "start_time": "2019-12-10T03:17:32.777000Z"
    }
   },
   "outputs": [
    {
     "name": "stderr",
     "output_type": "stream",
     "text": [
      "/home/ec2-user/anaconda3/envs/python3/lib/python3.6/site-packages/pyLDAvis/_prepare.py:223: RuntimeWarning: divide by zero encountered in log\n",
      "  kernel = (topic_given_term * np.log((topic_given_term.T / topic_proportion).T))\n",
      "/home/ec2-user/anaconda3/envs/python3/lib/python3.6/site-packages/pyLDAvis/_prepare.py:240: RuntimeWarning: divide by zero encountered in log\n",
      "  log_lift = np.log(topic_term_dists / term_proportion)\n",
      "/home/ec2-user/anaconda3/envs/python3/lib/python3.6/site-packages/pyLDAvis/_prepare.py:241: RuntimeWarning: divide by zero encountered in log\n",
      "  log_ttd = np.log(topic_term_dists)\n",
      "/home/ec2-user/anaconda3/envs/python3/lib/python3.6/site-packages/pyLDAvis/_prepare.py:257: FutureWarning: Sorting because non-concatenation axis is not aligned. A future version\n",
      "of pandas will change to not sort by default.\n",
      "\n",
      "To accept the future behavior, pass 'sort=False'.\n",
      "\n",
      "To retain the current behavior and silence the warning, pass 'sort=True'.\n",
      "\n",
      "  return pd.concat([default_term_info] + list(topic_dfs))\n"
     ]
    }
   ],
   "source": [
    "# Visualize the topics\n",
    "pyLDAvis.enable_notebook()\n",
    "vis_esfj = pyLDAvis.gensim.prepare(lda_ldamallet_esfj, corp_esfj, dct_esfj)\n",
    "pyLDAvis.save_html(vis_esfj, 'lda_esfj.html')"
   ]
  },
  {
   "cell_type": "code",
   "execution_count": 21,
   "metadata": {
    "ExecuteTime": {
     "end_time": "2019-12-10T04:09:47.475107Z",
     "start_time": "2019-12-10T03:17:57.584Z"
    }
   },
   "outputs": [
    {
     "name": "stderr",
     "output_type": "stream",
     "text": [
      "/home/ec2-user/anaconda3/envs/python3/lib/python3.6/site-packages/pyLDAvis/_prepare.py:223: RuntimeWarning: divide by zero encountered in log\n",
      "  kernel = (topic_given_term * np.log((topic_given_term.T / topic_proportion).T))\n",
      "/home/ec2-user/anaconda3/envs/python3/lib/python3.6/site-packages/pyLDAvis/_prepare.py:240: RuntimeWarning: divide by zero encountered in log\n",
      "  log_lift = np.log(topic_term_dists / term_proportion)\n",
      "/home/ec2-user/anaconda3/envs/python3/lib/python3.6/site-packages/pyLDAvis/_prepare.py:241: RuntimeWarning: divide by zero encountered in log\n",
      "  log_ttd = np.log(topic_term_dists)\n",
      "/home/ec2-user/anaconda3/envs/python3/lib/python3.6/site-packages/pyLDAvis/_prepare.py:257: FutureWarning: Sorting because non-concatenation axis is not aligned. A future version\n",
      "of pandas will change to not sort by default.\n",
      "\n",
      "To accept the future behavior, pass 'sort=False'.\n",
      "\n",
      "To retain the current behavior and silence the warning, pass 'sort=True'.\n",
      "\n",
      "  return pd.concat([default_term_info] + list(topic_dfs))\n"
     ]
    }
   ],
   "source": [
    "# Visualize the topics\n",
    "pyLDAvis.enable_notebook()\n",
    "vis_intp = pyLDAvis.gensim.prepare(lda_ldamallet_intp, corp_intp, dct_intp)\n",
    "pyLDAvis.save_html(vis_intp, 'lda_intp.html')"
   ]
  },
  {
   "cell_type": "markdown",
   "metadata": {},
   "source": [
    "## Limitations\n",
    "\n",
    "There are many bias and subjective decisions in the process of this project, but  to be honest, the project is based on very biased and subjective data. I made some calls with the dataset, and one of the decisions end up hurting the performance of the models. \n",
    "\n",
    "There are limitations on the dataset too. User comments, especially reddit comments are extremely informal, the grammar and the spelling is poor, and there are often internet slang/emoji peppered throughout the documents. It proves to be difficult even after I processed it using different tools, almost bleached it in the end. \n",
    "\n",
    "\n",
    "## Future Improvements\n",
    "\n",
    "There are many improvements I can see happening here. \n",
    "First, I did not get a chance to work more on LSTM and word embedding which might help with the accuracy of the models. This is the next thing I’m going to learn and work on. \n",
    "\n",
    "Second, to be able to use Hadoop and MapReduce would help with the volume of the dataset. I know we touched upon this during class, however, more lessons are needed. \n",
    "\n",
    "\n",
    "## Conclusion\n",
    "\n",
    "### In response to hypothesised outcomes in proposal: \n",
    "\n",
    "1. Personality Classifier: The model would be able to take a comment and predict what personality the commenter is. However, due to the imbalance in the data and the number of classes, I don’t think the accuracy will be very high. \n",
    "\t\n",
    "**Reality:** Well,  at least I foresaw the terrible accuracy. But I was not able to build an input function for testing user real-time input.  The accuracy of the models are all relatively low. The best model is Logistic Regression before I under sample the data, it achieved 21% accuracy on precision/recall. Another promising model is FastText, even on the under sampled data, it achieved 19% accuracy. I will play with it more to see if it can go higher on original data. \n",
    "\n",
    "2. User segmentation: Ideally the model will be able to find some clear clusters using the text data and personalities. Then I would be able to relate them to the subreddit and build a persona for reddit users. \n",
    "\n",
    "**Reality:** I didn’t use unsupervised model for this, instead I used LDA topic modelling for different personality types. They actually came out great. I think it is possible to cross-reference the LDA topics / subreddits/ MBTI types to build a complete picture of the user behaviours. \n",
    "\n",
    "3. Overview of the Reddit: People with what kind of personalities like to use Reddit more? Is there any relationship between personalities and subreddits? \n",
    "\n",
    "**Reality:** I didn’t get a chance to explore anything related to subreddits. However, from the data, it’s plain to see that people with certain personalities ( INFP, INTP, INFJ, ENTJ..) like to post on Reddit more than others. Funny how internet is the playground of introverts.  \n",
    "\n",
    "### This NLP Journey\n",
    "\n",
    "Looking back, there are decisions I regret but in the end, these are valuable lessons. Even though NLP might not look as sophisticated as image recognition CNNs, it is one of the most important tools in tackling the largest format of unstructured data out there - text data. Users generate trillions of text everyday on the internet, it is one of the biggest data and it contains valuable information. I see NLP as gold panning, it’s a lot of hard work for those few nuggets that’s highly valuable. \n",
    "\n",
    "Well, in conclusion, no regrets. "
   ]
  }
 ],
 "metadata": {
  "kernelspec": {
   "display_name": "Python 3",
   "language": "python",
   "name": "python3"
  },
  "language_info": {
   "codemirror_mode": {
    "name": "ipython",
    "version": 3
   },
   "file_extension": ".py",
   "mimetype": "text/x-python",
   "name": "python",
   "nbconvert_exporter": "python",
   "pygments_lexer": "ipython3",
   "version": "3.7.1"
  },
  "toc": {
   "base_numbering": 1,
   "nav_menu": {},
   "number_sections": true,
   "sideBar": true,
   "skip_h1_title": true,
   "title_cell": "Table of Contents",
   "title_sidebar": "Contents",
   "toc_cell": false,
   "toc_position": {
    "height": "calc(100% - 180px)",
    "left": "10px",
    "top": "150px",
    "width": "283.797px"
   },
   "toc_section_display": true,
   "toc_window_display": true
  }
 },
 "nbformat": 4,
 "nbformat_minor": 2
}
