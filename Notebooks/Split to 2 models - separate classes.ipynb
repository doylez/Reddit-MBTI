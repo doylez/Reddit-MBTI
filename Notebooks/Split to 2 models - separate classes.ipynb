{
 "cells": [
  {
   "cell_type": "code",
   "execution_count": 9,
   "metadata": {
    "ExecuteTime": {
     "end_time": "2019-12-06T05:39:01.827754Z",
     "start_time": "2019-12-06T05:39:01.231359Z"
    }
   },
   "outputs": [
    {
     "name": "stderr",
     "output_type": "stream",
     "text": [
      "[nltk_data] Downloading package stopwords to\n",
      "[nltk_data]     /Users/Doylism/nltk_data...\n",
      "[nltk_data]   Package stopwords is already up-to-date!\n"
     ]
    }
   ],
   "source": [
    "#Importing our Basic Packages\n",
    "import pandas as pd\n",
    "import numpy as np\n",
    "import matplotlib.pyplot as plt \n",
    "\n",
    "from collections import Counter\n",
    "\n",
    "import re\n",
    "\n",
    "# regular package \n",
    "import pandas as pd\n",
    "import numpy as np\n",
    "import matplotlib.pyplot as plt\n",
    "import seaborn as sns\n",
    "import re \n",
    "import os\n",
    "import string\n",
    "\n",
    "\n",
    "# nltk \n",
    "import nltk \n",
    "from nltk.corpus import stopwords\n",
    "from nltk.stem import SnowballStemmer\n",
    "from nltk.tokenize import word_tokenize\n",
    "nltk.download('stopwords')\n",
    "\n",
    "# sklearn\n",
    "from sklearn.model_selection import train_test_split\n",
    "from sklearn.naive_bayes import MultinomialNB\n",
    "from sklearn.pipeline import Pipeline\n",
    "from sklearn.feature_extraction.text import CountVectorizer, TfidfVectorizer\n",
    "from sklearn.metrics import classification_report\n",
    "from sklearn.linear_model import SGDClassifier\n",
    "from sklearn.linear_model import LogisticRegression\n",
    "from sklearn.ensemble import RandomForestClassifier\n",
    "from sklearn.model_selection import GridSearchCV\n",
    "from xgboost import XGBClassifier"
   ]
  },
  {
   "cell_type": "code",
   "execution_count": 62,
   "metadata": {
    "ExecuteTime": {
     "end_time": "2019-12-06T15:23:18.885399Z",
     "start_time": "2019-12-06T15:23:07.049476Z"
    }
   },
   "outputs": [
    {
     "name": "stderr",
     "output_type": "stream",
     "text": [
      "/anaconda3/lib/python3.7/site-packages/numpy/lib/arraysetops.py:568: FutureWarning: elementwise comparison failed; returning scalar instead, but in the future will perform elementwise comparison\n",
      "  mask |= (ar1 == a)\n"
     ]
    }
   ],
   "source": [
    "# load in the data\n",
    "df = pd.read_csv('../../clean_data/further_clean1206.csv', index_col=0)"
   ]
  },
  {
   "cell_type": "markdown",
   "metadata": {},
   "source": [
    "### What if we turn this into 4 binary classification? "
   ]
  },
  {
   "cell_type": "code",
   "execution_count": 63,
   "metadata": {
    "ExecuteTime": {
     "end_time": "2019-12-06T15:23:30.402598Z",
     "start_time": "2019-12-06T15:23:21.436750Z"
    }
   },
   "outputs": [],
   "source": [
    "df['I/E'] = df['MBTI'].str[0]\n",
    "df['N/S'] = df['MBTI'].str[1]\n",
    "df['T/F'] = df['MBTI'].str[2]\n",
    "df['J/P'] = df['MBTI'].str[3]"
   ]
  },
  {
   "cell_type": "code",
   "execution_count": 56,
   "metadata": {
    "ExecuteTime": {
     "end_time": "2019-12-06T15:16:35.817000Z",
     "start_time": "2019-12-06T15:16:34.707240Z"
    }
   },
   "outputs": [],
   "source": [
    "# df = df.drop(['MBTI1', 'MBTI2'], axis=1)"
   ]
  },
  {
   "cell_type": "code",
   "execution_count": 65,
   "metadata": {
    "ExecuteTime": {
     "end_time": "2019-12-06T15:23:37.460094Z",
     "start_time": "2019-12-06T15:23:36.680167Z"
    }
   },
   "outputs": [],
   "source": [
    "# convert strings to binary classes\n",
    "IE = {'I':1, 'E':0}\n",
    "NS = {'N':1, 'S':0}\n",
    "TF = {'T':1, 'F':0}\n",
    "JP = {'J':1, 'P':0}\n",
    "\n",
    "df['I/E'] = df['I/E'].map(IE)\n",
    "df['N/S'] = df['N/S'].map(NS)\n",
    "df['T/F'] = df['T/F'].map(TF)\n",
    "df['J/P'] = df['J/P'].map(JP)"
   ]
  },
  {
   "cell_type": "code",
   "execution_count": 66,
   "metadata": {
    "ExecuteTime": {
     "end_time": "2019-12-06T15:23:42.412045Z",
     "start_time": "2019-12-06T15:23:42.393521Z"
    }
   },
   "outputs": [
    {
     "data": {
      "text/html": [
       "<div>\n",
       "<style scoped>\n",
       "    .dataframe tbody tr th:only-of-type {\n",
       "        vertical-align: middle;\n",
       "    }\n",
       "\n",
       "    .dataframe tbody tr th {\n",
       "        vertical-align: top;\n",
       "    }\n",
       "\n",
       "    .dataframe thead th {\n",
       "        text-align: right;\n",
       "    }\n",
       "</style>\n",
       "<table border=\"1\" class=\"dataframe\">\n",
       "  <thead>\n",
       "    <tr style=\"text-align: right;\">\n",
       "      <th></th>\n",
       "      <th>MBTI</th>\n",
       "      <th>comments_lemma</th>\n",
       "      <th>I/E</th>\n",
       "      <th>N/S</th>\n",
       "      <th>T/F</th>\n",
       "      <th>J/P</th>\n",
       "    </tr>\n",
       "  </thead>\n",
       "  <tbody>\n",
       "    <tr>\n",
       "      <td>0</td>\n",
       "      <td>INFP</td>\n",
       "      <td>lol that be why leave</td>\n",
       "      <td>1</td>\n",
       "      <td>1</td>\n",
       "      <td>0</td>\n",
       "      <td>0</td>\n",
       "    </tr>\n",
       "    <tr>\n",
       "      <td>1</td>\n",
       "      <td>INTP</td>\n",
       "      <td>be just about to post try tell people all the ...</td>\n",
       "      <td>1</td>\n",
       "      <td>1</td>\n",
       "      <td>1</td>\n",
       "      <td>0</td>\n",
       "    </tr>\n",
       "    <tr>\n",
       "      <td>2</td>\n",
       "      <td>INFP</td>\n",
       "      <td>first thought be pepsi or something probably n...</td>\n",
       "      <td>1</td>\n",
       "      <td>1</td>\n",
       "      <td>0</td>\n",
       "      <td>0</td>\n",
       "    </tr>\n",
       "    <tr>\n",
       "      <td>3</td>\n",
       "      <td>ENTP</td>\n",
       "      <td>not if the formula be something like every tim...</td>\n",
       "      <td>0</td>\n",
       "      <td>1</td>\n",
       "      <td>1</td>\n",
       "      <td>0</td>\n",
       "    </tr>\n",
       "    <tr>\n",
       "      <td>4</td>\n",
       "      <td>INTP</td>\n",
       "      <td>do this imply be five now</td>\n",
       "      <td>1</td>\n",
       "      <td>1</td>\n",
       "      <td>1</td>\n",
       "      <td>0</td>\n",
       "    </tr>\n",
       "    <tr>\n",
       "      <td>...</td>\n",
       "      <td>...</td>\n",
       "      <td>...</td>\n",
       "      <td>...</td>\n",
       "      <td>...</td>\n",
       "      <td>...</td>\n",
       "      <td>...</td>\n",
       "    </tr>\n",
       "    <tr>\n",
       "      <td>61912</td>\n",
       "      <td>ISFJ</td>\n",
       "      <td>have the same but with league of legends recen...</td>\n",
       "      <td>1</td>\n",
       "      <td>0</td>\n",
       "      <td>0</td>\n",
       "      <td>1</td>\n",
       "    </tr>\n",
       "    <tr>\n",
       "      <td>61913</td>\n",
       "      <td>ISTJ</td>\n",
       "      <td>take easy there no need to come in gun blaze w...</td>\n",
       "      <td>1</td>\n",
       "      <td>0</td>\n",
       "      <td>1</td>\n",
       "      <td>1</td>\n",
       "    </tr>\n",
       "    <tr>\n",
       "      <td>61914</td>\n",
       "      <td>ESFP</td>\n",
       "      <td>let remember that both country still have gain...</td>\n",
       "      <td>0</td>\n",
       "      <td>0</td>\n",
       "      <td>0</td>\n",
       "      <td>0</td>\n",
       "    </tr>\n",
       "    <tr>\n",
       "      <td>61915</td>\n",
       "      <td>ESTP</td>\n",
       "      <td>be on cfb and bigxii all the time man</td>\n",
       "      <td>0</td>\n",
       "      <td>0</td>\n",
       "      <td>1</td>\n",
       "      <td>0</td>\n",
       "    </tr>\n",
       "    <tr>\n",
       "      <td>61916</td>\n",
       "      <td>ESTP</td>\n",
       "      <td>fam be  w  do not know be most common but gues...</td>\n",
       "      <td>0</td>\n",
       "      <td>0</td>\n",
       "      <td>1</td>\n",
       "      <td>0</td>\n",
       "    </tr>\n",
       "  </tbody>\n",
       "</table>\n",
       "<p>2977657 rows × 6 columns</p>\n",
       "</div>"
      ],
      "text/plain": [
       "       MBTI                                     comments_lemma  I/E  N/S  T/F  \\\n",
       "0      INFP                              lol that be why leave    1    1    0   \n",
       "1      INTP  be just about to post try tell people all the ...    1    1    1   \n",
       "2      INFP  first thought be pepsi or something probably n...    1    1    0   \n",
       "3      ENTP  not if the formula be something like every tim...    0    1    1   \n",
       "4      INTP                          do this imply be five now    1    1    1   \n",
       "...     ...                                                ...  ...  ...  ...   \n",
       "61912  ISFJ  have the same but with league of legends recen...    1    0    0   \n",
       "61913  ISTJ  take easy there no need to come in gun blaze w...    1    0    1   \n",
       "61914  ESFP  let remember that both country still have gain...    0    0    0   \n",
       "61915  ESTP              be on cfb and bigxii all the time man    0    0    1   \n",
       "61916  ESTP  fam be  w  do not know be most common but gues...    0    0    1   \n",
       "\n",
       "       J/P  \n",
       "0        0  \n",
       "1        0  \n",
       "2        0  \n",
       "3        0  \n",
       "4        0  \n",
       "...    ...  \n",
       "61912    1  \n",
       "61913    1  \n",
       "61914    0  \n",
       "61915    0  \n",
       "61916    0  \n",
       "\n",
       "[2977657 rows x 6 columns]"
      ]
     },
     "execution_count": 66,
     "metadata": {},
     "output_type": "execute_result"
    }
   ],
   "source": [
    "df"
   ]
  },
  {
   "cell_type": "code",
   "execution_count": 67,
   "metadata": {
    "ExecuteTime": {
     "end_time": "2019-12-06T15:24:43.863196Z",
     "start_time": "2019-12-06T15:23:57.365424Z"
    }
   },
   "outputs": [],
   "source": [
    "# save new csv file \n",
    "df.to_csv('../../clean_data/split_classes.csv')"
   ]
  },
  {
   "cell_type": "code",
   "execution_count": 68,
   "metadata": {
    "ExecuteTime": {
     "end_time": "2019-12-06T15:25:24.700889Z",
     "start_time": "2019-12-06T15:25:24.641695Z"
    }
   },
   "outputs": [
    {
     "data": {
      "text/plain": [
       "1    1731134\n",
       "0    1246523\n",
       "Name: I/E, dtype: int64"
      ]
     },
     "execution_count": 68,
     "metadata": {},
     "output_type": "execute_result"
    }
   ],
   "source": [
    "# IE\n",
    "display(df['I/E'].value_counts())"
   ]
  },
  {
   "cell_type": "code",
   "execution_count": 69,
   "metadata": {
    "ExecuteTime": {
     "end_time": "2019-12-06T15:26:15.543352Z",
     "start_time": "2019-12-06T15:26:15.492746Z"
    }
   },
   "outputs": [
    {
     "data": {
      "text/plain": [
       "1    1918260\n",
       "0    1059397\n",
       "Name: N/S, dtype: int64"
      ]
     },
     "metadata": {},
     "output_type": "display_data"
    }
   ],
   "source": [
    "# NS\n",
    "display(df['N/S'].value_counts())\n"
   ]
  },
  {
   "cell_type": "code",
   "execution_count": 70,
   "metadata": {
    "ExecuteTime": {
     "end_time": "2019-12-06T15:26:40.203389Z",
     "start_time": "2019-12-06T15:26:40.160774Z"
    }
   },
   "outputs": [
    {
     "data": {
      "text/plain": [
       "1    1586988\n",
       "0    1390669\n",
       "Name: T/F, dtype: int64"
      ]
     },
     "metadata": {},
     "output_type": "display_data"
    }
   ],
   "source": [
    "# TF\n",
    "display(df['T/F'].value_counts())\n"
   ]
  },
  {
   "cell_type": "code",
   "execution_count": 71,
   "metadata": {
    "ExecuteTime": {
     "end_time": "2019-12-06T15:26:53.533406Z",
     "start_time": "2019-12-06T15:26:53.483447Z"
    }
   },
   "outputs": [
    {
     "data": {
      "text/plain": [
       "0    1627681\n",
       "1    1349976\n",
       "Name: J/P, dtype: int64"
      ]
     },
     "metadata": {},
     "output_type": "display_data"
    }
   ],
   "source": [
    "# JP\n",
    "display(df['J/P'].value_counts())\n"
   ]
  },
  {
   "cell_type": "markdown",
   "metadata": {},
   "source": [
    "### Up and downsample MBTI1  - probably not "
   ]
  },
  {
   "cell_type": "markdown",
   "metadata": {},
   "source": [
    "### Some EDAs for both sets"
   ]
  },
  {
   "cell_type": "code",
   "execution_count": 83,
   "metadata": {
    "ExecuteTime": {
     "end_time": "2019-12-06T15:49:14.914664Z",
     "start_time": "2019-12-06T15:49:13.447228Z"
    }
   },
   "outputs": [
    {
     "data": {
      "image/png": "[encoded data removed]",
      "text/plain": [
       "<Figure size 864x864 with 4 Axes>"
      ]
     },
     "metadata": {
      "needs_background": "light"
     },
     "output_type": "display_data"
    }
   ],
   "source": [
    "ax = plt.subplots(2,2, figsize=(12,12))\n",
    "\n",
    "plt.subplot(2,2,1)\n",
    "g = sns.countplot(data=df, x='I/E', order = df['I/E'].value_counts().index)\n",
    "plt.ylabel('counts')\n",
    "g.set_xticklabels({1:'I', 0:'E'})\n",
    "\n",
    "plt.subplot(2,2,2)\n",
    "g= sns.countplot(data=df, x='N/S', order = df['N/S'].value_counts().index)\n",
    "g.set_xticklabels({1:'N', 0:'S'})\n",
    "\n",
    "plt.subplot(2,2,3)\n",
    "g = sns.countplot(data=df, x='T/F', order = df['T/F'].value_counts().index)\n",
    "plt.ylabel('counts')\n",
    "g.set_xticklabels({1:'T', 0:'F'})\n",
    "\n",
    "plt.subplot(2,2,4)\n",
    "g = sns.countplot(data=df, x='J/P', order = df['J/P'].value_counts().index)\n",
    "g.set_xticklabels({1:'J', 0:'P'})\n",
    "\n",
    "plt.tight_layout\n",
    "\n",
    "plt.show()"
   ]
  }
 ],
 "metadata": {
  "kernelspec": {
   "display_name": "Python 3",
   "language": "python",
   "name": "python3"
  },
  "language_info": {
   "codemirror_mode": {
    "name": "ipython",
    "version": 3
   },
   "file_extension": ".py",
   "mimetype": "text/x-python",
   "name": "python",
   "nbconvert_exporter": "python",
   "pygments_lexer": "ipython3",
   "version": "3.7.1"
  },
  "toc": {
   "base_numbering": 1,
   "nav_menu": {},
   "number_sections": true,
   "sideBar": true,
   "skip_h1_title": true,
   "title_cell": "Table of Contents",
   "title_sidebar": "Contents",
   "toc_cell": false,
   "toc_position": {},
   "toc_section_display": true,
   "toc_window_display": false
  }
 },
 "nbformat": 4,
 "nbformat_minor": 2
}
