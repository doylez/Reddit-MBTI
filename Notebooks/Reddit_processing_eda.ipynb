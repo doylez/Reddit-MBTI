{
 "cells": [
  {
   "cell_type": "markdown",
   "metadata": {},
   "source": [
    "## More Pre-processing "
   ]
  },
  {
   "cell_type": "code",
   "execution_count": 3,
   "metadata": {
    "ExecuteTime": {
     "end_time": "2019-12-03T20:34:05.845915Z",
     "start_time": "2019-12-03T20:34:03.725607Z"
    }
   },
   "outputs": [],
   "source": [
    "import pandas as pd\n",
    "import numpy as np\n",
    "import matplotlib.pyplot as plt\n",
    "import seaborn as sns"
   ]
  },
  {
   "cell_type": "markdown",
   "metadata": {},
   "source": [
    "### Read in multiple files "
   ]
  },
  {
   "cell_type": "code",
   "execution_count": 4,
   "metadata": {
    "ExecuteTime": {
     "end_time": "2019-12-03T20:34:05.859399Z",
     "start_time": "2019-12-03T20:34:05.849923Z"
    }
   },
   "outputs": [
    {
     "name": "stdout",
     "output_type": "stream",
     "text": [
      "['../../original_data/mbti_reddit_clean1.csv', '../../original_data/mbti_reddit_clean10.csv', '../../original_data/mbti_reddit_clean11.csv', '../../original_data/mbti_reddit_clean12.csv', '../../original_data/mbti_reddit_clean13.csv', '../../original_data/mbti_reddit_clean14.csv', '../../original_data/mbti_reddit_clean15.csv', '../../original_data/mbti_reddit_clean16.csv', '../../original_data/mbti_reddit_clean17.csv', '../../original_data/mbti_reddit_clean18.csv', '../../original_data/mbti_reddit_clean2.csv', '../../original_data/mbti_reddit_clean3.csv', '../../original_data/mbti_reddit_clean4.csv', '../../original_data/mbti_reddit_clean5.csv', '../../original_data/mbti_reddit_clean6.csv', '../../original_data/mbti_reddit_clean7.csv', '../../original_data/mbti_reddit_clean9.csv']\n"
     ]
    }
   ],
   "source": [
    "# read in multiple files \n",
    "import glob\n",
    "\n",
    "datafiles = glob.glob('../../original_data/mbti_reddit_clean*.csv') #the * is a wildcard\n",
    "\n",
    "datafiles.sort() # must have this line to sort the names \n",
    "\n",
    "print(datafiles)"
   ]
  },
  {
   "cell_type": "code",
   "execution_count": 5,
   "metadata": {
    "ExecuteTime": {
     "end_time": "2019-12-03T20:34:23.003312Z",
     "start_time": "2019-12-03T20:34:05.862834Z"
    }
   },
   "outputs": [
    {
     "name": "stderr",
     "output_type": "stream",
     "text": [
      "/anaconda3/lib/python3.7/site-packages/ipykernel_launcher.py:2: FutureWarning: Sorting because non-concatenation axis is not aligned. A future version\n",
      "of pandas will change to not sort by default.\n",
      "\n",
      "To accept the future behavior, pass 'sort=False'.\n",
      "\n",
      "To retain the current behavior and silence the warning, pass 'sort=True'.\n",
      "\n",
      "  \n"
     ]
    }
   ],
   "source": [
    "# concat multiple files into one \n",
    "df_new = pd.concat((pd.read_csv(f, lineterminator='\\n') for f in datafiles))"
   ]
  },
  {
   "cell_type": "code",
   "execution_count": 6,
   "metadata": {
    "ExecuteTime": {
     "end_time": "2019-12-03T20:34:23.022757Z",
     "start_time": "2019-12-03T20:34:23.008500Z"
    }
   },
   "outputs": [
    {
     "data": {
      "text/plain": [
       "(3004071, 7)"
      ]
     },
     "execution_count": 6,
     "metadata": {},
     "output_type": "execute_result"
    }
   ],
   "source": [
    "# check rows and shape \n",
    "df_new.shape"
   ]
  },
  {
   "cell_type": "code",
   "execution_count": 7,
   "metadata": {
    "ExecuteTime": {
     "end_time": "2019-12-03T20:34:23.064204Z",
     "start_time": "2019-12-03T20:34:23.027991Z"
    },
    "scrolled": true
   },
   "outputs": [
    {
     "data": {
      "text/html": [
       "<div>\n",
       "<style scoped>\n",
       "    .dataframe tbody tr th:only-of-type {\n",
       "        vertical-align: middle;\n",
       "    }\n",
       "\n",
       "    .dataframe tbody tr th {\n",
       "        vertical-align: top;\n",
       "    }\n",
       "\n",
       "    .dataframe thead th {\n",
       "        text-align: right;\n",
       "    }\n",
       "</style>\n",
       "<table border=\"1\" class=\"dataframe\">\n",
       "  <thead>\n",
       "    <tr style=\"text-align: right;\">\n",
       "      <th></th>\n",
       "      <th>MBTI</th>\n",
       "      <th>Unnamed: 0</th>\n",
       "      <th>comments</th>\n",
       "      <th>flair</th>\n",
       "      <th>index</th>\n",
       "      <th>subreddit</th>\n",
       "      <th>username</th>\n",
       "    </tr>\n",
       "  </thead>\n",
       "  <tbody>\n",
       "    <tr>\n",
       "      <td>0</td>\n",
       "      <td>INFP</td>\n",
       "      <td>0</td>\n",
       "      <td>Lol that's why I left.</td>\n",
       "      <td>INFP: The Dreamer Senpai</td>\n",
       "      <td>NaN</td>\n",
       "      <td>entp</td>\n",
       "      <td>LadyBanterbury</td>\n",
       "    </tr>\n",
       "    <tr>\n",
       "      <td>1</td>\n",
       "      <td>INTP</td>\n",
       "      <td>1</td>\n",
       "      <td>I was just about to post \"I try telling people...</td>\n",
       "      <td>INTP: The Theorist</td>\n",
       "      <td>NaN</td>\n",
       "      <td>INTP</td>\n",
       "      <td>Finarin</td>\n",
       "    </tr>\n",
       "    <tr>\n",
       "      <td>2</td>\n",
       "      <td>INFP</td>\n",
       "      <td>2</td>\n",
       "      <td>My first thought was Pepsi or something. Proba...</td>\n",
       "      <td>INFP: The Dreamer</td>\n",
       "      <td>NaN</td>\n",
       "      <td>WTF</td>\n",
       "      <td>xanplease</td>\n",
       "    </tr>\n",
       "    <tr>\n",
       "      <td>3</td>\n",
       "      <td>ENTP</td>\n",
       "      <td>3</td>\n",
       "      <td>Not if the formula is something like \"every ti...</td>\n",
       "      <td>ENTP: Antisocial Extrovert, Rational Eccentric</td>\n",
       "      <td>NaN</td>\n",
       "      <td>youtubehaiku</td>\n",
       "      <td>HeirToGallifrey</td>\n",
       "    </tr>\n",
       "    <tr>\n",
       "      <td>4</td>\n",
       "      <td>INTP</td>\n",
       "      <td>4</td>\n",
       "      <td>Does this imply I'm a five now?</td>\n",
       "      <td>INTP/18/m/blankly staring at you</td>\n",
       "      <td>NaN</td>\n",
       "      <td>entp</td>\n",
       "      <td>lightfive</td>\n",
       "    </tr>\n",
       "    <tr>\n",
       "      <td>5</td>\n",
       "      <td>INTP</td>\n",
       "      <td>5</td>\n",
       "      <td>Well, I wouldn't know but I think there's a lo...</td>\n",
       "      <td>INTP: The Theorist</td>\n",
       "      <td>NaN</td>\n",
       "      <td>InternetIsBeautiful</td>\n",
       "      <td>ElementalVoltage</td>\n",
       "    </tr>\n",
       "    <tr>\n",
       "      <td>6</td>\n",
       "      <td>INFJ</td>\n",
       "      <td>6</td>\n",
       "      <td>sine na, support the directors, actors and oth...</td>\n",
       "      <td>The INFJ Dude</td>\n",
       "      <td>NaN</td>\n",
       "      <td>Philippines</td>\n",
       "      <td>BabyFlo70</td>\n",
       "    </tr>\n",
       "    <tr>\n",
       "      <td>7</td>\n",
       "      <td>INFP</td>\n",
       "      <td>7</td>\n",
       "      <td>I use just enough vacation days so that I don'...</td>\n",
       "      <td>Honorary INFP; INTP/21/F</td>\n",
       "      <td>NaN</td>\n",
       "      <td>tumblr</td>\n",
       "      <td>RockinSocksReborn</td>\n",
       "    </tr>\n",
       "    <tr>\n",
       "      <td>8</td>\n",
       "      <td>INTP</td>\n",
       "      <td>8</td>\n",
       "      <td>Can be ur angle... or you're devil ;)</td>\n",
       "      <td>intp or something of the sort</td>\n",
       "      <td>NaN</td>\n",
       "      <td>woof_irl</td>\n",
       "      <td>crowbird_</td>\n",
       "    </tr>\n",
       "    <tr>\n",
       "      <td>9</td>\n",
       "      <td>INTP</td>\n",
       "      <td>9</td>\n",
       "      <td>I mean we don't how much influence Crow has on...</td>\n",
       "      <td>INTP/23/F</td>\n",
       "      <td>NaN</td>\n",
       "      <td>RWBY</td>\n",
       "      <td>RockinSocksReborn</td>\n",
       "    </tr>\n",
       "    <tr>\n",
       "      <td>10</td>\n",
       "      <td>INTP</td>\n",
       "      <td>10</td>\n",
       "      <td>Many fewer people by now, I'm guessing.</td>\n",
       "      <td>INTP-P-P-P-Poker face</td>\n",
       "      <td>NaN</td>\n",
       "      <td>funny</td>\n",
       "      <td>codepoet</td>\n",
       "    </tr>\n",
       "    <tr>\n",
       "      <td>11</td>\n",
       "      <td>INFP</td>\n",
       "      <td>11</td>\n",
       "      <td>Not going on a third date isn't exactly a brea...</td>\n",
       "      <td>INFP: The Dreamer</td>\n",
       "      <td>NaN</td>\n",
       "      <td>AskReddit</td>\n",
       "      <td>rabidhamster87</td>\n",
       "    </tr>\n",
       "    <tr>\n",
       "      <td>12</td>\n",
       "      <td>INFJ</td>\n",
       "      <td>12</td>\n",
       "      <td>I just want a NES Classic Controller since I a...</td>\n",
       "      <td>INFJ (Male)</td>\n",
       "      <td>NaN</td>\n",
       "      <td>nes</td>\n",
       "      <td>SapphireDrew</td>\n",
       "    </tr>\n",
       "    <tr>\n",
       "      <td>13</td>\n",
       "      <td>ENTP</td>\n",
       "      <td>13</td>\n",
       "      <td>maybe you were being tongue in cheek, but you ...</td>\n",
       "      <td>ENTP 26 M</td>\n",
       "      <td>NaN</td>\n",
       "      <td>Drugs</td>\n",
       "      <td>patternsofpatterns</td>\n",
       "    </tr>\n",
       "    <tr>\n",
       "      <td>14</td>\n",
       "      <td>INFP</td>\n",
       "      <td>14</td>\n",
       "      <td>I agree that the consistant position is to sup...</td>\n",
       "      <td>INFP: The Dreamer</td>\n",
       "      <td>NaN</td>\n",
       "      <td>politics</td>\n",
       "      <td>francis2559</td>\n",
       "    </tr>\n",
       "    <tr>\n",
       "      <td>15</td>\n",
       "      <td>INTP</td>\n",
       "      <td>15</td>\n",
       "      <td>Alors ?\\n\\nY'a pas de balise integrée. Faut le...</td>\n",
       "      <td>INTP: The Theorist</td>\n",
       "      <td>NaN</td>\n",
       "      <td>france</td>\n",
       "      <td>ScalSaver</td>\n",
       "    </tr>\n",
       "    <tr>\n",
       "      <td>16</td>\n",
       "      <td>INTJ</td>\n",
       "      <td>16</td>\n",
       "      <td>Its kind of strange how they will lump very va...</td>\n",
       "      <td>INTJ♂</td>\n",
       "      <td>NaN</td>\n",
       "      <td>Megaten</td>\n",
       "      <td>bunker_man</td>\n",
       "    </tr>\n",
       "    <tr>\n",
       "      <td>17</td>\n",
       "      <td>INFP</td>\n",
       "      <td>17</td>\n",
       "      <td>Wow, that's some fucked up woman. I'm kind of ...</td>\n",
       "      <td>INFP Bitches be bitchin'</td>\n",
       "      <td>NaN</td>\n",
       "      <td>childfree</td>\n",
       "      <td>I-ate-your-pony</td>\n",
       "    </tr>\n",
       "    <tr>\n",
       "      <td>18</td>\n",
       "      <td>ISTJ</td>\n",
       "      <td>18</td>\n",
       "      <td>It's about psychotic tire, that kills people. ...</td>\n",
       "      <td>ISTJ | literally your dad</td>\n",
       "      <td>NaN</td>\n",
       "      <td>entp</td>\n",
       "      <td>lightseven</td>\n",
       "    </tr>\n",
       "    <tr>\n",
       "      <td>19</td>\n",
       "      <td>ENTP</td>\n",
       "      <td>19</td>\n",
       "      <td>I like you</td>\n",
       "      <td>ENTP: The Explorer</td>\n",
       "      <td>NaN</td>\n",
       "      <td>reddevils</td>\n",
       "      <td>knoxisback</td>\n",
       "    </tr>\n",
       "    <tr>\n",
       "      <td>20</td>\n",
       "      <td>ENTP</td>\n",
       "      <td>20</td>\n",
       "      <td>Hella dank, my dude</td>\n",
       "      <td>Some Rando ENTP that took a wrong turn at Albu...</td>\n",
       "      <td>NaN</td>\n",
       "      <td>TooMeIrlForMeIrl</td>\n",
       "      <td>-BlitzN9ne</td>\n",
       "    </tr>\n",
       "    <tr>\n",
       "      <td>21</td>\n",
       "      <td>ENTP</td>\n",
       "      <td>21</td>\n",
       "      <td>Stats mean relatively little when attempting t...</td>\n",
       "      <td>ENTP, Sx 5. Twentysomething male</td>\n",
       "      <td>NaN</td>\n",
       "      <td>CFBOffTopic</td>\n",
       "      <td>hammersklavier</td>\n",
       "    </tr>\n",
       "    <tr>\n",
       "      <td>22</td>\n",
       "      <td>INFP</td>\n",
       "      <td>22</td>\n",
       "      <td>I've never been to this subreddit and I ain't ...</td>\n",
       "      <td>INFP: The Dreamer</td>\n",
       "      <td>NaN</td>\n",
       "      <td>britishproblems</td>\n",
       "      <td>TorbjornOskarsson</td>\n",
       "    </tr>\n",
       "    <tr>\n",
       "      <td>23</td>\n",
       "      <td>INTJ</td>\n",
       "      <td>23</td>\n",
       "      <td>No, I made it. But the original comic was just...</td>\n",
       "      <td>INTJ♂</td>\n",
       "      <td>NaN</td>\n",
       "      <td>Megaten</td>\n",
       "      <td>bunker_man</td>\n",
       "    </tr>\n",
       "    <tr>\n",
       "      <td>24</td>\n",
       "      <td>INFJ</td>\n",
       "      <td>24</td>\n",
       "      <td>hmmm</td>\n",
       "      <td>INFJ-35-M</td>\n",
       "      <td>NaN</td>\n",
       "      <td>westworld</td>\n",
       "      <td>Squeezycakes17</td>\n",
       "    </tr>\n",
       "    <tr>\n",
       "      <td>25</td>\n",
       "      <td>INTP</td>\n",
       "      <td>25</td>\n",
       "      <td>Blue cheese to me smells and tastes exactly li...</td>\n",
       "      <td>INTP: The Theorist</td>\n",
       "      <td>NaN</td>\n",
       "      <td>AskReddit</td>\n",
       "      <td>indil47</td>\n",
       "    </tr>\n",
       "    <tr>\n",
       "      <td>26</td>\n",
       "      <td>INFJ</td>\n",
       "      <td>26</td>\n",
       "      <td>For sure! Also check out Bjorn Nyland's YouTub...</td>\n",
       "      <td>25F INFJ | Partner to 24M INTJ</td>\n",
       "      <td>NaN</td>\n",
       "      <td>teslamotors</td>\n",
       "      <td>Killerzeit</td>\n",
       "    </tr>\n",
       "    <tr>\n",
       "      <td>27</td>\n",
       "      <td>INTP</td>\n",
       "      <td>27</td>\n",
       "      <td>I helped some friends of mine purchase two Hon...</td>\n",
       "      <td>INTP SPY</td>\n",
       "      <td>NaN</td>\n",
       "      <td>cars</td>\n",
       "      <td>Uncle_Skeeter</td>\n",
       "    </tr>\n",
       "    <tr>\n",
       "      <td>28</td>\n",
       "      <td>ENTP</td>\n",
       "      <td>28</td>\n",
       "      <td>When the white kinght becomes the princess [](...</td>\n",
       "      <td>ENTP-xD</td>\n",
       "      <td>NaN</td>\n",
       "      <td>forsen</td>\n",
       "      <td>Andrescarmona</td>\n",
       "    </tr>\n",
       "    <tr>\n",
       "      <td>29</td>\n",
       "      <td>INFP</td>\n",
       "      <td>29</td>\n",
       "      <td>That face is hers? Is she sure???</td>\n",
       "      <td>INFP: The Dreamer</td>\n",
       "      <td>NaN</td>\n",
       "      <td>oldpeoplefacebook</td>\n",
       "      <td>xthebirdhouse</td>\n",
       "    </tr>\n",
       "    <tr>\n",
       "      <td>30</td>\n",
       "      <td>INTP</td>\n",
       "      <td>30</td>\n",
       "      <td>[INTj-Ne and INTj-Ti](http://www.sociotype.com...</td>\n",
       "      <td>INTP (depressed ENTP?)</td>\n",
       "      <td>NaN</td>\n",
       "      <td>INTP</td>\n",
       "      <td>owlsymbolism</td>\n",
       "    </tr>\n",
       "    <tr>\n",
       "      <td>31</td>\n",
       "      <td>INTP</td>\n",
       "      <td>31</td>\n",
       "      <td>En même temps il vaudrait au moins 10 fois ce ...</td>\n",
       "      <td>INTP 5w4</td>\n",
       "      <td>NaN</td>\n",
       "      <td>france</td>\n",
       "      <td>Mr_Canard</td>\n",
       "    </tr>\n",
       "    <tr>\n",
       "      <td>32</td>\n",
       "      <td>INTJ</td>\n",
       "      <td>32</td>\n",
       "      <td>I do too, but can one come back from it all? H...</td>\n",
       "      <td>INTJ: The Mastermind</td>\n",
       "      <td>NaN</td>\n",
       "      <td>intj</td>\n",
       "      <td>DannyDJaxson</td>\n",
       "    </tr>\n",
       "    <tr>\n",
       "      <td>33</td>\n",
       "      <td>INFJ</td>\n",
       "      <td>33</td>\n",
       "      <td>As opposed to INTP? Definitely. And the way yo...</td>\n",
       "      <td>INFJ 20m</td>\n",
       "      <td>NaN</td>\n",
       "      <td>entp</td>\n",
       "      <td>RASK0LN1K0V</td>\n",
       "    </tr>\n",
       "    <tr>\n",
       "      <td>34</td>\n",
       "      <td>ENTP</td>\n",
       "      <td>34</td>\n",
       "      <td>It may have escaped your notice, but that's th...</td>\n",
       "      <td>41 F, ENTP 7w6</td>\n",
       "      <td>NaN</td>\n",
       "      <td>secretsanta</td>\n",
       "      <td>cyronius</td>\n",
       "    </tr>\n",
       "    <tr>\n",
       "      <td>35</td>\n",
       "      <td>INFJ</td>\n",
       "      <td>35</td>\n",
       "      <td>Well you are more my type ;D</td>\n",
       "      <td>INFJ - Ni</td>\n",
       "      <td>NaN</td>\n",
       "      <td>Overwatch</td>\n",
       "      <td>AndrogynousAve</td>\n",
       "    </tr>\n",
       "    <tr>\n",
       "      <td>36</td>\n",
       "      <td>INTP</td>\n",
       "      <td>36</td>\n",
       "      <td>The sea anemone simply is built that is can su...</td>\n",
       "      <td>INTP♂</td>\n",
       "      <td>NaN</td>\n",
       "      <td>whowouldwin</td>\n",
       "      <td>polaristar</td>\n",
       "    </tr>\n",
       "    <tr>\n",
       "      <td>37</td>\n",
       "      <td>INFJ</td>\n",
       "      <td>37</td>\n",
       "      <td>As a 5w4 I'm still figuring this all out, but ...</td>\n",
       "      <td>[INFJ]</td>\n",
       "      <td>NaN</td>\n",
       "      <td>Enneagram</td>\n",
       "      <td>LithiumEnergy</td>\n",
       "    </tr>\n",
       "    <tr>\n",
       "      <td>38</td>\n",
       "      <td>INTP</td>\n",
       "      <td>38</td>\n",
       "      <td>Last time that happened to me I wrongfully fla...</td>\n",
       "      <td>INTP: The Theorist</td>\n",
       "      <td>NaN</td>\n",
       "      <td>buildapc</td>\n",
       "      <td>OppaiGaKawaiiDesu</td>\n",
       "    </tr>\n",
       "    <tr>\n",
       "      <td>39</td>\n",
       "      <td>INTP</td>\n",
       "      <td>39</td>\n",
       "      <td>Double check all of your cables especially you...</td>\n",
       "      <td>INTP/INTJ</td>\n",
       "      <td>NaN</td>\n",
       "      <td>techsupport</td>\n",
       "      <td>2_4_16_256</td>\n",
       "    </tr>\n",
       "    <tr>\n",
       "      <td>40</td>\n",
       "      <td>INTP</td>\n",
       "      <td>40</td>\n",
       "      <td>Fuck you</td>\n",
       "      <td>INTP♀</td>\n",
       "      <td>NaN</td>\n",
       "      <td>theydidthefuckyou</td>\n",
       "      <td>pemGi</td>\n",
       "    </tr>\n",
       "    <tr>\n",
       "      <td>41</td>\n",
       "      <td>ISTP</td>\n",
       "      <td>41</td>\n",
       "      <td>He promised to fuck the climate in his campaig...</td>\n",
       "      <td>ISTP, fuck enneagram</td>\n",
       "      <td>NaN</td>\n",
       "      <td>startrek</td>\n",
       "      <td>gerusz</td>\n",
       "    </tr>\n",
       "    <tr>\n",
       "      <td>42</td>\n",
       "      <td>INTJ</td>\n",
       "      <td>42</td>\n",
       "      <td>Yea, that was my main thing about this tbh, wh...</td>\n",
       "      <td>[INTJ]</td>\n",
       "      <td>NaN</td>\n",
       "      <td>orangecounty</td>\n",
       "      <td>Spore2012</td>\n",
       "    </tr>\n",
       "    <tr>\n",
       "      <td>43</td>\n",
       "      <td>ENTP</td>\n",
       "      <td>43</td>\n",
       "      <td>The prospect of a wedding and the fact that ev...</td>\n",
       "      <td>ENTP♂</td>\n",
       "      <td>NaN</td>\n",
       "      <td>mbti</td>\n",
       "      <td>Aurarus</td>\n",
       "    </tr>\n",
       "    <tr>\n",
       "      <td>44</td>\n",
       "      <td>INFP</td>\n",
       "      <td>44</td>\n",
       "      <td>To be fair, voting a \"straight Republican tick...</td>\n",
       "      <td>INFP: The Dreamer</td>\n",
       "      <td>NaN</td>\n",
       "      <td>politics</td>\n",
       "      <td>DuplexFields</td>\n",
       "    </tr>\n",
       "    <tr>\n",
       "      <td>45</td>\n",
       "      <td>ENTP</td>\n",
       "      <td>45</td>\n",
       "      <td>I think he isn't cannon. He's from some extend...</td>\n",
       "      <td>24M ENTP 5w4 Sp sx so</td>\n",
       "      <td>NaN</td>\n",
       "      <td>outside</td>\n",
       "      <td>ScalSaver</td>\n",
       "    </tr>\n",
       "    <tr>\n",
       "      <td>46</td>\n",
       "      <td>INTP</td>\n",
       "      <td>46</td>\n",
       "      <td>It all depends on how you look at it.</td>\n",
       "      <td>[INTP]</td>\n",
       "      <td>NaN</td>\n",
       "      <td>science</td>\n",
       "      <td>Jimmy</td>\n",
       "    </tr>\n",
       "    <tr>\n",
       "      <td>47</td>\n",
       "      <td>INFJ</td>\n",
       "      <td>47</td>\n",
       "      <td>I can't believe I had to get this far down to ...</td>\n",
       "      <td>INFJ SX/SO</td>\n",
       "      <td>NaN</td>\n",
       "      <td>videos</td>\n",
       "      <td>Lamzn6</td>\n",
       "    </tr>\n",
       "    <tr>\n",
       "      <td>48</td>\n",
       "      <td>INTJ</td>\n",
       "      <td>48</td>\n",
       "      <td>Since some responses just list people, I'll fo...</td>\n",
       "      <td>INTJ♂</td>\n",
       "      <td>NaN</td>\n",
       "      <td>AsianMasculinity</td>\n",
       "      <td>DoktorLuciferWong</td>\n",
       "    </tr>\n",
       "    <tr>\n",
       "      <td>49</td>\n",
       "      <td>INFP</td>\n",
       "      <td>49</td>\n",
       "      <td>The call of midnight by future world music.</td>\n",
       "      <td>INFP: The Star-Gazer</td>\n",
       "      <td>NaN</td>\n",
       "      <td>AskReddit</td>\n",
       "      <td>MrRyyi</td>\n",
       "    </tr>\n",
       "  </tbody>\n",
       "</table>\n",
       "</div>"
      ],
      "text/plain": [
       "    MBTI  Unnamed: 0                                           comments  \\\n",
       "0   INFP           0                            Lol that's why I left.    \n",
       "1   INTP           1  I was just about to post \"I try telling people...   \n",
       "2   INFP           2  My first thought was Pepsi or something. Proba...   \n",
       "3   ENTP           3  Not if the formula is something like \"every ti...   \n",
       "4   INTP           4                    Does this imply I'm a five now?   \n",
       "5   INTP           5  Well, I wouldn't know but I think there's a lo...   \n",
       "6   INFJ           6  sine na, support the directors, actors and oth...   \n",
       "7   INFP           7  I use just enough vacation days so that I don'...   \n",
       "8   INTP           8             Can be ur angle... or you're devil ;)    \n",
       "9   INTP           9  I mean we don't how much influence Crow has on...   \n",
       "10  INTP          10            Many fewer people by now, I'm guessing.   \n",
       "11  INFP          11  Not going on a third date isn't exactly a brea...   \n",
       "12  INFJ          12  I just want a NES Classic Controller since I a...   \n",
       "13  ENTP          13  maybe you were being tongue in cheek, but you ...   \n",
       "14  INFP          14  I agree that the consistant position is to sup...   \n",
       "15  INTP          15  Alors ?\\n\\nY'a pas de balise integrée. Faut le...   \n",
       "16  INTJ          16  Its kind of strange how they will lump very va...   \n",
       "17  INFP          17  Wow, that's some fucked up woman. I'm kind of ...   \n",
       "18  ISTJ          18  It's about psychotic tire, that kills people. ...   \n",
       "19  ENTP          19                                        I like you    \n",
       "20  ENTP          20                                Hella dank, my dude   \n",
       "21  ENTP          21  Stats mean relatively little when attempting t...   \n",
       "22  INFP          22  I've never been to this subreddit and I ain't ...   \n",
       "23  INTJ          23  No, I made it. But the original comic was just...   \n",
       "24  INFJ          24                                               hmmm   \n",
       "25  INTP          25  Blue cheese to me smells and tastes exactly li...   \n",
       "26  INFJ          26  For sure! Also check out Bjorn Nyland's YouTub...   \n",
       "27  INTP          27  I helped some friends of mine purchase two Hon...   \n",
       "28  ENTP          28  When the white kinght becomes the princess [](...   \n",
       "29  INFP          29                  That face is hers? Is she sure???   \n",
       "30  INTP          30  [INTj-Ne and INTj-Ti](http://www.sociotype.com...   \n",
       "31  INTP          31  En même temps il vaudrait au moins 10 fois ce ...   \n",
       "32  INTJ          32  I do too, but can one come back from it all? H...   \n",
       "33  INFJ          33  As opposed to INTP? Definitely. And the way yo...   \n",
       "34  ENTP          34  It may have escaped your notice, but that's th...   \n",
       "35  INFJ          35                       Well you are more my type ;D   \n",
       "36  INTP          36  The sea anemone simply is built that is can su...   \n",
       "37  INFJ          37  As a 5w4 I'm still figuring this all out, but ...   \n",
       "38  INTP          38  Last time that happened to me I wrongfully fla...   \n",
       "39  INTP          39  Double check all of your cables especially you...   \n",
       "40  INTP          40                                           Fuck you   \n",
       "41  ISTP          41  He promised to fuck the climate in his campaig...   \n",
       "42  INTJ          42  Yea, that was my main thing about this tbh, wh...   \n",
       "43  ENTP          43  The prospect of a wedding and the fact that ev...   \n",
       "44  INFP          44  To be fair, voting a \"straight Republican tick...   \n",
       "45  ENTP          45  I think he isn't cannon. He's from some extend...   \n",
       "46  INTP          46              It all depends on how you look at it.   \n",
       "47  INFJ          47  I can't believe I had to get this far down to ...   \n",
       "48  INTJ          48  Since some responses just list people, I'll fo...   \n",
       "49  INFP          49        The call of midnight by future world music.   \n",
       "\n",
       "                                                flair  index  \\\n",
       "0                            INFP: The Dreamer Senpai    NaN   \n",
       "1                                  INTP: The Theorist    NaN   \n",
       "2                                   INFP: The Dreamer    NaN   \n",
       "3      ENTP: Antisocial Extrovert, Rational Eccentric    NaN   \n",
       "4                    INTP/18/m/blankly staring at you    NaN   \n",
       "5                                  INTP: The Theorist    NaN   \n",
       "6                                       The INFJ Dude    NaN   \n",
       "7                            Honorary INFP; INTP/21/F    NaN   \n",
       "8                       intp or something of the sort    NaN   \n",
       "9                                           INTP/23/F    NaN   \n",
       "10                              INTP-P-P-P-Poker face    NaN   \n",
       "11                                  INFP: The Dreamer    NaN   \n",
       "12                                        INFJ (Male)    NaN   \n",
       "13                                          ENTP 26 M    NaN   \n",
       "14                                  INFP: The Dreamer    NaN   \n",
       "15                                 INTP: The Theorist    NaN   \n",
       "16                                              INTJ♂    NaN   \n",
       "17                           INFP Bitches be bitchin'    NaN   \n",
       "18                          ISTJ | literally your dad    NaN   \n",
       "19                                 ENTP: The Explorer    NaN   \n",
       "20  Some Rando ENTP that took a wrong turn at Albu...    NaN   \n",
       "21                   ENTP, Sx 5. Twentysomething male    NaN   \n",
       "22                                  INFP: The Dreamer    NaN   \n",
       "23                                              INTJ♂    NaN   \n",
       "24                                          INFJ-35-M    NaN   \n",
       "25                                 INTP: The Theorist    NaN   \n",
       "26                     25F INFJ | Partner to 24M INTJ    NaN   \n",
       "27                                           INTP SPY    NaN   \n",
       "28                                            ENTP-xD    NaN   \n",
       "29                                  INFP: The Dreamer    NaN   \n",
       "30                             INTP (depressed ENTP?)    NaN   \n",
       "31                                           INTP 5w4    NaN   \n",
       "32                               INTJ: The Mastermind    NaN   \n",
       "33                                           INFJ 20m    NaN   \n",
       "34                                     41 F, ENTP 7w6    NaN   \n",
       "35                                          INFJ - Ni    NaN   \n",
       "36                                              INTP♂    NaN   \n",
       "37                                             [INFJ]    NaN   \n",
       "38                                 INTP: The Theorist    NaN   \n",
       "39                                          INTP/INTJ    NaN   \n",
       "40                                              INTP♀    NaN   \n",
       "41                               ISTP, fuck enneagram    NaN   \n",
       "42                                             [INTJ]    NaN   \n",
       "43                                              ENTP♂    NaN   \n",
       "44                                  INFP: The Dreamer    NaN   \n",
       "45                              24M ENTP 5w4 Sp sx so    NaN   \n",
       "46                                             [INTP]    NaN   \n",
       "47                                         INFJ SX/SO    NaN   \n",
       "48                                              INTJ♂    NaN   \n",
       "49                               INFP: The Star-Gazer    NaN   \n",
       "\n",
       "              subreddit            username  \n",
       "0                  entp      LadyBanterbury  \n",
       "1                  INTP             Finarin  \n",
       "2                   WTF           xanplease  \n",
       "3          youtubehaiku     HeirToGallifrey  \n",
       "4                  entp           lightfive  \n",
       "5   InternetIsBeautiful    ElementalVoltage  \n",
       "6           Philippines           BabyFlo70  \n",
       "7                tumblr   RockinSocksReborn  \n",
       "8              woof_irl           crowbird_  \n",
       "9                  RWBY   RockinSocksReborn  \n",
       "10                funny            codepoet  \n",
       "11            AskReddit      rabidhamster87  \n",
       "12                  nes        SapphireDrew  \n",
       "13                Drugs  patternsofpatterns  \n",
       "14             politics         francis2559  \n",
       "15               france           ScalSaver  \n",
       "16              Megaten          bunker_man  \n",
       "17            childfree     I-ate-your-pony  \n",
       "18                 entp          lightseven  \n",
       "19            reddevils          knoxisback  \n",
       "20     TooMeIrlForMeIrl          -BlitzN9ne  \n",
       "21          CFBOffTopic      hammersklavier  \n",
       "22      britishproblems   TorbjornOskarsson  \n",
       "23              Megaten          bunker_man  \n",
       "24            westworld      Squeezycakes17  \n",
       "25            AskReddit             indil47  \n",
       "26          teslamotors          Killerzeit  \n",
       "27                 cars       Uncle_Skeeter  \n",
       "28               forsen       Andrescarmona  \n",
       "29    oldpeoplefacebook       xthebirdhouse  \n",
       "30                 INTP        owlsymbolism  \n",
       "31               france           Mr_Canard  \n",
       "32                 intj        DannyDJaxson  \n",
       "33                 entp         RASK0LN1K0V  \n",
       "34          secretsanta            cyronius  \n",
       "35            Overwatch      AndrogynousAve  \n",
       "36          whowouldwin          polaristar  \n",
       "37            Enneagram       LithiumEnergy  \n",
       "38             buildapc   OppaiGaKawaiiDesu  \n",
       "39          techsupport          2_4_16_256  \n",
       "40    theydidthefuckyou               pemGi  \n",
       "41             startrek              gerusz  \n",
       "42         orangecounty           Spore2012  \n",
       "43                 mbti             Aurarus  \n",
       "44             politics        DuplexFields  \n",
       "45              outside           ScalSaver  \n",
       "46              science               Jimmy  \n",
       "47               videos              Lamzn6  \n",
       "48     AsianMasculinity   DoktorLuciferWong  \n",
       "49            AskReddit              MrRyyi  "
      ]
     },
     "execution_count": 7,
     "metadata": {},
     "output_type": "execute_result"
    }
   ],
   "source": [
    "df_new.head(n=50)"
   ]
  },
  {
   "cell_type": "markdown",
   "metadata": {},
   "source": [
    "### Missing Values"
   ]
  },
  {
   "cell_type": "code",
   "execution_count": 8,
   "metadata": {
    "ExecuteTime": {
     "end_time": "2019-12-03T20:34:25.681459Z",
     "start_time": "2019-12-03T20:34:23.067326Z"
    }
   },
   "outputs": [
    {
     "data": {
      "text/plain": [
       "MBTI             3289\n",
       "Unnamed: 0          0\n",
       "comments            0\n",
       "flair               0\n",
       "index         1555087\n",
       "subreddit           0\n",
       "username            0\n",
       "dtype: int64"
      ]
     },
     "execution_count": 8,
     "metadata": {},
     "output_type": "execute_result"
    }
   ],
   "source": [
    "# Check missing values\n",
    "df_new.isna().sum()"
   ]
  },
  {
   "cell_type": "code",
   "execution_count": 9,
   "metadata": {
    "ExecuteTime": {
     "end_time": "2019-12-03T20:34:26.797139Z",
     "start_time": "2019-12-03T20:34:25.685258Z"
    }
   },
   "outputs": [],
   "source": [
    "# drop 2 duplicated index column \n",
    "df_new = df_new.drop(['index','Unnamed: 0'], axis=1).copy()"
   ]
  },
  {
   "cell_type": "code",
   "execution_count": 10,
   "metadata": {
    "ExecuteTime": {
     "end_time": "2019-12-03T20:34:27.719129Z",
     "start_time": "2019-12-03T20:34:26.800985Z"
    }
   },
   "outputs": [
    {
     "data": {
      "text/plain": [
       "MBTI         3289\n",
       "comments        0\n",
       "flair           0\n",
       "subreddit       0\n",
       "username        0\n",
       "dtype: int64"
      ]
     },
     "execution_count": 10,
     "metadata": {},
     "output_type": "execute_result"
    }
   ],
   "source": [
    "# check for missing values again.\n",
    "df_new.isna().sum()"
   ]
  },
  {
   "cell_type": "code",
   "execution_count": 11,
   "metadata": {
    "ExecuteTime": {
     "end_time": "2019-12-03T20:34:29.815791Z",
     "start_time": "2019-12-03T20:34:27.721623Z"
    }
   },
   "outputs": [],
   "source": [
    "# drop the rows with null body text \n",
    "df_clean = df_new.dropna().copy()"
   ]
  },
  {
   "cell_type": "code",
   "execution_count": 12,
   "metadata": {
    "ExecuteTime": {
     "end_time": "2019-12-03T20:34:30.689299Z",
     "start_time": "2019-12-03T20:34:29.819346Z"
    }
   },
   "outputs": [
    {
     "data": {
      "text/plain": [
       "MBTI         0\n",
       "comments     0\n",
       "flair        0\n",
       "subreddit    0\n",
       "username     0\n",
       "dtype: int64"
      ]
     },
     "execution_count": 12,
     "metadata": {},
     "output_type": "execute_result"
    }
   ],
   "source": [
    "df_clean.isna().sum()"
   ]
  },
  {
   "cell_type": "markdown",
   "metadata": {},
   "source": [
    "### EDA"
   ]
  },
  {
   "cell_type": "code",
   "execution_count": 13,
   "metadata": {
    "ExecuteTime": {
     "end_time": "2019-12-03T20:34:31.086248Z",
     "start_time": "2019-12-03T20:34:30.692812Z"
    }
   },
   "outputs": [
    {
     "data": {
      "text/plain": [
       "INFP    312220\n",
       "INTP    301236\n",
       "INFJ    271994\n",
       "ENTJ    257355\n",
       "ISTP    226154\n",
       "ENTP    224612\n",
       "ENFP    206537\n",
       "ENFJ    182589\n",
       "INTJ    176802\n",
       "ESTP    161173\n",
       "ISFJ    157556\n",
       "ISTJ    155944\n",
       "ISFP    142215\n",
       "ESTJ     96501\n",
       "ESFP     67022\n",
       "ESFJ     60872\n",
       "Name: MBTI, dtype: int64"
      ]
     },
     "execution_count": 13,
     "metadata": {},
     "output_type": "execute_result"
    }
   ],
   "source": [
    "df_clean['MBTI'].value_counts()"
   ]
  },
  {
   "cell_type": "code",
   "execution_count": 14,
   "metadata": {
    "ExecuteTime": {
     "end_time": "2019-12-03T20:34:32.900530Z",
     "start_time": "2019-12-03T20:34:31.089110Z"
    }
   },
   "outputs": [
    {
     "data": {
      "text/plain": [
       "Text(0.5, 1.0, 'Comments Counts by Personality Types')"
      ]
     },
     "execution_count": 14,
     "metadata": {},
     "output_type": "execute_result"
    },
    {
     "data": {
      "image/png": "[encoded data removed]",
      "text/plain": [
       "<Figure size 864x720 with 1 Axes>"
      ]
     },
     "metadata": {
      "needs_background": "light"
     },
     "output_type": "display_data"
    }
   ],
   "source": [
    "plt.figure(figsize=(12,10))\n",
    "sns.countplot(data=df_clean, x='MBTI', order = df_clean['MBTI'].value_counts().index)\n",
    "plt.xlabel('personality types')\n",
    "plt.ylabel('counts')\n",
    "plt.title('Comments Counts by Personality Types')"
   ]
  },
  {
   "cell_type": "code",
   "execution_count": 15,
   "metadata": {
    "ExecuteTime": {
     "end_time": "2019-12-03T20:34:35.444938Z",
     "start_time": "2019-12-03T20:34:32.903611Z"
    }
   },
   "outputs": [],
   "source": [
    "df_clean['comments length'] = df_clean['comments'].str.len()"
   ]
  },
  {
   "cell_type": "code",
   "execution_count": 16,
   "metadata": {
    "ExecuteTime": {
     "end_time": "2019-12-03T20:34:35.783738Z",
     "start_time": "2019-12-03T20:34:35.447491Z"
    }
   },
   "outputs": [
    {
     "data": {
      "text/html": [
       "<div>\n",
       "<style scoped>\n",
       "    .dataframe tbody tr th:only-of-type {\n",
       "        vertical-align: middle;\n",
       "    }\n",
       "\n",
       "    .dataframe tbody tr th {\n",
       "        vertical-align: top;\n",
       "    }\n",
       "\n",
       "    .dataframe thead th {\n",
       "        text-align: right;\n",
       "    }\n",
       "</style>\n",
       "<table border=\"1\" class=\"dataframe\">\n",
       "  <thead>\n",
       "    <tr style=\"text-align: right;\">\n",
       "      <th></th>\n",
       "      <th>comments length</th>\n",
       "    </tr>\n",
       "    <tr>\n",
       "      <th>MBTI</th>\n",
       "      <th></th>\n",
       "    </tr>\n",
       "  </thead>\n",
       "  <tbody>\n",
       "    <tr>\n",
       "      <td>ESFJ</td>\n",
       "      <td>282.256160</td>\n",
       "    </tr>\n",
       "    <tr>\n",
       "      <td>ISTP</td>\n",
       "      <td>261.368930</td>\n",
       "    </tr>\n",
       "    <tr>\n",
       "      <td>ESTJ</td>\n",
       "      <td>248.995741</td>\n",
       "    </tr>\n",
       "    <tr>\n",
       "      <td>INTJ</td>\n",
       "      <td>245.320098</td>\n",
       "    </tr>\n",
       "    <tr>\n",
       "      <td>ISFP</td>\n",
       "      <td>245.061442</td>\n",
       "    </tr>\n",
       "    <tr>\n",
       "      <td>INFJ</td>\n",
       "      <td>234.872556</td>\n",
       "    </tr>\n",
       "    <tr>\n",
       "      <td>ENFJ</td>\n",
       "      <td>226.650664</td>\n",
       "    </tr>\n",
       "    <tr>\n",
       "      <td>ENTP</td>\n",
       "      <td>221.916367</td>\n",
       "    </tr>\n",
       "    <tr>\n",
       "      <td>ISFJ</td>\n",
       "      <td>221.864689</td>\n",
       "    </tr>\n",
       "    <tr>\n",
       "      <td>ISTJ</td>\n",
       "      <td>219.284897</td>\n",
       "    </tr>\n",
       "    <tr>\n",
       "      <td>ENTJ</td>\n",
       "      <td>216.265225</td>\n",
       "    </tr>\n",
       "    <tr>\n",
       "      <td>INTP</td>\n",
       "      <td>211.356448</td>\n",
       "    </tr>\n",
       "    <tr>\n",
       "      <td>ENFP</td>\n",
       "      <td>209.020263</td>\n",
       "    </tr>\n",
       "    <tr>\n",
       "      <td>INFP</td>\n",
       "      <td>199.533127</td>\n",
       "    </tr>\n",
       "    <tr>\n",
       "      <td>ESTP</td>\n",
       "      <td>187.690041</td>\n",
       "    </tr>\n",
       "    <tr>\n",
       "      <td>ESFP</td>\n",
       "      <td>184.487303</td>\n",
       "    </tr>\n",
       "  </tbody>\n",
       "</table>\n",
       "</div>"
      ],
      "text/plain": [
       "      comments length\n",
       "MBTI                 \n",
       "ESFJ       282.256160\n",
       "ISTP       261.368930\n",
       "ESTJ       248.995741\n",
       "INTJ       245.320098\n",
       "ISFP       245.061442\n",
       "INFJ       234.872556\n",
       "ENFJ       226.650664\n",
       "ENTP       221.916367\n",
       "ISFJ       221.864689\n",
       "ISTJ       219.284897\n",
       "ENTJ       216.265225\n",
       "INTP       211.356448\n",
       "ENFP       209.020263\n",
       "INFP       199.533127\n",
       "ESTP       187.690041\n",
       "ESFP       184.487303"
      ]
     },
     "execution_count": 16,
     "metadata": {},
     "output_type": "execute_result"
    }
   ],
   "source": [
    "df_avglength=pd.DataFrame(df_clean.groupby(['MBTI'])['comments length'].mean())\n",
    "df_avglength = df_avglength.sort_values(['comments length'], ascending=False)\n",
    "df_avglength"
   ]
  },
  {
   "cell_type": "code",
   "execution_count": 17,
   "metadata": {
    "ExecuteTime": {
     "end_time": "2019-12-03T20:34:36.374444Z",
     "start_time": "2019-12-03T20:34:35.788099Z"
    }
   },
   "outputs": [
    {
     "data": {
      "image/png": "[encoded data removed]",
      "text/plain": [
       "<Figure size 864x576 with 1 Axes>"
      ]
     },
     "metadata": {
      "needs_background": "light"
     },
     "output_type": "display_data"
    }
   ],
   "source": [
    "plt.figure(figsize=(12,8))\n",
    "ax = plt.subplot()\n",
    "plt.barh(df_avglength.index,df_avglength['comments length'])\n",
    "plt.xlabel('Average Comment Length')\n",
    "plt.ylabel('MBTI')\n",
    "for i, v in enumerate(df_avglength['comments length']):\n",
    "    ax.text(v-21, i - 0.1, f'{v:.3f}', color='white', fontweight='bold')\n",
    "plt.show()"
   ]
  },
  {
   "cell_type": "markdown",
   "metadata": {},
   "source": [
    "### More Feature Engineering"
   ]
  },
  {
   "cell_type": "code",
   "execution_count": 23,
   "metadata": {
    "ExecuteTime": {
     "end_time": "2019-12-03T20:35:48.185088Z",
     "start_time": "2019-12-03T20:35:48.056260Z"
    }
   },
   "outputs": [],
   "source": [
    "df_clean_comments = df_clean.drop(['flair','subreddit','username','comments length'],axis=1)"
   ]
  },
  {
   "cell_type": "code",
   "execution_count": 24,
   "metadata": {
    "ExecuteTime": {
     "end_time": "2019-12-03T20:35:49.599578Z",
     "start_time": "2019-12-03T20:35:49.594321Z"
    }
   },
   "outputs": [
    {
     "data": {
      "text/plain": [
       "(3000782, 2)"
      ]
     },
     "execution_count": 24,
     "metadata": {},
     "output_type": "execute_result"
    }
   ],
   "source": [
    "df_clean_comments.shape"
   ]
  },
  {
   "cell_type": "code",
   "execution_count": 25,
   "metadata": {
    "ExecuteTime": {
     "end_time": "2019-12-03T20:35:55.669532Z",
     "start_time": "2019-12-03T20:35:51.227385Z"
    }
   },
   "outputs": [],
   "source": [
    "df_clean_comments['comments'] = df_clean_comments['comments'].apply(lambda x: x.replace('\\n',' ').replace('\\r',' '))"
   ]
  },
  {
   "cell_type": "code",
   "execution_count": 21,
   "metadata": {
    "ExecuteTime": {
     "end_time": "2019-12-03T20:35:15.146949Z",
     "start_time": "2019-12-03T20:34:40.885445Z"
    }
   },
   "outputs": [],
   "source": [
    "df_clean_comments1.to_csv('../../clean_data/with_punc.csv')"
   ]
  },
  {
   "cell_type": "code",
   "execution_count": 65,
   "metadata": {
    "ExecuteTime": {
     "end_time": "2019-12-03T22:57:01.479631Z",
     "start_time": "2019-12-03T22:57:01.290682Z"
    }
   },
   "outputs": [],
   "source": [
    "# create a test subset \n",
    "df_test = df_clean_comments.sample(n=100)"
   ]
  },
  {
   "cell_type": "markdown",
   "metadata": {},
   "source": [
    "### Text Processing "
   ]
  },
  {
   "cell_type": "code",
   "execution_count": 26,
   "metadata": {
    "ExecuteTime": {
     "end_time": "2019-12-03T20:35:55.688250Z",
     "start_time": "2019-12-03T20:35:55.674654Z"
    }
   },
   "outputs": [
    {
     "data": {
      "text/plain": [
       "MBTI        object\n",
       "comments    object\n",
       "dtype: object"
      ]
     },
     "execution_count": 26,
     "metadata": {},
     "output_type": "execute_result"
    }
   ],
   "source": [
    "df_clean_comments.dtypes"
   ]
  },
  {
   "cell_type": "code",
   "execution_count": 69,
   "metadata": {
    "ExecuteTime": {
     "end_time": "2019-12-03T23:14:29.784259Z",
     "start_time": "2019-12-03T23:14:29.777567Z"
    }
   },
   "outputs": [],
   "source": [
    "import nltk \n",
    "from nltk.corpus import stopwords\n",
    "from nltk.stem import SnowballStemmer, PorterStemmer\n",
    "from nltk.tokenize import word_tokenize\n",
    "from nltk.stem import WordNetLemmatizer\n",
    "from nltk.corpus import wordnet\n",
    "lemmatizer = WordNetLemmatizer()"
   ]
  },
  {
   "cell_type": "code",
   "execution_count": 78,
   "metadata": {
    "ExecuteTime": {
     "end_time": "2019-12-03T23:20:17.341669Z",
     "start_time": "2019-12-03T23:20:15.553884Z"
    }
   },
   "outputs": [
    {
     "name": "stderr",
     "output_type": "stream",
     "text": [
      "[nltk_data] Downloading package stopwords to\n",
      "[nltk_data]     /Users/Doylism/nltk_data...\n",
      "[nltk_data]   Package stopwords is already up-to-date!\n",
      "[nltk_data] Downloading package averaged_perceptron_tagger to\n",
      "[nltk_data]     /Users/Doylism/nltk_data...\n",
      "[nltk_data]   Package averaged_perceptron_tagger is already up-to-\n",
      "[nltk_data]       date!\n",
      "[nltk_data] Downloading package wordnet to /Users/Doylism/nltk_data...\n",
      "[nltk_data]   Unzipping corpora/wordnet.zip.\n"
     ]
    },
    {
     "data": {
      "text/plain": [
       "True"
      ]
     },
     "execution_count": 78,
     "metadata": {},
     "output_type": "execute_result"
    }
   ],
   "source": [
    "nltk.download('stopwords')\n",
    "nltk.download('averaged_perceptron_tagger')\n",
    "nltk.download('wordnet')"
   ]
  },
  {
   "cell_type": "code",
   "execution_count": 79,
   "metadata": {
    "ExecuteTime": {
     "end_time": "2019-12-03T23:20:20.925503Z",
     "start_time": "2019-12-03T23:20:20.920953Z"
    }
   },
   "outputs": [
    {
     "name": "stdout",
     "output_type": "stream",
     "text": [
      "!\"#$%&'()*+,-./:;<=>?@[\\]^_`{|}~\n"
     ]
    }
   ],
   "source": [
    "import string\n",
    "print(string.punctuation)"
   ]
  },
  {
   "cell_type": "code",
   "execution_count": 80,
   "metadata": {
    "ExecuteTime": {
     "end_time": "2019-12-03T23:20:22.658535Z",
     "start_time": "2019-12-03T23:20:22.651639Z"
    }
   },
   "outputs": [],
   "source": [
    "stop_words = stopwords.words('english')\n",
    "stemmer = PorterStemmer()"
   ]
  },
  {
   "cell_type": "markdown",
   "metadata": {},
   "source": [
    "#### Remove numbers "
   ]
  },
  {
   "cell_type": "code",
   "execution_count": 81,
   "metadata": {
    "ExecuteTime": {
     "end_time": "2019-12-03T23:20:25.156041Z",
     "start_time": "2019-12-03T23:20:25.152762Z"
    }
   },
   "outputs": [],
   "source": [
    "# remove numbers \n",
    "import re \n"
   ]
  },
  {
   "cell_type": "markdown",
   "metadata": {},
   "source": [
    "#### Remove punctuations"
   ]
  },
  {
   "cell_type": "code",
   "execution_count": 32,
   "metadata": {
    "ExecuteTime": {
     "end_time": "2019-12-03T20:36:20.788532Z",
     "start_time": "2019-12-03T20:36:20.784005Z"
    }
   },
   "outputs": [],
   "source": [
    "# remove punctuations \n",
    "def remove_punc(text):\n",
    "    for punctuation in string.punctuation:\n",
    "        text = text.replace(punctuation, '')\n",
    "    return text"
   ]
  },
  {
   "cell_type": "markdown",
   "metadata": {},
   "source": [
    "#### Remove Stop Words"
   ]
  },
  {
   "cell_type": "code",
   "execution_count": 33,
   "metadata": {
    "ExecuteTime": {
     "end_time": "2019-12-03T20:36:23.713648Z",
     "start_time": "2019-12-03T20:36:23.709040Z"
    }
   },
   "outputs": [],
   "source": [
    "def remove_stop(text):\n",
    "    tokens = word_tokenize(text)\n",
    "    text = [i for i in tokens if not i in stop_words]\n",
    "    return text"
   ]
  },
  {
   "cell_type": "markdown",
   "metadata": {},
   "source": [
    "#### Lemmitisation & Stemming"
   ]
  },
  {
   "cell_type": "code",
   "execution_count": 84,
   "metadata": {
    "ExecuteTime": {
     "end_time": "2019-12-03T23:36:04.426883Z",
     "start_time": "2019-12-03T23:36:04.420205Z"
    }
   },
   "outputs": [],
   "source": [
    "def get_wordnet_pos(word):\n",
    "    \"\"\"Map POS tag to first character lemmatize() accepts\"\"\"\n",
    "    tag = nltk.pos_tag([word])[0][1][0].upper()\n",
    "    tag_dict = {\"J\": wordnet.ADJ,\n",
    "                \"N\": wordnet.NOUN,\n",
    "                \"V\": wordnet.VERB,\n",
    "                \"R\": wordnet.ADV}\n",
    "    return tag_dict.get(tag, wordnet.NOUN)"
   ]
  },
  {
   "cell_type": "code",
   "execution_count": 85,
   "metadata": {
    "ExecuteTime": {
     "end_time": "2019-12-03T23:36:12.468059Z",
     "start_time": "2019-12-03T23:36:12.406894Z"
    }
   },
   "outputs": [
    {
     "ename": "TypeError",
     "evalue": "expected string or bytes-like object",
     "output_type": "error",
     "traceback": [
      "\u001b[0;31m---------------------------------------------------------------------------\u001b[0m",
      "\u001b[0;31mTypeError\u001b[0m                                 Traceback (most recent call last)",
      "\u001b[0;32m<ipython-input-85-369c1f40fe43>\u001b[0m in \u001b[0;36m<module>\u001b[0;34m\u001b[0m\n\u001b[0;32m----> 1\u001b[0;31m \u001b[0mdf_test\u001b[0m\u001b[0;34m[\u001b[0m\u001b[0;34m'comments'\u001b[0m\u001b[0;34m]\u001b[0m \u001b[0;34m=\u001b[0m \u001b[0mdf_test\u001b[0m\u001b[0;34m[\u001b[0m\u001b[0;34m'comments'\u001b[0m\u001b[0;34m]\u001b[0m\u001b[0;34m.\u001b[0m\u001b[0mapply\u001b[0m\u001b[0;34m(\u001b[0m\u001b[0;32mlambda\u001b[0m \u001b[0mx\u001b[0m\u001b[0;34m:\u001b[0m \u001b[0;34m[\u001b[0m\u001b[0mlemmatizer\u001b[0m\u001b[0;34m.\u001b[0m\u001b[0mlemmatize\u001b[0m\u001b[0;34m(\u001b[0m\u001b[0mword\u001b[0m\u001b[0;34m,\u001b[0m \u001b[0mget_wordnet_pos\u001b[0m\u001b[0;34m(\u001b[0m\u001b[0mword\u001b[0m\u001b[0;34m)\u001b[0m\u001b[0;34m)\u001b[0m \u001b[0;32mfor\u001b[0m \u001b[0mword\u001b[0m \u001b[0;32min\u001b[0m \u001b[0mnltk\u001b[0m\u001b[0;34m.\u001b[0m\u001b[0mword_tokenize\u001b[0m\u001b[0;34m(\u001b[0m\u001b[0mx\u001b[0m\u001b[0;34m)\u001b[0m\u001b[0;34m]\u001b[0m\u001b[0;34m)\u001b[0m\u001b[0;34m\u001b[0m\u001b[0;34m\u001b[0m\u001b[0m\n\u001b[0m",
      "\u001b[0;32m/anaconda3/lib/python3.7/site-packages/pandas/core/series.py\u001b[0m in \u001b[0;36mapply\u001b[0;34m(self, func, convert_dtype, args, **kwds)\u001b[0m\n\u001b[1;32m   4040\u001b[0m             \u001b[0;32melse\u001b[0m\u001b[0;34m:\u001b[0m\u001b[0;34m\u001b[0m\u001b[0;34m\u001b[0m\u001b[0m\n\u001b[1;32m   4041\u001b[0m                 \u001b[0mvalues\u001b[0m \u001b[0;34m=\u001b[0m \u001b[0mself\u001b[0m\u001b[0;34m.\u001b[0m\u001b[0mastype\u001b[0m\u001b[0;34m(\u001b[0m\u001b[0mobject\u001b[0m\u001b[0;34m)\u001b[0m\u001b[0;34m.\u001b[0m\u001b[0mvalues\u001b[0m\u001b[0;34m\u001b[0m\u001b[0;34m\u001b[0m\u001b[0m\n\u001b[0;32m-> 4042\u001b[0;31m                 \u001b[0mmapped\u001b[0m \u001b[0;34m=\u001b[0m \u001b[0mlib\u001b[0m\u001b[0;34m.\u001b[0m\u001b[0mmap_infer\u001b[0m\u001b[0;34m(\u001b[0m\u001b[0mvalues\u001b[0m\u001b[0;34m,\u001b[0m \u001b[0mf\u001b[0m\u001b[0;34m,\u001b[0m \u001b[0mconvert\u001b[0m\u001b[0;34m=\u001b[0m\u001b[0mconvert_dtype\u001b[0m\u001b[0;34m)\u001b[0m\u001b[0;34m\u001b[0m\u001b[0;34m\u001b[0m\u001b[0m\n\u001b[0m\u001b[1;32m   4043\u001b[0m \u001b[0;34m\u001b[0m\u001b[0m\n\u001b[1;32m   4044\u001b[0m         \u001b[0;32mif\u001b[0m \u001b[0mlen\u001b[0m\u001b[0;34m(\u001b[0m\u001b[0mmapped\u001b[0m\u001b[0;34m)\u001b[0m \u001b[0;32mand\u001b[0m \u001b[0misinstance\u001b[0m\u001b[0;34m(\u001b[0m\u001b[0mmapped\u001b[0m\u001b[0;34m[\u001b[0m\u001b[0;36m0\u001b[0m\u001b[0;34m]\u001b[0m\u001b[0;34m,\u001b[0m \u001b[0mSeries\u001b[0m\u001b[0;34m)\u001b[0m\u001b[0;34m:\u001b[0m\u001b[0;34m\u001b[0m\u001b[0;34m\u001b[0m\u001b[0m\n",
      "\u001b[0;32mpandas/_libs/lib.pyx\u001b[0m in \u001b[0;36mpandas._libs.lib.map_infer\u001b[0;34m()\u001b[0m\n",
      "\u001b[0;32m<ipython-input-85-369c1f40fe43>\u001b[0m in \u001b[0;36m<lambda>\u001b[0;34m(x)\u001b[0m\n\u001b[0;32m----> 1\u001b[0;31m \u001b[0mdf_test\u001b[0m\u001b[0;34m[\u001b[0m\u001b[0;34m'comments'\u001b[0m\u001b[0;34m]\u001b[0m \u001b[0;34m=\u001b[0m \u001b[0mdf_test\u001b[0m\u001b[0;34m[\u001b[0m\u001b[0;34m'comments'\u001b[0m\u001b[0;34m]\u001b[0m\u001b[0;34m.\u001b[0m\u001b[0mapply\u001b[0m\u001b[0;34m(\u001b[0m\u001b[0;32mlambda\u001b[0m \u001b[0mx\u001b[0m\u001b[0;34m:\u001b[0m \u001b[0;34m[\u001b[0m\u001b[0mlemmatizer\u001b[0m\u001b[0;34m.\u001b[0m\u001b[0mlemmatize\u001b[0m\u001b[0;34m(\u001b[0m\u001b[0mword\u001b[0m\u001b[0;34m,\u001b[0m \u001b[0mget_wordnet_pos\u001b[0m\u001b[0;34m(\u001b[0m\u001b[0mword\u001b[0m\u001b[0;34m)\u001b[0m\u001b[0;34m)\u001b[0m \u001b[0;32mfor\u001b[0m \u001b[0mword\u001b[0m \u001b[0;32min\u001b[0m \u001b[0mnltk\u001b[0m\u001b[0;34m.\u001b[0m\u001b[0mword_tokenize\u001b[0m\u001b[0;34m(\u001b[0m\u001b[0mx\u001b[0m\u001b[0;34m)\u001b[0m\u001b[0;34m]\u001b[0m\u001b[0;34m)\u001b[0m\u001b[0;34m\u001b[0m\u001b[0;34m\u001b[0m\u001b[0m\n\u001b[0m",
      "\u001b[0;32m/anaconda3/lib/python3.7/site-packages/nltk/tokenize/__init__.py\u001b[0m in \u001b[0;36mword_tokenize\u001b[0;34m(text, language, preserve_line)\u001b[0m\n\u001b[1;32m    141\u001b[0m     \u001b[0;34m:\u001b[0m\u001b[0mtype\u001b[0m \u001b[0mpreserve_line\u001b[0m\u001b[0;34m:\u001b[0m \u001b[0mbool\u001b[0m\u001b[0;34m\u001b[0m\u001b[0;34m\u001b[0m\u001b[0m\n\u001b[1;32m    142\u001b[0m     \"\"\"\n\u001b[0;32m--> 143\u001b[0;31m     \u001b[0msentences\u001b[0m \u001b[0;34m=\u001b[0m \u001b[0;34m[\u001b[0m\u001b[0mtext\u001b[0m\u001b[0;34m]\u001b[0m \u001b[0;32mif\u001b[0m \u001b[0mpreserve_line\u001b[0m \u001b[0;32melse\u001b[0m \u001b[0msent_tokenize\u001b[0m\u001b[0;34m(\u001b[0m\u001b[0mtext\u001b[0m\u001b[0;34m,\u001b[0m \u001b[0mlanguage\u001b[0m\u001b[0;34m)\u001b[0m\u001b[0;34m\u001b[0m\u001b[0;34m\u001b[0m\u001b[0m\n\u001b[0m\u001b[1;32m    144\u001b[0m     return [\n\u001b[1;32m    145\u001b[0m         \u001b[0mtoken\u001b[0m \u001b[0;32mfor\u001b[0m \u001b[0msent\u001b[0m \u001b[0;32min\u001b[0m \u001b[0msentences\u001b[0m \u001b[0;32mfor\u001b[0m \u001b[0mtoken\u001b[0m \u001b[0;32min\u001b[0m \u001b[0m_treebank_word_tokenizer\u001b[0m\u001b[0;34m.\u001b[0m\u001b[0mtokenize\u001b[0m\u001b[0;34m(\u001b[0m\u001b[0msent\u001b[0m\u001b[0;34m)\u001b[0m\u001b[0;34m\u001b[0m\u001b[0;34m\u001b[0m\u001b[0m\n",
      "\u001b[0;32m/anaconda3/lib/python3.7/site-packages/nltk/tokenize/__init__.py\u001b[0m in \u001b[0;36msent_tokenize\u001b[0;34m(text, language)\u001b[0m\n\u001b[1;32m    103\u001b[0m     \"\"\"\n\u001b[1;32m    104\u001b[0m     \u001b[0mtokenizer\u001b[0m \u001b[0;34m=\u001b[0m \u001b[0mload\u001b[0m\u001b[0;34m(\u001b[0m\u001b[0;34m'tokenizers/punkt/{0}.pickle'\u001b[0m\u001b[0;34m.\u001b[0m\u001b[0mformat\u001b[0m\u001b[0;34m(\u001b[0m\u001b[0mlanguage\u001b[0m\u001b[0;34m)\u001b[0m\u001b[0;34m)\u001b[0m\u001b[0;34m\u001b[0m\u001b[0;34m\u001b[0m\u001b[0m\n\u001b[0;32m--> 105\u001b[0;31m     \u001b[0;32mreturn\u001b[0m \u001b[0mtokenizer\u001b[0m\u001b[0;34m.\u001b[0m\u001b[0mtokenize\u001b[0m\u001b[0;34m(\u001b[0m\u001b[0mtext\u001b[0m\u001b[0;34m)\u001b[0m\u001b[0;34m\u001b[0m\u001b[0;34m\u001b[0m\u001b[0m\n\u001b[0m\u001b[1;32m    106\u001b[0m \u001b[0;34m\u001b[0m\u001b[0m\n\u001b[1;32m    107\u001b[0m \u001b[0;34m\u001b[0m\u001b[0m\n",
      "\u001b[0;32m/anaconda3/lib/python3.7/site-packages/nltk/tokenize/punkt.py\u001b[0m in \u001b[0;36mtokenize\u001b[0;34m(self, text, realign_boundaries)\u001b[0m\n\u001b[1;32m   1267\u001b[0m         \u001b[0mGiven\u001b[0m \u001b[0ma\u001b[0m \u001b[0mtext\u001b[0m\u001b[0;34m,\u001b[0m \u001b[0mreturns\u001b[0m \u001b[0ma\u001b[0m \u001b[0mlist\u001b[0m \u001b[0mof\u001b[0m \u001b[0mthe\u001b[0m \u001b[0msentences\u001b[0m \u001b[0;32min\u001b[0m \u001b[0mthat\u001b[0m \u001b[0mtext\u001b[0m\u001b[0;34m.\u001b[0m\u001b[0;34m\u001b[0m\u001b[0;34m\u001b[0m\u001b[0m\n\u001b[1;32m   1268\u001b[0m         \"\"\"\n\u001b[0;32m-> 1269\u001b[0;31m         \u001b[0;32mreturn\u001b[0m \u001b[0mlist\u001b[0m\u001b[0;34m(\u001b[0m\u001b[0mself\u001b[0m\u001b[0;34m.\u001b[0m\u001b[0msentences_from_text\u001b[0m\u001b[0;34m(\u001b[0m\u001b[0mtext\u001b[0m\u001b[0;34m,\u001b[0m \u001b[0mrealign_boundaries\u001b[0m\u001b[0;34m)\u001b[0m\u001b[0;34m)\u001b[0m\u001b[0;34m\u001b[0m\u001b[0;34m\u001b[0m\u001b[0m\n\u001b[0m\u001b[1;32m   1270\u001b[0m \u001b[0;34m\u001b[0m\u001b[0m\n\u001b[1;32m   1271\u001b[0m     \u001b[0;32mdef\u001b[0m \u001b[0mdebug_decisions\u001b[0m\u001b[0;34m(\u001b[0m\u001b[0mself\u001b[0m\u001b[0;34m,\u001b[0m \u001b[0mtext\u001b[0m\u001b[0;34m)\u001b[0m\u001b[0;34m:\u001b[0m\u001b[0;34m\u001b[0m\u001b[0;34m\u001b[0m\u001b[0m\n",
      "\u001b[0;32m/anaconda3/lib/python3.7/site-packages/nltk/tokenize/punkt.py\u001b[0m in \u001b[0;36msentences_from_text\u001b[0;34m(self, text, realign_boundaries)\u001b[0m\n\u001b[1;32m   1321\u001b[0m         \u001b[0mfollows\u001b[0m \u001b[0mthe\u001b[0m \u001b[0mperiod\u001b[0m\u001b[0;34m.\u001b[0m\u001b[0;34m\u001b[0m\u001b[0;34m\u001b[0m\u001b[0m\n\u001b[1;32m   1322\u001b[0m         \"\"\"\n\u001b[0;32m-> 1323\u001b[0;31m         \u001b[0;32mreturn\u001b[0m \u001b[0;34m[\u001b[0m\u001b[0mtext\u001b[0m\u001b[0;34m[\u001b[0m\u001b[0ms\u001b[0m\u001b[0;34m:\u001b[0m\u001b[0me\u001b[0m\u001b[0;34m]\u001b[0m \u001b[0;32mfor\u001b[0m \u001b[0ms\u001b[0m\u001b[0;34m,\u001b[0m \u001b[0me\u001b[0m \u001b[0;32min\u001b[0m \u001b[0mself\u001b[0m\u001b[0;34m.\u001b[0m\u001b[0mspan_tokenize\u001b[0m\u001b[0;34m(\u001b[0m\u001b[0mtext\u001b[0m\u001b[0;34m,\u001b[0m \u001b[0mrealign_boundaries\u001b[0m\u001b[0;34m)\u001b[0m\u001b[0;34m]\u001b[0m\u001b[0;34m\u001b[0m\u001b[0;34m\u001b[0m\u001b[0m\n\u001b[0m\u001b[1;32m   1324\u001b[0m \u001b[0;34m\u001b[0m\u001b[0m\n\u001b[1;32m   1325\u001b[0m     \u001b[0;32mdef\u001b[0m \u001b[0m_slices_from_text\u001b[0m\u001b[0;34m(\u001b[0m\u001b[0mself\u001b[0m\u001b[0;34m,\u001b[0m \u001b[0mtext\u001b[0m\u001b[0;34m)\u001b[0m\u001b[0;34m:\u001b[0m\u001b[0;34m\u001b[0m\u001b[0;34m\u001b[0m\u001b[0m\n",
      "\u001b[0;32m/anaconda3/lib/python3.7/site-packages/nltk/tokenize/punkt.py\u001b[0m in \u001b[0;36m<listcomp>\u001b[0;34m(.0)\u001b[0m\n\u001b[1;32m   1321\u001b[0m         \u001b[0mfollows\u001b[0m \u001b[0mthe\u001b[0m \u001b[0mperiod\u001b[0m\u001b[0;34m.\u001b[0m\u001b[0;34m\u001b[0m\u001b[0;34m\u001b[0m\u001b[0m\n\u001b[1;32m   1322\u001b[0m         \"\"\"\n\u001b[0;32m-> 1323\u001b[0;31m         \u001b[0;32mreturn\u001b[0m \u001b[0;34m[\u001b[0m\u001b[0mtext\u001b[0m\u001b[0;34m[\u001b[0m\u001b[0ms\u001b[0m\u001b[0;34m:\u001b[0m\u001b[0me\u001b[0m\u001b[0;34m]\u001b[0m \u001b[0;32mfor\u001b[0m \u001b[0ms\u001b[0m\u001b[0;34m,\u001b[0m \u001b[0me\u001b[0m \u001b[0;32min\u001b[0m \u001b[0mself\u001b[0m\u001b[0;34m.\u001b[0m\u001b[0mspan_tokenize\u001b[0m\u001b[0;34m(\u001b[0m\u001b[0mtext\u001b[0m\u001b[0;34m,\u001b[0m \u001b[0mrealign_boundaries\u001b[0m\u001b[0;34m)\u001b[0m\u001b[0;34m]\u001b[0m\u001b[0;34m\u001b[0m\u001b[0;34m\u001b[0m\u001b[0m\n\u001b[0m\u001b[1;32m   1324\u001b[0m \u001b[0;34m\u001b[0m\u001b[0m\n\u001b[1;32m   1325\u001b[0m     \u001b[0;32mdef\u001b[0m \u001b[0m_slices_from_text\u001b[0m\u001b[0;34m(\u001b[0m\u001b[0mself\u001b[0m\u001b[0;34m,\u001b[0m \u001b[0mtext\u001b[0m\u001b[0;34m)\u001b[0m\u001b[0;34m:\u001b[0m\u001b[0;34m\u001b[0m\u001b[0;34m\u001b[0m\u001b[0m\n",
      "\u001b[0;32m/anaconda3/lib/python3.7/site-packages/nltk/tokenize/punkt.py\u001b[0m in \u001b[0;36mspan_tokenize\u001b[0;34m(self, text, realign_boundaries)\u001b[0m\n\u001b[1;32m   1311\u001b[0m         \u001b[0;32mif\u001b[0m \u001b[0mrealign_boundaries\u001b[0m\u001b[0;34m:\u001b[0m\u001b[0;34m\u001b[0m\u001b[0;34m\u001b[0m\u001b[0m\n\u001b[1;32m   1312\u001b[0m             \u001b[0mslices\u001b[0m \u001b[0;34m=\u001b[0m \u001b[0mself\u001b[0m\u001b[0;34m.\u001b[0m\u001b[0m_realign_boundaries\u001b[0m\u001b[0;34m(\u001b[0m\u001b[0mtext\u001b[0m\u001b[0;34m,\u001b[0m \u001b[0mslices\u001b[0m\u001b[0;34m)\u001b[0m\u001b[0;34m\u001b[0m\u001b[0;34m\u001b[0m\u001b[0m\n\u001b[0;32m-> 1313\u001b[0;31m         \u001b[0;32mfor\u001b[0m \u001b[0msl\u001b[0m \u001b[0;32min\u001b[0m \u001b[0mslices\u001b[0m\u001b[0;34m:\u001b[0m\u001b[0;34m\u001b[0m\u001b[0;34m\u001b[0m\u001b[0m\n\u001b[0m\u001b[1;32m   1314\u001b[0m             \u001b[0;32myield\u001b[0m \u001b[0;34m(\u001b[0m\u001b[0msl\u001b[0m\u001b[0;34m.\u001b[0m\u001b[0mstart\u001b[0m\u001b[0;34m,\u001b[0m \u001b[0msl\u001b[0m\u001b[0;34m.\u001b[0m\u001b[0mstop\u001b[0m\u001b[0;34m)\u001b[0m\u001b[0;34m\u001b[0m\u001b[0;34m\u001b[0m\u001b[0m\n\u001b[1;32m   1315\u001b[0m \u001b[0;34m\u001b[0m\u001b[0m\n",
      "\u001b[0;32m/anaconda3/lib/python3.7/site-packages/nltk/tokenize/punkt.py\u001b[0m in \u001b[0;36m_realign_boundaries\u001b[0;34m(self, text, slices)\u001b[0m\n\u001b[1;32m   1352\u001b[0m         \"\"\"\n\u001b[1;32m   1353\u001b[0m         \u001b[0mrealign\u001b[0m \u001b[0;34m=\u001b[0m \u001b[0;36m0\u001b[0m\u001b[0;34m\u001b[0m\u001b[0;34m\u001b[0m\u001b[0m\n\u001b[0;32m-> 1354\u001b[0;31m         \u001b[0;32mfor\u001b[0m \u001b[0msl1\u001b[0m\u001b[0;34m,\u001b[0m \u001b[0msl2\u001b[0m \u001b[0;32min\u001b[0m \u001b[0m_pair_iter\u001b[0m\u001b[0;34m(\u001b[0m\u001b[0mslices\u001b[0m\u001b[0;34m)\u001b[0m\u001b[0;34m:\u001b[0m\u001b[0;34m\u001b[0m\u001b[0;34m\u001b[0m\u001b[0m\n\u001b[0m\u001b[1;32m   1355\u001b[0m             \u001b[0msl1\u001b[0m \u001b[0;34m=\u001b[0m \u001b[0mslice\u001b[0m\u001b[0;34m(\u001b[0m\u001b[0msl1\u001b[0m\u001b[0;34m.\u001b[0m\u001b[0mstart\u001b[0m \u001b[0;34m+\u001b[0m \u001b[0mrealign\u001b[0m\u001b[0;34m,\u001b[0m \u001b[0msl1\u001b[0m\u001b[0;34m.\u001b[0m\u001b[0mstop\u001b[0m\u001b[0;34m)\u001b[0m\u001b[0;34m\u001b[0m\u001b[0;34m\u001b[0m\u001b[0m\n\u001b[1;32m   1356\u001b[0m             \u001b[0;32mif\u001b[0m \u001b[0;32mnot\u001b[0m \u001b[0msl2\u001b[0m\u001b[0;34m:\u001b[0m\u001b[0;34m\u001b[0m\u001b[0;34m\u001b[0m\u001b[0m\n",
      "\u001b[0;32m/anaconda3/lib/python3.7/site-packages/nltk/tokenize/punkt.py\u001b[0m in \u001b[0;36m_pair_iter\u001b[0;34m(it)\u001b[0m\n\u001b[1;32m    315\u001b[0m     \"\"\"\n\u001b[1;32m    316\u001b[0m     \u001b[0mit\u001b[0m \u001b[0;34m=\u001b[0m \u001b[0miter\u001b[0m\u001b[0;34m(\u001b[0m\u001b[0mit\u001b[0m\u001b[0;34m)\u001b[0m\u001b[0;34m\u001b[0m\u001b[0;34m\u001b[0m\u001b[0m\n\u001b[0;32m--> 317\u001b[0;31m     \u001b[0mprev\u001b[0m \u001b[0;34m=\u001b[0m \u001b[0mnext\u001b[0m\u001b[0;34m(\u001b[0m\u001b[0mit\u001b[0m\u001b[0;34m)\u001b[0m\u001b[0;34m\u001b[0m\u001b[0;34m\u001b[0m\u001b[0m\n\u001b[0m\u001b[1;32m    318\u001b[0m     \u001b[0;32mfor\u001b[0m \u001b[0mel\u001b[0m \u001b[0;32min\u001b[0m \u001b[0mit\u001b[0m\u001b[0;34m:\u001b[0m\u001b[0;34m\u001b[0m\u001b[0;34m\u001b[0m\u001b[0m\n\u001b[1;32m    319\u001b[0m         \u001b[0;32myield\u001b[0m \u001b[0;34m(\u001b[0m\u001b[0mprev\u001b[0m\u001b[0;34m,\u001b[0m \u001b[0mel\u001b[0m\u001b[0;34m)\u001b[0m\u001b[0;34m\u001b[0m\u001b[0;34m\u001b[0m\u001b[0m\n",
      "\u001b[0;32m/anaconda3/lib/python3.7/site-packages/nltk/tokenize/punkt.py\u001b[0m in \u001b[0;36m_slices_from_text\u001b[0;34m(self, text)\u001b[0m\n\u001b[1;32m   1325\u001b[0m     \u001b[0;32mdef\u001b[0m \u001b[0m_slices_from_text\u001b[0m\u001b[0;34m(\u001b[0m\u001b[0mself\u001b[0m\u001b[0;34m,\u001b[0m \u001b[0mtext\u001b[0m\u001b[0;34m)\u001b[0m\u001b[0;34m:\u001b[0m\u001b[0;34m\u001b[0m\u001b[0;34m\u001b[0m\u001b[0m\n\u001b[1;32m   1326\u001b[0m         \u001b[0mlast_break\u001b[0m \u001b[0;34m=\u001b[0m \u001b[0;36m0\u001b[0m\u001b[0;34m\u001b[0m\u001b[0;34m\u001b[0m\u001b[0m\n\u001b[0;32m-> 1327\u001b[0;31m         \u001b[0;32mfor\u001b[0m \u001b[0mmatch\u001b[0m \u001b[0;32min\u001b[0m \u001b[0mself\u001b[0m\u001b[0;34m.\u001b[0m\u001b[0m_lang_vars\u001b[0m\u001b[0;34m.\u001b[0m\u001b[0mperiod_context_re\u001b[0m\u001b[0;34m(\u001b[0m\u001b[0;34m)\u001b[0m\u001b[0;34m.\u001b[0m\u001b[0mfinditer\u001b[0m\u001b[0;34m(\u001b[0m\u001b[0mtext\u001b[0m\u001b[0;34m)\u001b[0m\u001b[0;34m:\u001b[0m\u001b[0;34m\u001b[0m\u001b[0;34m\u001b[0m\u001b[0m\n\u001b[0m\u001b[1;32m   1328\u001b[0m             \u001b[0mcontext\u001b[0m \u001b[0;34m=\u001b[0m \u001b[0mmatch\u001b[0m\u001b[0;34m.\u001b[0m\u001b[0mgroup\u001b[0m\u001b[0;34m(\u001b[0m\u001b[0;34m)\u001b[0m \u001b[0;34m+\u001b[0m \u001b[0mmatch\u001b[0m\u001b[0;34m.\u001b[0m\u001b[0mgroup\u001b[0m\u001b[0;34m(\u001b[0m\u001b[0;34m'after_tok'\u001b[0m\u001b[0;34m)\u001b[0m\u001b[0;34m\u001b[0m\u001b[0;34m\u001b[0m\u001b[0m\n\u001b[1;32m   1329\u001b[0m             \u001b[0;32mif\u001b[0m \u001b[0mself\u001b[0m\u001b[0;34m.\u001b[0m\u001b[0mtext_contains_sentbreak\u001b[0m\u001b[0;34m(\u001b[0m\u001b[0mcontext\u001b[0m\u001b[0;34m)\u001b[0m\u001b[0;34m:\u001b[0m\u001b[0;34m\u001b[0m\u001b[0;34m\u001b[0m\u001b[0m\n",
      "\u001b[0;31mTypeError\u001b[0m: expected string or bytes-like object"
     ]
    }
   ],
   "source": [
    "df_test['comments'] = df_test['comments'].apply(lambda x: [lemmatizer.lemmatize(word, get_wordnet_pos(word)) for word in nltk.word_tokenize(x)])"
   ]
  },
  {
   "cell_type": "code",
   "execution_count": 66,
   "metadata": {
    "ExecuteTime": {
     "end_time": "2019-12-03T22:57:46.038670Z",
     "start_time": "2019-12-03T22:57:45.992409Z"
    }
   },
   "outputs": [
    {
     "ename": "TypeError",
     "evalue": "'WordNetLemmatizer' object is not callable",
     "output_type": "error",
     "traceback": [
      "\u001b[0;31m---------------------------------------------------------------------------\u001b[0m",
      "\u001b[0;31mTypeError\u001b[0m                                 Traceback (most recent call last)",
      "\u001b[0;32m<ipython-input-66-962ad024df5f>\u001b[0m in \u001b[0;36m<module>\u001b[0;34m\u001b[0m\n\u001b[0;32m----> 1\u001b[0;31m \u001b[0mdf_test\u001b[0m\u001b[0;34m[\u001b[0m\u001b[0;34m'comments'\u001b[0m\u001b[0;34m]\u001b[0m \u001b[0;34m=\u001b[0m \u001b[0mdf_test\u001b[0m\u001b[0;34m[\u001b[0m\u001b[0;34m'comments'\u001b[0m\u001b[0;34m]\u001b[0m\u001b[0;34m.\u001b[0m\u001b[0mapply\u001b[0m\u001b[0;34m(\u001b[0m\u001b[0;32mlambda\u001b[0m \u001b[0mx\u001b[0m\u001b[0;34m:\u001b[0m \u001b[0mlemmitization\u001b[0m\u001b[0;34m(\u001b[0m\u001b[0mx\u001b[0m\u001b[0;34m)\u001b[0m\u001b[0;34m)\u001b[0m\u001b[0;34m\u001b[0m\u001b[0;34m\u001b[0m\u001b[0m\n\u001b[0m",
      "\u001b[0;32m/anaconda3/lib/python3.7/site-packages/pandas/core/series.py\u001b[0m in \u001b[0;36mapply\u001b[0;34m(self, func, convert_dtype, args, **kwds)\u001b[0m\n\u001b[1;32m   4040\u001b[0m             \u001b[0;32melse\u001b[0m\u001b[0;34m:\u001b[0m\u001b[0;34m\u001b[0m\u001b[0;34m\u001b[0m\u001b[0m\n\u001b[1;32m   4041\u001b[0m                 \u001b[0mvalues\u001b[0m \u001b[0;34m=\u001b[0m \u001b[0mself\u001b[0m\u001b[0;34m.\u001b[0m\u001b[0mastype\u001b[0m\u001b[0;34m(\u001b[0m\u001b[0mobject\u001b[0m\u001b[0;34m)\u001b[0m\u001b[0;34m.\u001b[0m\u001b[0mvalues\u001b[0m\u001b[0;34m\u001b[0m\u001b[0;34m\u001b[0m\u001b[0m\n\u001b[0;32m-> 4042\u001b[0;31m                 \u001b[0mmapped\u001b[0m \u001b[0;34m=\u001b[0m \u001b[0mlib\u001b[0m\u001b[0;34m.\u001b[0m\u001b[0mmap_infer\u001b[0m\u001b[0;34m(\u001b[0m\u001b[0mvalues\u001b[0m\u001b[0;34m,\u001b[0m \u001b[0mf\u001b[0m\u001b[0;34m,\u001b[0m \u001b[0mconvert\u001b[0m\u001b[0;34m=\u001b[0m\u001b[0mconvert_dtype\u001b[0m\u001b[0;34m)\u001b[0m\u001b[0;34m\u001b[0m\u001b[0;34m\u001b[0m\u001b[0m\n\u001b[0m\u001b[1;32m   4043\u001b[0m \u001b[0;34m\u001b[0m\u001b[0m\n\u001b[1;32m   4044\u001b[0m         \u001b[0;32mif\u001b[0m \u001b[0mlen\u001b[0m\u001b[0;34m(\u001b[0m\u001b[0mmapped\u001b[0m\u001b[0;34m)\u001b[0m \u001b[0;32mand\u001b[0m \u001b[0misinstance\u001b[0m\u001b[0;34m(\u001b[0m\u001b[0mmapped\u001b[0m\u001b[0;34m[\u001b[0m\u001b[0;36m0\u001b[0m\u001b[0;34m]\u001b[0m\u001b[0;34m,\u001b[0m \u001b[0mSeries\u001b[0m\u001b[0;34m)\u001b[0m\u001b[0;34m:\u001b[0m\u001b[0;34m\u001b[0m\u001b[0;34m\u001b[0m\u001b[0m\n",
      "\u001b[0;32mpandas/_libs/lib.pyx\u001b[0m in \u001b[0;36mpandas._libs.lib.map_infer\u001b[0;34m()\u001b[0m\n",
      "\u001b[0;32m<ipython-input-66-962ad024df5f>\u001b[0m in \u001b[0;36m<lambda>\u001b[0;34m(x)\u001b[0m\n\u001b[0;32m----> 1\u001b[0;31m \u001b[0mdf_test\u001b[0m\u001b[0;34m[\u001b[0m\u001b[0;34m'comments'\u001b[0m\u001b[0;34m]\u001b[0m \u001b[0;34m=\u001b[0m \u001b[0mdf_test\u001b[0m\u001b[0;34m[\u001b[0m\u001b[0;34m'comments'\u001b[0m\u001b[0;34m]\u001b[0m\u001b[0;34m.\u001b[0m\u001b[0mapply\u001b[0m\u001b[0;34m(\u001b[0m\u001b[0;32mlambda\u001b[0m \u001b[0mx\u001b[0m\u001b[0;34m:\u001b[0m \u001b[0mlemmitization\u001b[0m\u001b[0;34m(\u001b[0m\u001b[0mx\u001b[0m\u001b[0;34m)\u001b[0m\u001b[0;34m)\u001b[0m\u001b[0;34m\u001b[0m\u001b[0;34m\u001b[0m\u001b[0m\n\u001b[0m",
      "\u001b[0;32m<ipython-input-64-55c15cce9624>\u001b[0m in \u001b[0;36mlemmitization\u001b[0;34m(text)\u001b[0m\n\u001b[1;32m      3\u001b[0m     \u001b[0mlemmedtext\u001b[0m \u001b[0;34m=\u001b[0m \u001b[0;34m[\u001b[0m\u001b[0;34m]\u001b[0m\u001b[0;34m\u001b[0m\u001b[0;34m\u001b[0m\u001b[0m\n\u001b[1;32m      4\u001b[0m     \u001b[0;32mfor\u001b[0m \u001b[0mword\u001b[0m \u001b[0;32min\u001b[0m \u001b[0mtext\u001b[0m\u001b[0;34m:\u001b[0m\u001b[0;34m\u001b[0m\u001b[0;34m\u001b[0m\u001b[0m\n\u001b[0;32m----> 5\u001b[0;31m         \u001b[0mlemmedword\u001b[0m \u001b[0;34m=\u001b[0m \u001b[0mwordnet_lemmatizer\u001b[0m\u001b[0;34m(\u001b[0m\u001b[0mword\u001b[0m\u001b[0;34m,\u001b[0m \u001b[0mpos\u001b[0m\u001b[0;34m=\u001b[0m\u001b[0;34m'v'\u001b[0m\u001b[0;34m)\u001b[0m\u001b[0;34m\u001b[0m\u001b[0;34m\u001b[0m\u001b[0m\n\u001b[0m\u001b[1;32m      6\u001b[0m         \u001b[0mlemmedtext\u001b[0m\u001b[0;34m.\u001b[0m\u001b[0mappend\u001b[0m\u001b[0;34m(\u001b[0m\u001b[0mlemmedword\u001b[0m\u001b[0;34m)\u001b[0m\u001b[0;34m\u001b[0m\u001b[0;34m\u001b[0m\u001b[0m\n\u001b[1;32m      7\u001b[0m     \u001b[0mtext\u001b[0m \u001b[0;34m=\u001b[0m \u001b[0;34m' '\u001b[0m\u001b[0;34m.\u001b[0m\u001b[0mjoin\u001b[0m\u001b[0;34m(\u001b[0m\u001b[0mlemmedtext\u001b[0m\u001b[0;34m)\u001b[0m\u001b[0;34m\u001b[0m\u001b[0;34m\u001b[0m\u001b[0m\n",
      "\u001b[0;31mTypeError\u001b[0m: 'WordNetLemmatizer' object is not callable"
     ]
    }
   ],
   "source": [
    "df_test['comments'] = df_test['comments'].apply(lambda x: lemmitization(x))"
   ]
  },
  {
   "cell_type": "code",
   "execution_count": 44,
   "metadata": {
    "ExecuteTime": {
     "end_time": "2019-12-03T22:44:30.465787Z",
     "start_time": "2019-12-03T22:44:30.461576Z"
    }
   },
   "outputs": [],
   "source": [
    "def stemming(text):\n",
    "    text = ' '.join(stemmer(word) for word in text.split())\n",
    "    return text"
   ]
  },
  {
   "cell_type": "markdown",
   "metadata": {},
   "source": [
    "#### A combined function "
   ]
  },
  {
   "cell_type": "code",
   "execution_count": 62,
   "metadata": {
    "ExecuteTime": {
     "end_time": "2019-12-03T22:51:16.487348Z",
     "start_time": "2019-12-03T22:51:16.480667Z"
    }
   },
   "outputs": [],
   "source": [
    "\n",
    "# cleaning function\n",
    "def preprocess(text):\n",
    "    # convert to lower case\n",
    "    text = text.lower()\n",
    "    # remove numbers\n",
    "    text = re.sub(r'\\d+', '', text)\n",
    "    # remove punctuation \n",
    "    text = ' '.join(text.replace(punctuation, '') for punctuation in string.punctuation)\n",
    "    # remove stop words\n",
    "    text = ' '.join(word for word in text.split() if not word in stop_words)\n",
    "    # Lemmitization\n",
    "    # text = ' '.join(wordnet_lemmatizer(word for word in text.split()))\n",
    "    # stemming \n",
    "    text = ' '.join(stemmer(word) for word in text.split())\n",
    "    return text "
   ]
  },
  {
   "cell_type": "markdown",
   "metadata": {},
   "source": [
    "**Try on the complete dataset** "
   ]
  },
  {
   "cell_type": "code",
   "execution_count": 63,
   "metadata": {
    "ExecuteTime": {
     "end_time": "2019-12-03T22:51:18.889551Z",
     "start_time": "2019-12-03T22:51:18.529009Z"
    }
   },
   "outputs": [
    {
     "ename": "TypeError",
     "evalue": "'PorterStemmer' object is not callable",
     "output_type": "error",
     "traceback": [
      "\u001b[0;31m---------------------------------------------------------------------------\u001b[0m",
      "\u001b[0;31mTypeError\u001b[0m                                 Traceback (most recent call last)",
      "\u001b[0;32m<ipython-input-63-d7eb7e910cda>\u001b[0m in \u001b[0;36m<module>\u001b[0;34m\u001b[0m\n\u001b[0;32m----> 1\u001b[0;31m \u001b[0mdf_clean_comments\u001b[0m\u001b[0;34m[\u001b[0m\u001b[0;34m'comments'\u001b[0m\u001b[0;34m]\u001b[0m \u001b[0;34m=\u001b[0m \u001b[0mdf_clean_comments\u001b[0m\u001b[0;34m[\u001b[0m\u001b[0;34m'comments'\u001b[0m\u001b[0;34m]\u001b[0m\u001b[0;34m.\u001b[0m\u001b[0mapply\u001b[0m\u001b[0;34m(\u001b[0m\u001b[0;32mlambda\u001b[0m \u001b[0mx\u001b[0m\u001b[0;34m:\u001b[0m \u001b[0mpreprocess\u001b[0m\u001b[0;34m(\u001b[0m\u001b[0mx\u001b[0m\u001b[0;34m)\u001b[0m\u001b[0;34m)\u001b[0m\u001b[0;34m\u001b[0m\u001b[0;34m\u001b[0m\u001b[0m\n\u001b[0m\u001b[1;32m      2\u001b[0m \u001b[0mdf_clean_comments\u001b[0m\u001b[0;34m.\u001b[0m\u001b[0mhead\u001b[0m\u001b[0;34m(\u001b[0m\u001b[0;36m10\u001b[0m\u001b[0;34m)\u001b[0m\u001b[0;34m\u001b[0m\u001b[0;34m\u001b[0m\u001b[0m\n",
      "\u001b[0;32m/anaconda3/lib/python3.7/site-packages/pandas/core/series.py\u001b[0m in \u001b[0;36mapply\u001b[0;34m(self, func, convert_dtype, args, **kwds)\u001b[0m\n\u001b[1;32m   4040\u001b[0m             \u001b[0;32melse\u001b[0m\u001b[0;34m:\u001b[0m\u001b[0;34m\u001b[0m\u001b[0;34m\u001b[0m\u001b[0m\n\u001b[1;32m   4041\u001b[0m                 \u001b[0mvalues\u001b[0m \u001b[0;34m=\u001b[0m \u001b[0mself\u001b[0m\u001b[0;34m.\u001b[0m\u001b[0mastype\u001b[0m\u001b[0;34m(\u001b[0m\u001b[0mobject\u001b[0m\u001b[0;34m)\u001b[0m\u001b[0;34m.\u001b[0m\u001b[0mvalues\u001b[0m\u001b[0;34m\u001b[0m\u001b[0;34m\u001b[0m\u001b[0m\n\u001b[0;32m-> 4042\u001b[0;31m                 \u001b[0mmapped\u001b[0m \u001b[0;34m=\u001b[0m \u001b[0mlib\u001b[0m\u001b[0;34m.\u001b[0m\u001b[0mmap_infer\u001b[0m\u001b[0;34m(\u001b[0m\u001b[0mvalues\u001b[0m\u001b[0;34m,\u001b[0m \u001b[0mf\u001b[0m\u001b[0;34m,\u001b[0m \u001b[0mconvert\u001b[0m\u001b[0;34m=\u001b[0m\u001b[0mconvert_dtype\u001b[0m\u001b[0;34m)\u001b[0m\u001b[0;34m\u001b[0m\u001b[0;34m\u001b[0m\u001b[0m\n\u001b[0m\u001b[1;32m   4043\u001b[0m \u001b[0;34m\u001b[0m\u001b[0m\n\u001b[1;32m   4044\u001b[0m         \u001b[0;32mif\u001b[0m \u001b[0mlen\u001b[0m\u001b[0;34m(\u001b[0m\u001b[0mmapped\u001b[0m\u001b[0;34m)\u001b[0m \u001b[0;32mand\u001b[0m \u001b[0misinstance\u001b[0m\u001b[0;34m(\u001b[0m\u001b[0mmapped\u001b[0m\u001b[0;34m[\u001b[0m\u001b[0;36m0\u001b[0m\u001b[0;34m]\u001b[0m\u001b[0;34m,\u001b[0m \u001b[0mSeries\u001b[0m\u001b[0;34m)\u001b[0m\u001b[0;34m:\u001b[0m\u001b[0;34m\u001b[0m\u001b[0;34m\u001b[0m\u001b[0m\n",
      "\u001b[0;32mpandas/_libs/lib.pyx\u001b[0m in \u001b[0;36mpandas._libs.lib.map_infer\u001b[0;34m()\u001b[0m\n",
      "\u001b[0;32m<ipython-input-63-d7eb7e910cda>\u001b[0m in \u001b[0;36m<lambda>\u001b[0;34m(x)\u001b[0m\n\u001b[0;32m----> 1\u001b[0;31m \u001b[0mdf_clean_comments\u001b[0m\u001b[0;34m[\u001b[0m\u001b[0;34m'comments'\u001b[0m\u001b[0;34m]\u001b[0m \u001b[0;34m=\u001b[0m \u001b[0mdf_clean_comments\u001b[0m\u001b[0;34m[\u001b[0m\u001b[0;34m'comments'\u001b[0m\u001b[0;34m]\u001b[0m\u001b[0;34m.\u001b[0m\u001b[0mapply\u001b[0m\u001b[0;34m(\u001b[0m\u001b[0;32mlambda\u001b[0m \u001b[0mx\u001b[0m\u001b[0;34m:\u001b[0m \u001b[0mpreprocess\u001b[0m\u001b[0;34m(\u001b[0m\u001b[0mx\u001b[0m\u001b[0;34m)\u001b[0m\u001b[0;34m)\u001b[0m\u001b[0;34m\u001b[0m\u001b[0;34m\u001b[0m\u001b[0m\n\u001b[0m\u001b[1;32m      2\u001b[0m \u001b[0mdf_clean_comments\u001b[0m\u001b[0;34m.\u001b[0m\u001b[0mhead\u001b[0m\u001b[0;34m(\u001b[0m\u001b[0;36m10\u001b[0m\u001b[0;34m)\u001b[0m\u001b[0;34m\u001b[0m\u001b[0;34m\u001b[0m\u001b[0m\n",
      "\u001b[0;32m<ipython-input-62-fd8ab1d9a338>\u001b[0m in \u001b[0;36mpreprocess\u001b[0;34m(text)\u001b[0m\n\u001b[1;32m     14\u001b[0m     \u001b[0;31m# text = ' '.join(wordnet_lemmatizer(word for word in text.split()))\u001b[0m\u001b[0;34m\u001b[0m\u001b[0;34m\u001b[0m\u001b[0;34m\u001b[0m\u001b[0m\n\u001b[1;32m     15\u001b[0m     \u001b[0;31m# stemming\u001b[0m\u001b[0;34m\u001b[0m\u001b[0;34m\u001b[0m\u001b[0;34m\u001b[0m\u001b[0m\n\u001b[0;32m---> 16\u001b[0;31m     \u001b[0mtext\u001b[0m \u001b[0;34m=\u001b[0m \u001b[0;34m' '\u001b[0m\u001b[0;34m.\u001b[0m\u001b[0mjoin\u001b[0m\u001b[0;34m(\u001b[0m\u001b[0mstemmer\u001b[0m\u001b[0;34m(\u001b[0m\u001b[0mword\u001b[0m\u001b[0;34m)\u001b[0m \u001b[0;32mfor\u001b[0m \u001b[0mword\u001b[0m \u001b[0;32min\u001b[0m \u001b[0mtext\u001b[0m\u001b[0;34m.\u001b[0m\u001b[0msplit\u001b[0m\u001b[0;34m(\u001b[0m\u001b[0;34m)\u001b[0m\u001b[0;34m)\u001b[0m\u001b[0;34m\u001b[0m\u001b[0;34m\u001b[0m\u001b[0m\n\u001b[0m\u001b[1;32m     17\u001b[0m     \u001b[0;32mreturn\u001b[0m \u001b[0mtext\u001b[0m\u001b[0;34m\u001b[0m\u001b[0;34m\u001b[0m\u001b[0m\n",
      "\u001b[0;32m<ipython-input-62-fd8ab1d9a338>\u001b[0m in \u001b[0;36m<genexpr>\u001b[0;34m(.0)\u001b[0m\n\u001b[1;32m     14\u001b[0m     \u001b[0;31m# text = ' '.join(wordnet_lemmatizer(word for word in text.split()))\u001b[0m\u001b[0;34m\u001b[0m\u001b[0;34m\u001b[0m\u001b[0;34m\u001b[0m\u001b[0m\n\u001b[1;32m     15\u001b[0m     \u001b[0;31m# stemming\u001b[0m\u001b[0;34m\u001b[0m\u001b[0;34m\u001b[0m\u001b[0;34m\u001b[0m\u001b[0m\n\u001b[0;32m---> 16\u001b[0;31m     \u001b[0mtext\u001b[0m \u001b[0;34m=\u001b[0m \u001b[0;34m' '\u001b[0m\u001b[0;34m.\u001b[0m\u001b[0mjoin\u001b[0m\u001b[0;34m(\u001b[0m\u001b[0mstemmer\u001b[0m\u001b[0;34m(\u001b[0m\u001b[0mword\u001b[0m\u001b[0;34m)\u001b[0m \u001b[0;32mfor\u001b[0m \u001b[0mword\u001b[0m \u001b[0;32min\u001b[0m \u001b[0mtext\u001b[0m\u001b[0;34m.\u001b[0m\u001b[0msplit\u001b[0m\u001b[0;34m(\u001b[0m\u001b[0;34m)\u001b[0m\u001b[0;34m)\u001b[0m\u001b[0;34m\u001b[0m\u001b[0;34m\u001b[0m\u001b[0m\n\u001b[0m\u001b[1;32m     17\u001b[0m     \u001b[0;32mreturn\u001b[0m \u001b[0mtext\u001b[0m\u001b[0;34m\u001b[0m\u001b[0;34m\u001b[0m\u001b[0m\n",
      "\u001b[0;31mTypeError\u001b[0m: 'PorterStemmer' object is not callable"
     ]
    }
   ],
   "source": [
    "df_clean_comments['comments'] = df_clean_comments['comments'].apply(lambda x: preprocess(x))\n",
    "df_clean_comments.head(10)"
   ]
  },
  {
   "cell_type": "code",
   "execution_count": 52,
   "metadata": {
    "ExecuteTime": {
     "end_time": "2019-12-03T04:49:24.274374Z",
     "start_time": "2019-12-03T04:49:16.920617Z"
    }
   },
   "outputs": [
    {
     "data": {
      "text/plain": [
       "61310757"
      ]
     },
     "execution_count": 52,
     "metadata": {},
     "output_type": "execute_result"
    }
   ],
   "source": [
    "df_clean_comments['comments'].apply(lambda x: len(x.split(' '))).sum()\n",
    "# 61 millions words!!! "
   ]
  },
  {
   "cell_type": "code",
   "execution_count": 54,
   "metadata": {
    "ExecuteTime": {
     "end_time": "2019-12-03T05:09:58.786235Z",
     "start_time": "2019-12-03T05:09:58.189859Z"
    }
   },
   "outputs": [
    {
     "data": {
      "text/plain": [
       "MBTI        0\n",
       "comments    0\n",
       "dtype: int64"
      ]
     },
     "execution_count": 54,
     "metadata": {},
     "output_type": "execute_result"
    }
   ],
   "source": [
    "# check for Nan after the cleaning \n",
    "df_clean_comments.isna().sum()"
   ]
  },
  {
   "cell_type": "code",
   "execution_count": 55,
   "metadata": {
    "ExecuteTime": {
     "end_time": "2019-12-03T05:15:41.379802Z",
     "start_time": "2019-12-03T05:15:38.939329Z"
    }
   },
   "outputs": [
    {
     "data": {
      "text/html": [
       "<div>\n",
       "<style scoped>\n",
       "    .dataframe tbody tr th:only-of-type {\n",
       "        vertical-align: middle;\n",
       "    }\n",
       "\n",
       "    .dataframe tbody tr th {\n",
       "        vertical-align: top;\n",
       "    }\n",
       "\n",
       "    .dataframe thead th {\n",
       "        text-align: right;\n",
       "    }\n",
       "</style>\n",
       "<table border=\"1\" class=\"dataframe\">\n",
       "  <thead>\n",
       "    <tr style=\"text-align: right;\">\n",
       "      <th></th>\n",
       "      <th>MBTI</th>\n",
       "      <th>comments</th>\n",
       "    </tr>\n",
       "  </thead>\n",
       "  <tbody>\n",
       "    <tr>\n",
       "      <td>175</td>\n",
       "      <td>INFJ</td>\n",
       "      <td></td>\n",
       "    </tr>\n",
       "    <tr>\n",
       "      <td>325</td>\n",
       "      <td>ENTJ</td>\n",
       "      <td></td>\n",
       "    </tr>\n",
       "    <tr>\n",
       "      <td>515</td>\n",
       "      <td>INTJ</td>\n",
       "      <td></td>\n",
       "    </tr>\n",
       "    <tr>\n",
       "      <td>589</td>\n",
       "      <td>INTP</td>\n",
       "      <td></td>\n",
       "    </tr>\n",
       "    <tr>\n",
       "      <td>608</td>\n",
       "      <td>ISTP</td>\n",
       "      <td></td>\n",
       "    </tr>\n",
       "    <tr>\n",
       "      <td>...</td>\n",
       "      <td>...</td>\n",
       "      <td>...</td>\n",
       "    </tr>\n",
       "    <tr>\n",
       "      <td>61326</td>\n",
       "      <td>ISTJ</td>\n",
       "      <td></td>\n",
       "    </tr>\n",
       "    <tr>\n",
       "      <td>61376</td>\n",
       "      <td>ISTJ</td>\n",
       "      <td></td>\n",
       "    </tr>\n",
       "    <tr>\n",
       "      <td>61429</td>\n",
       "      <td>ISFJ</td>\n",
       "      <td></td>\n",
       "    </tr>\n",
       "    <tr>\n",
       "      <td>61472</td>\n",
       "      <td>ESTP</td>\n",
       "      <td></td>\n",
       "    </tr>\n",
       "    <tr>\n",
       "      <td>61778</td>\n",
       "      <td>ESFP</td>\n",
       "      <td></td>\n",
       "    </tr>\n",
       "  </tbody>\n",
       "</table>\n",
       "<p>23971 rows × 2 columns</p>\n",
       "</div>"
      ],
      "text/plain": [
       "       MBTI comments\n",
       "175    INFJ         \n",
       "325    ENTJ         \n",
       "515    INTJ         \n",
       "589    INTP         \n",
       "608    ISTP         \n",
       "...     ...      ...\n",
       "61326  ISTJ         \n",
       "61376  ISTJ         \n",
       "61429  ISFJ         \n",
       "61472  ESTP         \n",
       "61778  ESFP         \n",
       "\n",
       "[23971 rows x 2 columns]"
      ]
     },
     "execution_count": 55,
     "metadata": {},
     "output_type": "execute_result"
    }
   ],
   "source": [
    "df_clean_comments[df_clean_comments['comments'].str.len()<1]"
   ]
  },
  {
   "cell_type": "code",
   "execution_count": 53,
   "metadata": {
    "ExecuteTime": {
     "end_time": "2019-12-03T04:50:49.355754Z",
     "start_time": "2019-12-03T04:50:26.517687Z"
    }
   },
   "outputs": [],
   "source": [
    "# save the cleaned data as a csv file \n",
    "df_clean_comments.to_csv('../../clean_data/clean_comments.csv')"
   ]
  },
  {
   "cell_type": "markdown",
   "metadata": {},
   "source": [
    "---"
   ]
  }
 ],
 "metadata": {
  "kernelspec": {
   "display_name": "Python 3",
   "language": "python",
   "name": "python3"
  },
  "language_info": {
   "codemirror_mode": {
    "name": "ipython",
    "version": 3
   },
   "file_extension": ".py",
   "mimetype": "text/x-python",
   "name": "python",
   "nbconvert_exporter": "python",
   "pygments_lexer": "ipython3",
   "version": "3.7.1"
  },
  "toc": {
   "base_numbering": 1,
   "nav_menu": {},
   "number_sections": true,
   "sideBar": true,
   "skip_h1_title": true,
   "title_cell": "Table of Contents",
   "title_sidebar": "Contents",
   "toc_cell": false,
   "toc_position": {
    "height": "calc(100% - 180px)",
    "left": "10px",
    "top": "150px",
    "width": "283.797px"
   },
   "toc_section_display": true,
   "toc_window_display": false
  }
 },
 "nbformat": 4,
 "nbformat_minor": 2
}
